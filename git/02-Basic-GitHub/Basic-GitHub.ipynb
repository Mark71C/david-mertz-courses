{
 "cells": [
  {
   "cell_type": "markdown",
   "metadata": {},
   "source": [
    "<div style=\"position: relative;\">\n",
    "<img src=\"https://user-images.githubusercontent.com/7065401/98728503-5ab82f80-2378-11eb-9c79-adeb308fc647.png\"></img>\n",
    "\n",
    "<h1 style=\"color: white; position: absolute; top:30%; left:10%;\">\n",
    "    GitHub and Version Control \n",
    "</h1>\n",
    "\n",
    "<h3 style=\"color: #ef7d22; font-weight: normal; position: absolute; top:48%; left:10%;\">\n",
    "    David Mertz, Ph.D.\n",
    "</h3>\n",
    "\n",
    "<h3 style=\"color: #ef7d22; font-weight: normal; position: absolute; top:55%; left:10%;\">\n",
    "    Data Scientist\n",
    "</h3>\n",
    "</div>\n",
    "<br/>"
   ]
  },
  {
   "cell_type": "markdown",
   "metadata": {},
   "source": [
    "# Working with GitHub\n",
    "\n",
    "When developing either application code or data science artifacts, such as Jupyter notebooks or R Markdown files, reproducibility, tracking, and collaboration depend on good use of version control software.  Over the last decade, the tool git has become the most popular and default choice for version control software.  Very commonly, when a distributed version control system like git is used, users also utilize a source code repository to allow others to discover and interact with a codebase more easily.  Among these, GitHub is the most popular by a large margin."
   ]
  },
  {
   "cell_type": "markdown",
   "metadata": {},
   "source": [
    "## Cloning a repository\n",
    "\n",
    "* Cloning (with HTTPS)\n",
    "* Fetching branches\n",
    "* Creating account\n",
    "* Cloning (with SSH)"
   ]
  },
  {
   "cell_type": "markdown",
   "metadata": {},
   "source": [
    "## Creating an account\n",
    "\n",
    "* Generate SSH key\n",
    "* Create an account online\n",
    "* Enter public key\n",
    "* Cloning with SSH (successfully)\n",
    "* Making and pushing a change"
   ]
  },
  {
   "cell_type": "markdown",
   "metadata": {},
   "source": [
    "## Creating a repository\n",
    "\n",
    "* Creating from scratch\n",
    "* Moving a local project to GitHub"
   ]
  },
  {
   "cell_type": "markdown",
   "metadata": {},
   "source": [
    "## Forking a project\n",
    "\n",
    "* Public project, not explicit collaborator\n",
    "* Move organization/user"
   ]
  },
  {
   "cell_type": "markdown",
   "metadata": {},
   "source": [
    "## Making pull requests\n",
    "\n",
    "* Merging across repositories\n",
    "* Evaluating requests (PRs)"
   ]
  }
 ],
 "metadata": {
  "kernelspec": {
   "display_name": "Python 3",
   "language": "python",
   "name": "python3"
  },
  "language_info": {
   "codemirror_mode": {
    "name": "ipython",
    "version": 3
   },
   "file_extension": ".py",
   "mimetype": "text/x-python",
   "name": "python",
   "nbconvert_exporter": "python",
   "pygments_lexer": "ipython3",
   "version": "3.8.2"
  }
 },
 "nbformat": 4,
 "nbformat_minor": 4
}
