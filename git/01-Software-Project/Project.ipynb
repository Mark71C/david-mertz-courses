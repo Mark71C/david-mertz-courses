{
 "cells": [
  {
   "cell_type": "markdown",
   "metadata": {},
   "source": [
    "![ine-divider](https://user-images.githubusercontent.com/7065401/92672068-398e8080-f2ee-11ea-82d6-ad53f7feb5c0.png)\n",
    "<hr>\n",
    "\n",
    "# GitHub and Version Control\n",
    "\n",
    "This project will have somewhat unusual requirements among INE data science courses.  Most such projects ask you to complete cells in a notebook such as this.  However, this project will predominantly involve working at the command line.\n",
    "\n",
    "There *does* exist a bash kernel for Jupyter, which this notebook is saved as.  However, the kinds of interactivity you have at a shell are much more flexible than in a notebook.  However, you *can* run bash commands if you install that Jupyter kernel. E.g.:"
   ]
  },
  {
   "cell_type": "code",
   "execution_count": 1,
   "metadata": {},
   "outputs": [
    {
     "name": "stdout",
     "output_type": "stream",
     "text": [
      "git version 2.27.0\n"
     ]
    }
   ],
   "source": [
    "git --version"
   ]
  },
  {
   "cell_type": "markdown",
   "metadata": {},
   "source": [
    "![orange-divider](https://user-images.githubusercontent.com/7065401/92672455-187a5f80-f2ef-11ea-890c-40be9474f7b7.png)"
   ]
  },
  {
   "cell_type": "markdown",
   "metadata": {},
   "source": [
    "## Part 1\n",
    "\n",
    "**Create a project**\n",
    "\n",
    "For this task, you should put your address book under version control.  In particular, use records in the vCard format, which nearly every address manager uses either natively or as an import/export option.  Ideally, you should use your own data, but I have provided a few samples from my personal address book; I have only included some businesses with public contact information (that may or may not be in business currently, some are years old).\n",
    "\n",
    "The vCard format allows concatenation of contacts in a single file, but for this purpose, it is better to create one contact per file.\n",
    "\n",
    "* Create a repository.\n",
    "* Add all contacts.\n",
    "* Use appropriate messages to indicate additions.\n",
    "* Examine the history of your changes."
   ]
  },
  {
   "cell_type": "code",
   "execution_count": 11,
   "metadata": {},
   "outputs": [
    {
     "name": "stdout",
     "output_type": "stream",
     "text": [
      "00.vcf\t01.vcf\t02.vcf\t03.vcf\t04.vcf\t05.vcf\t06.vcf\t07.vcf\t08.vcf\n",
      "---\n",
      "BEGIN:VCARD\n",
      "VERSION:3.0\n",
      "FN:Absolutely Phobulous\n",
      "N:;Absolutely Phobulous;;;\n",
      "TEL;TYPE=CELL:18186458864\n",
      "TEL;TYPE=HOME:310-360-3930\n",
      "CATEGORIES:myContacts,restaurants\n",
      "END:VCARD\n",
      "\n"
     ]
    }
   ],
   "source": [
    "# Example files\n",
    "ls vcf\n",
    "echo '---'\n",
    "cat vcf/03.vcf"
   ]
  },
  {
   "cell_type": "markdown",
   "metadata": {},
   "source": [
    "![orange-divider](https://user-images.githubusercontent.com/7065401/92672455-187a5f80-f2ef-11ea-890c-40be9474f7b7.png)\n",
    "\n",
    "## Part 2\n",
    "\n",
    "**Branching**\n",
    "\n",
    "Within your contacts repository, creat separate branches in which to make different types of modifications.\n",
    "\n",
    "* A branch named `phone-format` should be used to standardize the format of all phone numbers.  The vCard format does not specifify an exact convention about when dashes, spaces, parenthesis, or periods will be used within formatted numbers.  Quite likely you have accumulated contacts with varying formatting.  \n",
    "* Make all phone number formats consistent within the repository, and add those canonicalization changes with appropriate messages.\n",
    "* Make a different branch `categories` (starting with `main`/`master`).\n",
    "* Modify each vCard to include a relavant category, added to any existing categories.  Multiple categories may be comma separated within the vCard format.\n",
    "* Examine the history of your changes."
   ]
  },
  {
   "cell_type": "markdown",
   "metadata": {},
   "source": [
    "![orange-divider](https://user-images.githubusercontent.com/7065401/92672455-187a5f80-f2ef-11ea-890c-40be9474f7b7.png)\n",
    "\n",
    "## Part 3\n",
    "\n",
    "**Merging**\n",
    "\n",
    "Unify these independent changes into a single `main` or `master` branch that reflects all the changes in different branches."
   ]
  },
  {
   "cell_type": "markdown",
   "metadata": {},
   "source": [
    "![orange-divider](https://user-images.githubusercontent.com/7065401/92672455-187a5f80-f2ef-11ea-890c-40be9474f7b7.png)"
   ]
  }
 ],
 "metadata": {
  "kernelspec": {
   "display_name": "Bash",
   "language": "bash",
   "name": "bash"
  },
  "language_info": {
   "codemirror_mode": "shell",
   "file_extension": ".sh",
   "mimetype": "text/x-sh",
   "name": "bash"
  }
 },
 "nbformat": 4,
 "nbformat_minor": 4
}
