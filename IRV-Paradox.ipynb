{
 "cells": [
  {
   "cell_type": "code",
   "execution_count": 57,
   "metadata": {},
   "outputs": [],
   "source": [
    "from collections import Counter, deque\n",
    "\n",
    "def IRV_winner(votes, names):\n",
    "    \"\"\"Determine winner of an IRV election\n",
    "    \n",
    "    votes: a list-of-lists of rankings per sub-list\n",
    "    names: a list of names of candidates\n",
    "    \n",
    "    For example:\n",
    "    \n",
    "    votes = [\n",
    "        [1, 2, 3],\n",
    "        [3, 2, 1],\n",
    "        [1, 3, 2],\n",
    "        [2, 1, 3]\n",
    "    ]\n",
    "    names = ['Chan', 'Valdez', 'Ali']\n",
    "    \"\"\"\n",
    "    # Bad data if any of these do not hold\n",
    "    assert len(names) == min(len(v) for v in votes)\n",
    "    assert len(names) == max(len(v) for v in votes)\n",
    "    \n",
    "    # By simplification, all ballots voted completely\n",
    "    ranks = set(range(1, len(names)+1))\n",
    "    for vote in votes:\n",
    "        assert set(vote) == ranks, vote\n",
    "        \n",
    "    # The actual tabulation\n",
    "    votes = [deque(vote) for vote in votes]\n",
    "    n_win = len(votes)/2\n",
    "    \n",
    "    while True:\n",
    "        tops = [vote[0] for vote in votes]\n",
    "        round = Counter(tops)\n",
    "        ranks = round.most_common()\n",
    "        plurality = ranks[0]\n",
    "        if plurality[1] > n_win:\n",
    "            # Votes are 1-based index\n",
    "            print(votes)\n",
    "            return names[plurality[0]-1], plurality[1]\n",
    "        loser = ranks[-1][0]\n",
    "        for vote in votes:\n",
    "            if vote[0] == loser:\n",
    "                vote.popleft()"
   ]
  },
  {
   "cell_type": "code",
   "execution_count": 72,
   "metadata": {},
   "outputs": [
    {
     "name": "stdout",
     "output_type": "stream",
     "text": [
      "[deque([1, 4, 3, 2]), deque([1, 4, 2, 3]), deque([2, 4, 1, 3]), deque([2, 4, 3, 1]), deque([1, 2, 3])]\n",
      "[deque([1, 2, 3, 4]), deque([1, 4, 3, 2]), deque([4, 2, 3, 1]), deque([4, 3, 2, 1]), deque([4, 1, 3])]\n",
      "[deque([1, 4, 3, 2]), deque([1, 4, 2, 3]), deque([4, 1, 3]), deque([4, 3, 1]), deque([1, 2, 3]), deque([1, 2, 3, 4]), deque([1, 4, 3, 2]), deque([3, 1]), deque([1]), deque([4, 1, 3])]\n"
     ]
    },
    {
     "data": {
      "text/plain": [
       "(('Chan', 3), ('Jones', 3), ('Chan', 6))"
      ]
     },
     "execution_count": 72,
     "metadata": {},
     "output_type": "execute_result"
    }
   ],
   "source": [
    "cd1 = [\n",
    "    [1, 4, 3, 2],\n",
    "    [1, 4, 2, 3],\n",
    "    [2, 4, 1, 3],\n",
    "    [2, 4, 3, 1],\n",
    "    [4, 1, 2, 3]\n",
    "]\n",
    "cd2 = [\n",
    "    [1, 2, 3, 4],\n",
    "    [1, 4, 3, 2],\n",
    "    [4, 2, 3, 1],\n",
    "    [4, 3, 2, 1],\n",
    "    [2, 4, 1, 3]\n",
    "]\n",
    "\n",
    "names = ['Chan', 'Valdez', 'Ali', 'Jones']\n",
    "state = cd1 + cd2\n",
    "\n",
    "\n",
    "IRV_winner(cd1, names), IRV_winner(cd2, names), IRV_winner(state, names)"
   ]
  },
  {
   "cell_type": "code",
   "execution_count": 51,
   "metadata": {},
   "outputs": [
    {
     "data": {
      "text/plain": [
       "[[3, 4, 2, 1], [4, 1, 2, 3], [3, 2, 4, 1], [3, 4, 1, 2], [1, 3, 2, 4]]"
      ]
     },
     "execution_count": 51,
     "metadata": {},
     "output_type": "execute_result"
    }
   ],
   "source": [
    "[list(reversed(vote)) for vote in cd2]"
   ]
  },
  {
   "cell_type": "code",
   "execution_count": null,
   "metadata": {},
   "outputs": [],
   "source": []
  }
 ],
 "metadata": {
  "kernelspec": {
   "display_name": "Python 3",
   "language": "python",
   "name": "python3"
  },
  "language_info": {
   "codemirror_mode": {
    "name": "ipython",
    "version": 3
   },
   "file_extension": ".py",
   "mimetype": "text/x-python",
   "name": "python",
   "nbconvert_exporter": "python",
   "pygments_lexer": "ipython3",
   "version": "3.8.5"
  }
 },
 "nbformat": 4,
 "nbformat_minor": 4
}
