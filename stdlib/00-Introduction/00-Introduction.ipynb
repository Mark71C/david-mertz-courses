{
 "cells": [
  {
   "cell_type": "markdown",
   "metadata": {
    "slideshow": {
     "slide_type": "slide"
    }
   },
   "source": [
    "# The Python Standard Library\n",
    "\n",
    "<img src=\"img/python-logo.png\" width=\"25%\" align=\"right\"/>\n",
    "This course aims at an intermediate Python programmer.  More specifically, this course aims to provide folks whose title is something like \"system administrator\" with the knowledge they need to write practical scripts, and small applications.\n",
    "\n",
    "\n",
    "* Python has \"batteries included\"\n",
    "* Brief overview of most of standard library\n",
    "* Deeper dive into crucial modules"
   ]
  },
  {
   "cell_type": "markdown",
   "metadata": {
    "slideshow": {
     "slide_type": "slide"
    }
   },
   "source": [
    "# Instructor\n",
    "\n",
    "<img src=\"img/DQM-colors-2.jpg\" align=\"right\" width=\"33%\"/>My name is David Mertz, and I am your instructor for these lessons.  I have been part of the Python community for over 20 years. During that time, I have been involved with the governance of the Python Software Foundation, and have worked as a developer, a writer, and a trainer.  In recent years I have  focused on Python's use in scientific computing and data science."
   ]
  },
  {
   "cell_type": "markdown",
   "metadata": {
    "slideshow": {
     "slide_type": "slide"
    }
   },
   "source": [
    "# A Longer Introduction\n",
    "\n",
    "The Python standard libary has about 350 modules, addressing many areas of programming.\n",
    "\n",
    "I will say some informal words about many modules, and only have full lessons on a handful.\n",
    "\n",
    "In the next slides, a dagger (†) will mark modules that have entire INE courses devoted to them; double dagger (‡) will mark topics addressed in more detail in this course.\n"
   ]
  },
  {
   "cell_type": "markdown",
   "metadata": {
    "slideshow": {
     "slide_type": "slide"
    }
   },
   "source": [
    "# Guido's House of Many Mansions\n",
    "\n",
    "\n",
    "* Text processing: `re`†, `textwrap`, `unicodedata`,  etc.\n",
    "* Binary data: `struct`, `codecs`\n",
    "* Data types: `datetime`†, `collections`‡, `heapq`, `array`, `copy`, `enum`‡, etc."
   ]
  },
  {
   "cell_type": "markdown",
   "metadata": {
    "slideshow": {
     "slide_type": "slide"
    }
   },
   "source": [
    "# Guido's House of Many Mansions\n",
    "\n",
    "* Numeric and math: `math`, `decimal`, `fractions`, `statistics`, etc.\n",
    "* Functional programming: `itertools`†‡, `functools`‡, `operator`‡\n",
    "* File and directory: `pathlib`‡, `stat`‡, `glob`, `filecmp`, `os.path`, etc.\n",
    "* Data persistence: `pickle`†, `dbm`, `sqlite3`‡, `csv`†, etc."
   ]
  },
  {
   "cell_type": "markdown",
   "metadata": {
    "slideshow": {
     "slide_type": "slide"
    }
   },
   "source": [
    "# Guido's House of Many Mansions\n",
    "\n",
    "* Compression: `gzip`‡, `lzma`‡, `ziplib`‡, etc.\n",
    "* Cryptography: `hashlib`, `secrets`‡, etc.\n",
    "* Operating system: `sys`‡, `os`‡, `argparse`‡, `io`, `logging`, etc.\n",
    "* Concurrency: `threading`†, `multiprocessing`†, `concurrent.futures`†, `subprocess`, etc."
   ]
  },
  {
   "cell_type": "markdown",
   "metadata": {
    "slideshow": {
     "slide_type": "slide"
    }
   },
   "source": [
    "# Guido's House of Many Mansions\n",
    "\n",
    "* Networking and asynchronous: `asyncio`†, `contextvars`†, `socket`†, `signal`, `ssl`, etc.\n",
    "* Internet programming: \n",
    "  * Data formats: `email`, `json`†, `mailbox`, `base64`, `html`, `xml`†, etc.\n",
    "  * Protocols: `cgi`, `urllib`, `http`, `imaplib`, `ipaddress`, etc.\n",
    "* Mutlimedia and GUI: `audioop`, `wave`, `colorsys`, `tkinter`, `turtle`, `IDLE`, etc."
   ]
  },
  {
   "cell_type": "markdown",
   "metadata": {
    "slideshow": {
     "slide_type": "slide"
    }
   },
   "source": [
    "# Guido's House of Many Mansions\n",
    "\n",
    "* Testing and distribution: `unittest`†, `doctext`†, `pydoc`, `distutils`, `venv`, etc.\n",
    "* Debugging: `pdb`, `timeit`, `trace`, `parser`, `tokenizer`, `code`, `traceback`, etc.\n",
    "* Internals: `zipimport`, `modulefinder`, `importlib`, `gc`, `inspect`, `dis`, etc."
   ]
  },
  {
   "cell_type": "markdown",
   "metadata": {
    "slideshow": {
     "slide_type": "slide"
    }
   },
   "source": [
    "# In This Course\n",
    "\n",
    "<img src=\"img/DQM-happy-SF.jpg\" align=\"right\" width=\"33%\"/>This course will touch on the following topics:\n",
    "\n",
    "* Operating System Tools\n",
    "* File Formats\n",
    "* Programming Tools I\n",
    "* Programming Tools II\n",
    "* Writing Scripts"
   ]
  },
  {
   "cell_type": "code",
   "execution_count": null,
   "metadata": {},
   "outputs": [],
   "source": []
  }
 ],
 "metadata": {
  "celltoolbar": "Slideshow",
  "kernelspec": {
   "display_name": "Python 3",
   "language": "python",
   "name": "python3"
  },
  "language_info": {
   "codemirror_mode": {
    "name": "ipython",
    "version": 3
   },
   "file_extension": ".py",
   "mimetype": "text/x-python",
   "name": "python",
   "nbconvert_exporter": "python",
   "pygments_lexer": "ipython3",
   "version": "3.8.2"
  }
 },
 "nbformat": 4,
 "nbformat_minor": 4
}
