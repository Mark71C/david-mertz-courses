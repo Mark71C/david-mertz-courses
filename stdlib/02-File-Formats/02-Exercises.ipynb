{
 "cells": [
  {
   "cell_type": "markdown",
   "metadata": {},
   "source": [
    "# Description\n",
    "\n",
    "Python builds in support for the gzip, bz2, and xz compression formats.  We would like to compare the amount of compression we obtain using each technique (at the default level for each).  For this exercise, you will want to utilize some of what you learned in lesson 1 of this course as well, for general file handling functionality.\n",
    "\n",
    "As a test collection for files to compress in each manner, you should include:\n",
    "\n",
    "* The Python executable on the executable path for this test system\n",
    "* The bash executable on the executable path for this test system\n",
    "* The file `token.asc` in the current directory of this exercise.\n",
    "\n",
    "For each of these files, determine the size of each compressed format, after compressing to a file on disk.  Be sure to compress to files rather than entirely in-memory (sizes may vary slightly between those operations).  The results should be stored in a dictionary mapping the name of the file (but not full path) to the size, for both the original files and the compressed versions. \n",
    "\n",
    "The setup shows the correct answer on the system where this exercise was created. The test platform will have different executable versions with similar but not identical sizes.  The correct answer will simply be a dictionary with different sizes as values, but presumably you will write one or more functions to arrive at those numbers.  The test for this exercise takes about 30 seconds to run since it actually compresses the files at issue."
   ]
  },
  {
   "cell_type": "markdown",
   "metadata": {},
   "source": [
    "# Setup"
   ]
  },
  {
   "cell_type": "code",
   "execution_count": 1,
   "metadata": {},
   "outputs": [],
   "source": [
    "import gzip, bz2, lzma\n",
    "\n",
    "sizes = {\n",
    "    'python': 15292625,\n",
    "    'tmp-python.gz': 4915354,\n",
    "    'tmp-python.bz2': 5070327,\n",
    "    'tmp-python.xz': 3928031,\n",
    "    'bash': 1201543,\n",
    "    'tmp-bash.gz': 567177,\n",
    "    'tmp-bash.bz2': 534225,\n",
    "    'tmp-bash.xz': 480938,\n",
    "    'token.asc': 13335,\n",
    "    'tmp-token.asc.gz': 10122,\n",
    "    'tmp-token.asc.bz2': 10201,\n",
    "    'tmp-token.asc.xz': 10441\n",
    "}"
   ]
  },
  {
   "cell_type": "markdown",
   "metadata": {},
   "source": [
    "# Solution"
   ]
  },
  {
   "cell_type": "code",
   "execution_count": 2,
   "metadata": {},
   "outputs": [],
   "source": [
    "from pathlib import Path\n",
    "import shutil\n",
    "import os\n",
    "import pickle\n",
    "\n",
    "pyfile = Path(shutil.which('python'))\n",
    "bashfile = Path(shutil.which('bash'))\n",
    "token = Path('token.asc')\n",
    "\n",
    "def do_compress(files=[pyfile, bashfile, token]):\n",
    "    for file in files:\n",
    "        content = file.read_bytes()\n",
    "        with gzip.open(f'tmp-{file.name}.gz', 'w') as f:\n",
    "            f.write(content)\n",
    "        with bz2.open(f'tmp-{file.name}.bz2', 'w') as f:\n",
    "            f.write(content)\n",
    "        with lzma.open(f'tmp-{file.name}.xz', 'w', format=lzma.FORMAT_XZ) as f:\n",
    "            f.write(content)\n",
    "\n",
    "def find_sizes(files=[pyfile, bashfile, token]):\n",
    "    result = dict()\n",
    "    for file in files:\n",
    "        result[file.name] = file.stat().st_size\n",
    "        for ext in ['gz', 'bz2', 'xz']:\n",
    "            name = f'tmp-{file.name}.{ext}'\n",
    "            result[name] = Path(name).stat().st_size\n",
    "    return result\n",
    "\n",
    "pickle.dump([do_compress, find_sizes], open('utils.pkl', 'wb'))\n",
    "do_compress()\n",
    "sizes = find_sizes()"
   ]
  },
  {
   "cell_type": "markdown",
   "metadata": {},
   "source": [
    "# Test Cases"
   ]
  },
  {
   "cell_type": "code",
   "execution_count": 3,
   "metadata": {},
   "outputs": [],
   "source": [
    "def test_sizes():\n",
    "    import pickle\n",
    "    do_compress, find_sizes = pickle.load(open('utils.pkl', 'rb'))\n",
    "    do_compress()\n",
    "    good_sizes = find_sizes()\n",
    "    for fname in good_sizes:\n",
    "        assert sizes[fname] == good_sizes[fname], \\\n",
    "            f\"{fname} should be {good_sizes[fname]}\"\n",
    "    \n",
    "test_sizes()"
   ]
  }
 ],
 "metadata": {
  "kernelspec": {
   "display_name": "Python 3",
   "language": "python",
   "name": "python3"
  },
  "language_info": {
   "codemirror_mode": {
    "name": "ipython",
    "version": 3
   },
   "file_extension": ".py",
   "mimetype": "text/x-python",
   "name": "python",
   "nbconvert_exporter": "python",
   "pygments_lexer": "ipython3",
   "version": "3.8.5"
  }
 },
 "nbformat": 4,
 "nbformat_minor": 4
}
