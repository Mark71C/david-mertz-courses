{
 "cells": [
  {
   "cell_type": "markdown",
   "metadata": {},
   "source": [
    "# Description"
   ]
  },
  {
   "cell_type": "markdown",
   "metadata": {},
   "source": [
    "For this exercise, you will write two utility functions that report on details of the system configuration.  For example, on my system when writing this, the first reports as follows:\n",
    "\n",
    "```python\n",
    ">>> sysinfo()\n",
    "User davidmertz\n",
    "PID 6466\n",
    "Python 3.8.5\n",
    "```\n",
    "\n",
    "Of course, every time I run this in a new session, at least the PID will be different.  The example provided in the setup prints the right format, but the wrong content."
   ]
  },
  {
   "cell_type": "markdown",
   "metadata": {},
   "source": [
    "In the second part of this exercise, you will write a function that returns a dictionary mapping all \"dotfiles\" on the test system to their file size.  On Unix-like systems, files used for configuration usually begin with a period.  Note that we are not interested, for this exercise, in any configuration *directories* that may exist, only the plain files in your home directory.\n",
    "\n",
    "For example, on my current system I have more config files than on the exercise platform, but my results are (the sizes of those filenames on both system will differ as well):\n",
    "\n",
    "```python\n",
    ">>> configinfo()\n",
    "{'.bash_logout': 220,\n",
    " '.profile': 675,\n",
    " '.bash_history': 6671,\n",
    " '.bash_aliases': 21,\n",
    " '.bash_profile': 63,\n",
    " '.python_history': 247,\n",
    " '.vimrc': 6172,\n",
    " '.bashrc': 4398,\n",
    " '.gitconfig': 147,\n",
    " '.viminfo': 12809}\n",
    "```"
   ]
  },
  {
   "cell_type": "markdown",
   "metadata": {},
   "source": [
    "# Setup\n",
    "\n"
   ]
  },
  {
   "cell_type": "code",
   "execution_count": null,
   "metadata": {},
   "outputs": [],
   "source": [
    "import sys, os, grp, stat, pathlib\n",
    "\n",
    "def sysinfo():\n",
    "    pid = 123456\n",
    "    user = 'guido'\n",
    "    major = 2\n",
    "    minor = 7\n",
    "    micro = 18\n",
    "    s = (f\"User {user}\\n\"\n",
    "         f\"PID {pid}\\n\"\n",
    "         f\"Python {major}.{minor}.{micro}\")\n",
    "    print(s)\n",
    "    \n",
    "def configinfo():\n",
    "    return {\n",
    "        '.profile': 675,\n",
    "        '.bash_history': 6671,\n",
    "        '.vimrc': 6172,\n",
    "        '.bashrc': 4398,\n",
    "        '.gitconfig': 147} "
   ]
  },
  {
   "cell_type": "markdown",
   "metadata": {},
   "source": [
    "# Solution"
   ]
  },
  {
   "cell_type": "code",
   "execution_count": 2,
   "metadata": {},
   "outputs": [],
   "source": [
    "def good_sysinfo():\n",
    "    print(f\"User {os.environ.get('USER')}\")\n",
    "    print(f\"PID {os.getpid()}\")\n",
    "    ver = sys.version.split('|')[0].strip()\n",
    "    print(f\"Python {ver}\")\n",
    "    \n",
    "sysinfo = good_sysinfo\n",
    "\n",
    "def good_configinfo():\n",
    "    home = pathlib.Path('~').expanduser()\n",
    "    configs = {}\n",
    "    for fname in home.glob('.*'):\n",
    "        if fname.is_file():\n",
    "            info = os.stat(fname)\n",
    "            size = info.st_size\n",
    "            configs[fname.name] = size\n",
    "    return configs\n",
    "\n",
    "configinfo = good_configinfo"
   ]
  },
  {
   "cell_type": "markdown",
   "metadata": {},
   "source": [
    "# Test Cases"
   ]
  },
  {
   "cell_type": "code",
   "execution_count": 3,
   "metadata": {},
   "outputs": [],
   "source": [
    "def test_sysinfo():\n",
    "    # A correct implementation stored in a module\n",
    "    from _solution import good_sysinfo\n",
    "    \n",
    "    # Intercept the stdout to in-memory buffer\n",
    "    import io\n",
    "    old_stdout = sys.stdout\n",
    "    out1, out2 = io.StringIO(), io.StringIO()\n",
    "    assert out1 != out2\n",
    "    \n",
    "    # Run known good version\n",
    "    sys.stdout = out1\n",
    "    good_sysinfo()\n",
    "    good_val = out1.getvalue().splitlines()\n",
    "    \n",
    "    # Run test version\n",
    "    sys.stdout = out2\n",
    "    sysinfo()\n",
    "    test_val = out2.getvalue().splitlines()\n",
    "    \n",
    "    # Restore STDOUT\n",
    "    sys.stdout = old_stdout\n",
    "    \n",
    "    # The actual tests\n",
    "    for l1, l2 in zip(good_val, test_val):\n",
    "        assert l1 == l2, f\"{l1} / {l2}\"\n",
    "    \n",
    "test_sysinfo()"
   ]
  },
  {
   "cell_type": "code",
   "execution_count": 4,
   "metadata": {},
   "outputs": [],
   "source": [
    "def test_configinfo():\n",
    "    from _solution import good_configinfo\n",
    "    assert good_configinfo() == configinfo(), f\"Should be {good_configinfo()}\"\n",
    "    \n",
    "test_configinfo()"
   ]
  }
 ],
 "metadata": {
  "kernelspec": {
   "display_name": "Python 3",
   "language": "python",
   "name": "python3"
  },
  "language_info": {
   "codemirror_mode": {
    "name": "ipython",
    "version": 3
   },
   "file_extension": ".py",
   "mimetype": "text/x-python",
   "name": "python",
   "nbconvert_exporter": "python",
   "pygments_lexer": "ipython3",
   "version": "3.8.5"
  }
 },
 "nbformat": 4,
 "nbformat_minor": 4
}
