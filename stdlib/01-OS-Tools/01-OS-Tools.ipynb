{
 "cells": [
  {
   "cell_type": "markdown",
   "metadata": {
    "slideshow": {
     "slide_type": "slide"
    }
   },
   "source": [
    "# Operating System Tools\n",
    "\n",
    "There are several modules in the standard library that you will usually reach for when dealing with operating system resources, such as files, processes, standard input and output, and with Python internals at a general level."
   ]
  },
  {
   "cell_type": "code",
   "execution_count": 1,
   "metadata": {
    "slideshow": {
     "slide_type": "fragment"
    }
   },
   "outputs": [],
   "source": [
    "import sys, os, grp, stat, pathlib"
   ]
  },
  {
   "cell_type": "markdown",
   "metadata": {
    "slideshow": {
     "slide_type": "slide"
    }
   },
   "source": [
    "## Module: sys\n",
    "\n",
    "The `sys` module exposes **many** details of the currently running Python interpreter.  Having programmed in Python for over 20 years, I have never had reason to use most of the attributes and functions in the module.  There are other objects in the `sys` module that I use in nearly every Python program I write."
   ]
  },
  {
   "cell_type": "markdown",
   "metadata": {
    "slideshow": {
     "slide_type": "fragment"
    }
   },
   "source": [
    "Let us look at a few of the attributes and functions that introspect details of the Python process.  There are approximately 100 of these.  Some are very commonly relevant to your task, others only rarely so."
   ]
  },
  {
   "cell_type": "markdown",
   "metadata": {
    "slideshow": {
     "slide_type": "subslide"
    }
   },
   "source": [
    "Let us inquire about the Python version."
   ]
  },
  {
   "cell_type": "code",
   "execution_count": 2,
   "metadata": {
    "slideshow": {
     "slide_type": "fragment"
    }
   },
   "outputs": [
    {
     "name": "stdout",
     "output_type": "stream",
     "text": [
      "sys.version_info(major=3, minor=8, micro=2, releaselevel='final', serial=0)\n",
      "3.8.2 | packaged by conda-forge | (default, Apr 24 2020, 08:20:52) \n",
      "[GCC 7.3.0]\n"
     ]
    }
   ],
   "source": [
    "print(sys.version_info)\n",
    "print(sys.version)"
   ]
  },
  {
   "cell_type": "markdown",
   "metadata": {
    "slideshow": {
     "slide_type": "fragment"
    }
   },
   "source": [
    "Information on the *operating system* underlying Python is in the `os` module."
   ]
  },
  {
   "cell_type": "code",
   "execution_count": 3,
   "metadata": {
    "slideshow": {
     "slide_type": "fragment"
    }
   },
   "outputs": [
    {
     "name": "stdout",
     "output_type": "stream",
     "text": [
      "linux posix\n",
      "posix.uname_result(sysname='Linux', nodename='popkdm', release='5.4.0-7634-generic', version='#38~1595345317~20.04~a8480ad-Ubuntu SMP Wed Jul 22 15:13:45 UTC ', machine='x86_64')\n"
     ]
    }
   ],
   "source": [
    "print(sys.platform, os.name)\n",
    "print(os.uname())"
   ]
  },
  {
   "cell_type": "markdown",
   "metadata": {
    "slideshow": {
     "slide_type": "subslide"
    }
   },
   "source": [
    "These are things we commonly use, for example."
   ]
  },
  {
   "cell_type": "code",
   "execution_count": 4,
   "metadata": {
    "slideshow": {
     "slide_type": "fragment"
    }
   },
   "outputs": [
    {
     "name": "stdout",
     "output_type": "stream",
     "text": [
      "Happy operating system and Python version\n",
      "Ubuntu-based distribution\n"
     ]
    }
   ],
   "source": [
    "info = sys.version_info\n",
    "if info.major == 3 and info.minor > 7:\n",
    "    if sys.platform.startswith('linux'):\n",
    "        print(\"Happy operating system and Python version\")\n",
    "    if 'Ubuntu' in os.uname().version:\n",
    "        print(\"Ubuntu-based distribution\")"
   ]
  },
  {
   "cell_type": "markdown",
   "metadata": {
    "slideshow": {
     "slide_type": "fragment"
    }
   },
   "source": [
    "Of course, ideally your script will run on any operating system; so having to check is special purpose."
   ]
  },
  {
   "cell_type": "markdown",
   "metadata": {
    "slideshow": {
     "slide_type": "subslide"
    }
   },
   "source": [
    "Some capabilities in `sys` really probe deeply into Python internals.  For examle, we can get a dictionary mapping every thread’s to its topmost stack frame.  Don't worry that that makes no sense to you.  "
   ]
  },
  {
   "cell_type": "code",
   "execution_count": 5,
   "metadata": {
    "slideshow": {
     "slide_type": "fragment"
    }
   },
   "outputs": [
    {
     "data": {
      "text/plain": [
       "{140534182033152: <frame at 0x7fd0b048e420, file '/home/dmertz/miniconda3/envs/INE/lib/python3.8/site-packages/ipykernel/parentpoller.py', line 39, code run>,\n",
       " 140534190425856: <frame at 0x55cbd54d4720, file '/home/dmertz/miniconda3/envs/INE/lib/python3.8/threading.py', line 309, code wait>,\n",
       " 140534215603968: <frame at 0x7fd0b0d0dbe0, file '/home/dmertz/miniconda3/envs/INE/lib/python3.8/site-packages/ipykernel/heartbeat.py', line 100, code run>,\n",
       " 140534296385280: <frame at 0x55cbd54d53e0, file '/home/dmertz/miniconda3/envs/INE/lib/python3.8/selectors.py', line 468, code select>,\n",
       " 140534374414144: <frame at 0x7fd0b04b4040, file '<ipython-input-5-7750e22009c1>', line 1, code <module>>}"
      ]
     },
     "execution_count": 5,
     "metadata": {},
     "output_type": "execute_result"
    }
   ],
   "source": [
    "sys._current_frames()"
   ]
  },
  {
   "cell_type": "markdown",
   "metadata": {
    "slideshow": {
     "slide_type": "subslide"
    }
   },
   "source": [
    "Finding all the modules in builtins isn't quite as obscure, but it is also something you rarely need to worry about."
   ]
  },
  {
   "cell_type": "code",
   "execution_count": 6,
   "metadata": {
    "slideshow": {
     "slide_type": "fragment"
    }
   },
   "outputs": [
    {
     "name": "stdout",
     "output_type": "stream",
     "text": [
      "('_abc', '_ast', '_codecs', '_collections', '_functools', '_imp', '_io', '_locale', '_operator', '_signal', '_sre', '_stat', '_string', '_symtable', '_thread', '_tracemalloc', '_warnings', '_weakref', 'atexit', 'builtins', 'errno', 'faulthandler', 'gc', 'itertools', 'marshal', 'posix', 'pwd', 'sys', 'time', 'xxsubtype')\n"
     ]
    }
   ],
   "source": [
    "print(sys.builtin_module_names)"
   ]
  },
  {
   "cell_type": "markdown",
   "metadata": {
    "slideshow": {
     "slide_type": "fragment"
    }
   },
   "source": [
    "There is a lot more along these lines."
   ]
  },
  {
   "cell_type": "markdown",
   "metadata": {
    "slideshow": {
     "slide_type": "subslide"
    }
   },
   "source": [
    "Let us focus on the capabilities in `sys` that you are genuinely likely to use.  `sys.argv` provides the command-line arguments passed (`argparse`, in lesson 5, is a higher-level approach).  `sys.stdin`, `sys.stdin`, and `sys.stderr` are the usual streams of a command-line program.  We run this simple program:\n",
    "\n",
    "```python\n",
    "import sys\n",
    "print(\"Arguments:\", sys.argv)\n",
    "data = sys.stdin.read()\n",
    "print(\"Standard input:\", data)\n",
    "print(\"Standard output\", file=sys.stdout)\n",
    "print(\"Error output\", file=sys.stderr)\n",
    "```"
   ]
  },
  {
   "cell_type": "code",
   "execution_count": 7,
   "metadata": {
    "slideshow": {
     "slide_type": "subslide"
    }
   },
   "outputs": [
    {
     "name": "stdout",
     "output_type": "stream",
     "text": [
      "Arguments: ['streams.py', 'arg1', 'arg2']\n",
      "Standard input: Piped in data\n",
      "\n",
      "Standard output\n"
     ]
    },
    {
     "name": "stderr",
     "output_type": "stream",
     "text": [
      "Error output\n"
     ]
    }
   ],
   "source": [
    "%%bash\n",
    "echo \"Piped in data\" | python streams.py arg1 arg2"
   ]
  },
  {
   "cell_type": "markdown",
   "metadata": {
    "slideshow": {
     "slide_type": "subslide"
    }
   },
   "source": [
    "Some others fall into the \"use with caution\" category.  For example, you can see (and modify) the list of directories where modules might be imported from."
   ]
  },
  {
   "cell_type": "code",
   "execution_count": 8,
   "metadata": {
    "slideshow": {
     "slide_type": "fragment"
    }
   },
   "outputs": [
    {
     "data": {
      "text/plain": [
       "['/home/dmertz/git/INE/stdlib/01-OS-Tools',\n",
       " '/home/dmertz/miniconda3/envs/INE/lib/python38.zip',\n",
       " '/home/dmertz/miniconda3/envs/INE/lib/python3.8',\n",
       " '/home/dmertz/miniconda3/envs/INE/lib/python3.8/lib-dynload',\n",
       " '',\n",
       " '/home/dmertz/miniconda3/envs/INE/lib/python3.8/site-packages',\n",
       " '/home/dmertz/miniconda3/envs/INE/lib/python3.8/site-packages/IPython/extensions',\n",
       " '/home/dmertz/.ipython']"
      ]
     },
     "execution_count": 8,
     "metadata": {},
     "output_type": "execute_result"
    }
   ],
   "source": [
    "sys.path"
   ]
  },
  {
   "cell_type": "code",
   "execution_count": 9,
   "metadata": {
    "slideshow": {
     "slide_type": "fragment"
    }
   },
   "outputs": [
    {
     "data": {
      "text/plain": [
       "['/home/dmertz/.ipython', '/no/such/path']"
      ]
     },
     "execution_count": 9,
     "metadata": {},
     "output_type": "execute_result"
    }
   ],
   "source": [
    "sys.path.append('/no/such/path')\n",
    "sys.path[-2:]"
   ]
  },
  {
   "cell_type": "markdown",
   "metadata": {
    "slideshow": {
     "slide_type": "subslide"
    }
   },
   "source": [
    "Writing *deeply* recursive programs in Python is not really a good idea.  Some other languages optimize that in ways Python cannot; but moderate recursion is very often useful."
   ]
  },
  {
   "cell_type": "code",
   "execution_count": 10,
   "metadata": {
    "slideshow": {
     "slide_type": "fragment"
    }
   },
   "outputs": [
    {
     "data": {
      "text/plain": [
       "3000"
      ]
     },
     "execution_count": 10,
     "metadata": {},
     "output_type": "execute_result"
    }
   ],
   "source": [
    "sys.getrecursionlimit()"
   ]
  },
  {
   "cell_type": "code",
   "execution_count": 11,
   "metadata": {
    "slideshow": {
     "slide_type": "fragment"
    }
   },
   "outputs": [
    {
     "data": {
      "text/plain": [
       "4000"
      ]
     },
     "execution_count": 11,
     "metadata": {},
     "output_type": "execute_result"
    }
   ],
   "source": [
    "sys.setrecursionlimit(4000)\n",
    "sys.getrecursionlimit()"
   ]
  },
  {
   "cell_type": "markdown",
   "metadata": {
    "slideshow": {
     "slide_type": "slide"
    }
   },
   "source": [
    "## Module: os\n",
    "\n",
    "The `os` module has a number of operating system specific functions at its root, but it also has a submodule called `os.path` which is equally important.  In most ways, the newer `pathlib` can replace `os.path` with a friendlier API.  "
   ]
  },
  {
   "cell_type": "markdown",
   "metadata": {
    "slideshow": {
     "slide_type": "subslide"
    }
   },
   "source": [
    "Within `os`, most functionality has to deal with working with paths, processes, and users.  Probably the capability I use most is working with environment variables.  For example, here are a few variables I have set."
   ]
  },
  {
   "cell_type": "code",
   "execution_count": 12,
   "metadata": {
    "slideshow": {
     "slide_type": "fragment"
    }
   },
   "outputs": [
    {
     "data": {
      "text/plain": [
       "['SHELL',\n",
       " 'SESSION_MANAGER',\n",
       " 'QT_ACCESSIBILITY',\n",
       " 'CONDA_BACKUP_GFORTRAN',\n",
       " 'COLORTERM']"
      ]
     },
     "execution_count": 12,
     "metadata": {},
     "output_type": "execute_result"
    }
   ],
   "source": [
    "list(os.environ.keys())[:5]"
   ]
  },
  {
   "cell_type": "markdown",
   "metadata": {
    "slideshow": {
     "slide_type": "subslide"
    }
   },
   "source": [
    "Some scripts utilize environment to configure actions.  While the functions `os.getenv()`, `os.putenv()`, and `os.unsetenv()` exist, it is better simply to use dictionary-style modifications of `os.environ`."
   ]
  },
  {
   "cell_type": "code",
   "execution_count": 13,
   "metadata": {
    "slideshow": {
     "slide_type": "fragment"
    }
   },
   "outputs": [
    {
     "name": "stdout",
     "output_type": "stream",
     "text": [
      "USER is dmertz\n",
      "Setting ALTUSER to 'guest'\n",
      "guest\n",
      "None\n"
     ]
    }
   ],
   "source": [
    "user = os.environ['USER']\n",
    "print(\"USER is\", user)\n",
    "\n",
    "if altuser := os.environ.get('ALTUSER'):\n",
    "    print(\"ALTUSER is\", altuser)\n",
    "else:\n",
    "    print(\"Setting ALTUSER to 'guest'\")\n",
    "    os.environ['ALTUSER'] = 'guest'\n",
    "    \n",
    "print(os.environ['ALTUSER'])\n",
    "del os.environ['ALTUSER']\n",
    "print(os.environ.get('ALTUSER'))"
   ]
  },
  {
   "cell_type": "markdown",
   "metadata": {
    "slideshow": {
     "slide_type": "subslide"
    }
   },
   "source": [
    "We can look at users, groups, permissions, and so on.  Another support module called `grp` gives more information on user groups."
   ]
  },
  {
   "cell_type": "code",
   "execution_count": 14,
   "metadata": {
    "slideshow": {
     "slide_type": "fragment"
    }
   },
   "outputs": [
    {
     "name": "stdout",
     "output_type": "stream",
     "text": [
      "Group #4\n",
      "grp.struct_group(gr_name='adm', gr_passwd='x', gr_gid=4, gr_mem=['syslog', 'dmertz'])\n",
      "Group #27\n",
      "grp.struct_group(gr_name='sudo', gr_passwd='x', gr_gid=27, gr_mem=['dmertz'])\n",
      "Group #130\n",
      "grp.struct_group(gr_name='docker', gr_passwd='x', gr_gid=130, gr_mem=['dmertz'])\n",
      "Group #1000\n",
      "grp.struct_group(gr_name='dmertz', gr_passwd='x', gr_gid=1000, gr_mem=[])\n"
     ]
    }
   ],
   "source": [
    "for mygroup in os.getgroups():\n",
    "    print(f\"Group #{mygroup}\")\n",
    "    print(grp.getgrgid(mygroup))"
   ]
  },
  {
   "cell_type": "markdown",
   "metadata": {
    "slideshow": {
     "slide_type": "subslide"
    }
   },
   "source": [
    "Various details about the machine and configuration we are running on."
   ]
  },
  {
   "cell_type": "code",
   "execution_count": 15,
   "metadata": {
    "slideshow": {
     "slide_type": "fragment"
    }
   },
   "outputs": [
    {
     "name": "stdout",
     "output_type": "stream",
     "text": [
      "Process ID: 1683057\n",
      "Term size:  os.terminal_size(columns=93, lines=12)\n",
      "CPU count:  8\n"
     ]
    }
   ],
   "source": [
    "print(\"Process ID:\", os.getpid())\n",
    "print(\"Term size: \", os.get_terminal_size())\n",
    "print(\"CPU count: \", os.cpu_count())"
   ]
  },
  {
   "cell_type": "markdown",
   "metadata": {
    "slideshow": {
     "slide_type": "subslide"
    }
   },
   "source": [
    "The usual Unix-style file and directory manipulation commands are in the `os` module.  The `stat` module provides support for some cryptic numbers."
   ]
  },
  {
   "cell_type": "code",
   "execution_count": 16,
   "metadata": {
    "slideshow": {
     "slide_type": "fragment"
    }
   },
   "outputs": [
    {
     "name": "stdout",
     "output_type": "stream",
     "text": [
      "Current dir: /home/dmertz/git/INE/stdlib/01-OS-Tools\n",
      "Location: /home/dmertz/git/INE/stdlib/01-OS-Tools/tmp\n",
      "File content: TEST\n",
      "\n"
     ]
    }
   ],
   "source": [
    "cwd = os.getcwd()\n",
    "print(\"Current dir:\", cwd)\n",
    "\n",
    "# Make dir and switch (os.mkdir() assumes not there already)\n",
    "os.makedirs(\"tmp\", exist_ok=True)\n",
    "os.chdir('tmp')\n",
    "\n",
    "# Create a file and set its permissions\n",
    "with open('test', 'w') as fh:\n",
    "    print(\"TEST\", file=fh)\n",
    "    \n",
    "# Check content\n",
    "print(\"Location:\", os.getcwd())\n",
    "print(\"File content:\", open('test').read())"
   ]
  },
  {
   "cell_type": "code",
   "execution_count": 17,
   "metadata": {
    "slideshow": {
     "slide_type": "subslide"
    }
   },
   "outputs": [
    {
     "name": "stdout",
     "output_type": "stream",
     "text": [
      "Permissions: 33204 ⟶ 33152\n",
      "Dir style:   -rw-rw-r-- ⟶ -rw-------\n"
     ]
    }
   ],
   "source": [
    "# Change file mode\n",
    "oldmode = os.stat('test').st_mode\n",
    "os.chmod('test', stat.S_IRUSR | stat.S_IWUSR)\n",
    "newmode = os.stat('test').st_mode\n",
    "print(\"Permissions:\", oldmode, \"⟶\", newmode)\n",
    "print(\"Dir style:  \", stat.filemode(oldmode), \"⟶\", stat.filemode(newmode))"
   ]
  },
  {
   "cell_type": "code",
   "execution_count": 18,
   "metadata": {
    "slideshow": {
     "slide_type": "fragment"
    }
   },
   "outputs": [
    {
     "data": {
      "text/plain": [
       "[('.',\n",
       "  ['.ipynb_checkpoints'],\n",
       "  ['streams.py', '01-OS-Tools.ipynb', '01-Exercise.ipynb']),\n",
       " ('./.ipynb_checkpoints',\n",
       "  [],\n",
       "  ['01-OS-Tools-checkpoint.ipynb', '01-Exercise-checkpoint.ipynb'])]"
      ]
     },
     "execution_count": 18,
     "metadata": {},
     "output_type": "execute_result"
    }
   ],
   "source": [
    "# Cleanup\n",
    "os.remove('test')\n",
    "os.chdir(cwd)\n",
    "os.rmdir('tmp')\n",
    "\n",
    "# See what is here\n",
    "list(os.walk('.'))"
   ]
  },
  {
   "cell_type": "markdown",
   "metadata": {
    "slideshow": {
     "slide_type": "slide"
    }
   },
   "source": [
    "## Module: shutil\n",
    "\n",
    "The module `shutil` provides higher-level operations on files than those in `os` or `os.path`.  This is a fairly small module with a few wrappers."
   ]
  },
  {
   "cell_type": "code",
   "execution_count": 19,
   "metadata": {
    "slideshow": {
     "slide_type": "fragment"
    }
   },
   "outputs": [
    {
     "data": {
      "text/plain": [
       "usage(total=236068233216, used=122818617344, free=101186588672)"
      ]
     },
     "execution_count": 19,
     "metadata": {},
     "output_type": "execute_result"
    }
   ],
   "source": [
    "import shutil\n",
    "shutil.disk_usage('.')"
   ]
  },
  {
   "cell_type": "code",
   "execution_count": 20,
   "metadata": {
    "slideshow": {
     "slide_type": "subslide"
    }
   },
   "outputs": [
    {
     "name": "stdout",
     "output_type": "stream",
     "text": [
      "['streams.py', '01-OS-Tools.ipynb', '.ipynb_checkpoints', '01-Exercise.ipynb']\n"
     ]
    }
   ],
   "source": [
    "try:\n",
    "    os.mkdir('/tmp/os-tools')\n",
    "except FileExistsError as err:\n",
    "    print(err)\n",
    "    \n",
    "shutil.copytree('.', '/tmp/os-tools/', dirs_exist_ok=True)\n",
    "\n",
    "print(os.listdir('/tmp/os-tools/'))\n",
    "\n",
    "shutil.rmtree('/tmp/os-tools/')"
   ]
  },
  {
   "cell_type": "code",
   "execution_count": 21,
   "metadata": {},
   "outputs": [
    {
     "data": {
      "text/plain": [
       "'/home/dmertz/miniconda3/envs/INE/bin/python'"
      ]
     },
     "execution_count": 21,
     "metadata": {},
     "output_type": "execute_result"
    }
   ],
   "source": [
    "shutil.which('python')"
   ]
  },
  {
   "cell_type": "markdown",
   "metadata": {
    "slideshow": {
     "slide_type": "slide"
    }
   },
   "source": [
    "## Module: pathlib\n",
    "\n",
    "The `pathlib` module contains an abstraction of a \"Path\" which can be a file or a directory, which has expected methods on those objects.  This module contains modernized interfaces covering almost everything in `os.path`."
   ]
  },
  {
   "cell_type": "code",
   "execution_count": 22,
   "metadata": {
    "slideshow": {
     "slide_type": "fragment"
    }
   },
   "outputs": [
    {
     "data": {
      "text/plain": [
       "PosixPath('/home/dmertz')"
      ]
     },
     "execution_count": 22,
     "metadata": {},
     "output_type": "execute_result"
    }
   ],
   "source": [
    "home = pathlib.Path('~').expanduser()\n",
    "home"
   ]
  },
  {
   "cell_type": "code",
   "execution_count": 23,
   "metadata": {
    "slideshow": {
     "slide_type": "fragment"
    }
   },
   "outputs": [
    {
     "data": {
      "text/plain": [
       "PosixPath('/home/dmertz/git/INE')"
      ]
     },
     "execution_count": 23,
     "metadata": {},
     "output_type": "execute_result"
    }
   ],
   "source": [
    "ine = home / \"git\" / \"INE\"\n",
    "ine"
   ]
  },
  {
   "cell_type": "markdown",
   "metadata": {
    "slideshow": {
     "slide_type": "subslide"
    }
   },
   "source": [
    "One thing we often want to do with a path is match filenames, which we can do without the separate `glob` module this way."
   ]
  },
  {
   "cell_type": "code",
   "execution_count": 24,
   "metadata": {
    "slideshow": {
     "slide_type": "fragment"
    }
   },
   "outputs": [
    {
     "data": {
      "text/plain": [
       "[PosixPath('/home/dmertz/git/INE/stdlib/01-OS-Tools/streams.py'),\n",
       " PosixPath('/home/dmertz/git/INE/regex/src/timeout.py'),\n",
       " PosixPath('/home/dmertz/git/INE/regex/src/setup.py'),\n",
       " PosixPath('/home/dmertz/git/INE/regex/src/.ipynb_checkpoints/setup-checkpoint.py')]"
      ]
     },
     "execution_count": 24,
     "metadata": {},
     "output_type": "execute_result"
    }
   ],
   "source": [
    "list(ine.glob('**/*.py'))"
   ]
  },
  {
   "cell_type": "markdown",
   "metadata": {
    "slideshow": {
     "slide_type": "subslide"
    }
   },
   "source": [
    "We can ask questions about the nature of the object the path represents."
   ]
  },
  {
   "cell_type": "code",
   "execution_count": 25,
   "metadata": {
    "slideshow": {
     "slide_type": "fragment"
    }
   },
   "outputs": [
    {
     "name": "stdout",
     "output_type": "stream",
     "text": [
      "Exists? True\n",
      "File?   True\n",
      "Dir?    False\n",
      "Link?   False\n",
      "Socket? False\n"
     ]
    }
   ],
   "source": [
    "streams = next(ine.glob('**/*.py'))\n",
    "print(\"Exists?\", streams.exists())\n",
    "print(\"File?  \", streams.is_file())\n",
    "print(\"Dir?   \", streams.is_dir())\n",
    "print(\"Link?  \", streams.is_symlink())\n",
    "print(\"Socket?\", streams.is_socket())"
   ]
  },
  {
   "cell_type": "markdown",
   "metadata": {
    "slideshow": {
     "slide_type": "subslide"
    }
   },
   "source": [
    "Or inquire into aspects of the path."
   ]
  },
  {
   "cell_type": "code",
   "execution_count": 26,
   "metadata": {
    "slideshow": {
     "slide_type": "fragment"
    }
   },
   "outputs": [
    {
     "name": "stdout",
     "output_type": "stream",
     "text": [
      "['streams.py', 'streams', '.py']\n"
     ]
    },
    {
     "data": {
      "text/plain": [
       "[PosixPath('/home/dmertz/git/INE/stdlib/01-OS-Tools'),\n",
       " PosixPath('/home/dmertz/git/INE/stdlib'),\n",
       " PosixPath('/home/dmertz/git/INE'),\n",
       " PosixPath('/home/dmertz/git'),\n",
       " PosixPath('/home/dmertz'),\n",
       " PosixPath('/home'),\n",
       " PosixPath('/')]"
      ]
     },
     "execution_count": 26,
     "metadata": {},
     "output_type": "execute_result"
    }
   ],
   "source": [
    "print([streams.name, streams.stem, streams.suffix])\n",
    "list(streams.parents)"
   ]
  },
  {
   "cell_type": "code",
   "execution_count": 27,
   "metadata": {
    "slideshow": {
     "slide_type": "fragment"
    }
   },
   "outputs": [
    {
     "name": "stdout",
     "output_type": "stream",
     "text": [
      "('/', 'home', 'dmertz', 'git', 'INE', 'stdlib', '01-OS-Tools', 'streams.py')\n"
     ]
    },
    {
     "data": {
      "text/plain": [
       "PosixPath('INE/stdlib/01-OS-Tools/streams.py')"
      ]
     },
     "execution_count": 27,
     "metadata": {},
     "output_type": "execute_result"
    }
   ],
   "source": [
    "print(streams.parts)\n",
    "streams.relative_to('/home/dmertz/git')"
   ]
  },
  {
   "cell_type": "markdown",
   "metadata": {
    "slideshow": {
     "slide_type": "subslide"
    }
   },
   "source": [
    "Path objects have methods to read and write content, and to open file handles."
   ]
  },
  {
   "cell_type": "code",
   "execution_count": 28,
   "metadata": {
    "slideshow": {
     "slide_type": "fragment"
    }
   },
   "outputs": [
    {
     "data": {
      "text/plain": [
       "b'import sys\\nprint(\"Arguments:\", sys.argv)\\ndata = sys.stdin.read()\\nprint(\"Standard input:\", data)\\nprint(\"Standard output\", file=sys.stdout)\\nprint(\"Error output\", file=sys.stderr)\\n'"
      ]
     },
     "execution_count": 28,
     "metadata": {},
     "output_type": "execute_result"
    }
   ],
   "source": [
    "streams.read_bytes()"
   ]
  },
  {
   "cell_type": "code",
   "execution_count": 29,
   "metadata": {
    "slideshow": {
     "slide_type": "fragment"
    }
   },
   "outputs": [
    {
     "name": "stdout",
     "output_type": "stream",
     "text": [
      "print(\"Arguments:\", sys.argv)\n",
      "\n"
     ]
    }
   ],
   "source": [
    "with streams.open() as fh:\n",
    "    fh.seek(11)\n",
    "    print(fh.readline())"
   ]
  }
 ],
 "metadata": {
  "celltoolbar": "Slideshow",
  "kernelspec": {
   "display_name": "Python 3",
   "language": "python",
   "name": "python3"
  },
  "language_info": {
   "codemirror_mode": {
    "name": "ipython",
    "version": 3
   },
   "file_extension": ".py",
   "mimetype": "text/x-python",
   "name": "python",
   "nbconvert_exporter": "python",
   "pygments_lexer": "ipython3",
   "version": "3.8.2"
  }
 },
 "nbformat": 4,
 "nbformat_minor": 4
}
