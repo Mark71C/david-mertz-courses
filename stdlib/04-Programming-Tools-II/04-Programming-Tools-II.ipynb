{
 "cells": [
  {
   "cell_type": "markdown",
   "metadata": {
    "slideshow": {
     "slide_type": "slide"
    }
   },
   "source": [
    "# Programming Tools II\n",
    "\n",
    "In this lesson we look at some modules that support functional and *lazy* styles of programming.  In this context, \"lazy\" has a precise meaning of deferring operations until they are actually needed.  For example, in processing infinite streams, this style is required; for many others it is merely useful.\n",
    "\n",
    "These tools are somewhat more advanced than many we look at it this course, and only an introduction is made.  We look at the modules `operator`, `functools` and `itertools` in this lesson."
   ]
  },
  {
   "cell_type": "code",
   "execution_count": 1,
   "metadata": {
    "slideshow": {
     "slide_type": "fragment"
    }
   },
   "outputs": [],
   "source": [
    "import operator as op\n",
    "from collections import namedtuple\n",
    "from functools import *\n",
    "from itertools import *\n",
    "from dataclasses import dataclass"
   ]
  },
  {
   "cell_type": "markdown",
   "metadata": {
    "slideshow": {
     "slide_type": "slide"
    }
   },
   "source": [
    "## Module: operator\n",
    "\n",
    "The `operator` module simply contains functions corresponding to the standard syntactic operators in Python, which are themselves defined by \"magic methods\" on classes.  A quick example lets us see this."
   ]
  },
  {
   "cell_type": "code",
   "execution_count": 2,
   "metadata": {
    "slideshow": {
     "slide_type": "fragment"
    }
   },
   "outputs": [
    {
     "data": {
      "text/plain": [
       "(True, 9)"
      ]
     },
     "execution_count": 2,
     "metadata": {},
     "output_type": "execute_result"
    }
   ],
   "source": [
    "a, b = 4, 5\n",
    "a < b, a + b   # Syntactic versions"
   ]
  },
  {
   "cell_type": "code",
   "execution_count": 3,
   "metadata": {
    "slideshow": {
     "slide_type": "fragment"
    }
   },
   "outputs": [
    {
     "data": {
      "text/plain": [
       "(True, 9)"
      ]
     },
     "execution_count": 3,
     "metadata": {},
     "output_type": "execute_result"
    }
   ],
   "source": [
    "a.__lt__(b), a.__add__(b)  # Methods on objects"
   ]
  },
  {
   "cell_type": "code",
   "execution_count": 4,
   "metadata": {
    "slideshow": {
     "slide_type": "fragment"
    }
   },
   "outputs": [
    {
     "data": {
      "text/plain": [
       "(True, 9)"
      ]
     },
     "execution_count": 4,
     "metadata": {},
     "output_type": "execute_result"
    }
   ],
   "source": [
    "int.__lt__(a, b), int.__add__(a, b)  # Methods on type"
   ]
  },
  {
   "cell_type": "code",
   "execution_count": 5,
   "metadata": {
    "slideshow": {
     "slide_type": "fragment"
    }
   },
   "outputs": [
    {
     "data": {
      "text/plain": [
       "(True, 9)"
      ]
     },
     "execution_count": 5,
     "metadata": {},
     "output_type": "execute_result"
    }
   ],
   "source": [
    "op.lt(a, b), op.add(a, b)  # Operator for any type"
   ]
  },
  {
   "cell_type": "markdown",
   "metadata": {
    "slideshow": {
     "slide_type": "subslide"
    }
   },
   "source": [
    "The obvious question at this point is \"Why on Earth would you want to avoid the syntax?\"  In \"regular\" code you clearly do not want to, but in some special contexts you have to.  Let us create some objects from the last lesson to illustrate."
   ]
  },
  {
   "cell_type": "code",
   "execution_count": 6,
   "metadata": {
    "slideshow": {
     "slide_type": "fragment"
    }
   },
   "outputs": [],
   "source": [
    "RGB = namedtuple(\"Color\", \"red green blue\")\n",
    "salmon = RGB(250, 128, 114)\n",
    "lavender = RGB(230, 230, 250)\n",
    "seagreen = RGB(46, 139, 87)\n",
    "indianred = RGB(205, 92, 92)\n",
    "colorlist = [salmon, lavender, seagreen, indianred]"
   ]
  },
  {
   "cell_type": "markdown",
   "metadata": {
    "slideshow": {
     "slide_type": "subslide"
    }
   },
   "source": [
    "Let's say we want to arrange these colors by the brightness of the blue channel.  We can do that with an operator, or alternately fall back to a (slower and more verbose) `lambda` form."
   ]
  },
  {
   "cell_type": "code",
   "execution_count": 7,
   "metadata": {
    "slideshow": {
     "slide_type": "fragment"
    }
   },
   "outputs": [
    {
     "data": {
      "text/plain": [
       "[Color(red=46, green=139, blue=87),\n",
       " Color(red=205, green=92, blue=92),\n",
       " Color(red=250, green=128, blue=114),\n",
       " Color(red=230, green=230, blue=250)]"
      ]
     },
     "execution_count": 7,
     "metadata": {},
     "output_type": "execute_result"
    }
   ],
   "source": [
    "sorted(colorlist, key=op.attrgetter('blue'))"
   ]
  },
  {
   "cell_type": "code",
   "execution_count": 8,
   "metadata": {
    "slideshow": {
     "slide_type": "fragment"
    }
   },
   "outputs": [
    {
     "data": {
      "text/plain": [
       "[Color(red=46, green=139, blue=87),\n",
       " Color(red=205, green=92, blue=92),\n",
       " Color(red=250, green=128, blue=114),\n",
       " Color(red=230, green=230, blue=250)]"
      ]
     },
     "execution_count": 8,
     "metadata": {},
     "output_type": "execute_result"
    }
   ],
   "source": [
    "sorted(colorlist, key=lambda color: color.blue)"
   ]
  },
  {
   "cell_type": "markdown",
   "metadata": {
    "slideshow": {
     "slide_type": "subslide"
    }
   },
   "source": [
    "However, the lambda is also less flexible.  For example, maybe the choice of color channel to sort on is made at runtime.  There is no straightforward way to do this with lambda alone (the `getattr()` built-in can work in a lambda, but it is no less obscure)."
   ]
  },
  {
   "cell_type": "code",
   "execution_count": 9,
   "metadata": {
    "slideshow": {
     "slide_type": "fragment"
    }
   },
   "outputs": [
    {
     "data": {
      "text/plain": [
       "[Color(red=205, green=92, blue=92),\n",
       " Color(red=250, green=128, blue=114),\n",
       " Color(red=46, green=139, blue=87),\n",
       " Color(red=230, green=230, blue=250)]"
      ]
     },
     "execution_count": 9,
     "metadata": {},
     "output_type": "execute_result"
    }
   ],
   "source": [
    "whichcolor = \"green\"\n",
    "sorted(colorlist, key=op.attrgetter(whichcolor))"
   ]
  },
  {
   "cell_type": "markdown",
   "metadata": {
    "slideshow": {
     "slide_type": "subslide"
    }
   },
   "source": [
    "### Familial abstractions\n",
    "\n",
    "A similar abstraction is available with `itemgetter()`, `methodcaller()`, for getting an index from a sequence and calling a method on an object, respectively.  But also, all the syntactic operator have such names, e.g. `floordiv()`, `not_()`, `pow()`, `xor()`, and many others."
   ]
  },
  {
   "cell_type": "markdown",
   "metadata": {
    "slideshow": {
     "slide_type": "fragment"
    }
   },
   "source": [
    "The key function we show above is an example of using these abstracted operators, but we will see a few others in the context of the other modules in this lesson."
   ]
  },
  {
   "cell_type": "markdown",
   "metadata": {
    "slideshow": {
     "slide_type": "slide"
    }
   },
   "source": [
    "## Module: functools\n",
    "\n",
    "The `functools` module contains some advanced capabilities that are not discussed in this introductory course.  A few of its features are important even for beginners to know about."
   ]
  },
  {
   "cell_type": "markdown",
   "metadata": {
    "slideshow": {
     "slide_type": "fragment"
    }
   },
   "source": [
    "### `@lru_cache`\n",
    "\n",
    "The \"least-recently used cache\" decorator allows the results of a potentially costly computation to be stored in a dictionary, and hence the work of the function to be avoided on repeated calls.  Of course, if the results are **expected** to be different across calls, this is wholly inappropriate. The number of results cached defaults to 128, but may be set to something else."
   ]
  },
  {
   "cell_type": "markdown",
   "metadata": {
    "slideshow": {
     "slide_type": "subslide"
    }
   },
   "source": [
    "A notoriously bad function to implement naively recursively in Python is a Fibonacci calculation, because an uncached version leads to explosive repetition of the same calculations.  Let us do that with and without a cache."
   ]
  },
  {
   "cell_type": "code",
   "execution_count": 10,
   "metadata": {
    "slideshow": {
     "slide_type": "fragment"
    }
   },
   "outputs": [],
   "source": [
    "def fib(n: int) -> int:\n",
    "    \"Fibonacci sequence: 1 1 2 3 5 8 13 21 ...\"\n",
    "    if n < 3:\n",
    "        return 1\n",
    "    return fib(n-1) + fib(n-2)"
   ]
  },
  {
   "cell_type": "code",
   "execution_count": 11,
   "metadata": {
    "slideshow": {
     "slide_type": "fragment"
    }
   },
   "outputs": [
    {
     "name": "stdout",
     "output_type": "stream",
     "text": [
      "CPU times: user 47.2 s, sys: 463 µs, total: 47.2 s\n",
      "Wall time: 47.2 s\n"
     ]
    },
    {
     "data": {
      "text/plain": [
       "267914296"
      ]
     },
     "execution_count": 11,
     "metadata": {},
     "output_type": "execute_result"
    }
   ],
   "source": [
    "%time fib(42)"
   ]
  },
  {
   "cell_type": "markdown",
   "metadata": {
    "slideshow": {
     "slide_type": "fragment"
    }
   },
   "source": [
    "Think about, e.g., how many times `fib(30)` was independently calculated.  Every binary branch descending from the top reaches that calculation at some point (e.g $2^{(N-30)}$ separate times)!"
   ]
  },
  {
   "cell_type": "markdown",
   "metadata": {
    "slideshow": {
     "slide_type": "subslide"
    }
   },
   "source": [
    "Merely caching is not the optimal approach, but it's notably better."
   ]
  },
  {
   "cell_type": "code",
   "execution_count": 12,
   "metadata": {
    "slideshow": {
     "slide_type": "fragment"
    }
   },
   "outputs": [],
   "source": [
    "@lru_cache(maxsize=250)\n",
    "def fib(n: int) -> int:\n",
    "    return 1 if n < 3 else fib(n-1) + fib(n-2)"
   ]
  },
  {
   "cell_type": "code",
   "execution_count": 13,
   "metadata": {
    "slideshow": {
     "slide_type": "fragment"
    }
   },
   "outputs": [
    {
     "name": "stdout",
     "output_type": "stream",
     "text": [
      "CPU times: user 23 µs, sys: 0 ns, total: 23 µs\n",
      "Wall time: 26 µs\n"
     ]
    },
    {
     "data": {
      "text/plain": [
       "267914296"
      ]
     },
     "execution_count": 13,
     "metadata": {},
     "output_type": "execute_result"
    }
   ],
   "source": [
    "%time fib(42)"
   ]
  },
  {
   "cell_type": "code",
   "execution_count": 14,
   "metadata": {
    "slideshow": {
     "slide_type": "fragment"
    }
   },
   "outputs": [
    {
     "name": "stdout",
     "output_type": "stream",
     "text": [
      "CPU times: user 118 µs, sys: 1 µs, total: 119 µs\n",
      "Wall time: 121 µs\n"
     ]
    },
    {
     "data": {
      "text/plain": [
       "280571172992510140037611932413038677189525"
      ]
     },
     "execution_count": 14,
     "metadata": {},
     "output_type": "execute_result"
    }
   ],
   "source": [
    "%time fib(200)"
   ]
  },
  {
   "cell_type": "markdown",
   "metadata": {
    "slideshow": {
     "slide_type": "subslide"
    }
   },
   "source": [
    "### Slow resources\n",
    "\n",
    "This mathematical sequence is a very artificial example, but the `@lru_cache` decorator is widely useful for real purposes too."
   ]
  },
  {
   "cell_type": "code",
   "execution_count": 15,
   "metadata": {
    "slideshow": {
     "slide_type": "fragment"
    }
   },
   "outputs": [],
   "source": [
    "@lru_cache\n",
    "def fetch_page(url):\n",
    "    from urllib.request import urlopen\n",
    "    page = urlopen(url)\n",
    "    return page.read()"
   ]
  },
  {
   "cell_type": "code",
   "execution_count": 16,
   "metadata": {
    "slideshow": {
     "slide_type": "fragment"
    }
   },
   "outputs": [],
   "source": [
    "pat = \"https://raw.githubusercontent.com/python/peps/master/pep-NUMBER.txt\"\n",
    "urls = [pat.replace('NUMBER', n) \n",
    "        for n in \"0001 0002 0003 0004 0005 0006 0007 0008\".split()]"
   ]
  },
  {
   "cell_type": "markdown",
   "metadata": {
    "slideshow": {
     "slide_type": "subslide"
    }
   },
   "source": [
    "Running the first time pulls down the actual data."
   ]
  },
  {
   "cell_type": "code",
   "execution_count": 17,
   "metadata": {
    "slideshow": {
     "slide_type": "fragment"
    }
   },
   "outputs": [
    {
     "name": "stdout",
     "output_type": "stream",
     "text": [
      "https://raw.githubusercontent.com/python/peps/master/pep-0001.txt 36499\n",
      "https://raw.githubusercontent.com/python/peps/master/pep-0002.txt 8214\n",
      "https://raw.githubusercontent.com/python/peps/master/pep-0003.txt 2229\n",
      "https://raw.githubusercontent.com/python/peps/master/pep-0004.txt 12015\n",
      "https://raw.githubusercontent.com/python/peps/master/pep-0005.txt 3043\n",
      "https://raw.githubusercontent.com/python/peps/master/pep-0006.txt 8174\n",
      "https://raw.githubusercontent.com/python/peps/master/pep-0007.txt 7727\n",
      "https://raw.githubusercontent.com/python/peps/master/pep-0008.txt 51552\n",
      "CPU times: user 220 ms, sys: 8.01 ms, total: 228 ms\n",
      "Wall time: 3.77 s\n"
     ]
    }
   ],
   "source": [
    "%%time\n",
    "for url in urls:\n",
    "    print(url, len(fetch_page(url)))"
   ]
  },
  {
   "cell_type": "markdown",
   "metadata": {
    "slideshow": {
     "slide_type": "subslide"
    }
   },
   "source": [
    "Running subsequently merely reads the page contents from the cache."
   ]
  },
  {
   "cell_type": "code",
   "execution_count": 18,
   "metadata": {
    "slideshow": {
     "slide_type": "fragment"
    }
   },
   "outputs": [
    {
     "name": "stdout",
     "output_type": "stream",
     "text": [
      "https://raw.githubusercontent.com/python/peps/master/pep-0001.txt 36499\n",
      "https://raw.githubusercontent.com/python/peps/master/pep-0002.txt 8214\n",
      "https://raw.githubusercontent.com/python/peps/master/pep-0003.txt 2229\n",
      "https://raw.githubusercontent.com/python/peps/master/pep-0004.txt 12015\n",
      "https://raw.githubusercontent.com/python/peps/master/pep-0005.txt 3043\n",
      "https://raw.githubusercontent.com/python/peps/master/pep-0006.txt 8174\n",
      "https://raw.githubusercontent.com/python/peps/master/pep-0007.txt 7727\n",
      "https://raw.githubusercontent.com/python/peps/master/pep-0008.txt 51552\n",
      "CPU times: user 1.73 ms, sys: 0 ns, total: 1.73 ms\n",
      "Wall time: 1.34 ms\n"
     ]
    }
   ],
   "source": [
    "%%time\n",
    "for url in urls:\n",
    "    print(url, len(fetch_page(url)))"
   ]
  },
  {
   "cell_type": "code",
   "execution_count": 19,
   "metadata": {
    "slideshow": {
     "slide_type": "fragment"
    }
   },
   "outputs": [
    {
     "data": {
      "text/plain": [
       "CacheInfo(hits=8, misses=8, maxsize=128, currsize=8)"
      ]
     },
     "execution_count": 19,
     "metadata": {},
     "output_type": "execute_result"
    }
   ],
   "source": [
    "fetch_page.cache_info()"
   ]
  },
  {
   "cell_type": "code",
   "execution_count": 20,
   "metadata": {
    "slideshow": {
     "slide_type": "fragment"
    }
   },
   "outputs": [],
   "source": [
    "fetch_page.cache_clear()"
   ]
  },
  {
   "cell_type": "markdown",
   "metadata": {
    "slideshow": {
     "slide_type": "subslide"
    }
   },
   "source": [
    "### @total_ordering\n",
    "\n",
    "One of the magic things you can do with Python classes is make them respond to operators in custom ways.  What it means to add two `Foo` instances is up to you.  Likewise, what it means for one instance of `Foo` to be \"less than\" another instance."
   ]
  },
  {
   "cell_type": "markdown",
   "metadata": {
    "slideshow": {
     "slide_type": "fragment"
    }
   },
   "source": [
    "A difficulty with defining inequality relations among objects, however, is that there are **lots** of methods to define.  To allow objects to respond appropriately to all the comparisons, you need `.__lt__()`, `.__le__()`, `.__eq__()`, `.__ne__()`, `.__ge__()`, `.__gt__()`.  While in principle, each of those can do something completely different, **usually** you just want them to be consistent with each other."
   ]
  },
  {
   "cell_type": "markdown",
   "metadata": {
    "slideshow": {
     "slide_type": "subslide"
    }
   },
   "source": [
    "By adding the decorator `@total_ordering`, all of those implicitly consistent methods are added, as long as you define at least two of them.  We can use the decorator with any class, but lets make a Data Class, continuing the last lesson."
   ]
  },
  {
   "cell_type": "code",
   "execution_count": 21,
   "metadata": {
    "slideshow": {
     "slide_type": "fragment"
    }
   },
   "outputs": [],
   "source": [
    "@dataclass\n",
    "@total_ordering\n",
    "class HowBlue:\n",
    "    # @dataclass generates __eq__ implementation\n",
    "    Red: int = 0\n",
    "    Green: int = 0\n",
    "    Blue: int = 0\n",
    "    \n",
    "    def __lt__(self, other):\n",
    "        return self.Blue < other.Blue"
   ]
  },
  {
   "cell_type": "code",
   "execution_count": 22,
   "metadata": {
    "slideshow": {
     "slide_type": "subslide"
    }
   },
   "outputs": [
    {
     "data": {
      "text/plain": [
       "HowBlue(Red=46, Green=139, Blue=87)"
      ]
     },
     "execution_count": 22,
     "metadata": {},
     "output_type": "execute_result"
    }
   ],
   "source": [
    "Salmon = HowBlue(*salmon)\n",
    "Lavender = HowBlue(*lavender)\n",
    "Seagreen = HowBlue(*seagreen)\n",
    "Indianred = HowBlue(*indianred)\n",
    "Seagreen"
   ]
  },
  {
   "cell_type": "code",
   "execution_count": 23,
   "metadata": {
    "slideshow": {
     "slide_type": "fragment"
    }
   },
   "outputs": [
    {
     "data": {
      "text/plain": [
       "(True, False, True)"
      ]
     },
     "execution_count": 23,
     "metadata": {},
     "output_type": "execute_result"
    }
   ],
   "source": [
    "Salmon <= Lavender, Seagreen > Indianred, Seagreen != Salmon"
   ]
  },
  {
   "cell_type": "code",
   "execution_count": 24,
   "metadata": {
    "slideshow": {
     "slide_type": "fragment"
    }
   },
   "outputs": [
    {
     "data": {
      "text/plain": [
       "[HowBlue(Red=46, Green=139, Blue=87),\n",
       " HowBlue(Red=205, Green=92, Blue=92),\n",
       " HowBlue(Red=250, Green=128, Blue=114),\n",
       " HowBlue(Red=230, Green=230, Blue=250)]"
      ]
     },
     "execution_count": 24,
     "metadata": {},
     "output_type": "execute_result"
    }
   ],
   "source": [
    "sorted([Salmon, Lavender, Seagreen, Indianred])"
   ]
  },
  {
   "cell_type": "markdown",
   "metadata": {
    "slideshow": {
     "slide_type": "subslide"
    }
   },
   "source": [
    "### partial\n",
    "\n",
    "The function `partial()` modifies other functions by \"filling in\" some of their arguments in advance.  This can both avoid repetition and make it possible to use functions in more abstract contexts. \n",
    "\n",
    "I give an example of a toy logger below, but for genuine logging capabilities, the Python standard library `logging` module is far more robust."
   ]
  },
  {
   "cell_type": "code",
   "execution_count": 25,
   "metadata": {
    "slideshow": {
     "slide_type": "fragment"
    }
   },
   "outputs": [],
   "source": [
    "import sys\n",
    "from datetime import datetime as dt\n",
    "debug = partial(print, \"DEBUG\", sep=\"|\", flush=True, file=sys.stdout)\n",
    "error = partial(print, \"ERROR\", sep=\"|\", flush=True, file=sys.stderr)"
   ]
  },
  {
   "cell_type": "markdown",
   "metadata": {
    "slideshow": {
     "slide_type": "subslide"
    }
   },
   "source": [
    "Using our engineered functions is just like any function."
   ]
  },
  {
   "cell_type": "code",
   "execution_count": 26,
   "metadata": {
    "slideshow": {
     "slide_type": "fragment"
    }
   },
   "outputs": [
    {
     "name": "stdout",
     "output_type": "stream",
     "text": [
      "DEBUG|2020-09-06T12:06:42.914318|Stuff happened\n",
      "DEBUG|2020-09-06T12:06:42.915448|Different stuff\n"
     ]
    },
    {
     "name": "stderr",
     "output_type": "stream",
     "text": [
      "ERROR|2020-09-06T12:06:42.916314|More crucial event\n"
     ]
    },
    {
     "name": "stdout",
     "output_type": "stream",
     "text": [
      "DEBUG|2020-09-06T12:06:42.917130|Regular event\n"
     ]
    },
    {
     "name": "stderr",
     "output_type": "stream",
     "text": [
      "ERROR|2020-09-06T12:06:42.917887|Something went wrong\n"
     ]
    }
   ],
   "source": [
    "debug(dt.isoformat(dt.now()), \"Stuff happened\")\n",
    "debug(dt.isoformat(dt.now()), \"Different stuff\")\n",
    "error(dt.isoformat(dt.now()), \"More crucial event\")\n",
    "debug(dt.isoformat(dt.now()), \"Regular event\")\n",
    "error(dt.isoformat(dt.now()), \"Something went wrong\")"
   ]
  },
  {
   "cell_type": "markdown",
   "metadata": {
    "slideshow": {
     "slide_type": "subslide"
    }
   },
   "source": [
    "We might want to utilize \"partialized\" function within some context needing a function object.  This is similar to what we saw with functions from the `operator` moule."
   ]
  },
  {
   "cell_type": "code",
   "execution_count": 27,
   "metadata": {
    "slideshow": {
     "slide_type": "fragment"
    }
   },
   "outputs": [
    {
     "name": "stdout",
     "output_type": "stream",
     "text": [
      "17 21 37 32 9 6 41\n"
     ]
    }
   ],
   "source": [
    "base7 = partial(int, base=7)\n",
    "nums = \"23 30 52 44 12 6 56\".split()\n",
    "\n",
    "base10 = map(base7, nums)\n",
    "print(*base10)"
   ]
  },
  {
   "cell_type": "markdown",
   "metadata": {
    "slideshow": {
     "slide_type": "slide"
    }
   },
   "source": [
    "## Module: itertools\n",
    "\n",
    "The module `itertools` allows for combinations of \"lazy\" iterators in useful ways.  When the streams produced by iterators are infinite, or even simply very large or slow to produce their next item, an \"algebra\" of their combination can be powerful."
   ]
  },
  {
   "cell_type": "markdown",
   "metadata": {
    "slideshow": {
     "slide_type": "fragment"
    }
   },
   "source": [
    "The built-in functions `map()`, `filter()`, and `enumerate()` are not part of `itertools` because they are always available; however, they function very much the same way as the functions in `itertools`, and are often combined with them."
   ]
  },
  {
   "cell_type": "markdown",
   "metadata": {
    "slideshow": {
     "slide_type": "subslide"
    }
   },
   "source": [
    "We can create an infinite sequence to work with.  Here is the most efficient version of the Fibonnaci series as an infinite iterator."
   ]
  },
  {
   "cell_type": "code",
   "execution_count": 28,
   "metadata": {
    "slideshow": {
     "slide_type": "fragment"
    }
   },
   "outputs": [],
   "source": [
    "def make_fib():\n",
    "    a, b = 0, 1\n",
    "    while True:\n",
    "        a, b = b, a+b\n",
    "        yield a"
   ]
  },
  {
   "cell_type": "code",
   "execution_count": 29,
   "metadata": {
    "slideshow": {
     "slide_type": "fragment"
    }
   },
   "outputs": [
    {
     "data": {
      "text/plain": [
       "(1, 1, 2, 3)"
      ]
     },
     "execution_count": 29,
     "metadata": {},
     "output_type": "execute_result"
    }
   ],
   "source": [
    "# As many iterator generators as we like\n",
    "fibs1, fibs2 = make_fib(), make_fib()\n",
    "next(fibs1), next(fibs1), next(fibs1), next(fibs1)"
   ]
  },
  {
   "cell_type": "markdown",
   "metadata": {
    "slideshow": {
     "slide_type": "subslide"
    }
   },
   "source": [
    "Let's get a feel for working with these infinite iterators.  For example, we can find only the even Fibonacci numbers using `filter()`.  That still leaves infinitely many of them, so we can use `itertools.islice()` to select the 5th through 15th of those.  Of those few even Fibonacci numbers, let us also divide them all by two."
   ]
  },
  {
   "cell_type": "code",
   "execution_count": 30,
   "metadata": {
    "slideshow": {
     "slide_type": "fragment"
    }
   },
   "outputs": [
    {
     "name": "stdout",
     "output_type": "stream",
     "text": [
      "even_fibs is: <filter object at 0x7fb650410df0>\n",
      "first_even_fibs: <itertools.islice object at 0x7fb6503bb270>\n",
      "half_evens: <map object at 0x7fb650410370>\n"
     ]
    }
   ],
   "source": [
    "is_even = lambda n: not n % 2\n",
    "half = lambda n: n // 2\n",
    "\n",
    "even_fibs = filter(is_even, fibs2)\n",
    "print(\"even_fibs is:\", even_fibs)\n",
    "\n",
    "first_even_fibs = islice(even_fibs, 4, 15) # zero-based start\n",
    "print(\"first_even_fibs:\", first_even_fibs)\n",
    "\n",
    "half_evens = map(half, first_even_fibs)\n",
    "print(\"half_evens:\", half_evens)"
   ]
  },
  {
   "cell_type": "markdown",
   "metadata": {
    "slideshow": {
     "slide_type": "subslide"
    }
   },
   "source": [
    "So far we have described some computation, but we have not yet *performed* it.  Let us now concretize the elements.  Only when we do this do we consume elements from the original `fibs2` iterator.  You can verify the specific numbers produced, but they do represent the several operations accurately."
   ]
  },
  {
   "cell_type": "code",
   "execution_count": 31,
   "metadata": {
    "slideshow": {
     "slide_type": "fragment"
    }
   },
   "outputs": [
    {
     "name": "stdout",
     "output_type": "stream",
     "text": [
      "305\n",
      "1292\n",
      "5473\n",
      "23184\n",
      "98209\n",
      "416020\n",
      "1762289\n",
      "7465176\n",
      "31622993\n",
      "133957148\n",
      "567451585\n"
     ]
    }
   ],
   "source": [
    "for n in half_evens:\n",
    "    print(n)"
   ]
  },
  {
   "cell_type": "code",
   "execution_count": 32,
   "metadata": {
    "slideshow": {
     "slide_type": "fragment"
    }
   },
   "outputs": [
    {
     "data": {
      "text/plain": [
       "1836311903"
      ]
     },
     "execution_count": 32,
     "metadata": {},
     "output_type": "execute_result"
    }
   ],
   "source": [
    "# The underlying sequence is partially consumed\n",
    "next(fibs2)"
   ]
  },
  {
   "cell_type": "markdown",
   "metadata": {
    "slideshow": {
     "slide_type": "subslide"
    }
   },
   "source": [
    "These abstract mathematical sequences are fun for illustration, but rarely your daily work.  More common is iterators over things like files or sockets.  For example, the _Plague of Pythons_ short story downloaded from Project Gutenberg and used in the last lesson is a text file where we can iterate over lines."
   ]
  },
  {
   "cell_type": "code",
   "execution_count": 33,
   "metadata": {
    "slideshow": {
     "slide_type": "fragment"
    }
   },
   "outputs": [
    {
     "name": "stdout",
     "output_type": "stream",
     "text": [
      "The Project Gutenberg EBook of Plague of Pythons, by Frederik Pohl\n",
      "\n",
      "This eBook is for the use of anyone anywhere at no cost and with\n",
      "almost no restrictions whatsoever.  You may copy it, give it away or\n",
      "re-use it under the terms of the Project Gutenberg License included\n",
      "with this eBook or online at www.gutenberg.org/license\n",
      "\n",
      "Title: Plague of Pythons\n",
      "Author: Frederik Pohl\n",
      "Release Date: April 19, 2016 [EBook #51804]\n",
      "Language: English\n",
      "\n"
     ]
    }
   ],
   "source": [
    "def not_start_line(line):\n",
    "    return \"*** START\" not in line\n",
    "\n",
    "for line in takewhile(not_start_line, open('pg51804.txt')):\n",
    "    print(line, end='')"
   ]
  },
  {
   "cell_type": "markdown",
   "metadata": {
    "slideshow": {
     "slide_type": "subslide"
    }
   },
   "source": [
    "In the story, a main character is named \"Chandler.\"  We would like to skip the PG header, then find the lines mentioning that character but that do not have a full stop (period).  Moreover, throughout this, we add abd keep the line numbers of the original story."
   ]
  },
  {
   "cell_type": "code",
   "execution_count": 34,
   "metadata": {
    "slideshow": {
     "slide_type": "fragment"
    }
   },
   "outputs": [
    {
     "name": "stdout",
     "output_type": "stream",
     "text": [
      "<_io.TextIOWrapper name='pg51804.txt' mode='r' encoding='UTF-8'>\n",
      "<itertools.dropwhile object at 0x7fb6503cda40>\n",
      "<enumerate object at 0x7fb6503cda80>\n",
      "<filter object at 0x7fb6503ae880>\n",
      "<itertools.filterfalse object at 0x7fb6503ae850>\n"
     ]
    }
   ],
   "source": [
    "def has_chandler(line):\n",
    "    return \"Chandler\" in line[1]\n",
    "\n",
    "def has_period(line):\n",
    "    return '.' in line[1]\n",
    "\n",
    "story = open('pg51804.txt')\n",
    "no_header = dropwhile(not_start_line, story)\n",
    "line_nums = enumerate(no_header)\n",
    "with_character = filter(has_chandler, line_nums)\n",
    "no_full_stop = filterfalse(has_period, with_character)\n",
    "\n",
    "print(story, no_header, line_nums, with_character, no_full_stop, sep='\\n')"
   ]
  },
  {
   "cell_type": "markdown",
   "metadata": {
    "slideshow": {
     "slide_type": "subslide"
    }
   },
   "source": [
    "We can print off the first few of these to show the steps have been followed."
   ]
  },
  {
   "cell_type": "code",
   "execution_count": 35,
   "metadata": {
    "slideshow": {
     "slide_type": "fragment"
    }
   },
   "outputs": [
    {
     "name": "stdout",
     "output_type": "stream",
     "text": [
      "(23, \"Because of the crowd they held Chandler's trial in the all-purpose room\\n\")\n",
      "(32, 'Chandler got to his feet and leaned on the table while the bailiff\\n')\n",
      "(72, 'The bailiff ordered Chandler to stand and informed him that he was\\n')\n",
      "(138, 'Chandler, for the first time, allowed himself to meet the eyes of the\\n')\n",
      "(181, 'day of June last?\" prompted the prosecutor, and Chandler\\'s attorney\\n')\n",
      "(204, 'Chandler; a doctor described in chaste medical words the derangements\\n')\n",
      "(206, \"question from Chandler's lawyer--and, for that matter, nothing to\\n\")\n",
      "(217, 'the guards took Chandler back to the detention cell in the basement of\\n')\n"
     ]
    }
   ],
   "source": [
    "for line in islice(no_full_stop, 8):\n",
    "    print(line)"
   ]
  },
  {
   "cell_type": "markdown",
   "metadata": {
    "slideshow": {
     "slide_type": "subslide"
    }
   },
   "source": [
    "There is much more you can do to build up these combinations and filters and selections from iterators.  For one more example, let's select certain elements from the Fibonocci numbers.  Our \"mask\" will be 7 long, and take the elements at index 2 and 5 within that.  This is artificial, but shows the power."
   ]
  },
  {
   "cell_type": "code",
   "execution_count": 36,
   "metadata": {
    "slideshow": {
     "slide_type": "fragment"
    }
   },
   "outputs": [
    {
     "data": {
      "text/plain": [
       "[2, 8, 55, 233, 1597, 6765, 46368, 196418, 1346269, 5702887]"
      ]
     },
     "execution_count": 36,
     "metadata": {},
     "output_type": "execute_result"
    }
   ],
   "source": [
    "# numbers 2 and 5 are just to remind of index position\n",
    "# ... and Truthy value would work the same\n",
    "two_and_five = cycle([0, 0, 2, 0, 0, 5, 0])\n",
    "\n",
    "# Apply an (infinite) mask to the infinite sequence\n",
    "selected = compress(make_fib(), two_and_five)\n",
    "\n",
    "# Display the first 10 that qualify\n",
    "list(islice(selected, 10))"
   ]
  }
 ],
 "metadata": {
  "celltoolbar": "Slideshow",
  "kernelspec": {
   "display_name": "Python 3",
   "language": "python",
   "name": "python3"
  },
  "language_info": {
   "codemirror_mode": {
    "name": "ipython",
    "version": 3
   },
   "file_extension": ".py",
   "mimetype": "text/x-python",
   "name": "python",
   "nbconvert_exporter": "python",
   "pygments_lexer": "ipython3",
   "version": "3.8.2"
  }
 },
 "nbformat": 4,
 "nbformat_minor": 4
}
