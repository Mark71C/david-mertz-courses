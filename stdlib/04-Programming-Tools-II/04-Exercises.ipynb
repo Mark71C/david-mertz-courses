{
 "cells": [
  {
   "cell_type": "markdown",
   "metadata": {},
   "source": [
    "# Description\n",
    "\n",
    "This exercise will have several short problems rather than one larger one.\n",
    "\n",
    "**Part 1**: Create a function that takes as an argument a potentially infinite iterator of integers, and returns an iterator that contains only the first 10 of those that are divisible by 5 or 7.  Your function should except a concrete sequence as input, but must return an iterator as its result.  For example:\n",
    "\n",
    "```python\n",
    ">>> fnegs()\n",
    "<generator object fnegs at 0x7f1b0c7b9120>\n",
    ">>> fun1(fnegs())\n",
    "<...some sort of iterator/generator...>\n",
    ">>> list(fun1(fnegs()))\n",
    "[5, -21, -55, 610, -987, -6765, -46368, 75025, -832040, -2178309]\n",
    "```\n",
    "\n",
    "**Part 2**: Create a function similar to that in part 1, but look for divisibility by 3 **and** 7.  Also, yield however many numbers are needed until you find one whose absolute value is over a hundred million, then stop iteration.  In general, your result might itself be an infinite iterator, depending on the input iterator.\n",
    "\n",
    "```python\n",
    ">>> list(fun2(fnegs()))\n",
    "[-21, -987, -46368, -2178309]\n",
    "```\n",
    "\n",
    "**Part 3**: Write a more generic function that accepts as arguments the divisors sought (any of them, as in part 1), and the number of elements before the iterator is exhausted.  For example:\n",
    "\n",
    "```python\n",
    ">>> fn = partial(fun3, [5, 7], 10)\n",
    ">>> list(fn(fnegs()))\n",
    "[5, -21, -55, 610, -987, -6765, -46368, 75025, -832040, -2178309]\n",
    "```"
   ]
  },
  {
   "cell_type": "markdown",
   "metadata": {},
   "source": [
    "# Setup"
   ]
  },
  {
   "cell_type": "code",
   "execution_count": 1,
   "metadata": {},
   "outputs": [],
   "source": [
    "from itertools import *\n",
    "from functools import *\n",
    "import operator as op\n",
    "\n",
    "def fnegs(a=0, b=1):\n",
    "    while True:\n",
    "        a, b = b, a-b\n",
    "        yield a\n",
    "\n",
    "fun1 = lambda it: range(10)\n",
    "fun2 = lambda it: range(10)\n",
    "fun3 = lambda divs, ncount, it: range(10)"
   ]
  },
  {
   "cell_type": "markdown",
   "metadata": {},
   "source": [
    "# Solution"
   ]
  },
  {
   "cell_type": "code",
   "execution_count": 2,
   "metadata": {},
   "outputs": [],
   "source": [
    "def fun1(it):\n",
    "    return islice(filter(lambda n: n%5==0 or n%7==0, it), 10)\n",
    "\n",
    "def fun2(it):\n",
    "    divs = filter(lambda n: n%21==0, it) \n",
    "    yield from takewhile(lambda n: abs(n) <= 100_000_000, divs)\n",
    "\n",
    "def fun3(divs, ncount, it):\n",
    "    return islice(filter(lambda n: any(n%div==0 for div in divs), it), ncount)"
   ]
  },
  {
   "cell_type": "markdown",
   "metadata": {},
   "source": [
    "# Test Cases"
   ]
  },
  {
   "cell_type": "code",
   "execution_count": 3,
   "metadata": {},
   "outputs": [],
   "source": [
    "def test_fun1():\n",
    "    seq = fnegs(2, 1)\n",
    "    correct = [0, 5, -21, -55, 610, -987, -6765, -46368, 75025, -832040]\n",
    "    assert list(fun1(seq)) == correct\n",
    "\n",
    "test_fun1()"
   ]
  },
  {
   "cell_type": "code",
   "execution_count": 4,
   "metadata": {},
   "outputs": [],
   "source": [
    "def test_fun2():\n",
    "    seq = fnegs(2, 2)\n",
    "    assert list(fun2(seq)) == [0, -42, -1974, -92736, -4356618]\n",
    "    \n",
    "test_fun2()"
   ]
  },
  {
   "cell_type": "code",
   "execution_count": 5,
   "metadata": {},
   "outputs": [],
   "source": [
    "def test_fun3():\n",
    "    seq = fnegs(3, 5)\n",
    "    fn = partial(fun3, [2, 3, 5], 10)\n",
    "    correct = [5, -2, -9, 16, -25, -66, 280, -453, -1186, -3105]\n",
    "    assert list(fn(seq)) == correct\n",
    "    \n",
    "test_fun3()"
   ]
  }
 ],
 "metadata": {
  "kernelspec": {
   "display_name": "Python 3",
   "language": "python",
   "name": "python3"
  },
  "language_info": {
   "codemirror_mode": {
    "name": "ipython",
    "version": 3
   },
   "file_extension": ".py",
   "mimetype": "text/x-python",
   "name": "python",
   "nbconvert_exporter": "python",
   "pygments_lexer": "ipython3",
   "version": "3.8.5"
  }
 },
 "nbformat": 4,
 "nbformat_minor": 4
}
