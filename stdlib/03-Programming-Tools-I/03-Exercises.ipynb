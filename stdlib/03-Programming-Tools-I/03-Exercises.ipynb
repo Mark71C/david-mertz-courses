{
 "cells": [
  {
   "cell_type": "markdown",
   "metadata": {},
   "source": [
    "# Description\n",
    "\n",
    "For this exercise, you will need to create a particular API for working with track athletes at a competition consisting of several different events.  Of course, you should utilize the data structures discussed in this lesson to achieve this goal.  The API you need to follow has several constraints.\n",
    "\n",
    "* Various medals won correspond to different prize amounts (whatever currency): Gold is 1000, Silver is 500, and Bronze is 250.\n",
    "* A `Medal` object will allow reference to these different types of medals, but will raise an exception if other attributes are accessed.\n",
    "* A runner (an instance of `Competition`) will have attributes corresponding to each type of medal, or None if no placement in an event.\n",
    "* The `Competition` class provides a `.winnings()` method to tally the winnings across events.\n",
    "* The `Competition` class provides a `.medals()` method to report on medals won, sorted from best to worst."
   ]
  },
  {
   "cell_type": "markdown",
   "metadata": {},
   "source": [
    "These are examples of the API you will need to conform with:\n",
    "\n",
    "```python\n",
    "runner = Competition()\n",
    "runner.foot_500m = Medal.Gold\n",
    "runner.hurdle_100m = Medal.Silver\n",
    "runner.hurdle_500m = Medal.Bronze\n",
    "runner.foot_50m = Medal.Silver\n",
    "```\n",
    "\n",
    "With that `runner` instance we can call:\n",
    "\n",
    "```python\n",
    ">>> runner.winnings()\n",
    "2250\n",
    ">>> runner.medals()\n",
    "[('foot_500m', 'Gold'),\n",
    " ('foot_50m', 'Silver'),\n",
    " ('hurdle_100m', 'Silver'),\n",
    " ('hurdle_400m', 'Bronze'),\n",
    " ('foot_100m', 'No Placement')]\n",
    "```\n",
    "\n",
    "With a `Medal` object:\n",
    "\n",
    "```python\n",
    ">>> try:\n",
    "...     Medal.Copper\n",
    "... except AttributeError as err:\n",
    "...     print(repr(err))\n",
    "AttributeError('Copper')\n",
    "```"
   ]
  },
  {
   "cell_type": "markdown",
   "metadata": {},
   "source": [
    "# Setup"
   ]
  },
  {
   "cell_type": "code",
   "execution_count": 1,
   "metadata": {},
   "outputs": [],
   "source": [
    "# These classes provides (almost) correct interfaces, not correct behaviors\n",
    "# Of note: these versions do not depend on config of instances whatsoever\n",
    "\n",
    "class Medal:\n",
    "    Gold = 1\n",
    "    Silver = 2\n",
    "    Bronze = 3\n",
    "    \n",
    "class Competition:\n",
    "    def winnings(self):\n",
    "        return 2250\n",
    "    def medals(self):\n",
    "        return [\n",
    "            ('foot_50m', 'Gold'),\n",
    "            ('foot_500m', 'Gold'),\n",
    "            ('hurdle_400m', 'Bronze'),\n",
    "            ('foot_100m', 'No Placement'),\n",
    "            ('hurdle_100m', 'No Placement')\n",
    "        ]"
   ]
  },
  {
   "cell_type": "markdown",
   "metadata": {},
   "source": [
    "# Solution"
   ]
  },
  {
   "cell_type": "code",
   "execution_count": 2,
   "metadata": {},
   "outputs": [],
   "source": [
    "from dataclasses import dataclass, asdict\n",
    "from enum import Enum\n",
    "\n",
    "class Medal(Enum):\n",
    "    Gold = 1000\n",
    "    Silver = 500\n",
    "    Bronze = 250\n",
    "    \n",
    "@dataclass\n",
    "class Competition:\n",
    "    foot_500m: Medal = None\n",
    "    foot_100m: Medal = None\n",
    "    foot_50m: Medal = None\n",
    "    hurdle_100m: Medal = None\n",
    "    hurdle_400m: Medal = None\n",
    "        \n",
    "    def winnings(self):\n",
    "        return sum(v.value for v in asdict(self).values() if v)\n",
    "    \n",
    "    def medals(self):\n",
    "        results = []\n",
    "        for race, place in asdict(self).items():\n",
    "            results.append((race, place.name if place else \"No Placement\"))\n",
    "        order = {'Gold': 1, 'Silver': 2, 'Bronze': 4, 'No Placement': 5}\n",
    "        results.sort(key=lambda item: order[item[1]])\n",
    "        return results"
   ]
  },
  {
   "cell_type": "markdown",
   "metadata": {},
   "source": [
    "# Test Cases"
   ]
  },
  {
   "cell_type": "code",
   "execution_count": 3,
   "metadata": {},
   "outputs": [],
   "source": [
    "def test_medal1():\n",
    "    assert Medal.Gold == Medal.Gold\n",
    "    assert Medal.Silver == Medal.Silver\n",
    "    assert Medal.Bronze == Medal.Bronze\n",
    "\n",
    "    try:\n",
    "        Medal.Copper\n",
    "        assert False, \"There should be no Copper medal\"\n",
    "    except AttributeError:\n",
    "        pass # All good, raise exception\n",
    "        \n",
    "test_medal1()"
   ]
  },
  {
   "cell_type": "code",
   "execution_count": 4,
   "metadata": {},
   "outputs": [],
   "source": [
    "def test_medal2():\n",
    "    assert Medal.Gold != Medal.Silver\n",
    "    assert Medal.Silver != Medal.Bronze\n",
    "    assert Medal.Bronze != Medal.Gold\n",
    "    \n",
    "test_medal2()"
   ]
  },
  {
   "cell_type": "code",
   "execution_count": 5,
   "metadata": {},
   "outputs": [],
   "source": [
    "def test_api1():\n",
    "    runner = Competition()\n",
    "    runner.hurdle_100m = Medal.Bronze\n",
    "    runner.hurdle_400m = Medal.Silver\n",
    "    runner.foot_100m = Medal.Gold\n",
    "    assert runner.winnings() == 1750, \"Winnings should be 1750\"\n",
    "\n",
    "test_api1()"
   ]
  },
  {
   "cell_type": "code",
   "execution_count": 6,
   "metadata": {},
   "outputs": [],
   "source": [
    "def test_api2():\n",
    "    correct = [('hurdle_100m', 'Gold'), \n",
    "               ('hurdle_400m', 'Silver'), \n",
    "               ('foot_100m', 'Bronze'), \n",
    "               ('foot_50m', 'Bronze'), \n",
    "               ('foot_500m', 'No Placement')]\n",
    "    runner = Competition()\n",
    "    runner.hurdle_100m = Medal.Gold\n",
    "    runner.hurdle_400m = Medal.Silver\n",
    "    runner.foot_50m = Medal.Bronze\n",
    "    runner.foot_100m = Medal.Bronze\n",
    "    assert runner.medals() == correct, f\"Should be: {correct}\"\n",
    "\n",
    "test_api2()"
   ]
  },
  {
   "cell_type": "code",
   "execution_count": 7,
   "metadata": {},
   "outputs": [],
   "source": [
    "def test_api3():\n",
    "    correct = [('foot_100m', 'Gold'),\n",
    "               ('hurdle_100m', 'Gold'),\n",
    "               ('hurdle_400m', 'Silver'),\n",
    "               ('foot_500m', 'No Placement'),\n",
    "               ('foot_50m', 'No Placement')]\n",
    "    runner = Competition()\n",
    "    runner.hurdle_100m = Medal.Gold\n",
    "    runner.hurdle_400m = Medal.Silver\n",
    "    runner.foot_100m = Medal.Gold\n",
    "    assert runner.medals() == correct, f\"Should be: {correct}\"\n",
    "\n",
    "test_api3()"
   ]
  }
 ],
 "metadata": {
  "kernelspec": {
   "display_name": "Python 3",
   "language": "python",
   "name": "python3"
  },
  "language_info": {
   "codemirror_mode": {
    "name": "ipython",
    "version": 3
   },
   "file_extension": ".py",
   "mimetype": "text/x-python",
   "name": "python",
   "nbconvert_exporter": "python",
   "pygments_lexer": "ipython3",
   "version": "3.8.5"
  }
 },
 "nbformat": 4,
 "nbformat_minor": 4
}
