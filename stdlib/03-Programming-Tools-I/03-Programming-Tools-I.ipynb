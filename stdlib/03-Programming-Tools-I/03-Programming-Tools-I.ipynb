{
 "cells": [
  {
   "cell_type": "markdown",
   "metadata": {
    "slideshow": {
     "slide_type": "slide"
    }
   },
   "source": [
    "# Programming Tools I\n",
    "\n",
    "In this lesson and the next, we look at a variety of standard library modules that generically aid in programming tasks.  Of course, in some way, all modules should do that.  But the three modules we look at in this lesson all deal with structuring data in generic ways that are not restricted to any particular domain or task."
   ]
  },
  {
   "cell_type": "markdown",
   "metadata": {
    "slideshow": {
     "slide_type": "fragment"
    }
   },
   "source": [
    "We will structure this lesson from narrowest to broadest, in a sense.  That is, the modules `enum` and `dataclasses` each contain a single basic data structure.  The `collections` module contains an assortment of different data structures.  These are separate for historical reasons, but you can easily think of enums and dataclasses as kinds of collections."
   ]
  },
  {
   "cell_type": "markdown",
   "metadata": {
    "slideshow": {
     "slide_type": "subslide"
    }
   },
   "source": [
    "Let us load everything we will use at the start."
   ]
  },
  {
   "cell_type": "code",
   "execution_count": 1,
   "metadata": {
    "slideshow": {
     "slide_type": "fragment"
    }
   },
   "outputs": [],
   "source": [
    "from enum import Enum, auto\n",
    "from dataclasses import *\n",
    "from collections import *\n",
    "\n",
    "from IPython.display import HTML\n",
    "from random import randrange\n",
    "from pprint import pprint"
   ]
  },
  {
   "cell_type": "markdown",
   "metadata": {
    "slideshow": {
     "slide_type": "slide"
    }
   },
   "source": [
    "## Module: enum\n",
    "\n",
    "Enumerations are available in a variety of programming languages.  The idea of collecting together distinct values, used for a common purpose, is widely useful.  The `enum` module has been part of Python for several versions, but is recent compared to some others.  Prior to that, typically global \"constants\" were used."
   ]
  },
  {
   "cell_type": "code",
   "execution_count": 2,
   "metadata": {
    "slideshow": {
     "slide_type": "fragment"
    }
   },
   "outputs": [],
   "source": [
    "# Define color constants\n",
    "RED, GREEN, BLUE = 1, 2, 3\n",
    "\n",
    "def show_bar(value=1, color=None):\n",
    "    colors = {RED:'red', BLUE:'blue', GREEN:'green'}\n",
    "    _color = colors.get(color, 'black')\n",
    "    s = (\"❓\" if _color==\"black\" else '◉') * value\n",
    "    return HTML(f\"<font color={_color}>{s}</font>\")"
   ]
  },
  {
   "cell_type": "code",
   "execution_count": 3,
   "metadata": {
    "slideshow": {
     "slide_type": "subslide"
    }
   },
   "outputs": [
    {
     "data": {
      "text/html": [
       "<font color=green>◉◉◉◉◉◉◉◉◉◉◉◉</font>"
      ],
      "text/plain": [
       "<IPython.core.display.HTML object>"
      ]
     },
     "execution_count": 3,
     "metadata": {},
     "output_type": "execute_result"
    }
   ],
   "source": [
    "show_bar(12, GREEN)"
   ]
  },
  {
   "cell_type": "code",
   "execution_count": 4,
   "metadata": {
    "slideshow": {
     "slide_type": "fragment"
    }
   },
   "outputs": [
    {
     "data": {
      "text/html": [
       "<font color=red>◉◉◉◉◉◉◉</font>"
      ],
      "text/plain": [
       "<IPython.core.display.HTML object>"
      ]
     },
     "execution_count": 4,
     "metadata": {},
     "output_type": "execute_result"
    }
   ],
   "source": [
    "show_bar(7, RED)"
   ]
  },
  {
   "cell_type": "code",
   "execution_count": 5,
   "metadata": {
    "slideshow": {
     "slide_type": "fragment"
    }
   },
   "outputs": [
    {
     "data": {
      "text/html": [
       "<font color=black>❓❓❓❓❓❓❓❓❓❓❓❓❓❓❓</font>"
      ],
      "text/plain": [
       "<IPython.core.display.HTML object>"
      ]
     },
     "execution_count": 5,
     "metadata": {},
     "output_type": "execute_result"
    }
   ],
   "source": [
    "CHARTREUSE, PURPLE = 4, 5\n",
    "show_bar(15, color=PURPLE)"
   ]
  },
  {
   "cell_type": "code",
   "execution_count": 6,
   "metadata": {
    "slideshow": {
     "slide_type": "fragment"
    }
   },
   "outputs": [
    {
     "data": {
      "text/html": [
       "<font color=blue>◉</font>"
      ],
      "text/plain": [
       "<IPython.core.display.HTML object>"
      ]
     },
     "execution_count": 6,
     "metadata": {},
     "output_type": "execute_result"
    }
   ],
   "source": [
    "show_bar(color=BLUE)"
   ]
  },
  {
   "cell_type": "markdown",
   "metadata": {
    "slideshow": {
     "slide_type": "subslide"
    }
   },
   "source": [
    "Generally his works fine, and you will probably come across existing code that looks roughly like the above.  However, we are missing a couple things:\n",
    "\n",
    "* We have no way to determine the list of all colors\n",
    "* The domain or purpose of constants is not unified"
   ]
  },
  {
   "cell_type": "code",
   "execution_count": 7,
   "metadata": {
    "slideshow": {
     "slide_type": "fragment"
    }
   },
   "outputs": [
    {
     "data": {
      "text/html": [
       "<font color=blue>◉◉◉◉◉◉◉◉◉◉◉◉◉◉◉◉◉◉◉◉◉◉</font>"
      ],
      "text/plain": [
       "<IPython.core.display.HTML object>"
      ]
     },
     "execution_count": 7,
     "metadata": {},
     "output_type": "execute_result"
    }
   ],
   "source": [
    "# Constants for a different domain\n",
    "HEIGHT, WIDTH, DEPTH = 1, 2, 3\n",
    "show_bar(22, DEPTH)"
   ]
  },
  {
   "cell_type": "markdown",
   "metadata": {
    "slideshow": {
     "slide_type": "subslide"
    }
   },
   "source": [
    "We might reformulate this function slightly to use a more self-documenting and inspectible enumeration."
   ]
  },
  {
   "cell_type": "code",
   "execution_count": 8,
   "metadata": {
    "slideshow": {
     "slide_type": "fragment"
    }
   },
   "outputs": [],
   "source": [
    "Colors = Enum(\"Color\", \"RED GREEN BLUE\")\n",
    "\n",
    "def show_bar(value=1, color=None):\n",
    "    colors = {Colors.RED:'red', Colors.BLUE:'blue', Colors.GREEN:'green'}\n",
    "    _color = colors.get(color, 'black')\n",
    "    s = (\"❓\" if _color==\"black\" else '◉') * value\n",
    "    return HTML(f\"<font color={_color}>{s}</font>\")"
   ]
  },
  {
   "cell_type": "code",
   "execution_count": 9,
   "metadata": {
    "slideshow": {
     "slide_type": "subslide"
    }
   },
   "outputs": [
    {
     "data": {
      "text/plain": [
       "[<Color.RED: 1>, <Color.GREEN: 2>, <Color.BLUE: 3>]"
      ]
     },
     "execution_count": 9,
     "metadata": {},
     "output_type": "execute_result"
    }
   ],
   "source": [
    "list(Colors)"
   ]
  },
  {
   "cell_type": "code",
   "execution_count": 10,
   "metadata": {
    "slideshow": {
     "slide_type": "fragment"
    }
   },
   "outputs": [
    {
     "name": "stdout",
     "output_type": "stream",
     "text": [
      "Color.RED\n",
      "Color.GREEN\n",
      "Color.BLUE\n"
     ]
    }
   ],
   "source": [
    "for color in Colors:\n",
    "    print(color)"
   ]
  },
  {
   "cell_type": "code",
   "execution_count": 11,
   "metadata": {
    "slideshow": {
     "slide_type": "fragment"
    }
   },
   "outputs": [
    {
     "name": "stdout",
     "output_type": "stream",
     "text": [
      "Color.GREEN\n",
      "2\n"
     ]
    },
    {
     "data": {
      "text/plain": [
       "True"
      ]
     },
     "execution_count": 11,
     "metadata": {},
     "output_type": "execute_result"
    }
   ],
   "source": [
    "print(Colors.GREEN)\n",
    "print(Colors.GREEN.value)\n",
    "Colors.GREEN.value == 2"
   ]
  },
  {
   "cell_type": "code",
   "execution_count": 12,
   "metadata": {
    "slideshow": {
     "slide_type": "subslide"
    }
   },
   "outputs": [
    {
     "data": {
      "text/html": [
       "<font color=green>◉◉◉◉◉◉◉◉◉◉◉◉◉◉◉</font>"
      ],
      "text/plain": [
       "<IPython.core.display.HTML object>"
      ]
     },
     "execution_count": 12,
     "metadata": {},
     "output_type": "execute_result"
    }
   ],
   "source": [
    "show_bar(15, Colors.GREEN)"
   ]
  },
  {
   "cell_type": "code",
   "execution_count": 13,
   "metadata": {
    "slideshow": {
     "slide_type": "fragment"
    }
   },
   "outputs": [
    {
     "name": "stdout",
     "output_type": "stream",
     "text": [
      "GREEN=2\n"
     ]
    },
    {
     "data": {
      "text/html": [
       "<font color=black>❓❓❓❓❓❓❓❓❓❓❓❓</font>"
      ],
      "text/plain": [
       "<IPython.core.display.HTML object>"
      ]
     },
     "execution_count": 13,
     "metadata": {},
     "output_type": "execute_result"
    }
   ],
   "source": [
    "print(f\"{GREEN=}\")\n",
    "show_bar(12, GREEN)"
   ]
  },
  {
   "cell_type": "code",
   "execution_count": 14,
   "metadata": {
    "slideshow": {
     "slide_type": "fragment"
    }
   },
   "outputs": [
    {
     "name": "stdout",
     "output_type": "stream",
     "text": [
      "[<Dimension.HEIGHT: 1>, <Dimension.WIDTH: 2>, <Dimension.DEPTH: 3>]\n"
     ]
    },
    {
     "data": {
      "text/html": [
       "<font color=black>❓❓❓❓❓❓❓❓❓❓❓❓❓❓❓❓❓❓❓❓</font>"
      ],
      "text/plain": [
       "<IPython.core.display.HTML object>"
      ]
     },
     "execution_count": 14,
     "metadata": {},
     "output_type": "execute_result"
    }
   ],
   "source": [
    "Dims = Enum(\"Dimension\", \"HEIGHT WIDTH DEPTH\")\n",
    "print(list(Dims))\n",
    "show_bar(20, Dims.WIDTH)"
   ]
  },
  {
   "cell_type": "markdown",
   "metadata": {
    "slideshow": {
     "slide_type": "subslide"
    }
   },
   "source": [
    "We can define an enumeration more verbosely to get some extra capabilities."
   ]
  },
  {
   "cell_type": "code",
   "execution_count": 15,
   "metadata": {
    "slideshow": {
     "slide_type": "fragment"
    }
   },
   "outputs": [],
   "source": [
    "class Colors(Enum):\n",
    "    RED = 1\n",
    "    GREEN = 2\n",
    "    BLUE = auto() # Pick value for me\n",
    "    SCARLET = RED # A synonym for RED\n",
    "    VERDANT = 2   # A synoynm for GREEN\n",
    "    \n",
    "    def __str__(self):\n",
    "        return f\"The color {self.name} has value {self.value}\"\n",
    "    \n",
    "    @classmethod\n",
    "    def favorite(cls):\n",
    "        from random import choice\n",
    "        return choice(list(cls)).name"
   ]
  },
  {
   "cell_type": "code",
   "execution_count": 16,
   "metadata": {
    "slideshow": {
     "slide_type": "subslide"
    }
   },
   "outputs": [
    {
     "name": "stdout",
     "output_type": "stream",
     "text": [
      "The color BLUE has value 3\n"
     ]
    }
   ],
   "source": [
    "print(Colors.BLUE)"
   ]
  },
  {
   "cell_type": "code",
   "execution_count": 17,
   "metadata": {
    "slideshow": {
     "slide_type": "fragment"
    }
   },
   "outputs": [
    {
     "name": "stdout",
     "output_type": "stream",
     "text": [
      "My favorite is BLUE\n",
      "...wait, no it's GREEN\n"
     ]
    }
   ],
   "source": [
    "print(\"My favorite is\", Colors.favorite())\n",
    "print(\"...wait, no it's\", Colors.favorite())"
   ]
  },
  {
   "cell_type": "code",
   "execution_count": 18,
   "metadata": {
    "slideshow": {
     "slide_type": "fragment"
    }
   },
   "outputs": [
    {
     "name": "stdout",
     "output_type": "stream",
     "text": [
      "The color RED has value 1\n"
     ]
    }
   ],
   "source": [
    "print(Colors.SCARLET)"
   ]
  },
  {
   "cell_type": "markdown",
   "metadata": {
    "slideshow": {
     "slide_type": "subslide"
    }
   },
   "source": [
    "If you wish to do something with the values of enumeration elements beyond distinguishing them, they can have arbitrary values and work the same."
   ]
  },
  {
   "cell_type": "code",
   "execution_count": 19,
   "metadata": {
    "slideshow": {
     "slide_type": "fragment"
    }
   },
   "outputs": [],
   "source": [
    "class Colors(Enum):\n",
    "    RED = \"Stop!\"\n",
    "    GREEN = \"Go\"\n",
    "    YELLOW = \"Yield\""
   ]
  },
  {
   "cell_type": "code",
   "execution_count": 20,
   "metadata": {
    "slideshow": {
     "slide_type": "fragment"
    }
   },
   "outputs": [
    {
     "data": {
      "text/plain": [
       "[<Colors.RED: 'Stop!'>, <Colors.GREEN: 'Go'>, <Colors.YELLOW: 'Yield'>]"
      ]
     },
     "execution_count": 20,
     "metadata": {},
     "output_type": "execute_result"
    }
   ],
   "source": [
    "list(Colors)"
   ]
  },
  {
   "cell_type": "code",
   "execution_count": 21,
   "metadata": {
    "slideshow": {
     "slide_type": "subslide"
    }
   },
   "outputs": [],
   "source": [
    "class Colors(Enum):\n",
    "    RED = \"#AA2222\"\n",
    "    GREEN = \"#11DD33\"\n",
    "    BLUE = \"#2222AA\"\n",
    "\n",
    "def show_bar(value, color):\n",
    "    return HTML(f\"<font color={color.value}>{'◉'*value}</font>\")"
   ]
  },
  {
   "cell_type": "code",
   "execution_count": 22,
   "metadata": {
    "slideshow": {
     "slide_type": "fragment"
    }
   },
   "outputs": [
    {
     "data": {
      "text/html": [
       "<font color=#2222AA>◉◉◉◉◉◉◉◉◉◉◉◉◉◉◉◉◉◉◉◉◉◉◉◉</font>"
      ],
      "text/plain": [
       "<IPython.core.display.HTML object>"
      ]
     },
     "execution_count": 22,
     "metadata": {},
     "output_type": "execute_result"
    }
   ],
   "source": [
    "show_bar(24, Colors.BLUE)"
   ]
  },
  {
   "cell_type": "code",
   "execution_count": 23,
   "metadata": {
    "slideshow": {
     "slide_type": "fragment"
    }
   },
   "outputs": [
    {
     "data": {
      "text/html": [
       "<font color=#AA2222>◉◉◉◉◉◉◉◉◉◉◉◉◉◉◉◉◉◉</font>"
      ],
      "text/plain": [
       "<IPython.core.display.HTML object>"
      ]
     },
     "execution_count": 23,
     "metadata": {},
     "output_type": "execute_result"
    }
   ],
   "source": [
    "show_bar(18, Colors.RED)"
   ]
  },
  {
   "cell_type": "markdown",
   "metadata": {
    "slideshow": {
     "slide_type": "slide"
    }
   },
   "source": [
    "## Module: dataclasses\n",
    "\n",
    "A Data Class collects together related information.  It somewhat resembles a dictionary in having fields and values; but it is limited to fixed fields that cannot be removed or added to.  The values can be changed.  \n",
    "\n",
    "A Data Class also resembles a namedtuple that we will look at in `collections` module.  However, a Data Class is mutable, and attribute values can be modified with a program."
   ]
  },
  {
   "cell_type": "code",
   "execution_count": 24,
   "metadata": {
    "slideshow": {
     "slide_type": "fragment"
    }
   },
   "outputs": [],
   "source": [
    "Printer = make_dataclass(\"Printer\", [\"Height\", \"Width\", \"Depth\", \"Weight\"])"
   ]
  },
  {
   "cell_type": "code",
   "execution_count": 25,
   "metadata": {
    "slideshow": {
     "slide_type": "fragment"
    }
   },
   "outputs": [
    {
     "name": "stdout",
     "output_type": "stream",
     "text": [
      "Printer(Height=460, Width=460, Depth=493, Weight=29)\n",
      "Printer(Height=145, Width=464, Depth=385, Weight=5.1)\n"
     ]
    }
   ],
   "source": [
    "p1 = Printer(Width=460, Depth=493, Height=460, Weight=29)\n",
    "p2 = Printer(Width=464, Depth=385, Height=145, Weight=5.1)\n",
    "print(p1, p2, sep='\\n')"
   ]
  },
  {
   "cell_type": "code",
   "execution_count": 26,
   "metadata": {
    "slideshow": {
     "slide_type": "subslide"
    }
   },
   "outputs": [
    {
     "name": "stdout",
     "output_type": "stream",
     "text": [
      "p1 and p2 have same attributes? False\n",
      "Printer(Height=145, Width=464, Depth=385, Weight=7.2)\n",
      "Printer(Height=145, Width=464, Depth=385, Weight=5.1)\n",
      "p2 and p3 have same attributes? True\n"
     ]
    }
   ],
   "source": [
    "# Comparisons\n",
    "print(\"p1 and p2 have same attributes?\", p1 == p2)\n",
    "\n",
    "p3 = Printer(Width=464, Depth=385, Height=145, Weight=7.2)\n",
    "print(p3)\n",
    "p3.Weight = 5.1  # Update information\n",
    "print(p3)\n",
    "\n",
    "print(\"p2 and p3 have same attributes?\", p2 == p3)"
   ]
  },
  {
   "cell_type": "code",
   "execution_count": 27,
   "metadata": {
    "slideshow": {
     "slide_type": "fragment"
    }
   },
   "outputs": [
    {
     "name": "stdout",
     "output_type": "stream",
     "text": [
      "'>' not supported between instances of 'Printer' and 'Printer'\n"
     ]
    }
   ],
   "source": [
    "# Dimension comparisons are not directly meaningful.\n",
    "try:\n",
    "    print(\"Is p1 'more than' p2?\", p1 > p2)\n",
    "except Exception as err:\n",
    "    print(err)"
   ]
  },
  {
   "cell_type": "code",
   "execution_count": 28,
   "metadata": {
    "slideshow": {
     "slide_type": "fragment"
    }
   },
   "outputs": [
    {
     "name": "stdout",
     "output_type": "stream",
     "text": [
      "Is p1 is heavier than p2? True\n"
     ]
    }
   ],
   "source": [
    "# Individual attributes might be comparable    \n",
    "print(\"Is p1 is heavier than p2?\", p1.Weight > p2.Weight)"
   ]
  },
  {
   "cell_type": "markdown",
   "metadata": {
    "slideshow": {
     "slide_type": "subslide"
    }
   },
   "source": [
    "However, different Data Classes that happen to have the same attributes remain different."
   ]
  },
  {
   "cell_type": "code",
   "execution_count": 29,
   "metadata": {
    "slideshow": {
     "slide_type": "fragment"
    }
   },
   "outputs": [
    {
     "data": {
      "text/plain": [
       "Breadbox(Height=145, Width=464, Depth=385, Weight=5.1)"
      ]
     },
     "execution_count": 29,
     "metadata": {},
     "output_type": "execute_result"
    }
   ],
   "source": [
    "Breadbox = make_dataclass(\"Breadbox\", [\"Height\", \"Width\", \"Depth\", \"Weight\"])\n",
    "bb = Breadbox(Width=464, Depth=385, Height=145, Weight=5.1)\n",
    "bb"
   ]
  },
  {
   "cell_type": "code",
   "execution_count": 30,
   "metadata": {
    "slideshow": {
     "slide_type": "fragment"
    }
   },
   "outputs": [
    {
     "name": "stdout",
     "output_type": "stream",
     "text": [
      "Are bb and p2 equivalent? False\n"
     ]
    }
   ],
   "source": [
    "print(\"Are bb and p2 equivalent?\", bb == p2)"
   ]
  },
  {
   "cell_type": "markdown",
   "metadata": {
    "slideshow": {
     "slide_type": "subslide"
    }
   },
   "source": [
    "The `dataclasses` module contains functions to manipulate Data Classes.  Notice that these are functions, not methods on the actual object."
   ]
  },
  {
   "cell_type": "code",
   "execution_count": 31,
   "metadata": {
    "slideshow": {
     "slide_type": "fragment"
    }
   },
   "outputs": [
    {
     "name": "stdout",
     "output_type": "stream",
     "text": [
      "{'Height': 145, 'Width': 464, 'Depth': 385, 'Weight': 5.1}\n"
     ]
    }
   ],
   "source": [
    "# We can simplify a dataclass to a dictionary\n",
    "print(asdict(bb))"
   ]
  },
  {
   "cell_type": "code",
   "execution_count": 32,
   "metadata": {
    "slideshow": {
     "slide_type": "fragment"
    }
   },
   "outputs": [
    {
     "name": "stdout",
     "output_type": "stream",
     "text": [
      "(145, 464, 385, 5.1)\n"
     ]
    }
   ],
   "source": [
    "# Or as a tuple.  Order is as defined, not as initialized\n",
    "print(astuple(bb))"
   ]
  },
  {
   "cell_type": "code",
   "execution_count": 33,
   "metadata": {
    "slideshow": {
     "slide_type": "fragment"
    }
   },
   "outputs": [
    {
     "data": {
      "text/plain": [
       "True"
      ]
     },
     "execution_count": 33,
     "metadata": {},
     "output_type": "execute_result"
    }
   ],
   "source": [
    "# Disregarding type, the fields/values are the same\n",
    "asdict(bb) == asdict(p2)"
   ]
  },
  {
   "cell_type": "markdown",
   "metadata": {
    "slideshow": {
     "slide_type": "subslide"
    }
   },
   "source": [
    "An interesting thing about Data Classes is that they are dynamically created types.  There is no \"dataclass\" type that all Data Classes belong to.  The special function `is_dataclass()` will answer whether a class or instance is a Data Class."
   ]
  },
  {
   "cell_type": "code",
   "execution_count": 34,
   "metadata": {
    "slideshow": {
     "slide_type": "fragment"
    }
   },
   "outputs": [
    {
     "data": {
      "text/plain": [
       "(types.Breadbox, True, True)"
      ]
     },
     "execution_count": 34,
     "metadata": {},
     "output_type": "execute_result"
    }
   ],
   "source": [
    "type(bb), is_dataclass(bb), is_dataclass(Breadbox)"
   ]
  },
  {
   "cell_type": "markdown",
   "metadata": {
    "slideshow": {
     "slide_type": "subslide"
    }
   },
   "source": [
    "### Class definitions\n",
    "\n",
    "As with enumerations, you can customize Data Classes by writing class definitions rather than using the class factory `make_dataclass`.  For technical reasons, this needs to be done with a decorator rather than by inheritance, in this case."
   ]
  },
  {
   "cell_type": "code",
   "execution_count": 35,
   "metadata": {
    "slideshow": {
     "slide_type": "fragment"
    }
   },
   "outputs": [],
   "source": [
    "@dataclass\n",
    "class Kitty:\n",
    "    Width: int      # Integer length in mm\n",
    "    Depth: int\n",
    "    Weight: float   # Float weight in kg\n",
    "    Height: int = 460  \n",
    "    \n",
    "    @staticmethod\n",
    "    def density(obj):\n",
    "        return obj.Weight / (obj.Height * obj.Width * obj.Depth)\n",
    "    \n",
    "    def denser_than(self, other):\n",
    "        if not isinstance(other, (Kitty, Breadbox)):\n",
    "            raise ValueError(\"Kitties are incommensurable with \"\n",
    "                             f\"{other.__class__.__name__}s\")\n",
    "        # Simplifying assumption: cats are rectangular cylinders\n",
    "        return self.density(self) > self.density(other)"
   ]
  },
  {
   "cell_type": "code",
   "execution_count": 36,
   "metadata": {
    "slideshow": {
     "slide_type": "subslide"
    }
   },
   "outputs": [
    {
     "data": {
      "text/plain": [
       "Kitty(Width=180, Depth=280, Weight=6.8, Height=460)"
      ]
     },
     "execution_count": 36,
     "metadata": {},
     "output_type": "execute_result"
    }
   ],
   "source": [
    "astrophe = Kitty(Width=180, Depth=280, Weight=6.8)\n",
    "kachina = Kitty(Width=185, Depth=260, Height=450, Weight=6.3)\n",
    "astrophe"
   ]
  },
  {
   "cell_type": "code",
   "execution_count": 37,
   "metadata": {
    "slideshow": {
     "slide_type": "fragment"
    }
   },
   "outputs": [
    {
     "name": "stdout",
     "output_type": "stream",
     "text": [
      "Astrophe denser than Kachina? True\n",
      "Astrophe density kg/mm^3: 2.93e-07\n",
      "Kachina density kg/mm^3:  2.91e-07\n"
     ]
    }
   ],
   "source": [
    "print(\"Astrophe denser than Kachina?\", astrophe.denser_than(kachina))\n",
    "print(f\"Astrophe density kg/mm^3: {Kitty.density(astrophe):.2e}\")\n",
    "print(f\"Kachina density kg/mm^3:  {Kitty.density(kachina):.2e}\")"
   ]
  },
  {
   "cell_type": "markdown",
   "metadata": {
    "slideshow": {
     "slide_type": "subslide"
    }
   },
   "source": [
    "Comparing to other things depends on the method knowing how to handle it."
   ]
  },
  {
   "cell_type": "code",
   "execution_count": 38,
   "metadata": {
    "slideshow": {
     "slide_type": "fragment"
    }
   },
   "outputs": [
    {
     "name": "stdout",
     "output_type": "stream",
     "text": [
      "Astrophe denser than a breadbox? True\n"
     ]
    }
   ],
   "source": [
    "# Most things can be compared to a breadbox\n",
    "print(\"Astrophe denser than a breadbox?\", astrophe.denser_than(bb))"
   ]
  },
  {
   "cell_type": "code",
   "execution_count": 39,
   "metadata": {
    "slideshow": {
     "slide_type": "fragment"
    }
   },
   "outputs": [
    {
     "name": "stdout",
     "output_type": "stream",
     "text": [
      "Kitties are incommensurable with Printers\n"
     ]
    }
   ],
   "source": [
    "# Printers are not such a common reference\n",
    "try:\n",
    "    astrophe.denser_than(p1)\n",
    "except Exception as err:\n",
    "    print(err)"
   ]
  },
  {
   "cell_type": "markdown",
   "metadata": {
    "slideshow": {
     "slide_type": "slide"
    }
   },
   "source": [
    "## Module: collections\n",
    "\n",
    "The module `collections` extends the built-in Python data structures of `tuple`, `list`, `set`, and `dict` in a number of useful ways.  The module `queue` also contains data structures that are thread safe, but the course on Concurrency discusses that."
   ]
  },
  {
   "cell_type": "markdown",
   "metadata": {
    "slideshow": {
     "slide_type": "fragment"
    }
   },
   "source": [
    "This course will not discuss everything in the `colletions` module.  For example, `UserDict`, `UserList`, and `UserString` are largely historical, since it was formerly not possible to subclass directly from `dict`, `list`, and `string`.  `OrderedDict` is partially superceded by `dict` maintaining insertion order in current Python.  The class `defaultdict` remains useful at times, but is skipped for time constraints of this course."
   ]
  },
  {
   "cell_type": "markdown",
   "metadata": {
    "slideshow": {
     "slide_type": "subslide"
    }
   },
   "source": [
    "### namedtuple\n",
    "\n",
    "A `namedtuple` is a subclass of `tuple` that adds names to its elements.  In some ways it is akin to an enumeration, and in other ways to a Data Class.  However, this structure is older than either of those in Python development, and remains very useful. \n",
    "\n",
    "For an example, let us work with RGB colors in somewhat different way than we did with enumerations and Data Classes, but a plausible need."
   ]
  },
  {
   "cell_type": "code",
   "execution_count": 40,
   "metadata": {
    "slideshow": {
     "slide_type": "fragment"
    }
   },
   "outputs": [
    {
     "data": {
      "text/plain": [
       "Color(red=46, green=139, blue=87)"
      ]
     },
     "execution_count": 40,
     "metadata": {},
     "output_type": "execute_result"
    }
   ],
   "source": [
    "RGB = namedtuple(\"Color\", \"red green blue\")\n",
    "\n",
    "salmon = RGB(250, 128, 114)\n",
    "lavender = RGB(230, 230, 250)\n",
    "seagreen = RGB(46, 139, 87)\n",
    "indianred = RGB(205, 92, 92)\n",
    "\n",
    "seagreen"
   ]
  },
  {
   "cell_type": "markdown",
   "metadata": {
    "slideshow": {
     "slide_type": "subslide"
    }
   },
   "source": [
    "A variation on the `show_bar()` function will utilize color tuples."
   ]
  },
  {
   "cell_type": "code",
   "execution_count": 41,
   "metadata": {
    "slideshow": {
     "slide_type": "fragment"
    }
   },
   "outputs": [],
   "source": [
    "def show_bar(value, color):\n",
    "    cstr = \"#%x%x%x\" % color\n",
    "    return HTML(f\"<font color={cstr}>{'◉'*value}</font>\")"
   ]
  },
  {
   "cell_type": "code",
   "execution_count": 42,
   "metadata": {
    "slideshow": {
     "slide_type": "subslide"
    }
   },
   "outputs": [
    {
     "data": {
      "text/html": [
       "<font color=#fa8072>◉◉◉◉◉◉◉◉◉◉◉◉◉◉◉◉◉◉◉</font>"
      ],
      "text/plain": [
       "<IPython.core.display.HTML object>"
      ]
     },
     "execution_count": 42,
     "metadata": {},
     "output_type": "execute_result"
    }
   ],
   "source": [
    "show_bar(19, salmon)"
   ]
  },
  {
   "cell_type": "code",
   "execution_count": 43,
   "metadata": {
    "slideshow": {
     "slide_type": "fragment"
    }
   },
   "outputs": [
    {
     "data": {
      "text/html": [
       "<font color=#cd5c5c>◉◉◉◉◉◉◉◉◉◉◉◉◉◉◉◉◉◉◉◉◉</font>"
      ],
      "text/plain": [
       "<IPython.core.display.HTML object>"
      ]
     },
     "execution_count": 43,
     "metadata": {},
     "output_type": "execute_result"
    }
   ],
   "source": [
    "show_bar(21, indianred)"
   ]
  },
  {
   "cell_type": "code",
   "execution_count": 44,
   "metadata": {
    "slideshow": {
     "slide_type": "fragment"
    }
   },
   "outputs": [
    {
     "data": {
      "text/html": [
       "<font color=#dc54a8>◉◉◉◉◉◉◉◉◉◉◉◉◉◉◉◉◉◉◉◉◉◉◉◉◉</font>"
      ],
      "text/plain": [
       "<IPython.core.display.HTML object>"
      ]
     },
     "execution_count": 44,
     "metadata": {},
     "output_type": "execute_result"
    }
   ],
   "source": [
    "# A plain tuple works also\n",
    "show_bar(25, (220, 84, 168))"
   ]
  },
  {
   "cell_type": "markdown",
   "metadata": {
    "slideshow": {
     "slide_type": "subslide"
    }
   },
   "source": [
    "Attributes are more mnemonic than the raw positions.  Either style of access is equivalent."
   ]
  },
  {
   "cell_type": "code",
   "execution_count": 45,
   "metadata": {
    "slideshow": {
     "slide_type": "fragment"
    }
   },
   "outputs": [
    {
     "data": {
      "text/plain": [
       "(128, 128)"
      ]
     },
     "execution_count": 45,
     "metadata": {},
     "output_type": "execute_result"
    }
   ],
   "source": [
    "salmon.green, salmon[1]"
   ]
  },
  {
   "cell_type": "code",
   "execution_count": 46,
   "metadata": {
    "slideshow": {
     "slide_type": "fragment"
    }
   },
   "outputs": [
    {
     "name": "stdout",
     "output_type": "stream",
     "text": [
      "Is Indian Red more 'red' than is Salmon?\n"
     ]
    },
    {
     "data": {
      "text/plain": [
       "False"
      ]
     },
     "execution_count": 46,
     "metadata": {},
     "output_type": "execute_result"
    }
   ],
   "source": [
    "# Which color contains more of a red component?\n",
    "print(\"Is Indian Red more 'red' than is Salmon?\")\n",
    "indianred.red > salmon.red"
   ]
  },
  {
   "cell_type": "markdown",
   "metadata": {
    "slideshow": {
     "slide_type": "subslide"
    }
   },
   "source": [
    "### deque\n",
    "\n",
    "A `deque` is a data structure that has mostly the same API as a `list` but in which it is computationally cheap to add or remove items from either end.  In a list, it is cheap to add or remove items from the end, but not from the beginning. Let us first quickly prove that `list` can be inefficient for the add/remove from beginning operation."
   ]
  },
  {
   "cell_type": "code",
   "execution_count": 47,
   "metadata": {
    "slideshow": {
     "slide_type": "fragment"
    }
   },
   "outputs": [],
   "source": [
    "def remove_to_set(mylist, end=\"right\"):\n",
    "    myset = set()\n",
    "    ndx = -1 if end==\"right\" else 0\n",
    "    while mylist:\n",
    "        myset.add(mylist.pop(ndx))\n",
    "    return myset"
   ]
  },
  {
   "cell_type": "markdown",
   "metadata": {
    "slideshow": {
     "slide_type": "subslide"
    }
   },
   "source": [
    "We can time a couple operations for comparison.  Both have an overhead of the set operations,so this is not the most extreme comparison."
   ]
  },
  {
   "cell_type": "code",
   "execution_count": 48,
   "metadata": {
    "slideshow": {
     "slide_type": "fragment"
    }
   },
   "outputs": [
    {
     "name": "stdout",
     "output_type": "stream",
     "text": [
      "1000000 [33, 59, 19, 52, 59, 30, 29, 91, 32, 27]\n",
      "CPU times: user 89.2 ms, sys: 0 ns, total: 89.2 ms\n",
      "Wall time: 89.5 ms\n"
     ]
    }
   ],
   "source": [
    "mylist = [randrange(1, 100) for _ in range(1_000_000)]\n",
    "print(len(mylist), mylist[:10])\n",
    "%time myset = remove_to_set(mylist, end=\"right\")"
   ]
  },
  {
   "cell_type": "code",
   "execution_count": 49,
   "metadata": {
    "slideshow": {
     "slide_type": "fragment"
    }
   },
   "outputs": [
    {
     "name": "stdout",
     "output_type": "stream",
     "text": [
      "1000000 [49, 73, 70, 71, 20, 37, 89, 3, 90, 63]\n",
      "CPU times: user 3min 37s, sys: 55.3 ms, total: 3min 37s\n",
      "Wall time: 3min 38s\n"
     ]
    }
   ],
   "source": [
    "mylist = [randrange(1, 100) for _ in range(1_000_000)]\n",
    "print(len(mylist), mylist[:10])\n",
    "%time myset = remove_to_set(mylist, end=\"left\")"
   ]
  },
  {
   "cell_type": "markdown",
   "metadata": {
    "slideshow": {
     "slide_type": "subslide"
    }
   },
   "source": [
    "The example is contrived, but there are real-world scenarios where access from both ends is useful.  A `deque` simply adds an `.appendleft()` and a `.popleft()` method to a list (plus different internal structure).  However, `deque` does **not** directly support slicing, which is an inconvenience versus a list."
   ]
  },
  {
   "cell_type": "code",
   "execution_count": 50,
   "metadata": {
    "slideshow": {
     "slide_type": "fragment"
    }
   },
   "outputs": [
    {
     "name": "stdout",
     "output_type": "stream",
     "text": [
      "1000000 [75, 8, 59, 82, 50, 67, 76, 45, 45, 4]\n"
     ]
    }
   ],
   "source": [
    "mydeque = deque()\n",
    "for _ in range(1_000_000):\n",
    "    mydeque.appendleft(randrange(1, 100))\n",
    "    \n",
    "print(len(mydeque), [mydeque[i] for i in range(10)])"
   ]
  },
  {
   "cell_type": "code",
   "execution_count": 51,
   "metadata": {
    "slideshow": {
     "slide_type": "subslide"
    }
   },
   "outputs": [],
   "source": [
    "def remove_to_set(mydeque, end=\"right\"):\n",
    "    myset = set()\n",
    "    op = mydeque.pop if end==\"right\" else mydeque.popleft\n",
    "    while mydeque:\n",
    "        myset.add(op())\n",
    "    return myset"
   ]
  },
  {
   "cell_type": "code",
   "execution_count": 52,
   "metadata": {
    "slideshow": {
     "slide_type": "fragment"
    }
   },
   "outputs": [
    {
     "name": "stdout",
     "output_type": "stream",
     "text": [
      "CPU times: user 156 ms, sys: 0 ns, total: 156 ms\n",
      "Wall time: 154 ms\n"
     ]
    }
   ],
   "source": [
    "dqcopy = mydeque.copy()\n",
    "%time myset = remove_to_set(dqcopy, \"right\")"
   ]
  },
  {
   "cell_type": "code",
   "execution_count": 53,
   "metadata": {
    "slideshow": {
     "slide_type": "fragment"
    }
   },
   "outputs": [
    {
     "name": "stdout",
     "output_type": "stream",
     "text": [
      "CPU times: user 144 ms, sys: 0 ns, total: 144 ms\n",
      "Wall time: 147 ms\n"
     ]
    }
   ],
   "source": [
    "dqcopy = mydeque.copy()\n",
    "%time myset = remove_to_set(dqcopy, \"left\")"
   ]
  },
  {
   "cell_type": "markdown",
   "metadata": {
    "slideshow": {
     "slide_type": "subslide"
    }
   },
   "source": [
    "There are a few more special operations of deques.  We can `.reverse()` them (but likewise with lists).  We can `.rotate()` them.  We can also limit their length, with extra items simply \"falling off\" the opposite end."
   ]
  },
  {
   "cell_type": "code",
   "execution_count": 54,
   "metadata": {
    "slideshow": {
     "slide_type": "fragment"
    }
   },
   "outputs": [
    {
     "data": {
      "text/plain": [
       "deque([0, 1, 2, 3, 4, 5, 6, 7, 8, 9])"
      ]
     },
     "execution_count": 54,
     "metadata": {},
     "output_type": "execute_result"
    }
   ],
   "source": [
    "dq = deque(range(10))\n",
    "dq"
   ]
  },
  {
   "cell_type": "code",
   "execution_count": 55,
   "metadata": {
    "slideshow": {
     "slide_type": "fragment"
    }
   },
   "outputs": [
    {
     "data": {
      "text/plain": [
       "deque([9, 8, 7, 6, 5, 4, 3, 2, 1, 0])"
      ]
     },
     "execution_count": 55,
     "metadata": {},
     "output_type": "execute_result"
    }
   ],
   "source": [
    "dq.reverse()\n",
    "dq"
   ]
  },
  {
   "cell_type": "markdown",
   "metadata": {
    "slideshow": {
     "slide_type": "subslide"
    }
   },
   "source": [
    "A way of keeping track of only the \"recent\" events is to use a deque with limited size.  You can either `append()` or `appendleft()`—or whatever mixture suits your purpose—and the deque will never exceed the given size.  Items from the \"far\" end will simply be discarded.  Think of a stock trading algorithm that wants to remember \"the last 20 trades\", for example."
   ]
  },
  {
   "cell_type": "code",
   "execution_count": 56,
   "metadata": {
    "slideshow": {
     "slide_type": "fragment"
    }
   },
   "outputs": [
    {
     "name": "stdout",
     "output_type": "stream",
     "text": [
      "deque(['A'], maxlen=5)\n",
      "deque(['B', 'A'], maxlen=5)\n",
      "deque(['C', 'B', 'A'], maxlen=5)\n",
      "deque(['D', 'C', 'B', 'A'], maxlen=5)\n",
      "deque(['E', 'D', 'C', 'B', 'A'], maxlen=5)\n",
      "deque(['F', 'E', 'D', 'C', 'B'], maxlen=5)\n",
      "deque(['G', 'F', 'E', 'D', 'C'], maxlen=5)\n"
     ]
    }
   ],
   "source": [
    "last5 = deque(maxlen=5)  # Only store a few items\n",
    "for char in 'ABCDEFG':\n",
    "    last5.appendleft(char)\n",
    "    print(last5)"
   ]
  },
  {
   "cell_type": "markdown",
   "metadata": {
    "slideshow": {
     "slide_type": "subslide"
    }
   },
   "source": [
    "### ChainMap\n",
    "\n",
    "A `ChainMap` is a convenient way of combining multiple dictionaries or other mappings.  An advantage here is that it does not alter the component mappings; also it does not need to perform any copying, which can save time when using large dictionaries."
   ]
  },
  {
   "cell_type": "markdown",
   "metadata": {
    "slideshow": {
     "slide_type": "fragment"
    }
   },
   "source": [
    "A common scenario to use `ChainMap` is when multiple configuration files are read, and they may have overlapping keys.  In `ChainMap`, the **first** matching key wins."
   ]
  },
  {
   "cell_type": "code",
   "execution_count": 57,
   "metadata": {
    "slideshow": {
     "slide_type": "subslide"
    }
   },
   "outputs": [],
   "source": [
    "localcfg  = {'ipaddr': \"192.168.1.103\", 'port': 10_001}\n",
    "groupcfg  = {'ipaddr': \"192.168.2.100\", 'protocol': 'FooBarProtocol'}\n",
    "globalcfg = {'port': 10_002, 'protocol': 'BamService', 'servername': 'George'}\n",
    "allcfg = ChainMap(localcfg, groupcfg, globalcfg)"
   ]
  },
  {
   "cell_type": "code",
   "execution_count": 58,
   "metadata": {
    "slideshow": {
     "slide_type": "fragment"
    }
   },
   "outputs": [
    {
     "name": "stdout",
     "output_type": "stream",
     "text": [
      "ChainMap({'ipaddr': '192.168.1.103', 'port': 10001},\n",
      "         {'ipaddr': '192.168.2.100', 'protocol': 'FooBarProtocol'},\n",
      "         {'port': 10002, 'protocol': 'BamService', 'servername': 'George'})\n",
      "-----\n",
      "port 10001\n",
      "protocol FooBarProtocol\n",
      "servername George\n",
      "ipaddr 192.168.1.103\n"
     ]
    }
   ],
   "source": [
    "pprint(allcfg)\n",
    "print('-----')\n",
    "for key in allcfg.keys():\n",
    "    print(key, allcfg[key])"
   ]
  },
  {
   "cell_type": "markdown",
   "metadata": {
    "slideshow": {
     "slide_type": "subslide"
    }
   },
   "source": [
    "### Counter\n",
    "\n",
    "A `Counter` is a special kind of dictionary that increments the count of occurrences of a key.  It is also called in other literature a *multi-set*.  Let us look at a few simple examples, then a somewhat larger one."
   ]
  },
  {
   "cell_type": "code",
   "execution_count": 59,
   "metadata": {
    "slideshow": {
     "slide_type": "fragment"
    }
   },
   "outputs": [
    {
     "data": {
      "text/plain": [
       "Counter({'red': 2, 'blue': 3, 'green': 1})"
      ]
     },
     "execution_count": 59,
     "metadata": {},
     "output_type": "execute_result"
    }
   ],
   "source": [
    "# For each \"event\" add it to the count\n",
    "count = Counter()\n",
    "count.update(['red', 'blue', 'red', 'green', 'blue', 'blue'])\n",
    "count"
   ]
  },
  {
   "cell_type": "markdown",
   "metadata": {
    "slideshow": {
     "slide_type": "subslide"
    }
   },
   "source": [
    "We can iterate over each thin, repeated by occurrence count."
   ]
  },
  {
   "cell_type": "code",
   "execution_count": 60,
   "metadata": {
    "slideshow": {
     "slide_type": "fragment"
    }
   },
   "outputs": [
    {
     "name": "stdout",
     "output_type": "stream",
     "text": [
      "red red blue blue blue green "
     ]
    }
   ],
   "source": [
    "for word in count.elements():\n",
    "    print(word, end=' ')"
   ]
  },
  {
   "cell_type": "markdown",
   "metadata": {
    "slideshow": {
     "slide_type": "fragment"
    }
   },
   "source": [
    "Or update manually how many times something should be assigned to occur."
   ]
  },
  {
   "cell_type": "code",
   "execution_count": 61,
   "metadata": {
    "slideshow": {
     "slide_type": "fragment"
    }
   },
   "outputs": [
    {
     "data": {
      "text/plain": [
       "Counter({'red': 7, 'blue': 2, 'green': 1})"
      ]
     },
     "execution_count": 61,
     "metadata": {},
     "output_type": "execute_result"
    }
   ],
   "source": [
    "count['red'] += 5\n",
    "count['blue'] = 2\n",
    "count"
   ]
  },
  {
   "cell_type": "markdown",
   "metadata": {
    "slideshow": {
     "slide_type": "subslide"
    }
   },
   "source": [
    "A handy feature is that everything that has not be added has a count of zero."
   ]
  },
  {
   "cell_type": "code",
   "execution_count": 62,
   "metadata": {
    "slideshow": {
     "slide_type": "fragment"
    }
   },
   "outputs": [
    {
     "name": "stdout",
     "output_type": "stream",
     "text": [
      "Red things: 7\n",
      "Chartreuse: 0\n"
     ]
    }
   ],
   "source": [
    "print(\"Red things:\", count['red'])\n",
    "print(\"Chartreuse:\", count['chartreuse'])"
   ]
  },
  {
   "cell_type": "markdown",
   "metadata": {
    "slideshow": {
     "slide_type": "subslide"
    }
   },
   "source": [
    "We can remove as well.  Using the `-=` augmented assignment works like `+=`, but more commonly, you might \"unobserve\" some events.  Watch out for possible negative counts; they are useful for some purposes, and easy to exclude when not wanted.  The `.elements()` method only includes positive counts."
   ]
  },
  {
   "cell_type": "code",
   "execution_count": 63,
   "metadata": {
    "slideshow": {
     "slide_type": "fragment"
    }
   },
   "outputs": [
    {
     "data": {
      "text/plain": [
       "Counter({'red': 5, 'blue': 1, 'green': 1, 'chartreuse': -1})"
      ]
     },
     "execution_count": 63,
     "metadata": {},
     "output_type": "execute_result"
    }
   ],
   "source": [
    "count.subtract(['red', 'blue', 'red', 'chartreuse'])\n",
    "count"
   ]
  },
  {
   "cell_type": "code",
   "execution_count": 64,
   "metadata": {
    "slideshow": {
     "slide_type": "fragment"
    }
   },
   "outputs": [
    {
     "data": {
      "text/plain": [
       "Counter({'red': 5, 'blue': 1, 'green': 1, 'chartreuse': 0, 'magenta': 1})"
      ]
     },
     "execution_count": 64,
     "metadata": {},
     "output_type": "execute_result"
    }
   ],
   "source": [
    "count.update(['chartreuse', 'magenta'])\n",
    "count"
   ]
  },
  {
   "cell_type": "markdown",
   "metadata": {
    "slideshow": {
     "slide_type": "subslide"
    }
   },
   "source": [
    "Let us look at a larger data source.  The only book/story with the word Python in the title on Project Gutenberg seems to be a 1962 science fiction story by Frederik Pohl, _Plague of Pythons_.  We can use that for its words."
   ]
  },
  {
   "cell_type": "code",
   "execution_count": 65,
   "metadata": {
    "slideshow": {
     "slide_type": "fragment"
    }
   },
   "outputs": [
    {
     "name": "stdout",
     "output_type": "stream",
     "text": [
      "Words in story: 42,383\n"
     ]
    }
   ],
   "source": [
    "import re\n",
    "pythons = open('pg51804.txt').read()\n",
    "pat = r\"\"\"[!\"#$%&'()*,-./:;?_]\"\"\"\n",
    "pythons = re.sub(pat, '', pythons.lower())\n",
    "print(f\"Words in story: {len(pythons.split()):,}\")"
   ]
  },
  {
   "cell_type": "code",
   "execution_count": 66,
   "metadata": {
    "slideshow": {
     "slide_type": "fragment"
    }
   },
   "outputs": [],
   "source": [
    "words = Counter()\n",
    "words.update(pythons.split())"
   ]
  },
  {
   "cell_type": "markdown",
   "metadata": {
    "slideshow": {
     "slide_type": "subslide"
    }
   },
   "source": [
    "This text is pretty typical of most English texts in its 10 most common words used."
   ]
  },
  {
   "cell_type": "code",
   "execution_count": 67,
   "metadata": {
    "slideshow": {
     "slide_type": "fragment"
    }
   },
   "outputs": [
    {
     "data": {
      "text/plain": [
       "[('the', 2549),\n",
       " ('of', 1087),\n",
       " ('and', 1054),\n",
       " ('he', 1029),\n",
       " ('to', 1028),\n",
       " ('a', 1023),\n",
       " ('was', 920),\n",
       " ('it', 686),\n",
       " ('in', 605),\n",
       " ('had', 492)]"
      ]
     },
     "execution_count": 67,
     "metadata": {},
     "output_type": "execute_result"
    }
   ],
   "source": [
    "words.most_common(10)"
   ]
  },
  {
   "cell_type": "code",
   "execution_count": 68,
   "metadata": {
    "slideshow": {
     "slide_type": "fragment"
    }
   },
   "outputs": [
    {
     "data": {
      "text/plain": [
       "6074"
      ]
     },
     "execution_count": 68,
     "metadata": {},
     "output_type": "execute_result"
    }
   ],
   "source": [
    "len(words)"
   ]
  },
  {
   "cell_type": "markdown",
   "metadata": {
    "slideshow": {
     "slide_type": "subslide"
    }
   },
   "source": [
    "We can get the least common counts by calling `.most_common()` with no limit, and looking at the tail of the resulting list."
   ]
  },
  {
   "cell_type": "code",
   "execution_count": 69,
   "metadata": {
    "slideshow": {
     "slide_type": "fragment"
    }
   },
   "outputs": [
    {
     "data": {
      "text/plain": [
       "[('network', 1),\n",
       " ('volunteer', 1),\n",
       " ('necessarily', 1),\n",
       " ('edition', 1),\n",
       " ('pg', 1),\n",
       " ('httpwwwgutenbergorg', 1),\n",
       " ('includes', 1),\n",
       " ('produce', 1),\n",
       " ('subscribe', 1),\n",
       " ('newsletter', 1)]"
      ]
     },
     "execution_count": 69,
     "metadata": {},
     "output_type": "execute_result"
    }
   ],
   "source": [
    "words.most_common()[-10:]"
   ]
  }
 ],
 "metadata": {
  "celltoolbar": "Slideshow",
  "kernelspec": {
   "display_name": "Python 3",
   "language": "python",
   "name": "python3"
  },
  "language_info": {
   "codemirror_mode": {
    "name": "ipython",
    "version": 3
   },
   "file_extension": ".py",
   "mimetype": "text/x-python",
   "name": "python",
   "nbconvert_exporter": "python",
   "pygments_lexer": "ipython3",
   "version": "3.8.2"
  }
 },
 "nbformat": 4,
 "nbformat_minor": 4
}
