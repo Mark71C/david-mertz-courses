{
 "cells": [
  {
   "cell_type": "markdown",
   "metadata": {
    "slideshow": {
     "slide_type": "slide"
    }
   },
   "source": [
    "# What You Know\n",
    "\n",
    "* General purpose of a great many modules\n",
    "* Working with filesystem and OS processes\n",
    "* Working with common file formats\n",
    "* A range of data structures\n",
    "* Techniques for functional programming\n",
    "* How to write scripts in Python<img src=\"img/david-headshot2.png\" align=\"right\" width=\"33%\"/>\n"
   ]
  },
  {
   "cell_type": "markdown",
   "metadata": {
    "slideshow": {
     "slide_type": "slide"
    }
   },
   "source": [
    "# What Next?\n",
    "\n",
    "<table border=\"0\" background=\"white\">\n",
    "<tr>\n",
    "<td><img src=\"img/dqm-Jozi.jpg\" align=\"left\"/></td>\n",
    "<td style=\"font-size:36pt\">\n",
    "    <ul>\n",
    "        <li>Lots of practice...</li>\n",
    "        <li>Play around with different data structures</li>\n",
    "        <li>Play around with lazy iterators</li>\n",
    "        <li>Write scripts to make all of your work easier and more consistent</li>\n",
    "    </ul>\n",
    "    </td>"
   ]
  }
 ],
 "metadata": {
  "celltoolbar": "Slideshow",
  "kernelspec": {
   "display_name": "Python 3",
   "language": "python",
   "name": "python3"
  },
  "language_info": {
   "codemirror_mode": {
    "name": "ipython",
    "version": 3
   },
   "file_extension": ".py",
   "mimetype": "text/x-python",
   "name": "python",
   "nbconvert_exporter": "python",
   "pygments_lexer": "ipython3",
   "version": "3.8.2"
  }
 },
 "nbformat": 4,
 "nbformat_minor": 4
}
