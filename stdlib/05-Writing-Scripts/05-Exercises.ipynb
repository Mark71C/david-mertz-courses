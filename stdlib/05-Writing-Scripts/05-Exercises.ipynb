{
 "cells": [
  {
   "cell_type": "markdown",
   "metadata": {},
   "source": [
    "# Description\n",
    "\n",
    "For this exercise you will perform a few steps, in several functions, that will utilize the modules you learned about in this lesson, with minor background from other parts of this course\n",
    "\n",
    "As part of these steps, you will perform informal \"profiling\" of each operation by measuring the time it takes.  It is difficult to validate these times in the unit tests, since operations can take significantly more or less time depending on system factors outside your control (or my control as author).  Please verify yourself that your reported times seem reasonable.\n",
    "\n",
    "In cryptography, there is a concept of a \"one-time pad\" where a message is combined, byte by byte, with a shared random key that is as long as the message.  That is the general idea of these steps.  This exercise is **not** an complete cryptosystem, so do not use it as such.\n",
    "\n",
    "If you are not familiar with XOR'ing bytes, here is a simple example to follow:\n",
    "\n",
    "```python\n",
    ">>> mess = \"My message\".encode()\n",
    ">>> key  = \"secretsecretsecret\".encode()  # terrible key\n",
    ">>> encrypted = b''.join(chr(m^k).encode() for m, k in zip(mess, key))\n",
    ">>> encrypted\n",
    "b'>\\x1cC\\x1f\\x00\\x07\\x00\\x04\\x04\\x17'\n",
    "```\n",
    "\n",
    "Reversing it is simply XOR'ing the encrypted version with the same key segment:\n",
    "\n",
    "```python\n",
    ">>> b''.join(chr(e^k).encode() for e, k in zip(encrypted, key))\n",
    "b'My message'\n",
    "```"
   ]
  },
  {
   "cell_type": "markdown",
   "metadata": {},
   "source": [
    "We will use the three nursery rhymes used in this lesson as plaintext examples.  You will need to:\n",
    "\n",
    "* Generate on million bytes of random key material\n",
    "* Save that key in a temporary file with a name\n",
    "* Time how long it takes to generate the key and print the number to screen\n",
    "* Perform OTP encryption of each nursery rhyme, saving the encrypted version to disk with the extra extension `.enc`.  E.g. Save `newberry.txt.enc` but do not remove `newberry.txt`.\n",
    "* Use a distinct, non-overlapping segment of the key material for each encryption\n",
    "* Time the encryption operations"
   ]
  },
  {
   "cell_type": "markdown",
   "metadata": {},
   "source": [
    "# Setup"
   ]
  },
  {
   "cell_type": "code",
   "execution_count": 1,
   "metadata": {},
   "outputs": [],
   "source": [
    "# No need to modify this, feel free to utilize it\n",
    "def encrypt(plaintext: str, key: bytes) -> bytes:\n",
    "    \"Fully working encryption (no key schedule or text handling)\"\n",
    "    plainbytes = plaintext.encode('ascii')\n",
    "    return b''.join(bytes([m^k]) for m, k in zip(plainbytes, key))\n",
    "\n",
    "def decrypt(crypttext: bytes, key: bytes) -> str:\n",
    "    \"Fully working decryption (no key schedule or text handling)\"\n",
    "    return ''.join(chr(m^k) for m, k in zip(crypttext, key))"
   ]
  },
  {
   "cell_type": "code",
   "execution_count": 2,
   "metadata": {},
   "outputs": [
    {
     "name": "stdout",
     "output_type": "stream",
     "text": [
      "Key generation took 1.234 seconds\n",
      "Encrypted file carey.txt.enc in 2.345 seconds\n",
      "Encrypted file king.txt.enc in 2.345 seconds\n",
      "Encrypted file newberry.txt.enc in 2.345 seconds\n"
     ]
    }
   ],
   "source": [
    "def create_OTP():\n",
    "    \"Create temporary file with OTP and return its name\"\n",
    "    keyfile = '/dev/zero'\n",
    "    # ... write a million random bytes to keyfile\n",
    "    # Report time of operation\n",
    "    print(\"Key generation took 1.234 seconds\")\n",
    "    return keyfile\n",
    "\n",
    "keyfile = create_OTP()\n",
    "\n",
    "# Might want to generalize this to find all text files\n",
    "sources = ['carey.txt', 'king.txt', 'newberry.txt']\n",
    "\n",
    "# FIXME: non-overlapping OTP key needed for each file\n",
    "offsets = [0, 100, 200]\n",
    "\n",
    "def encrypt_file(fname: str, keyfile: str, offset: int):\n",
    "    \"Encrypt a file\"\n",
    "    # ... Read the plaintext\n",
    "    # ... Perform encryption\n",
    "    # ... Write encrypted version to \"fname.enc\"\n",
    "    print(f\"Encrypted file {fname}.enc in 2.345 seconds\")\n",
    "    \n",
    "for fname, offset in zip(sources, offsets):\n",
    "    encrypt_file(fname, keyfile, offset)"
   ]
  },
  {
   "cell_type": "markdown",
   "metadata": {},
   "source": [
    "# Solution"
   ]
  },
  {
   "cell_type": "code",
   "execution_count": 3,
   "metadata": {},
   "outputs": [
    {
     "name": "stdout",
     "output_type": "stream",
     "text": [
      "Key generation took 0.048 seconds\n",
      "Encrypted file carey.txt.enc in 0.00271 seconds\n",
      "Encrypted file king.txt.enc in 0.00580 seconds\n",
      "Encrypted file newberry.txt.enc in 0.00167 seconds\n"
     ]
    }
   ],
   "source": [
    "import secrets\n",
    "import tempfile\n",
    "from time import time\n",
    "from pathlib import Path\n",
    "\n",
    "def create_OTP():\n",
    "    \"Create temporary file with OTP and return its name\"\n",
    "    start = time()\n",
    "    keyfile = tempfile.NamedTemporaryFile(delete=False)\n",
    "    # ... write a million random bytes to keyfile\n",
    "    keyfile.write(secrets.token_bytes(1_000_000))\n",
    "    # Report time of operation\n",
    "    print(f\"Key generation took {time()-start:0.3f} seconds\")\n",
    "    return keyfile.name\n",
    "\n",
    "keyfile = create_OTP()\n",
    "sources = list(Path('.').glob('*.txt'))\n",
    "\n",
    "offset, offsets = 0, []\n",
    "for source in sources:\n",
    "    offsets.append(offset)\n",
    "    offset += source.stat().st_size\n",
    "offsets\n",
    "\n",
    "def encrypt_file(fname: str, keyfile: str, offset: int):\n",
    "    \"Encrypt a file\"\n",
    "    start = time()\n",
    "    plaintext = Path(fname).read_text()\n",
    "    with open(keyfile, 'rb') as fh:\n",
    "        fh.seek(offset)\n",
    "        key = fh.read(len(plaintext))\n",
    "    encrypted = encrypt(plaintext, key)\n",
    "    Path(f\"{fname}.enc\").write_bytes(encrypted)\n",
    "    print(f\"Encrypted file {fname}.enc in {time()-start:0.5f} seconds\")\n",
    "\n",
    "for fname, offset in zip(sources, offsets):\n",
    "    encrypt_file(fname, keyfile, offset)"
   ]
  },
  {
   "cell_type": "markdown",
   "metadata": {},
   "source": [
    "# Test Cases"
   ]
  },
  {
   "cell_type": "code",
   "execution_count": 4,
   "metadata": {},
   "outputs": [],
   "source": [
    "def test_keyfile():\n",
    "    from pathlib import Path\n",
    "    assert Path(keyfile).stat().st_size == 1_000_000\n",
    "    \n",
    "test_keyfile()"
   ]
  },
  {
   "cell_type": "code",
   "execution_count": 5,
   "metadata": {},
   "outputs": [],
   "source": [
    "def test_offsets():\n",
    "    # Assure distinct key material\n",
    "    from pathlib import Path\n",
    "    \n",
    "    assert all(0 <= offset < 1_000_000 for offset in offsets)\n",
    "    \n",
    "    offset = offsets[0]\n",
    "    for fname, size in zip(sources, offsets[1:]):\n",
    "        assert Path(fname).stat().st_size <= size, \\\n",
    "            f\"Not enough key bytes for {fname}\"\n",
    "        offset = size\n",
    "        \n",
    "test_offsets()"
   ]
  },
  {
   "cell_type": "code",
   "execution_count": 6,
   "metadata": {},
   "outputs": [],
   "source": [
    "def test_encryption():\n",
    "    from pathlib import Path\n",
    "    for fname, offset in zip(sources, offsets):\n",
    "        with open(keyfile, 'rb') as fh:\n",
    "            fh.seek(offset)\n",
    "            key = fh.read(10_000)  # Assume small plaintext\n",
    "        plaintext = Path(fname).read_text()\n",
    "        decrypted = decrypt(Path(f\"{fname}.enc\").read_bytes(), key)\n",
    "        assert plaintext == decrypted, f\"Error in {fname}.enc\"\n",
    "        \n",
    "test_encryption()"
   ]
  }
 ],
 "metadata": {
  "kernelspec": {
   "display_name": "Python 3",
   "language": "python",
   "name": "python3"
  },
  "language_info": {
   "codemirror_mode": {
    "name": "ipython",
    "version": 3
   },
   "file_extension": ".py",
   "mimetype": "text/x-python",
   "name": "python",
   "nbconvert_exporter": "python",
   "pygments_lexer": "ipython3",
   "version": "3.8.5"
  }
 },
 "nbformat": 4,
 "nbformat_minor": 4
}
