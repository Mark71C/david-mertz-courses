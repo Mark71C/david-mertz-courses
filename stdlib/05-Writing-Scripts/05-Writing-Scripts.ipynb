{
 "cells": [
  {
   "cell_type": "markdown",
   "metadata": {
    "slideshow": {
     "slide_type": "slide"
    }
   },
   "source": [
    "# Writing Scripts\n",
    "\n",
    "Several modules in the Python standard library are especially useful when writing scripts to run at the command line.  That is not to say that you will not also use these when writing large applications, micro-services, code in notebooks, or in other contexts.  But the special emphasis of this lesson is on scripting small, repeatable tasks, such as in system administration."
   ]
  },
  {
   "cell_type": "markdown",
   "metadata": {
    "slideshow": {
     "slide_type": "fragment"
    }
   },
   "source": [
    "For this purpose, we look at `fileinput`, `argparse`, `time`, `secrets`, and `tempfile`. "
   ]
  },
  {
   "cell_type": "markdown",
   "metadata": {
    "slideshow": {
     "slide_type": "slide"
    }
   },
   "source": [
    "## Module: fileinput\n",
    "\n",
    "The `fileinput` module really just does one thing, but it avoids boilerplate and potential errors in a very common pattern for command-line tools, especially on Unix-like systems.  "
   ]
  },
  {
   "cell_type": "markdown",
   "metadata": {
    "slideshow": {
     "slide_type": "fragment"
    }
   },
   "source": [
    "Many system tools like `cut` or `grep` or `tac` use a pattern where they process lines input from all files named as arguments, and if no arguments are named, they take input from standard input.  Often these tools also follow a convention where `'-'` indicates standard input as a pseudo-filename."
   ]
  },
  {
   "cell_type": "markdown",
   "metadata": {
    "slideshow": {
     "slide_type": "subslide"
    }
   },
   "source": [
    "As a toy example, let us write a script that does the following:\n",
    "    \n",
    "* Produce a histogram of the lengths of input lines\n",
    "* Ignore lines marked as citation indicators by starting with `*** Source:`\n",
    "* Write citation lines to standard error\n",
    "* Accept inputs from filenames and/or standard input"
   ]
  },
  {
   "cell_type": "markdown",
   "metadata": {
    "slideshow": {
     "slide_type": "subslide"
    }
   },
   "source": [
    "### line-histogram\n",
    "\n",
    "```python\n",
    "#!/usr/bin/env python\n",
    "import fileinput\n",
    "from sys import stderr\n",
    "from collections import Counter\n",
    "```\n",
    "```python\n",
    "lengths = list()\n",
    "for line in fileinput.input():\n",
    "    if line.startswith('*** Source: '):\n",
    "        print(line[12:].strip(), file=stderr)\n",
    "    else:\n",
    "        lengths.append(len(line))\n",
    "        \n",
    "print(Counter(lengths).most_common())\n",
    "```"
   ]
  },
  {
   "cell_type": "code",
   "execution_count": 1,
   "metadata": {
    "slideshow": {
     "slide_type": "subslide"
    }
   },
   "outputs": [
    {
     "name": "stdout",
     "output_type": "stream",
     "text": [
      "[(30, 4), (31, 3), (27, 2), (33, 1), (16, 1), (29, 1), (34, 1), (26, 1), (22, 1), (14, 1), (17, 1), (25, 1), (15, 1), (21, 1)]\n"
     ]
    },
    {
     "name": "stderr",
     "output_type": "stream",
     "text": [
      "Henry Carey, \"Namby Pamby\", 1725\n",
      "William King, \"Useful Transactions in Philosophy\", 1708\n",
      "John Newbery, \"Mother Goose's Melody\", 1765\n"
     ]
    }
   ],
   "source": [
    "%%bash\n",
    "./line-histogram *.txt"
   ]
  },
  {
   "cell_type": "code",
   "execution_count": 2,
   "metadata": {
    "slideshow": {
     "slide_type": "fragment"
    }
   },
   "outputs": [
    {
     "name": "stdout",
     "output_type": "stream",
     "text": [
      "[(30, 4), (31, 3), (27, 2), (16, 1), (29, 1), (34, 1), (26, 1), (22, 1), (33, 1), (14, 1), (17, 1), (25, 1), (15, 1), (21, 1)]\n"
     ]
    },
    {
     "name": "stderr",
     "output_type": "stream",
     "text": [
      "William King, \"Useful Transactions in Philosophy\", 1708\n",
      "Henry Carey, \"Namby Pamby\", 1725\n",
      "John Newbery, \"Mother Goose's Melody\", 1765\n"
     ]
    }
   ],
   "source": [
    "%%bash\n",
    "./line-histogram king.txt carey.txt newberry.txt"
   ]
  },
  {
   "cell_type": "code",
   "execution_count": 3,
   "metadata": {
    "slideshow": {
     "slide_type": "subslide"
    }
   },
   "outputs": [
    {
     "name": "stdout",
     "output_type": "stream",
     "text": [
      "[(30, 4), (31, 3), (27, 2), (33, 1), (16, 1), (29, 1), (34, 1), (26, 1), (22, 1), (14, 1), (17, 1), (25, 1), (15, 1), (21, 1)]\n"
     ]
    },
    {
     "name": "stderr",
     "output_type": "stream",
     "text": [
      "Henry Carey, \"Namby Pamby\", 1725\n",
      "William King, \"Useful Transactions in Philosophy\", 1708\n",
      "John Newbery, \"Mother Goose's Melody\", 1765\n"
     ]
    }
   ],
   "source": [
    "%%bash\n",
    "cat *.txt | ./line-histogram"
   ]
  },
  {
   "cell_type": "code",
   "execution_count": 4,
   "metadata": {
    "slideshow": {
     "slide_type": "fragment"
    }
   },
   "outputs": [
    {
     "name": "stdout",
     "output_type": "stream",
     "text": [
      "[(30, 4), (31, 2), (27, 2), (16, 1), (29, 1), (34, 1), (26, 1), (22, 1), (33, 1)]\n"
     ]
    },
    {
     "name": "stderr",
     "output_type": "stream",
     "text": [
      "William King, \"Useful Transactions in Philosophy\", 1708\n",
      "Henry Carey, \"Namby Pamby\", 1725\n"
     ]
    }
   ],
   "source": [
    "%%bash\n",
    "cat newberry.txt | ./line-histogram king.txt carey.txt"
   ]
  },
  {
   "cell_type": "code",
   "execution_count": 5,
   "metadata": {
    "slideshow": {
     "slide_type": "fragment"
    }
   },
   "outputs": [
    {
     "name": "stdout",
     "output_type": "stream",
     "text": [
      "[(30, 4), (31, 3), (27, 2), (16, 1), (29, 1), (34, 1), (26, 1), (22, 1), (14, 1), (17, 1), (25, 1), (15, 1), (21, 1), (33, 1)]\n"
     ]
    },
    {
     "name": "stderr",
     "output_type": "stream",
     "text": [
      "William King, \"Useful Transactions in Philosophy\", 1708\n",
      "John Newbery, \"Mother Goose's Melody\", 1765\n",
      "Henry Carey, \"Namby Pamby\", 1725\n"
     ]
    }
   ],
   "source": [
    "%%bash\n",
    "cat newberry.txt | ./line-histogram king.txt - carey.txt "
   ]
  },
  {
   "cell_type": "markdown",
   "metadata": {
    "slideshow": {
     "slide_type": "slide"
    }
   },
   "source": [
    "## Module: argparse\n",
    "\n",
    "The `argparse` module provides general purpose parsing of command-line arguments and options.\n",
    "\n",
    "The standard library provides an older `getopt` module as well, but this is mostly only relevant for direct porting from the C equivalent.  Several third-party tools like `click`, `prompt_toolkit` and `docopt` each have their own philosophy about doing this."
   ]
  },
  {
   "cell_type": "markdown",
   "metadata": {
    "slideshow": {
     "slide_type": "fragment"
    }
   },
   "source": [
    "Unless you have compelling reason to do otherwise, `argparse` should be your first and usual choice.  We enhance the `line-histogram` tool to add some capabilities."
   ]
  },
  {
   "cell_type": "markdown",
   "metadata": {
    "slideshow": {
     "slide_type": "subslide"
    }
   },
   "source": [
    "```python\n",
    "from sys import stderr, stdin\n",
    "from collections import Counter\n",
    "import argparse\n",
    "import fileinput\n",
    "```\n",
    "```python\n",
    "parser = argparse.ArgumentParser()\n",
    "parser.add_argument('-v', '--verbose', action='store_true',\n",
    "                    help=\"Display output in 'pretty' format\")\n",
    "parser.add_argument('-c', '--cite', action='store_true',\n",
    "                    help=\"Echo citation information to STDERR\")\n",
    "parser.add_argument('files', nargs='*',\n",
    "                    help=\"Files to process (default to STDIN)\")\n",
    "parser.add_argument('--limit', type=int, default=99,\n",
    "                    help=\"Do not process more than this number of files\")\n",
    "args = parser.parse_args()\n",
    "```"
   ]
  },
  {
   "cell_type": "markdown",
   "metadata": {
    "slideshow": {
     "slide_type": "subslide"
    }
   },
   "source": [
    "```python\n",
    "lengths = list()\n",
    "for line in fileinput.input(args.files[:args.limit] or '-'):\n",
    "        if line.startswith('*** Source: '):\n",
    "            if args.cite:\n",
    "                print(line[12:].strip(), file=stderr)\n",
    "        else:\n",
    "            lengths.append(len(line))\n",
    "```\n",
    "```python\n",
    "if args.verbose:\n",
    "    for length, num in Counter(lengths).most_common():\n",
    "        print(f\"Length {length}: {num}\")\n",
    "else:\n",
    "    print(Counter(lengths).most_common())\n",
    "```"
   ]
  },
  {
   "cell_type": "code",
   "execution_count": 6,
   "metadata": {
    "slideshow": {
     "slide_type": "subslide"
    }
   },
   "outputs": [
    {
     "name": "stdout",
     "output_type": "stream",
     "text": [
      "usage: line-histoplus [-h] [-v] [-c] [--limit LIMIT] [files [files ...]]\n",
      "\n",
      "positional arguments:\n",
      "  files          Files to process (default to STDIN)\n",
      "\n",
      "optional arguments:\n",
      "  -h, --help     show this help message and exit\n",
      "  -v, --verbose  Display output in 'pretty' format\n",
      "  -c, --cite     Echo citation information to STDERR\n",
      "  --limit LIMIT  Do not process more than this number of files\n"
     ]
    }
   ],
   "source": [
    "%%bash\n",
    "./line-histoplus --help"
   ]
  },
  {
   "cell_type": "code",
   "execution_count": 7,
   "metadata": {
    "slideshow": {
     "slide_type": "fragment"
    }
   },
   "outputs": [
    {
     "name": "stdout",
     "output_type": "stream",
     "text": [
      "[(30, 4), (31, 3), (27, 2), (14, 1), (17, 1), (25, 1), (15, 1), (21, 1), (16, 1), (29, 1), (34, 1), (26, 1), (22, 1), (33, 1)]\n"
     ]
    }
   ],
   "source": [
    "%%bash\n",
    "# By default we now do not output citation to STDERR\n",
    "cat carey.txt | ./line-histoplus newberry.txt king.txt -"
   ]
  },
  {
   "cell_type": "code",
   "execution_count": 8,
   "metadata": {
    "slideshow": {
     "slide_type": "subslide"
    }
   },
   "outputs": [
    {
     "name": "stdout",
     "output_type": "stream",
     "text": [
      "[(30, 4), (31, 3), (27, 2), (14, 1), (17, 1), (25, 1), (15, 1), (21, 1), (16, 1), (29, 1), (34, 1), (26, 1), (22, 1), (33, 1)]\n"
     ]
    },
    {
     "name": "stderr",
     "output_type": "stream",
     "text": [
      "John Newbery, \"Mother Goose's Melody\", 1765\n",
      "William King, \"Useful Transactions in Philosophy\", 1708\n",
      "Henry Carey, \"Namby Pamby\", 1725\n"
     ]
    }
   ],
   "source": [
    "%%bash\n",
    "# We can enable the citation lines if we like\n",
    "cat carey.txt | ./line-histoplus --cite newberry.txt king.txt -"
   ]
  },
  {
   "cell_type": "code",
   "execution_count": 9,
   "metadata": {
    "slideshow": {
     "slide_type": "fragment"
    }
   },
   "outputs": [
    {
     "name": "stdout",
     "output_type": "stream",
     "text": [
      "Length 30: 4\n",
      "Length 31: 3\n",
      "Length 27: 2\n",
      "Length 33: 1\n",
      "Length 16: 1\n",
      "Length 29: 1\n",
      "Length 34: 1\n",
      "Length 26: 1\n",
      "Length 22: 1\n",
      "Length 14: 1\n",
      "Length 17: 1\n",
      "Length 25: 1\n",
      "Length 15: 1\n",
      "Length 21: 1\n"
     ]
    }
   ],
   "source": [
    "%%bash\n",
    "# A more human readable histogram might be desirable\n",
    "./line-histoplus -v *.txt"
   ]
  },
  {
   "cell_type": "code",
   "execution_count": 10,
   "metadata": {
    "slideshow": {
     "slide_type": "subslide"
    }
   },
   "outputs": [
    {
     "name": "stdout",
     "output_type": "stream",
     "text": [
      "Length 30: 4\n",
      "Length 27: 2\n",
      "Length 31: 2\n",
      "Length 33: 1\n",
      "Length 16: 1\n",
      "Length 29: 1\n",
      "Length 34: 1\n",
      "Length 26: 1\n",
      "Length 22: 1\n"
     ]
    },
    {
     "name": "stderr",
     "output_type": "stream",
     "text": [
      "Henry Carey, \"Namby Pamby\", 1725\n",
      "William King, \"Useful Transactions in Philosophy\", 1708\n"
     ]
    }
   ],
   "source": [
    "%%bash\n",
    "# Combine multiple switches\n",
    "./line-histoplus --verbose --limit 2 -c *.txt"
   ]
  },
  {
   "cell_type": "markdown",
   "metadata": {
    "slideshow": {
     "slide_type": "slide"
    }
   },
   "source": [
    "## Module: time\n",
    "\n",
    "The `time` module deals with basic details of the system clock, and allows for timing of operations.  The `datetime` module is subject of a separate course, and deals with times in the sense of calendars and durations; the topics overlap and that course as more information.  A typical use of `time` in scripts is simply timing how long steps take and recording when events occurred."
   ]
  },
  {
   "cell_type": "code",
   "execution_count": 11,
   "metadata": {
    "slideshow": {
     "slide_type": "fragment"
    }
   },
   "outputs": [
    {
     "name": "stdout",
     "output_type": "stream",
     "text": [
      "Started at: Mon Sep  7 20:43:28 2020\n",
      "Waiting...\n",
      "Ended at: Mon Sep  7 20:43:33 2020\n",
      "Duration: 5.0058 seconds\n"
     ]
    }
   ],
   "source": [
    "import time\n",
    "start = time.time()\n",
    "print(\"Started at:\", time.ctime(start))\n",
    "print(\"Waiting...\")\n",
    "time.sleep(5)\n",
    "end = time.time()\n",
    "print(\"Ended at:\", time.ctime(end))\n",
    "print(f\"Duration: {end-start:.4f} seconds\")"
   ]
  },
  {
   "cell_type": "markdown",
   "metadata": {
    "slideshow": {
     "slide_type": "subslide"
    }
   },
   "source": [
    "We can view the clock either as a number of seconds, or in a more structured way."
   ]
  },
  {
   "cell_type": "code",
   "execution_count": 12,
   "metadata": {
    "slideshow": {
     "slide_type": "fragment"
    }
   },
   "outputs": [
    {
     "name": "stdout",
     "output_type": "stream",
     "text": [
      "Time in seconds-since-epoch:\n",
      "1599525813.6711996 \n",
      "-----\n",
      "Time as a structure:\n",
      "time.struct_time(tm_year=2020, tm_mon=9, tm_mday=7, tm_hour=20, tm_min=43, tm_sec=33, tm_wday=0, tm_yday=251, tm_isdst=1)\n"
     ]
    }
   ],
   "source": [
    "import time\n",
    "print(\"Time in seconds-since-epoch:\")\n",
    "print(time.time(), '\\n-----')\n",
    "print(\"Time as a structure:\")\n",
    "print(time.localtime())"
   ]
  },
  {
   "cell_type": "markdown",
   "metadata": {
    "slideshow": {
     "slide_type": "subslide"
    }
   },
   "source": [
    "We can convert between these formats and format times as strings in explicit formats."
   ]
  },
  {
   "cell_type": "code",
   "execution_count": 13,
   "metadata": {
    "slideshow": {
     "slide_type": "fragment"
    }
   },
   "outputs": [
    {
     "data": {
      "text/plain": [
       "time.struct_time(tm_year=2020, tm_mon=9, tm_mday=7, tm_hour=20, tm_min=43, tm_sec=33, tm_wday=0, tm_yday=251, tm_isdst=1)"
      ]
     },
     "execution_count": 13,
     "metadata": {},
     "output_type": "execute_result"
    }
   ],
   "source": [
    "now = time.localtime(time.time())\n",
    "now"
   ]
  },
  {
   "cell_type": "code",
   "execution_count": 14,
   "metadata": {
    "slideshow": {
     "slide_type": "fragment"
    }
   },
   "outputs": [
    {
     "data": {
      "text/plain": [
       "'Mon, 07 Sep 2020 20:43:33'"
      ]
     },
     "execution_count": 14,
     "metadata": {},
     "output_type": "execute_result"
    }
   ],
   "source": [
    "time.strftime(\"%a, %d %b %Y %H:%M:%S\", now)"
   ]
  },
  {
   "cell_type": "markdown",
   "metadata": {
    "slideshow": {
     "slide_type": "subslide"
    }
   },
   "source": [
    "Should we want to look at it, some fairly low-level details are available.  For example, clocks exist for the system since last boot, within each thread, and so on.  These details are less commonly needed, but can be when you want to, for example, profile the time spent within particular threads."
   ]
  },
  {
   "cell_type": "code",
   "execution_count": 15,
   "metadata": {
    "slideshow": {
     "slide_type": "fragment"
    }
   },
   "outputs": [
    {
     "data": {
      "text/plain": [
       "(1e-09, 1e-09, 2782174481816218, 547932891)"
      ]
     },
     "execution_count": 15,
     "metadata": {},
     "output_type": "execute_result"
    }
   ],
   "source": [
    "(\n",
    "time.clock_getres(time.CLOCK_MONOTONIC),\n",
    "time.clock_getres(time.CLOCK_THREAD_CPUTIME_ID),\n",
    "time.clock_gettime_ns(time.CLOCK_MONOTONIC),\n",
    "time.clock_gettime_ns(time.CLOCK_THREAD_CPUTIME_ID),    \n",
    ")"
   ]
  },
  {
   "cell_type": "markdown",
   "metadata": {
    "slideshow": {
     "slide_type": "slide"
    }
   },
   "source": [
    "## Module: secrets\n",
    "\n",
    "Python has a module `random` that produces pseudo-random numbers, item selections, or distributions.  It is very useful, but the emphasis is on **pseudo**.  By design, `random` is precisely reproducible when a seed is used.  This makes it unsuitable for many actual security/cryptographic (but extremely useful for things like simulating noise and Monte Carlo simulations).\n",
    "\n",
    "When you want actual **secrets**, the `secrets` module is what you should use.  It is much less general purpose by design. For generating passwords, nonces, security tokens, and the like, it has just those capabilities you need, but not others that would distract from those purposes."
   ]
  },
  {
   "cell_type": "code",
   "execution_count": 29,
   "metadata": {
    "slideshow": {
     "slide_type": "subslide"
    }
   },
   "outputs": [
    {
     "name": "stdout",
     "output_type": "stream",
     "text": [
      "[30, 48, 26, 15, 55, 64, 66, 56, 36, 44, 67, 25, 86, 83, 87]\n",
      "[82, 82, 82, 82, 82, 82, 82, 82, 82, 82, 82, 82, 82, 82, 82]\n"
     ]
    }
   ],
   "source": [
    "import random\n",
    "# I have no idea what will be produced here...\n",
    "random.seed()\n",
    "print([random.randrange(1, 100) for i in range(15)])\n",
    "\n",
    "# With the seed 42, we will always choose 82\n",
    "rand_nums = []\n",
    "for i in range(15):\n",
    "    random.seed(42)\n",
    "    rand_nums.append(random.randrange(1, 100))\n",
    "print(rand_nums)"
   ]
  },
  {
   "cell_type": "markdown",
   "metadata": {
    "slideshow": {
     "slide_type": "subslide"
    }
   },
   "source": [
    "The basic functions are simply generating tokens in a few flavors."
   ]
  },
  {
   "cell_type": "code",
   "execution_count": 17,
   "metadata": {
    "slideshow": {
     "slide_type": "fragment"
    }
   },
   "outputs": [
    {
     "data": {
      "text/plain": [
       "b'\\x9c\\xf8\\xd8\\xb7\\xb2\\x08\\xe6Y\\xf9\\xbf\\xa2\\xf0g\\xd0\\xf3j\\x93\\x92\\xa4\\x08'"
      ]
     },
     "execution_count": 17,
     "metadata": {},
     "output_type": "execute_result"
    }
   ],
   "source": [
    "import secrets\n",
    "secrets.token_bytes(20)"
   ]
  },
  {
   "cell_type": "code",
   "execution_count": 18,
   "metadata": {
    "slideshow": {
     "slide_type": "fragment"
    }
   },
   "outputs": [
    {
     "data": {
      "text/plain": [
       "'448c73cc884f5601f5676354cddce519d88035432e8a0b1c374f09375e96'"
      ]
     },
     "execution_count": 18,
     "metadata": {},
     "output_type": "execute_result"
    }
   ],
   "source": [
    "secrets.token_hex(30)"
   ]
  },
  {
   "cell_type": "code",
   "execution_count": 19,
   "metadata": {
    "slideshow": {
     "slide_type": "fragment"
    }
   },
   "outputs": [
    {
     "data": {
      "text/plain": [
       "'w9bHlbyl9T8dEsE3WIW3LduTjRplXb2IFegzjT9c'"
      ]
     },
     "execution_count": 19,
     "metadata": {},
     "output_type": "execute_result"
    }
   ],
   "source": [
    "secrets.token_urlsafe(30)"
   ]
  },
  {
   "cell_type": "markdown",
   "metadata": {
    "slideshow": {
     "slide_type": "subslide"
    }
   },
   "source": [
    "There are just a couple more general \"random number\" functions.  It is not hard to generalize these to other distributions or the like, but you rarely need to."
   ]
  },
  {
   "cell_type": "code",
   "execution_count": 20,
   "metadata": {
    "slideshow": {
     "slide_type": "fragment"
    }
   },
   "outputs": [
    {
     "data": {
      "text/plain": [
       "150"
      ]
     },
     "execution_count": 20,
     "metadata": {},
     "output_type": "execute_result"
    }
   ],
   "source": [
    "secrets.choice(range(100, 200))"
   ]
  },
  {
   "cell_type": "code",
   "execution_count": 21,
   "metadata": {
    "slideshow": {
     "slide_type": "fragment"
    }
   },
   "outputs": [
    {
     "data": {
      "text/plain": [
       "935273"
      ]
     },
     "execution_count": 21,
     "metadata": {},
     "output_type": "execute_result"
    }
   ],
   "source": [
    "secrets.randbelow(1_000_000)"
   ]
  },
  {
   "cell_type": "code",
   "execution_count": 33,
   "metadata": {
    "slideshow": {
     "slide_type": "fragment"
    }
   },
   "outputs": [
    {
     "data": {
      "text/plain": [
       "2599241311"
      ]
     },
     "execution_count": 33,
     "metadata": {},
     "output_type": "execute_result"
    }
   ],
   "source": [
    "# A random 32-bit integer\n",
    "secrets.randbits(32)"
   ]
  },
  {
   "cell_type": "markdown",
   "metadata": {
    "slideshow": {
     "slide_type": "slide"
    }
   },
   "source": [
    "## Module: tempfile\n",
    "\n",
    "Working with temporary files is often useful in scripts.  For a variety of reasons, you may need a file interface to put data into and pull data out of; but sometimes you do not have a persistent and predictable file path that makes sense for that."
   ]
  },
  {
   "cell_type": "markdown",
   "metadata": {
    "slideshow": {
     "slide_type": "fragment"
    }
   },
   "source": [
    "One common, but by no means exclusive, situation when this comes up is in writing unit tests.  In this scenario, data gets written to a file that would be explicitly specified in \"normal\" operation, but it needs to be a fresh unused file each time the test is run."
   ]
  },
  {
   "cell_type": "markdown",
   "metadata": {
    "slideshow": {
     "slide_type": "subslide"
    }
   },
   "source": [
    "There are just *two* main classes we will look at in the `tempfile` module, `TemporaryFile` and `NamedTemporaryFile`.  A few supporting classes or functions are documented in the module documentation (for example, creating temporary directories rather than files).  The difference is only that the latter is guaranteed to have a name within the filesystem.\n",
    "\n",
    "Whether named or unnamed, a temporary file is removed when the file handle is closed, including during garbage collection if the name falls out of scope.  `NamedTemporaryFile` has a parameter `delete` which defaults to True, but can be set False to allow the filesystem to retain the file after the program completes."
   ]
  },
  {
   "cell_type": "code",
   "execution_count": 23,
   "metadata": {
    "slideshow": {
     "slide_type": "fragment"
    }
   },
   "outputs": [
    {
     "name": "stdout",
     "output_type": "stream",
     "text": [
      "No actual name, but a handle number: 46\n"
     ]
    }
   ],
   "source": [
    "import tempfile\n",
    "nameless = tempfile.TemporaryFile()\n",
    "print(\"No actual name, but a handle number:\", nameless.name)"
   ]
  },
  {
   "cell_type": "code",
   "execution_count": 24,
   "metadata": {
    "slideshow": {
     "slide_type": "fragment"
    }
   },
   "outputs": [
    {
     "name": "stdout",
     "output_type": "stream",
     "text": [
      "A name in an OS-appropriate location: /tmp/tmpk7iq4qfs\n"
     ]
    }
   ],
   "source": [
    "named = tempfile.NamedTemporaryFile(mode='w+t', delete=False)\n",
    "tmpname = named.name\n",
    "print(\"A name in an OS-appropriate location:\", named.name)"
   ]
  },
  {
   "cell_type": "markdown",
   "metadata": {
    "slideshow": {
     "slide_type": "subslide"
    }
   },
   "source": [
    "There is nothing at all special about these files other than knowing they did not exist before.  The choice of unique names is not cryptographically secure; if you need that, the `secrets` module is a way to get a securely unique name."
   ]
  },
  {
   "cell_type": "code",
   "execution_count": 25,
   "metadata": {
    "slideshow": {
     "slide_type": "fragment"
    }
   },
   "outputs": [
    {
     "name": "stdout",
     "output_type": "stream",
     "text": [
      "16\n",
      "---\n",
      "17\n",
      "---\n",
      "18\n",
      "---\n"
     ]
    }
   ],
   "source": [
    "for i in range(1000):\n",
    "    print(i, file=named)\n",
    "    named.write('---\\n')\n",
    "named.seek(102)\n",
    "print(named.read(20))"
   ]
  },
  {
   "cell_type": "code",
   "execution_count": 26,
   "metadata": {
    "slideshow": {
     "slide_type": "fragment"
    }
   },
   "outputs": [
    {
     "name": "stdout",
     "output_type": "stream",
     "text": [
      "---\n",
      "998\n",
      "---\n",
      "999\n",
      "---\n"
     ]
    }
   ],
   "source": [
    "named.close()\n",
    "!tail -5 $tmpname"
   ]
  }
 ],
 "metadata": {
  "celltoolbar": "Slideshow",
  "kernelspec": {
   "display_name": "Python 3",
   "language": "python",
   "name": "python3"
  },
  "language_info": {
   "codemirror_mode": {
    "name": "ipython",
    "version": 3
   },
   "file_extension": ".py",
   "mimetype": "text/x-python",
   "name": "python",
   "nbconvert_exporter": "python",
   "pygments_lexer": "ipython3",
   "version": "3.8.5"
  }
 },
 "nbformat": 4,
 "nbformat_minor": 4
}
