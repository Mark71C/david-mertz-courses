{
 "cells": [
  {
   "cell_type": "markdown",
   "metadata": {},
   "source": [
    "# Description"
   ]
  },
  {
   "cell_type": "markdown",
   "metadata": {},
   "source": [
    "In this exercise, you will examine an example log file from events in a variety of locations.  Each event is marked with an ISO 8601 timestamp, followed by the time zone it occured in.  Each event is mnemonically described by different firstname.\n",
    "\n",
    "```\n",
    "2020-01-01T23:00:01 Pacific/Tahiti Alice\n",
    "2020-01-01T12:00:02 Europe/Ulyanovsk Bob\n",
    "2020-01-01T15:00:03 Asia/Makassar Carlos\n",
    "2020-01-01T06:00:04 Chile/Continental David\n",
    "2020-01-01T22:00:05 Australia/Brisbane Eve\n",
    "```\n",
    "\n",
    "You need to create a list of these names, sorted by the chronological order in which they were logged, in the variable `names`.  The log file where all of these lines occur is `events.log`, and each line is similar to the first few shown."
   ]
  },
  {
   "cell_type": "markdown",
   "metadata": {},
   "source": [
    "# Setup"
   ]
  },
  {
   "cell_type": "code",
   "execution_count": 1,
   "metadata": {},
   "outputs": [],
   "source": [
    "from datetime import datetime, timedelta\n",
    "from dateutil import tz\n",
    "\n",
    "# Wrong order, but you want a list like this...\n",
    "names = ['Ivan', 'Bob', 'Rupert', 'Ted', 'Carlos', 'Olivia', \n",
    "         'Niaj', 'Faythe', 'David', 'Sybil', 'Judy', 'Heidi', \n",
    "         'Eve', 'Grace', 'Alice', 'Mallory', 'Peggy']"
   ]
  },
  {
   "cell_type": "markdown",
   "metadata": {},
   "source": [
    "# Solution"
   ]
  },
  {
   "cell_type": "code",
   "execution_count": 2,
   "metadata": {},
   "outputs": [],
   "source": [
    "with open('events.log') as log:\n",
    "    events = []\n",
    "    for record in log:\n",
    "        dt, zone, name = record.split()\n",
    "        dt = datetime.fromisoformat(dt)\n",
    "        dt = dt.replace(tzinfo=tz.gettz(zone))\n",
    "        events.append((dt.astimezone(tz.tzutc()), name))\n",
    "        \n",
    "names = [e[1] for e in sorted(events)]"
   ]
  },
  {
   "cell_type": "markdown",
   "metadata": {},
   "source": [
    "# Test Cases"
   ]
  },
  {
   "cell_type": "code",
   "execution_count": 3,
   "metadata": {},
   "outputs": [],
   "source": [
    "def test_order():\n",
    "    from hashlib import sha1\n",
    "    assert len(names) == 17, \"Should be 17 names\"\n",
    "    assert len(set(names)) == 17, \"Must all be distinct names\"\n",
    "    # Hash the list to avoid giving away answer\n",
    "    hash = sha1('|'.join(names).encode()).hexdigest()\n",
    "    assert hash == 'b9655d5a8efab9e2aecd41706d3491e296ed92d4',\\\n",
    "        \"Got: \"+hash\n",
    "    \n",
    "test_order()"
   ]
  }
 ],
 "metadata": {
  "kernelspec": {
   "display_name": "Python 3",
   "language": "python",
   "name": "python3"
  },
  "language_info": {
   "codemirror_mode": {
    "name": "ipython",
    "version": 3
   },
   "file_extension": ".py",
   "mimetype": "text/x-python",
   "name": "python",
   "nbconvert_exporter": "python",
   "pygments_lexer": "ipython3",
   "version": "3.8.2"
  }
 },
 "nbformat": 4,
 "nbformat_minor": 4
}
