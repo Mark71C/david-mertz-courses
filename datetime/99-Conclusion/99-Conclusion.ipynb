{
 "cells": [
  {
   "cell_type": "markdown",
   "metadata": {
    "slideshow": {
     "slide_type": "slide"
    }
   },
   "source": [
    "# What You Know\n",
    "\n",
    "* Dates, Times, and Datetimes\n",
    "* Arithmetic with Timedeltas\n",
    "* Time Zones\n",
    "* Friendlier operations with `dateutil`\n",
    "* <img src=\"img/david-headshot2.png\" align=\"right\" width=\"33%\"/>Generating collections of related datetimes\n"
   ]
  },
  {
   "cell_type": "markdown",
   "metadata": {
    "slideshow": {
     "slide_type": "slide"
    }
   },
   "source": [
    "# Third-Party Tools\n",
    "\n",
    "* <img src=\"img/DQM-Maybe-Belarus-small.jpg\" align=\"right\" width=\"33%\"/>Several libraries in the Python ecosystem provide alternate APIs for datetime handling.\n",
    "* Tools that are simlar but often complementary:\n",
    "  * *Arrow*\n",
    "  * *Maya*\n",
    "  * *Delorean*\n",
    "  * *Pendulum*\n",
    "* Built on a custom class rather than `datetime`."
   ]
  },
  {
   "cell_type": "markdown",
   "metadata": {
    "slideshow": {
     "slide_type": "slide"
    }
   },
   "source": [
    "# Third-Party Tools\n",
    "\n",
    "* Most provide evaluation heuristics along the lines of *Dateutil* `parse()` function.\n",
    "* Some of them produce informal strings for user messages, e.g.:"
   ]
  },
  {
   "cell_type": "code",
   "execution_count": 11,
   "metadata": {
    "slideshow": {
     "slide_type": "fragment"
    }
   },
   "outputs": [
    {
     "data": {
      "text/plain": [
       "'in 2 hours'"
      ]
     },
     "execution_count": 11,
     "metadata": {},
     "output_type": "execute_result"
    }
   ],
   "source": [
    "import arrow\n",
    "present = arrow.utcnow()\n",
    "future = present.shift(minutes=150)\n",
    "future.humanize(present)"
   ]
  },
  {
   "cell_type": "markdown",
   "metadata": {
    "slideshow": {
     "slide_type": "slide"
    }
   },
   "source": [
    "# What Next?\n",
    "\n",
    "* <img src=\"img/DQM-bokeh-palms.jpg\" align=\"right\" width=\"33%\"/>What datetimes occur in your domain, how are they represented.\n",
    "* Evaluate to what degree timezone messiness affects you.\n",
    "* As much as possible, standardize the use of timestamps at your workplace."
   ]
  },
  {
   "cell_type": "markdown",
   "metadata": {
    "slideshow": {
     "slide_type": "slide"
    }
   },
   "source": []
  }
 ],
 "metadata": {
  "celltoolbar": "Slideshow",
  "kernelspec": {
   "display_name": "Python 3",
   "language": "python",
   "name": "python3"
  },
  "language_info": {
   "codemirror_mode": {
    "name": "ipython",
    "version": 3
   },
   "file_extension": ".py",
   "mimetype": "text/x-python",
   "name": "python",
   "nbconvert_exporter": "python",
   "pygments_lexer": "ipython3",
   "version": "3.8.2"
  }
 },
 "nbformat": 4,
 "nbformat_minor": 4
}
