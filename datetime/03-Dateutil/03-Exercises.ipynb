{
 "cells": [
  {
   "cell_type": "markdown",
   "metadata": {},
   "source": [
    "# Description"
   ]
  },
  {
   "cell_type": "markdown",
   "metadata": {},
   "source": [
    "In this lesson you will create a will create a collection of dates using the capabilities to express durations and recurring events that are provided by `dateutil`.  In your practice, you may want to wrap rule objects in the `list()` constructor to debug your results.  For example\n",
    "\n",
    "```python\n",
    ">>> rrule(DAILY, count=3)\n",
    "<dateutil.rrule.rrule at 0x7fc85865eb80>\n",
    "\n",
    ">>> list(rrule(DAILY, count=3))\n",
    "[datetime.datetime(2020, 8, 21, 19, 3, 18),\n",
    " datetime.datetime(2020, 8, 22, 19, 3, 18),\n",
    " datetime.datetime(2020, 8, 23, 19, 3, 18)]\n",
    "```\n",
    "\n",
    "The latter is more useful to eyeball.  \n",
    "\n",
    "You need to define a set of date objects (not datetime) that begin on January 31, 1980, and end on October 31, 2009, where each date is spaced 17 months apart, and each date is the last day of the month it occurs in.  There will be 22 dates in your result, in the variable `end_of_months`.\n",
    "\n",
    "Note that we have not obscured the desired answer in the tests.  You should solve this exercise using functions/classes in `datetime` and `dateutil` rather than simply copy the right answer."
   ]
  },
  {
   "cell_type": "markdown",
   "metadata": {},
   "source": [
    "# Setup"
   ]
  },
  {
   "cell_type": "code",
   "execution_count": 1,
   "metadata": {},
   "outputs": [],
   "source": [
    "from datetime import date, datetime\n",
    "from dateutil.relativedelta import *\n",
    "from dateutil.rrule import *\n",
    "\n",
    "rset = rruleset()\n",
    "rset.rrule(rrule(DAILY, count=3))\n",
    "\n",
    "# Right kind of object, but wrong dates\n",
    "end_of_months = set(dt.date() for dt in rset)"
   ]
  },
  {
   "cell_type": "markdown",
   "metadata": {},
   "source": [
    "# Solution"
   ]
  },
  {
   "cell_type": "code",
   "execution_count": 2,
   "metadata": {
    "scrolled": false
   },
   "outputs": [],
   "source": [
    "rset = rruleset()\n",
    "rset.rrule(\n",
    "    rrule(MONTHLY, interval=17, \n",
    "          dtstart=datetime(1980, 2, 1),\n",
    "          until=datetime(2009, 12, 1)))\n",
    "\n",
    "end_of_months = {dt.date() - relativedelta(days=1) for dt in rset}"
   ]
  },
  {
   "cell_type": "markdown",
   "metadata": {},
   "source": [
    "# Test Cases"
   ]
  },
  {
   "cell_type": "code",
   "execution_count": 3,
   "metadata": {},
   "outputs": [],
   "source": [
    "def test_type():\n",
    "    assert isinstance(end_of_months, set)\n",
    "    \n",
    "test_type()"
   ]
  },
  {
   "cell_type": "code",
   "execution_count": 4,
   "metadata": {},
   "outputs": [],
   "source": [
    "def test_number():\n",
    "    assert len(end_of_months) == 22\n",
    "    \n",
    "test_number()"
   ]
  },
  {
   "cell_type": "code",
   "execution_count": 5,
   "metadata": {},
   "outputs": [],
   "source": [
    "def test_set():\n",
    "    correct = {\n",
    "        date(1980, 1, 31), date(1981, 6, 30), date(1982, 11, 30),\n",
    "        date(1984, 4, 30), date(1985, 9, 30), date(1987, 2, 28),\n",
    "        date(1988, 7, 31), date(1989, 12, 31),date(1991, 5, 31),\n",
    "        date(1992, 10, 31),date(1994, 3, 31), date(1995, 8, 31),\n",
    "        date(1997, 1, 31), date(1998, 6, 30), date(1999, 11, 30),\n",
    "        date(2001, 4, 30), date(2002, 9, 30), date(2004, 2, 29),\n",
    "        date(2005, 7, 31), date(2006, 12, 31),date(2008, 5, 31),\n",
    "        date(2009, 10, 31)}\n",
    "    assert end_of_months == correct\n",
    "    \n",
    "test_set()"
   ]
  },
  {
   "cell_type": "code",
   "execution_count": 9,
   "metadata": {},
   "outputs": [],
   "source": [
    "def test_set_obscured():\n",
    "    from hashlib import sha1\n",
    "    em = sorted(dt.isoformat() for dt in end_of_months)\n",
    "    hash = sha1('|'.join(em).encode()).hexdigest()\n",
    "    assert hash == '1711158808fe535c3c80c43181704fb1e7c6a351'\n",
    "    \n",
    "test_set_obscured()"
   ]
  }
 ],
 "metadata": {
  "kernelspec": {
   "display_name": "Python 3",
   "language": "python",
   "name": "python3"
  },
  "language_info": {
   "codemirror_mode": {
    "name": "ipython",
    "version": 3
   },
   "file_extension": ".py",
   "mimetype": "text/x-python",
   "name": "python",
   "nbconvert_exporter": "python",
   "pygments_lexer": "ipython3",
   "version": "3.8.2"
  }
 },
 "nbformat": 4,
 "nbformat_minor": 4
}
