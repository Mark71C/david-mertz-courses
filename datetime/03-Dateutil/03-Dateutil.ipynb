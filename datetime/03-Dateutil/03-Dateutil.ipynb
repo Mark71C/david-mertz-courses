{
 "cells": [
  {
   "cell_type": "markdown",
   "metadata": {
    "slideshow": {
     "slide_type": "slide"
    }
   },
   "source": [
    "# Dateutil\n",
    "\n",
    "The third-party library `dateutil` is recommended in the Python standard library documentation.  It works with the same underlying `datetime.datetime` objects used by the standard libary, but adds many extra conveniences.  We saw in the previous lesson that it provides access to the IANA timezone database, for more accurate time zones."
   ]
  },
  {
   "cell_type": "code",
   "execution_count": 1,
   "metadata": {
    "slideshow": {
     "slide_type": "fragment"
    }
   },
   "outputs": [],
   "source": [
    "from datetime import date, time, datetime, timedelta\n",
    "start = datetime.now()"
   ]
  },
  {
   "cell_type": "markdown",
   "metadata": {
    "slideshow": {
     "slide_type": "slide"
    }
   },
   "source": [
    "## Parser\n",
    "\n",
    "The standard library can read ISO 8601 format, and can read other formats using explicit format codes that are easy to get wrong.  With `dateutil` we can heuristically parse most formats used to represent dates and datetimes."
   ]
  },
  {
   "cell_type": "code",
   "execution_count": 2,
   "metadata": {
    "slideshow": {
     "slide_type": "fragment"
    }
   },
   "outputs": [],
   "source": [
    "from dateutil.parser import parse\n",
    "from dateutil.tz import gettz\n",
    "# Offset in seconds or at tzinfo object\n",
    "tzinfos = {\"MSK\": +10800, \"CST\": gettz(\"America/Chicago\")}"
   ]
  },
  {
   "cell_type": "markdown",
   "metadata": {
    "slideshow": {
     "slide_type": "subslide"
    }
   },
   "source": [
    "Various formats are guessed successfully."
   ]
  },
  {
   "cell_type": "code",
   "execution_count": 3,
   "metadata": {
    "slideshow": {
     "slide_type": "fragment"
    }
   },
   "outputs": [
    {
     "data": {
      "text/plain": [
       "datetime.datetime(2020, 1, 31, 12, 30, 45)"
      ]
     },
     "execution_count": 3,
     "metadata": {},
     "output_type": "execute_result"
    }
   ],
   "source": [
    "parse('2020-01-31T12:30:45')"
   ]
  },
  {
   "cell_type": "code",
   "execution_count": 4,
   "metadata": {
    "slideshow": {
     "slide_type": "fragment"
    }
   },
   "outputs": [
    {
     "data": {
      "text/plain": [
       "datetime.datetime(2020, 1, 31, 12, 30, 45, tzinfo=tzoffset('MSK', 10800))"
      ]
     },
     "execution_count": 4,
     "metadata": {},
     "output_type": "execute_result"
    }
   ],
   "source": [
    "parse('2020-01-31T12:30:45 MSK', tzinfos=tzinfos)"
   ]
  },
  {
   "cell_type": "code",
   "execution_count": 5,
   "metadata": {
    "slideshow": {
     "slide_type": "fragment"
    }
   },
   "outputs": [
    {
     "data": {
      "text/plain": [
       "datetime.datetime(2020, 1, 31, 12, 30, 45, tzinfo=tzfile('/usr/share/zoneinfo/America/Chicago'))"
      ]
     },
     "execution_count": 5,
     "metadata": {},
     "output_type": "execute_result"
    }
   ],
   "source": [
    "parse('2020-01-31T12:30:45 CST', tzinfos=tzinfos)"
   ]
  },
  {
   "cell_type": "code",
   "execution_count": 6,
   "metadata": {
    "slideshow": {
     "slide_type": "fragment"
    }
   },
   "outputs": [
    {
     "data": {
      "text/plain": [
       "datetime.datetime(2020, 1, 1, 13, 30, 45, tzinfo=tzoffset(None, 18000))"
      ]
     },
     "execution_count": 6,
     "metadata": {},
     "output_type": "execute_result"
    }
   ],
   "source": [
    "parse('January 1, 2020 1:30:45 pm +0500')"
   ]
  },
  {
   "cell_type": "markdown",
   "metadata": {
    "slideshow": {
     "slide_type": "subslide"
    }
   },
   "source": [
    "Different locations choose day-first or month-first date format."
   ]
  },
  {
   "cell_type": "code",
   "execution_count": 7,
   "metadata": {
    "slideshow": {
     "slide_type": "fragment"
    }
   },
   "outputs": [
    {
     "data": {
      "text/plain": [
       "datetime.datetime(2020, 1, 2, 0, 0)"
      ]
     },
     "execution_count": 7,
     "metadata": {},
     "output_type": "execute_result"
    }
   ],
   "source": [
    "parse('01/02/2020')"
   ]
  },
  {
   "cell_type": "code",
   "execution_count": 8,
   "metadata": {
    "slideshow": {
     "slide_type": "fragment"
    }
   },
   "outputs": [
    {
     "data": {
      "text/plain": [
       "datetime.datetime(2020, 2, 1, 0, 0)"
      ]
     },
     "execution_count": 8,
     "metadata": {},
     "output_type": "execute_result"
    }
   ],
   "source": [
    "parse('01/02/2020', dayfirst=True)"
   ]
  },
  {
   "cell_type": "markdown",
   "metadata": {
    "slideshow": {
     "slide_type": "subslide"
    }
   },
   "source": [
    "Day of week is still mostly ignored."
   ]
  },
  {
   "cell_type": "code",
   "execution_count": 9,
   "metadata": {
    "slideshow": {
     "slide_type": "fragment"
    }
   },
   "outputs": [
    {
     "data": {
      "text/plain": [
       "datetime.datetime(2020, 8, 12, 17, 29, 12)"
      ]
     },
     "execution_count": 9,
     "metadata": {},
     "output_type": "execute_result"
    }
   ],
   "source": [
    "parse('Wednesday Aug 12; 2020; 05:29:12 PM')"
   ]
  },
  {
   "cell_type": "code",
   "execution_count": 10,
   "metadata": {
    "slideshow": {
     "slide_type": "fragment"
    }
   },
   "outputs": [
    {
     "data": {
      "text/plain": [
       "datetime.datetime(2020, 8, 12, 17, 29, 12)"
      ]
     },
     "execution_count": 10,
     "metadata": {},
     "output_type": "execute_result"
    }
   ],
   "source": [
    "parse('Monday Aug 12; 2020; 05:29:12 PM')"
   ]
  },
  {
   "cell_type": "code",
   "execution_count": 11,
   "metadata": {
    "slideshow": {
     "slide_type": "fragment"
    }
   },
   "outputs": [
    {
     "name": "stdout",
     "output_type": "stream",
     "text": [
      "ParserError | Unknown string format: Humpday Aug 08; 2020; 05:29:12 PM\n"
     ]
    }
   ],
   "source": [
    "try:\n",
    "    parse('Humpday Aug 08; 2020; 05:29:12 PM')\n",
    "except Exception as err:\n",
    "    print(err.__class__.__name__, \"|\", err)"
   ]
  },
  {
   "cell_type": "code",
   "execution_count": 12,
   "metadata": {
    "slideshow": {
     "slide_type": "fragment"
    }
   },
   "outputs": [
    {
     "name": "stdout",
     "output_type": "stream",
     "text": [
      "ParserError | day is out of range for month: Thursday Sep 31; 2020; 05:29:12 PM\n"
     ]
    }
   ],
   "source": [
    "try:\n",
    "    parse('Thursday Sep 31; 2020; 05:29:12 PM')\n",
    "except Exception as err:\n",
    "    print(err.__class__.__name__, \"|\", err)"
   ]
  },
  {
   "cell_type": "markdown",
   "metadata": {
    "slideshow": {
     "slide_type": "slide"
    }
   },
   "source": [
    "## Timedeltas\n",
    "\n",
    "In the standard library, an object called `timedelta` is useful in measuring or adding durations to `datetime` objects.  That object has some limitations, notably in that it only handles regular units, the largest of those being days.  "
   ]
  },
  {
   "cell_type": "markdown",
   "metadata": {
    "slideshow": {
     "slide_type": "fragment"
    }
   },
   "source": [
    "In commerce and ordinary life, we often think of durations in terms of months, weeks, and years, even though months are of varying lengths, as are years that may or may not be leap years."
   ]
  },
  {
   "cell_type": "markdown",
   "metadata": {
    "slideshow": {
     "slide_type": "subslide"
    }
   },
   "source": [
    "For example, let us take two dates (here as `datetime`s, but a simple `date`s would work for this purpose).  One we colloquially call \"end of January\" the other \"end of February.\"  We might want to *move forward a month*."
   ]
  },
  {
   "cell_type": "code",
   "execution_count": 13,
   "metadata": {
    "slideshow": {
     "slide_type": "fragment"
    }
   },
   "outputs": [],
   "source": [
    "from dateutil.relativedelta import *\n",
    "jan_end = datetime(2020, 1, 31)\n",
    "feb_end = datetime(2020, 2, 29)"
   ]
  },
  {
   "cell_type": "code",
   "execution_count": 14,
   "metadata": {
    "slideshow": {
     "slide_type": "fragment"
    }
   },
   "outputs": [
    {
     "data": {
      "text/plain": [
       "datetime.datetime(2020, 3, 1, 0, 0)"
      ]
     },
     "execution_count": 14,
     "metadata": {},
     "output_type": "execute_result"
    }
   ],
   "source": [
    "jan_end + timedelta(days=30)"
   ]
  },
  {
   "cell_type": "code",
   "execution_count": 15,
   "metadata": {
    "slideshow": {
     "slide_type": "fragment"
    }
   },
   "outputs": [
    {
     "data": {
      "text/plain": [
       "datetime.datetime(2020, 3, 30, 0, 0)"
      ]
     },
     "execution_count": 15,
     "metadata": {},
     "output_type": "execute_result"
    }
   ],
   "source": [
    "feb_end + timedelta(days=30)"
   ]
  },
  {
   "cell_type": "markdown",
   "metadata": {
    "slideshow": {
     "slide_type": "subslide"
    }
   },
   "source": [
    "Those are unsatisfying answers that are numerically \"correct\" but not what we probably mean.  `relativedelta` from dateutil is more flexible."
   ]
  },
  {
   "cell_type": "code",
   "execution_count": 16,
   "metadata": {
    "slideshow": {
     "slide_type": "fragment"
    }
   },
   "outputs": [
    {
     "data": {
      "text/plain": [
       "datetime.datetime(2020, 2, 29, 0, 0)"
      ]
     },
     "execution_count": 16,
     "metadata": {},
     "output_type": "execute_result"
    }
   ],
   "source": [
    "jan_end + relativedelta(months=1)"
   ]
  },
  {
   "cell_type": "code",
   "execution_count": 17,
   "metadata": {
    "slideshow": {
     "slide_type": "fragment"
    }
   },
   "outputs": [
    {
     "data": {
      "text/plain": [
       "datetime.datetime(2020, 3, 29, 0, 0)"
      ]
     },
     "execution_count": 17,
     "metadata": {},
     "output_type": "execute_result"
    }
   ],
   "source": [
    "feb_end + relativedelta(months=1)"
   ]
  },
  {
   "cell_type": "markdown",
   "metadata": {
    "slideshow": {
     "slide_type": "subslide"
    }
   },
   "source": [
    "We might combine different \"human scale\" increments."
   ]
  },
  {
   "cell_type": "code",
   "execution_count": 18,
   "metadata": {
    "slideshow": {
     "slide_type": "fragment"
    }
   },
   "outputs": [
    {
     "data": {
      "text/plain": [
       "datetime.datetime(2021, 2, 28, 0, 0)"
      ]
     },
     "execution_count": 18,
     "metadata": {},
     "output_type": "execute_result"
    }
   ],
   "source": [
    "# A year and a month later\n",
    "jan_end + relativedelta(years=1, months=1)"
   ]
  },
  {
   "cell_type": "code",
   "execution_count": 19,
   "metadata": {
    "slideshow": {
     "slide_type": "fragment"
    }
   },
   "outputs": [
    {
     "data": {
      "text/plain": [
       "datetime.datetime(2021, 2, 22, 0, 0)"
      ]
     },
     "execution_count": 19,
     "metadata": {},
     "output_type": "execute_result"
    }
   ],
   "source": [
    "# The monday before a year and a month later\n",
    "jan_end + relativedelta(years=1, months=1, weekday=MO(-1))"
   ]
  },
  {
   "cell_type": "markdown",
   "metadata": {
    "slideshow": {
     "slide_type": "slide"
    }
   },
   "source": [
    "## Recurring Events\n",
    "\n",
    "The `dateutil` library allows you to create collections of recurring or related dates and datetimes.  By combining arguments to the `rrule()`, `rruleset()` and `rrrulestr()` functions, we can generate iterators over these collections of related times."
   ]
  },
  {
   "cell_type": "code",
   "execution_count": 20,
   "metadata": {
    "slideshow": {
     "slide_type": "fragment"
    }
   },
   "outputs": [],
   "source": [
    "from dateutil.rrule import *"
   ]
  },
  {
   "cell_type": "markdown",
   "metadata": {
    "slideshow": {
     "slide_type": "subslide"
    }
   },
   "source": [
    "Every two-and-a-half hours from now until the same time tomorrow."
   ]
  },
  {
   "cell_type": "code",
   "execution_count": 21,
   "metadata": {
    "slideshow": {
     "slide_type": "fragment"
    }
   },
   "outputs": [
    {
     "name": "stdout",
     "output_type": "stream",
     "text": [
      "2020-08-21 17:38:44\n",
      "2020-08-21 20:08:44\n",
      "2020-08-21 22:38:44\n",
      "2020-08-22 01:08:44\n",
      "2020-08-22 03:38:44\n",
      "2020-08-22 06:08:44\n",
      "2020-08-22 08:38:44\n",
      "2020-08-22 11:08:44\n",
      "2020-08-22 13:38:44\n",
      "2020-08-22 16:08:44\n"
     ]
    }
   ],
   "source": [
    "alarms = rrule(MINUTELY, interval=150,\n",
    "               dtstart=start,\n",
    "               until=start + relativedelta(days=1))\n",
    "for alarm in alarms:\n",
    "    print(alarm)"
   ]
  },
  {
   "cell_type": "markdown",
   "metadata": {
    "slideshow": {
     "slide_type": "subslide"
    }
   },
   "source": [
    "United States presidential elections follow a slightly odd rule. The occur every four years of the first Tuesday that follows a Monday in November.  When are the next 5 of them from right now?"
   ]
  },
  {
   "cell_type": "code",
   "execution_count": 22,
   "metadata": {
    "slideshow": {
     "slide_type": "fragment"
    }
   },
   "outputs": [
    {
     "name": "stdout",
     "output_type": "stream",
     "text": [
      "2020-11-03\n",
      "2024-11-05\n",
      "2028-11-07\n",
      "2032-11-02\n",
      "2036-11-04\n"
     ]
    }
   ],
   "source": [
    "elections = rrule(YEARLY, interval=4, count=5, \n",
    "                  bymonth=11,\n",
    "                  byweekday=TU, \n",
    "                  bymonthday=(2, 3, 4, 5, 6, 7, 8),\n",
    "                  dtstart=start)\n",
    "\n",
    "for election in elections:\n",
    "    print(election.date())"
   ]
  },
  {
   "cell_type": "markdown",
   "metadata": {
    "slideshow": {
     "slide_type": "subslide"
    }
   },
   "source": [
    "Sometimes we *almost* want a recurrence rule, but we need to include something extra or exclude something that would otherwise occur.  Here is this time of day, every day of the next week, excluding Tuesday and Thursday. "
   ]
  },
  {
   "cell_type": "code",
   "execution_count": 27,
   "metadata": {},
   "outputs": [
    {
     "data": {
      "text/plain": [
       "dateutil.rrule.rruleset"
      ]
     },
     "execution_count": 27,
     "metadata": {},
     "output_type": "execute_result"
    }
   ],
   "source": [
    "type(events)"
   ]
  },
  {
   "cell_type": "code",
   "execution_count": 23,
   "metadata": {
    "slideshow": {
     "slide_type": "fragment"
    }
   },
   "outputs": [
    {
     "name": "stdout",
     "output_type": "stream",
     "text": [
      "2020-08-21 17:38:44\n",
      "2020-08-22 17:38:44\n",
      "2020-08-23 17:38:44\n",
      "2020-08-24 17:38:44\n",
      "2020-08-26 17:38:44\n"
     ]
    }
   ],
   "source": [
    "events = rruleset()\n",
    "events.rrule(rrule(DAILY, count=7, dtstart=start))\n",
    "events.exrule(rrule(DAILY, byweekday=(TU, TH), dtstart=start))\n",
    "\n",
    "for event in events:\n",
    "    print(event)"
   ]
  },
  {
   "cell_type": "markdown",
   "metadata": {
    "slideshow": {
     "slide_type": "subslide"
    }
   },
   "source": [
    "Perhaps we would like to add additional datetimes to a collection.  For example, on Tuesday/Thursday we want an event, but at exactly noon, rather than based on current time."
   ]
  },
  {
   "cell_type": "code",
   "execution_count": 24,
   "metadata": {
    "slideshow": {
     "slide_type": "fragment"
    }
   },
   "outputs": [
    {
     "name": "stdout",
     "output_type": "stream",
     "text": [
      "2020-08-21 17:38:44\n",
      "2020-08-22 17:38:44\n",
      "2020-08-23 17:38:44\n",
      "2020-08-24 17:38:44\n",
      "2020-08-25 12:00:00\n",
      "2020-08-26 17:38:44\n",
      "2020-08-27 12:00:00\n"
     ]
    }
   ],
   "source": [
    "noon = start.replace(hour=12, minute=0, second=0, microsecond=0)\n",
    "events.rrule(rrule(DAILY, \n",
    "                   dtstart=noon, \n",
    "                   until=noon+relativedelta(days=7), \n",
    "                   byweekday=(TU, TH)))\n",
    "\n",
    "for event in events:\n",
    "    print(event)"
   ]
  },
  {
   "cell_type": "markdown",
   "metadata": {
    "slideshow": {
     "slide_type": "subslide"
    }
   },
   "source": [
    "We can also read fragments of Internet Calendaring and Scheduling Core Object Specification (iCalendar) string descriptions of recurring events.  Only the timstamp portions are recognized, the other metadata must be stripped separately."
   ]
  },
  {
   "cell_type": "code",
   "execution_count": 25,
   "metadata": {
    "slideshow": {
     "slide_type": "fragment"
    }
   },
   "outputs": [
    {
     "name": "stdout",
     "output_type": "stream",
     "text": [
      "2020-08-21 14:00:00\n",
      "2020-08-26 14:00:00\n",
      "2020-08-31 14:00:00\n",
      "2020-09-10 14:00:00\n",
      "2020-09-20 14:00:00\n",
      "2020-09-30 14:00:00\n"
     ]
    }
   ],
   "source": [
    "meetings = rrulestr(f\"\"\"\n",
    "  DTSTART:{date.today()}T14:00:00\n",
    "  RRULE:FREQ=DAILY;INTERVAL=10;COUNT=5\n",
    "  RRULE:FREQ=DAILY;INTERVAL=5;COUNT=3\"\"\")\n",
    "for meeting in meetings:\n",
    "    print(meeting)"
   ]
  },
  {
   "cell_type": "code",
   "execution_count": null,
   "metadata": {
    "slideshow": {
     "slide_type": "slide"
    }
   },
   "outputs": [],
   "source": []
  }
 ],
 "metadata": {
  "celltoolbar": "Slideshow",
  "kernelspec": {
   "display_name": "Python 3",
   "language": "python",
   "name": "python3"
  },
  "language_info": {
   "codemirror_mode": {
    "name": "ipython",
    "version": 3
   },
   "file_extension": ".py",
   "mimetype": "text/x-python",
   "name": "python",
   "nbconvert_exporter": "python",
   "pygments_lexer": "ipython3",
   "version": "3.8.2"
  }
 },
 "nbformat": 4,
 "nbformat_minor": 4
}
