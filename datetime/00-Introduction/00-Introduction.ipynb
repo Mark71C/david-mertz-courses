{
 "cells": [
  {
   "cell_type": "markdown",
   "metadata": {},
   "source": [
    "# Using Dates, Times, and Datetimes in Python\n",
    "\n",
    "This course aims at an beginner level Python programmer.  We focus on time handling in this course, but we do assume you are familiar with basic function calls, loops, and list comprehensions.  However, we do not assume experience with the specific library this lesson addresses.\n",
    "\n",
    "* datetimes\n",
    "* dates / times\n",
    "* timedeltas. \n",
    "* timezones"
   ]
  },
  {
   "cell_type": "markdown",
   "metadata": {},
   "source": [
    "## Instructor\n",
    "\n",
    "\n",
    "<img src=\"img/DQM-sofa-verso.jpg\" align=\"right\" width=\"33%\"/>My name is David Mertz, and I am your instructor for these lessons.  I have been part of the Python community for over 20 years. During that time, I have been involved with the governance of the Python Software Foundation, and have worked as a developer, a writer, and a trainer.  In recent years I have  focused on Python's use in scientific computing and data science."
   ]
  },
  {
   "cell_type": "markdown",
   "metadata": {},
   "source": [
    "<img src=\"img/DQM-colors-2.jpg\" align=\"right\" width=\"33%\"/>Python provides solid, basic handling of timestamps and other time and calendar functions.  \n",
    "\n",
    "With a little bit of assistance from third-party libraries, we can manage more intricate behavior of time zones and the complications attached thereto.\n",
    "\n",
    "In almost any domain of software development, dealing with time-related indicators will be essential, and this course will give you a solid foundation for your work."
   ]
  }
 ],
 "metadata": {
  "kernelspec": {
   "display_name": "Python 3",
   "language": "python",
   "name": "python3"
  },
  "language_info": {
   "codemirror_mode": {
    "name": "ipython",
    "version": 3
   },
   "file_extension": ".py",
   "mimetype": "text/x-python",
   "name": "python",
   "nbconvert_exporter": "python",
   "pygments_lexer": "ipython3",
   "version": "3.8.2"
  }
 },
 "nbformat": 4,
 "nbformat_minor": 4
}
