{
 "cells": [
  {
   "cell_type": "markdown",
   "metadata": {},
   "source": [
    "# Description"
   ]
  },
  {
   "cell_type": "markdown",
   "metadata": {},
   "source": [
    "For this exercise, you will need to consult a reference on date formatting codes, such as:\n",
    "\n",
    "> https://docs.python.org/3/library/datetime.html#strftime-strptime-behavior\n",
    "\n",
    "Since the conventions are shared by a great many programming languages and tools, other references are equally accurate.\n",
    "\n",
    "Your goal is to write a function, `future()` that will take a string that describes a timestamp, calculates the timestamp at a certain distance into the future, and prints out the future date in the same format.  The signature of your function will be:\n",
    "\n",
    "```python\n",
    "def future(ts: str, days: int=0, hours: int=0, minutes: int=0) -> str:\n",
    "    ...\n",
    "```\n",
    "\n",
    "In a basic version of this solution, simply match the format in the examples shown.  If you would like to practice a little bit more, add an optional argument `fmt` that allows accepting other timestamp formats.\n",
    "\n",
    "```python\n",
    ">>> future(\"9 April 2019; 07:08:09\", days=100, minutes=100)\n",
    "'18 July 2019; 08:48:09'\n",
    "\n",
    ">>> future(\"10 May 2020; 23:24:25\", hours=10_000)\n",
    "'01 July 2021; 15:24:25'\n",
    "\n",
    ">>> future(\"11 June 2021; 11:12:13\", hours=10**4, minutes=-10**6)\n",
    "'06 September 2020; 16:32:13'\n",
    "```"
   ]
  },
  {
   "cell_type": "markdown",
   "metadata": {},
   "source": [
    "# Setup"
   ]
  },
  {
   "cell_type": "code",
   "execution_count": 10,
   "metadata": {},
   "outputs": [],
   "source": [
    "dt = datetime.now()\n",
    "date = dt.date()\n",
    "time = dt.time()\n",
    "delta = timedelta(hours=2)"
   ]
  },
  {
   "cell_type": "code",
   "execution_count": 4,
   "metadata": {},
   "outputs": [],
   "source": [
    "from datetime import datetime, timedelta\n",
    "\n",
    "# This function has correct signature, but wrong behavior\n",
    "def future(ts, days=0, hours=0, minutes=0):\n",
    "    return datetime.now().isoformat()"
   ]
  },
  {
   "cell_type": "markdown",
   "metadata": {},
   "source": [
    "# Solution"
   ]
  },
  {
   "cell_type": "code",
   "execution_count": 2,
   "metadata": {},
   "outputs": [],
   "source": [
    "def future(ts, days=0, hours=0, minutes=0,\n",
    "           fmt = '%d %B %Y; %H:%M:%S'):\n",
    "    dt = datetime.strptime(ts, fmt)\n",
    "    delta = timedelta(days=days, hours=hours, minutes=minutes)\n",
    "    return datetime.strftime(dt + delta, fmt)"
   ]
  },
  {
   "cell_type": "markdown",
   "metadata": {},
   "source": [
    "# Test Cases"
   ]
  },
  {
   "cell_type": "code",
   "execution_count": 3,
   "metadata": {},
   "outputs": [],
   "source": [
    "def test_conversion():\n",
    "    ts = \"9 April 2019; 07:08:09\"\n",
    "    new = future(ts, days=100, minutes=100)\n",
    "    assert new == '18 July 2019; 08:48:09', new\n",
    "    ts = \"10 May 2020; 23:24:25\"\n",
    "    new = future(ts, hours=10_000)\n",
    "    assert new == '01 July 2021; 15:24:25', new\n",
    "    ts = \"11 June 2021; 11:12:13\"\n",
    "    new = future(ts, hours=10**4, minutes=-10**6)\n",
    "    assert new == '06 September 2020; 16:32:13', new\n",
    "    \n",
    "test_conversion()"
   ]
  }
 ],
 "metadata": {
  "kernelspec": {
   "display_name": "Python 3",
   "language": "python",
   "name": "python3"
  },
  "language_info": {
   "codemirror_mode": {
    "name": "ipython",
    "version": 3
   },
   "file_extension": ".py",
   "mimetype": "text/x-python",
   "name": "python",
   "nbconvert_exporter": "python",
   "pygments_lexer": "ipython3",
   "version": "3.8.2"
  }
 },
 "nbformat": 4,
 "nbformat_minor": 4
}
