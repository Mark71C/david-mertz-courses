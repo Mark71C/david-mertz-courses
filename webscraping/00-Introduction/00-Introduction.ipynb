{
 "cells": [
  {
   "cell_type": "markdown",
   "metadata": {
    "slideshow": {
     "slide_type": "slide"
    }
   },
   "source": [
    "# Web scraping in Python\n",
    "\n",
    "<img src=\"python-logo.png\" width=\"25%\" align=\"right\"/>This course aims at an intermediate to advanced Python programmer.  In this course, we look at the reasons why you should create unit tests for your software projects, discusses the idea of test-driven development, and explains several different libraries or frameworks in which to write unit test.  \n",
    "\n"
   ]
  },
  {
   "cell_type": "markdown",
   "metadata": {
    "slideshow": {
     "slide_type": "slide"
    }
   },
   "source": [
    "# Instructor\n",
    "\n",
    "<img src=\"DQM-Jozi.jpg\" align=\"right\" width=\"30%\"/>My name is David Mertz, and I am your instructor for these lessons.  I have been part of the Python community for over 20 years. During that time, I have been involved with the governance of the Python Software Foundation, and have worked as a developer, a writer, and a trainer.  In recent years I have  focused on Python's use in scientific computing and data science."
   ]
  },
  {
   "cell_type": "markdown",
   "metadata": {
    "slideshow": {
     "slide_type": "slide"
    }
   },
   "source": [
    "# In This Course\n",
    "\n",
    "* <img src=\"DQM-colors-2.jpg\" align=\"right\" width=\"27%\"/>Using `doctest` for \"literate programming\" of tests.\n",
    "* The `unittest` module that follows the xUnit philosophy of many programming languages.\n",
    "* The widely used third-party framework `pytest` that brings a Pythonic approach to unit testing.\n",
    "* Use of fixtures within unit tests.\n",
    "* Use of mocks and stubs within unit tests."
   ]
  }
 ],
 "metadata": {
  "celltoolbar": "Slideshow",
  "kernelspec": {
   "display_name": "Python 3",
   "language": "python",
   "name": "python3"
  },
  "language_info": {
   "codemirror_mode": {
    "name": "ipython",
    "version": 3
   },
   "file_extension": ".py",
   "mimetype": "text/x-python",
   "name": "python",
   "nbconvert_exporter": "python",
   "pygments_lexer": "ipython3",
   "version": "3.8.2"
  }
 },
 "nbformat": 4,
 "nbformat_minor": 4
}
