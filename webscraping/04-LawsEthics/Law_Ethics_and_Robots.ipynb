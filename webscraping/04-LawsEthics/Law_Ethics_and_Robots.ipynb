{
 "cells": [
  {
   "cell_type": "markdown",
   "metadata": {},
   "source": [
    "## Parsing robots.txt\n",
    "\n",
    "https://www.ctrl.blog/entry/arcane-robotstxt-directives.html\n",
    "\n",
    "## META robots\n",
    "\n",
    "```<META NAME=\"ROBOTS\" CONTENT=\"NOINDEX, NOFOLLOW\">```\n",
    "    \n",
    "## Link nofollow\n",
    "    \n",
    "```<a href=\"...\" rel=\"nofollow\">```"
   ]
  },
  {
   "cell_type": "code",
   "execution_count": 1,
   "metadata": {},
   "outputs": [],
   "source": [
    "import urllib\n",
    "from urllib import robotparser"
   ]
  },
  {
   "cell_type": "code",
   "execution_count": 11,
   "metadata": {},
   "outputs": [
    {
     "name": "stdout",
     "output_type": "stream",
     "text": [
      "None\n",
      "None\n",
      "None\n",
      "User-agent: *\n",
      "Disallow: /etext\n",
      "Disallow: /dirs/etext\n",
      "Disallow: /dirs/1\n",
      "Disallow: /dirs/2\n",
      "Disallow: /dirs/3\n",
      "Disallow: /dirs/4\n",
      "Disallow: /dirs/5\n",
      "Disallow: /dirs/6\n",
      "Disallow: /dirs/7\n",
      "Disallow: /dirs/8\n",
      "Disallow: /dirs/9\n",
      "Disallow: /catalog/world/\n",
      "Disallow: /ebooks/search\n",
      "Disallow: /ebooks/send/\n",
      "Disallow: /ratelimiter\n",
      "Disallow: /zipcat\n",
      "Disallow: /addresses/\n",
      "Disallow: /author/\n",
      "Disallow: /internal/\n",
      "Disallow: /etext/magnet\n",
      "Disallow: /cache/\n",
      "Disallow: /cdproject/\n",
      "Disallow: /w/\n",
      "Disallow: /wiki/Special%3ASearch\n",
      "Disallow: /wiki/Special%3ARandom\n"
     ]
    }
   ],
   "source": [
    "# PG robots.txt seems partially broken! \n",
    "# It has `Crawl-delay: 5`, but after a blank line.\n",
    "# The intent is clear, but robotparser does not figure it out\n",
    "\n",
    "rp = robotparser.RobotFileParser()\n",
    "rp.set_url(\"https://www.gutenberg.org/robots.txt\")\n",
    "rp.read()\n",
    "print(rp.modified())\n",
    "print(rp.request_rate(\"*\"))\n",
    "print(rp.crawl_delay(\"*\"))\n",
    "print(rp.default_entry)"
   ]
  },
  {
   "cell_type": "code",
   "execution_count": 3,
   "metadata": {},
   "outputs": [],
   "source": [
    "rp.modified()"
   ]
  },
  {
   "cell_type": "code",
   "execution_count": 4,
   "metadata": {},
   "outputs": [
    {
     "data": {
      "text/plain": [
       "False"
      ]
     },
     "execution_count": 4,
     "metadata": {},
     "output_type": "execute_result"
    }
   ],
   "source": [
    "rp.can_fetch(\"AdsBot-Google\", \"https://www.gutenberg.org/help/faq.html\")"
   ]
  },
  {
   "cell_type": "code",
   "execution_count": 5,
   "metadata": {},
   "outputs": [
    {
     "data": {
      "text/plain": [
       "True"
      ]
     },
     "execution_count": 5,
     "metadata": {},
     "output_type": "execute_result"
    }
   ],
   "source": [
    "rp.can_fetch(\"MyRobot\", \"https://www.gutenberg.org/help/faq.html\")"
   ]
  },
  {
   "cell_type": "code",
   "execution_count": 6,
   "metadata": {},
   "outputs": [
    {
     "data": {
      "text/plain": [
       "False"
      ]
     },
     "execution_count": 6,
     "metadata": {},
     "output_type": "execute_result"
    }
   ],
   "source": [
    "rp.can_fetch(\"MyRobot\", \"https://www.gutenberg.org/ratelimiter\")"
   ]
  },
  {
   "cell_type": "code",
   "execution_count": 7,
   "metadata": {},
   "outputs": [
    {
     "data": {
      "text/plain": [
       "['http://www.gutenberg.org/ebooks/sitemaps/']"
      ]
     },
     "execution_count": 7,
     "metadata": {},
     "output_type": "execute_result"
    }
   ],
   "source": [
    "rp.site_maps()"
   ]
  },
  {
   "cell_type": "code",
   "execution_count": 9,
   "metadata": {},
   "outputs": [
    {
     "name": "stdout",
     "output_type": "stream",
     "text": [
      "120\n",
      "120\n",
      "120\n"
     ]
    }
   ],
   "source": [
    "parser = urllib.robotparser.RobotFileParser()\n",
    "parser.set_url('https://www.carthage.edu/robots.txt')\n",
    "parser.read()\n",
    "print(parser.crawl_delay('YandexBot'))\n",
    "print(parser.crawl_delay('*'))\n",
    "print(parser.default_entry.delay)"
   ]
  },
  {
   "cell_type": "code",
   "execution_count": 10,
   "metadata": {},
   "outputs": [
    {
     "name": "stdout",
     "output_type": "stream",
     "text": [
      "120\n",
      "120\n",
      "120\n"
     ]
    }
   ],
   "source": [
    "parser = urllib.robotparser.RobotFileParser()\n",
    "parser.set_url('https://www.berkeley.edu/robots.txt')\n",
    "parser.read()\n",
    "print(parser.crawl_delay('BAD_ROBOT'))\n",
    "print(parser.crawl_delay('*'))\n"
   ]
  },
  {
   "cell_type": "code",
   "execution_count": 12,
   "metadata": {},
   "outputs": [
    {
     "name": "stdout",
     "output_type": "stream",
     "text": [
      "None\n",
      "None\n",
      "120\n",
      "User-agent: *\n",
      "Crawl-delay: 120\n",
      "Disallow: /directory/\n"
     ]
    }
   ],
   "source": [
    "print(parser.modified())\n",
    "print(parser.request_rate(\"*\"))\n",
    "print(parser.crawl_delay(\"*\"))\n",
    "print(parser.default_entry)"
   ]
  },
  {
   "cell_type": "code",
   "execution_count": null,
   "metadata": {},
   "outputs": [],
   "source": []
  }
 ],
 "metadata": {
  "kernelspec": {
   "display_name": "Python 3",
   "language": "python",
   "name": "python3"
  },
  "language_info": {
   "codemirror_mode": {
    "name": "ipython",
    "version": 3
   },
   "file_extension": ".py",
   "mimetype": "text/x-python",
   "name": "python",
   "nbconvert_exporter": "python",
   "pygments_lexer": "ipython3",
   "version": "3.8.2"
  }
 },
 "nbformat": 4,
 "nbformat_minor": 4
}
