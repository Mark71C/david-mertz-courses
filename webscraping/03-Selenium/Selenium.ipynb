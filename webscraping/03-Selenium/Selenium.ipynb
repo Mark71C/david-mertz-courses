{
 "cells": [
  {
   "cell_type": "code",
   "execution_count": 1,
   "metadata": {
    "slideshow": {
     "slide_type": "skip"
    }
   },
   "outputs": [
    {
     "data": {
      "text/html": [
       "<!-- execute this cell before continue -->\n",
       "<link rel=\"stylesheet\" href=\"https://fonts.googleapis.com/css?family=Lato\">\n",
       "<style>.reveal * { font-family: \"Lato\" !important; } .reveal .code_cell * { font-family: monospace !important; }</style>\n"
      ],
      "text/plain": [
       "<IPython.core.display.HTML object>"
      ]
     },
     "metadata": {},
     "output_type": "display_data"
    }
   ],
   "source": [
    "%%HTML\n",
    "<!-- execute this cell before continue -->\n",
    "<link rel=\"stylesheet\" href=\"https://fonts.googleapis.com/css?family=Lato\">\n",
    "<style>.reveal * { font-family: \"Lato\" !important; } .reveal .code_cell * { font-family: monospace !important; }</style>"
   ]
  },
  {
   "cell_type": "markdown",
   "metadata": {
    "slideshow": {
     "slide_type": "slide"
    }
   },
   "source": [
    "<div style=\"position: relative;\">\n",
    "<img src=\"https://user-images.githubusercontent.com/7065401/98728503-5ab82f80-2378-11eb-9c79-adeb308fc647.png\"></img>\n",
    "\n",
    "<h1 style=\"color: white; position: absolute; top:30%; left:10%;\">\n",
    "    Web Scraping in Python\n",
    "</h1>\n",
    "\n",
    "<h3 style=\"color: #ef7d22; font-weight: normal; position: absolute; top:43%; left:10%;\">\n",
    "    David Mertz, Ph.D.\n",
    "</h3>\n",
    "</div>"
   ]
  },
  {
   "cell_type": "markdown",
   "metadata": {
    "slideshow": {
     "slide_type": "subslide"
    }
   },
   "source": [
    "<div style=\"position: relative; text-align: right;\">\n",
    "<img src=\"https://user-images.githubusercontent.com/7065401/98614301-dcf01780-22d6-11eb-9c8f-65ebfceac6f6.png\" style=\"width: 130px; display: inline-block;\"></img>\n",
    "\n",
    "<img src=\"https://user-images.githubusercontent.com/7065401/98864025-08deda80-2448-11eb-9600-22aa17884cdf.png\" style=\"height: 100%; max-height: inherit; position: absolute; top: 20%; left: 0px;\"></img>\n",
    "<br>\n",
    "\n",
    "<h2 style=\"font-weight: bold;\">\n",
    "    David Mertz\n",
    "</h2>\n",
    "\n",
    "<h3 style=\"color: #ef7d22; margin-top: 0.8em\">\n",
    "    Data Scientist\n",
    "</h3>\n",
    "<hr>\n",
    "<br><br>\n",
    "\n",
    "<p style=\"font-size: 80%; text-align: right; margin: 10px 0px;\">\n",
    "    mertz@kdm.training\n",
    "</p>\n",
    "<p style=\"font-size: 80%; text-align: right; margin: 10px 0px;\">\n",
    "    @mertz_david\n",
    "</p>\n",
    "<p style=\"font-size: 80%; text-align: right; margin: 10px 0px;\">\n",
    "    linkedin.com/in/dmertz\n",
    "</p>\n",
    "\n",
    "</div>\n",
    "\n",
    "<br><br><br>"
   ]
  },
  {
   "cell_type": "markdown",
   "metadata": {
    "slideshow": {
     "slide_type": "slide"
    }
   },
   "source": [
    "<h2 style=\"font-weight: bold;\">\n",
    "    Selenium\n",
    "</h2>\n",
    "\n",
    "![orange-divider](https://user-images.githubusercontent.com/7065401/98619088-44ab6000-22e1-11eb-8f6d-5532e68ab274.png)\n",
    "\n",
    "Selenium is not exactly a web scraping library, although it can absolutely be useful for that purpose. Its documentation describes it as:\n",
    "\n",
    "> Selenium is many things but at its core, it is a toolset for web browser automation that uses the best techniques available to remotely control browser instances and emulate a user’s interaction with the browser."
   ]
  },
  {
   "cell_type": "markdown",
   "metadata": {
    "slideshow": {
     "slide_type": "subslide"
    }
   },
   "source": [
    "<div style=\"position: relative; text-align: right;\">\n",
    "<img src=\"https://user-images.githubusercontent.com/7065401/98614301-dcf01780-22d6-11eb-9c8f-65ebfceac6f6.png\" style=\"width: 130px; display: inline-block;\"></img></div>\n",
    "\n",
    "Continuing the project blurb:\n",
    "\n",
    "> It allows users to simulate common activities performed by end-users; entering text into fields, selecting drop-down values and checking boxes, and clicking links in documents. It also provides many other controls such as mouse movement, arbitrary JavaScript execution, and much more.<br/><br/>\n",
    "> Although used primarily for front-end testing of websites, Selenium is at its core a browser user agent library. The interfaces are ubiquitous to their application, which encourages composition with other libraries to suit your purpose."
   ]
  },
  {
   "cell_type": "markdown",
   "metadata": {
    "slideshow": {
     "slide_type": "subslide"
    }
   },
   "source": [
    "<div style=\"position: relative; text-align: right;\">\n",
    "<img src=\"https://user-images.githubusercontent.com/7065401/98614301-dcf01780-22d6-11eb-9c8f-65ebfceac6f6.png\" style=\"width: 130px; display: inline-block;\"></img></div>\n",
    "\n",
    "<div style=\"text-align: left;\">\n",
    "    \n",
    "There are a few steps involved in installing Selenium.  \n",
    "    \n",
    "* As a first step, you will need to install one or more browsers on your system.\n",
    "* The Python language binding itself can be installed with `pip install selenium` or `conda install selenium`.  For other programming languages, binding installation is similar, using the native installers.\n",
    "* You need webdrivers corresponding with the browsers you have installed.  Links to those various drivers can be found at: https://www.selenium.dev/documentation/en/webdriver/driver_requirements/.\n",
    "* Assure that the webdrivers live on your executable path (the path may also be passed as a driver option)."
   ]
  },
  {
   "cell_type": "markdown",
   "metadata": {
    "slideshow": {
     "slide_type": "subslide"
    }
   },
   "source": [
    "<div style=\"position: relative; text-align: right;\">\n",
    "<img src=\"https://user-images.githubusercontent.com/7065401/98614301-dcf01780-22d6-11eb-9c8f-65ebfceac6f6.png\" style=\"width: 130px; display: inline-block;\"></img></div>\n",
    "\n",
    "Supported drivers:\n",
    "\n",
    "|  Browser          | Platforms\n",
    "|:------------------|--------------------------\n",
    "| Chromium/Chrome   | Windows, OSX, Linux\n",
    "| Firefox           | Windows, OSX, Linux\n",
    "| Edge              | Windows 10\n",
    "| Internet Explorer | Windows\n",
    "| Safari            | macOS El Capitan and newer\n",
    "| Opera             | Windows, OSX, Linux\n",
    "\n",
    "Note that you need the version for the specific *version* of a browser you are running.\n",
    "\n"
   ]
  },
  {
   "cell_type": "markdown",
   "metadata": {
    "slideshow": {
     "slide_type": "slide"
    }
   },
   "source": [
    "<h2 style=\"font-weight: bold;\">\n",
    "    Emulating browsers\n",
    "</h2>\n",
    "\n",
    "![orange-divider](https://user-images.githubusercontent.com/7065401/98619088-44ab6000-22e1-11eb-8f6d-5532e68ab274.png)\n",
    "\n",
    "Many websites check for what browser is accessing them.  Moreover, in edge cases or with buggy HTML/JavaScript/CSS, the behavior of different browsers can vary.\n",
    "\n",
    "Although Scrapy, or even just `requests`, can declare a user agent that a server may be checking for, Selenium drives the browser itself, hence capturing every quirk it may have in its behavior.  Hence the main use of Selenium is in testing server behavior against various browsers that might access them."
   ]
  },
  {
   "cell_type": "markdown",
   "metadata": {
    "slideshow": {
     "slide_type": "subslide"
    }
   },
   "source": [
    "<div style=\"position: relative; text-align: right;\">\n",
    "<img src=\"https://user-images.githubusercontent.com/7065401/98614301-dcf01780-22d6-11eb-9c8f-65ebfceac6f6.png\" style=\"width: 130px; display: inline-block;\"></img></div>\n",
    "\n",
    "Let us access a site that specific echoes the reported browser from the HTTP header."
   ]
  },
  {
   "cell_type": "code",
   "execution_count": 2,
   "metadata": {
    "slideshow": {
     "slide_type": "fragment"
    }
   },
   "outputs": [
    {
     "data": {
      "text/plain": [
       "'python-requests/2.23.0'"
      ]
     },
     "execution_count": 2,
     "metadata": {},
     "output_type": "execute_result"
    }
   ],
   "source": [
    "from pathlib import Path  # Use later\n",
    "from time import sleep\n",
    "from bs4 import BeautifulSoup\n",
    "import requests\n",
    "\n",
    "url = \"https://www.whatismybrowser.com/detect/what-is-my-user-agent\"\n",
    "agent = requests.get(url)\n",
    "soup = BeautifulSoup(agent.text)\n",
    "soup.find(id=\"detected_value\").text"
   ]
  },
  {
   "cell_type": "markdown",
   "metadata": {
    "slideshow": {
     "slide_type": "subslide"
    }
   },
   "source": [
    "Reported agents are Chromium on Linux, Firefox on Linux, and TorBrowser on Android."
   ]
  },
  {
   "cell_type": "code",
   "execution_count": 3,
   "metadata": {
    "scrolled": false,
    "slideshow": {
     "slide_type": "fragment"
    }
   },
   "outputs": [
    {
     "name": "stdout",
     "output_type": "stream",
     "text": [
      "Firefox on Linux\n",
      "Mozilla/5.0 (X11; Ubuntu; Linux x86_64; rv:79.0) Gecko/20100101 Firefox/79.0\n",
      "\n",
      "Chromium on Linux\n",
      "Mozilla/5.0 (X11; Linux x86_64) AppleWebKit/537.36 (KHTML, like Gecko) Chrome/83.0.4103.116 Safari/537.36\n",
      "\n",
      "Tor on Android\n",
      "Mozilla/5.0 (Android 9; Mobile; rv:78.0) Gecko/20100101 Firefox/78.0\n",
      "\n"
     ]
    }
   ],
   "source": [
    "agents = {\n",
    "    \"Firefox on Linux\":\n",
    "          \"Mozilla/5.0 (X11; Ubuntu; Linux x86_64; rv:79.0) Gecko/20100101 Firefox/79.0\",\n",
    "    \"Chromium on Linux\": \n",
    "        \"Mozilla/5.0 (X11; Linux x86_64) AppleWebKit/537.36 (KHTML, like Gecko)\"\n",
    "        \" Chrome/83.0.4103.116 Safari/537.36\",\n",
    "    \"Tor on Android\": \"Mozilla/5.0 (Android 9; Mobile; rv:78.0) Gecko/20100101 Firefox/78.0\"\n",
    "}\n",
    "for description, agent in agents.items():\n",
    "    resp = requests.get(url, headers={'User-agent': agent})\n",
    "    soup = BeautifulSoup(resp.text)\n",
    "    print(description)\n",
    "    print(soup.find(id=\"detected_value\").text, end='\\n\\n')"
   ]
  },
  {
   "cell_type": "markdown",
   "metadata": {
    "slideshow": {
     "slide_type": "subslide"
    }
   },
   "source": [
    "<div style=\"position: relative; text-align: right;\">\n",
    "<img src=\"https://user-images.githubusercontent.com/7065401/98614301-dcf01780-22d6-11eb-9c8f-65ebfceac6f6.png\" style=\"width: 130px; display: inline-block;\"></img></div>\n",
    "\n",
    "The limitation of the technique above is that while the server will adapt its behavior based on what `requests` sends, that does not really tell you anything about what that browser will render.  For web scraping purposes you may simply not care about that.  After all, what you want is content within the page, not the specific appearance that content is given by a given browser."
   ]
  },
  {
   "cell_type": "markdown",
   "metadata": {
    "slideshow": {
     "slide_type": "slide"
    }
   },
   "source": [
    "<h2 style=\"font-weight: bold;\">\n",
    "    Driving a browser\n",
    "</h2>\n",
    "\n",
    "![orange-divider](https://user-images.githubusercontent.com/7065401/98619088-44ab6000-22e1-11eb-8f6d-5532e68ab274.png)\n",
    "\n",
    "One notable, and common, exception to browser indifference is when some important content is dynamically rendered by JavaScript within the page.  We saw a simple example of that at the end of the last lesson.  Scraping my KDM Training homepage had the contact email obscured by the CloudFlare proxy, so that what was actually delivered was not the email itself, but a transformed version of it.\n",
    "\n",
    "As rendered by a browser, that obscuring would be undone by embedded JavaScript, but in the Scrapy shell we had to use a Python function to perform the unobscuring (we could also have installed the `scrapy-splash` middleware component within Scrapy.  Selenium simply sees what the browser user sees."
   ]
  },
  {
   "cell_type": "markdown",
   "metadata": {
    "slideshow": {
     "slide_type": "subslide"
    }
   },
   "source": [
    "Let us retrieve one quote from the quote server at `toscrape.com` using Selenium and Firefox."
   ]
  },
  {
   "cell_type": "code",
   "execution_count": 4,
   "metadata": {
    "slideshow": {
     "slide_type": "fragment"
    }
   },
   "outputs": [
    {
     "name": "stdout",
     "output_type": "stream",
     "text": [
      "“To love at all is to be vulnerable. Love anything and your heart will be wrung and possibly broken. If you want to make sure of keeping it intact you must give it to no one, not even an animal. Wrap it carefully round with hobbies and little luxuries; avoid all entanglements. Lock it up safe in the casket or coffin of your selfishness. But in that casket, safe, dark, motionless, airless, it will change. It will not be broken; it will become unbreakable, impenetrable, irredeemable. To love is to be vulnerable.”\n"
     ]
    }
   ],
   "source": [
    "from selenium import webdriver\n",
    "from selenium.webdriver.support.ui import WebDriverWait\n",
    "from selenium.webdriver.common.by import By\n",
    "from selenium.webdriver.common.keys import Keys\n",
    "from selenium.webdriver.support.expected_conditions import presence_of_element_located\n",
    "from selenium.webdriver.chrome.options import Options\n",
    "\n",
    "with webdriver.Firefox() as driver:\n",
    "    wait = WebDriverWait(driver, 10)\n",
    "    driver.get(\"https://quotes.toscrape.com/random\")\n",
    "    sleep(7)  # artificial wait to see browser longer\n",
    "    quote_text = wait.until(presence_of_element_located(\n",
    "                                (By.CSS_SELECTOR, \"div.quote>span\")))\n",
    "    print(quote_text.get_attribute(\"textContent\"))"
   ]
  },
  {
   "cell_type": "markdown",
   "metadata": {
    "slideshow": {
     "slide_type": "subslide"
    }
   },
   "source": [
    "<h2 style=\"font-weight: bold;\">\n",
    "    Going headless\n",
    "</h2>\n",
    "\n",
    "![orange-divider](https://user-images.githubusercontent.com/7065401/98619088-44ab6000-22e1-11eb-8f6d-5532e68ab274.png)\n",
    "\n",
    "In the last slide we saw the automation via launching a browser then intering with it.  In a scraping context we usually want to run the browser in \"headless mode.\"  The full browser is running, but some, such as Firefox and Chrome, can be instructed not to display their windows."
   ]
  },
  {
   "cell_type": "code",
   "execution_count": 5,
   "metadata": {
    "slideshow": {
     "slide_type": "fragment"
    }
   },
   "outputs": [
    {
     "name": "stdout",
     "output_type": "stream",
     "text": [
      "“But better to get hurt by the truth than comforted with a lie.”\n"
     ]
    }
   ],
   "source": [
    "options = Options()\n",
    "options.headless = True\n",
    "driver_path = Path.home() / 'bin' / 'chromedriver'\n",
    "\n",
    "with webdriver.Chrome(options=options, \n",
    "                      executable_path=driver_path) as driver:\n",
    "    wait = WebDriverWait(driver, 10)\n",
    "    driver.get(\"https://quotes.toscrape.com/random\")\n",
    "    quote_text = wait.until(presence_of_element_located(\n",
    "                                (By.XPATH, '//*[@class=\"quote\"]/span')))\n",
    "    print(quote_text.get_attribute(\"textContent\"))"
   ]
  },
  {
   "cell_type": "markdown",
   "metadata": {
    "slideshow": {
     "slide_type": "subslide"
    }
   },
   "source": [
    "<div style=\"position: relative; text-align: right;\">\n",
    "<img src=\"https://user-images.githubusercontent.com/7065401/98614301-dcf01780-22d6-11eb-9c8f-65ebfceac6f6.png\" style=\"width: 130px; display: inline-block;\"></img></div>\n",
    "\n",
    "Let's try retrieving my obscured email shown in the last lesson."
   ]
  },
  {
   "cell_type": "code",
   "execution_count": 6,
   "metadata": {
    "slideshow": {
     "slide_type": "fragment"
    }
   },
   "outputs": [
    {
     "name": "stdout",
     "output_type": "stream",
     "text": [
      "mailto:info@kdm.training\n"
     ]
    }
   ],
   "source": [
    "with webdriver.Chrome(options=options) as driver:\n",
    "    wait = WebDriverWait(driver, 10)\n",
    "    driver.get(\"https://kdm.training\")\n",
    "    contact = wait.until(presence_of_element_located(\n",
    "                            (By.XPATH, '//*[@id=\"Contact\"]//a')))\n",
    "    print(contact.get_attribute(\"href\"))"
   ]
  },
  {
   "cell_type": "markdown",
   "metadata": {
    "slideshow": {
     "slide_type": "subslide"
    }
   },
   "source": [
    "Perhaps we would even like to see what a rendered portion of the page looks like."
   ]
  },
  {
   "cell_type": "code",
   "execution_count": 7,
   "metadata": {
    "slideshow": {
     "slide_type": "fragment"
    }
   },
   "outputs": [
    {
     "data": {
      "image/png": "[encoded data removed]",
      "text/plain": [
       "<IPython.core.display.Image object>"
      ]
     },
     "metadata": {},
     "output_type": "display_data"
    }
   ],
   "source": [
    "from IPython.display import display, Image\n",
    "with webdriver.Chrome(options=options) as driver:\n",
    "    wait = WebDriverWait(driver, 10)\n",
    "    driver.get(\"https://kdm.training\")\n",
    "    contact = wait.until(presence_of_element_located(\n",
    "                            (By.XPATH, '//*[@id=\"Contact\"]')))\n",
    "    contact.screenshot('href.png')\n",
    "    display(Image('href.png'))"
   ]
  },
  {
   "cell_type": "markdown",
   "metadata": {
    "slideshow": {
     "slide_type": "subslide"
    }
   },
   "source": [
    "<div style=\"position: relative; text-align: right;\">\n",
    "<img src=\"https://user-images.githubusercontent.com/7065401/98614301-dcf01780-22d6-11eb-9c8f-65ebfceac6f6.png\" style=\"width: 130px; display: inline-block;\"></img></div>\n",
    "\n",
    "Without using the browser to run the embedded Javascript:"
   ]
  },
  {
   "cell_type": "code",
   "execution_count": 8,
   "metadata": {
    "slideshow": {
     "slide_type": "fragment"
    }
   },
   "outputs": [
    {
     "name": "stdout",
     "output_type": "stream",
     "text": [
      "<a href=\"/cdn-cgi/l/email-protection#6b02050d042b000f06451f190a020502050c\">\n",
      " <span class=\"__cf_email__\" data-cfemail=\"563f383039163d323b782224373f383f3831\">\n",
      "  [email protected]\n",
      " </span>\n",
      "</a>\n"
     ]
    }
   ],
   "source": [
    "kdm = requests.get('https://kdm.training')\n",
    "soup = BeautifulSoup(kdm.text)\n",
    "print(soup.find(id=\"Contact\").find('a').prettify())"
   ]
  },
  {
   "cell_type": "markdown",
   "metadata": {
    "slideshow": {
     "slide_type": "subslide"
    }
   },
   "source": [
    "<h2 style=\"font-weight: bold;\">\n",
    "    Scripting behavior\n",
    "</h2>\n",
    "\n",
    "![orange-divider](https://user-images.githubusercontent.com/7065401/98619088-44ab6000-22e1-11eb-8f6d-5532e68ab274.png)\n",
    "\n",
    "Usually we wish to use Selenium to script behaviors of the web browser.  We can simulate mouse actions, drag-and-drop, interacting with alerts, completing forms, clicking on regions, and basically anything else a user might do.  Most of that is not necessarily relevant to web scraping *per se*, but completing forms absolutely is.\n",
    "\n",
    "For the next few slides we will \"manually\" drive the web browser. "
   ]
  },
  {
   "cell_type": "markdown",
   "metadata": {
    "slideshow": {
     "slide_type": "subslide"
    }
   },
   "source": [
    "<div style=\"position: relative; text-align: right;\">\n",
    "<img src=\"https://user-images.githubusercontent.com/7065401/98614301-dcf01780-22d6-11eb-9c8f-65ebfceac6f6.png\" style=\"width: 130px; display: inline-block;\"></img></div>"
   ]
  },
  {
   "cell_type": "code",
   "execution_count": 9,
   "metadata": {
    "slideshow": {
     "slide_type": "fragment"
    }
   },
   "outputs": [],
   "source": [
    "driver = webdriver.Chrome()\n",
    "wait = WebDriverWait(driver, 10)\n",
    "driver.get('https://quotes.toscrape.com')"
   ]
  },
  {
   "cell_type": "code",
   "execution_count": 10,
   "metadata": {
    "slideshow": {
     "slide_type": "fragment"
    }
   },
   "outputs": [
    {
     "data": {
      "text/plain": [
       "<selenium.webdriver.remote.webelement.WebElement (session=\"4fd4ade64cbcaddea0910d19c323ace1\", element=\"a04adb01-f113-4e91-9ebd-7a594790f711\")>"
      ]
     },
     "execution_count": 10,
     "metadata": {},
     "output_type": "execute_result"
    }
   ],
   "source": [
    "find = presence_of_element_located\n",
    "login_link = wait.until(find((By.XPATH, '//*[@href=\"/login\"]')))\n",
    "login_link"
   ]
  },
  {
   "cell_type": "markdown",
   "metadata": {
    "slideshow": {
     "slide_type": "subslide"
    }
   },
   "source": [
    "<div style=\"position: relative; text-align: right;\">\n",
    "<img src=\"https://user-images.githubusercontent.com/7065401/98614301-dcf01780-22d6-11eb-9c8f-65ebfceac6f6.png\" style=\"width: 130px; display: inline-block;\"></img></div>\n",
    "\n",
    "We can follow that link identified."
   ]
  },
  {
   "cell_type": "code",
   "execution_count": 11,
   "metadata": {
    "slideshow": {
     "slide_type": "fragment"
    }
   },
   "outputs": [],
   "source": [
    "login_link.click()"
   ]
  },
  {
   "cell_type": "code",
   "execution_count": 12,
   "metadata": {
    "slideshow": {
     "slide_type": "fragment"
    }
   },
   "outputs": [],
   "source": [
    "username = driver.find_element(By.ID,'username')\n",
    "username.send_keys(\"test_user\")"
   ]
  },
  {
   "cell_type": "code",
   "execution_count": 13,
   "metadata": {
    "slideshow": {
     "slide_type": "fragment"
    }
   },
   "outputs": [],
   "source": [
    "password = driver.find_element(By.ID,'password')\n",
    "password.send_keys(\"test_password\")"
   ]
  },
  {
   "cell_type": "markdown",
   "metadata": {
    "slideshow": {
     "slide_type": "subslide"
    }
   },
   "source": [
    "<div style=\"position: relative; text-align: right;\">\n",
    "<img src=\"https://user-images.githubusercontent.com/7065401/98614301-dcf01780-22d6-11eb-9c8f-65ebfceac6f6.png\" style=\"width: 130px; display: inline-block;\"></img></div>\n",
    "\n",
    "Now we can find and click on the button for logging in."
   ]
  },
  {
   "cell_type": "code",
   "execution_count": 14,
   "metadata": {
    "slideshow": {
     "slide_type": "fragment"
    }
   },
   "outputs": [],
   "source": [
    "button = wait.until(find((By.XPATH, '//*[@type=\"submit\"]')))\n",
    "button.click()"
   ]
  },
  {
   "cell_type": "markdown",
   "metadata": {
    "slideshow": {
     "slide_type": "subslide"
    }
   },
   "source": [
    "<div style=\"position: relative; text-align: right;\">\n",
    "<img src=\"https://user-images.githubusercontent.com/7065401/98614301-dcf01780-22d6-11eb-9c8f-65ebfceac6f6.png\" style=\"width: 130px; display: inline-block;\"></img></div>\n",
    "\n",
    "We might, for example, extract all the authors in a similar manner as we have done with Scrapy and Beautiful Soup."
   ]
  },
  {
   "cell_type": "code",
   "execution_count": 15,
   "metadata": {
    "slideshow": {
     "slide_type": "fragment"
    }
   },
   "outputs": [
    {
     "name": "stdout",
     "output_type": "stream",
     "text": [
      "Albert Einstein\n",
      "J.K. Rowling\n",
      "Albert Einstein\n",
      "Jane Austen\n",
      "Marilyn Monroe\n",
      "Albert Einstein\n",
      "André Gide\n",
      "Thomas A. Edison\n",
      "Eleanor Roosevelt\n",
      "Steve Martin\n"
     ]
    }
   ],
   "source": [
    "for quote in driver.find_elements(By.CSS_SELECTOR, 'div.quote'):\n",
    "    author = quote.find_element(By.XPATH, 'span/small')\n",
    "    print(author.get_attribute(\"textContent\"))"
   ]
  },
  {
   "cell_type": "markdown",
   "metadata": {
    "slideshow": {
     "slide_type": "subslide"
    }
   },
   "source": [
    "<div style=\"position: relative; text-align: right;\">\n",
    "<img src=\"https://user-images.githubusercontent.com/7065401/98614301-dcf01780-22d6-11eb-9c8f-65ebfceac6f6.png\" style=\"width: 130px; display: inline-block;\"></img></div>\n",
    "\n",
    "When done, we can close the browser."
   ]
  },
  {
   "cell_type": "code",
   "execution_count": 16,
   "metadata": {
    "slideshow": {
     "slide_type": "fragment"
    }
   },
   "outputs": [],
   "source": [
    "driver.close()"
   ]
  },
  {
   "cell_type": "markdown",
   "metadata": {
    "slideshow": {
     "slide_type": "fragment"
    }
   },
   "source": [
    "All of this, of course, be done in headless mode, and in a reusable function, once we have figured out the particular navigation steps necessary to find the content of interest."
   ]
  },
  {
   "cell_type": "markdown",
   "metadata": {
    "slideshow": {
     "slide_type": "subslide"
    }
   },
   "source": [
    "<h2 style=\"font-weight: bold;\">\n",
    "    Summary\n",
    "</h2>\n",
    "\n",
    "![orange-divider](https://user-images.githubusercontent.com/7065401/98619088-44ab6000-22e1-11eb-8f6d-5532e68ab274.png)\n",
    "\n",
    "For acquiring large amounts of scraped content, Scrapy is certainly a more appropriate library than Selenium.  The primary focus of Selenium is on validating websites against multiple browser, operating systems, versions, etc.  However, in cases where the content you wish to scrape really does depend on the browser's rendering techniques, Selenium is a very handy tool to have available."
   ]
  }
 ],
 "metadata": {
  "celltoolbar": "Slideshow",
  "kernelspec": {
   "display_name": "Python 3",
   "language": "python",
   "name": "python3"
  },
  "language_info": {
   "codemirror_mode": {
    "name": "ipython",
    "version": 3
   },
   "file_extension": ".py",
   "mimetype": "text/x-python",
   "name": "python",
   "nbconvert_exporter": "python",
   "pygments_lexer": "ipython3",
   "version": "3.8.2"
  }
 },
 "nbformat": 4,
 "nbformat_minor": 4
}
