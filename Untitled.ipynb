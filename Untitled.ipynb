{
 "cells": [
  {
   "cell_type": "code",
   "execution_count": 4,
   "metadata": {},
   "outputs": [],
   "source": [
    "import matplotlib.pyplot as plt\n",
    "import numpy as np\n",
    "from matplotlib.collections import LineCollection\n",
    "from matplotlib.colors import ListedColormap, BoundaryNorm"
   ]
  },
  {
   "cell_type": "code",
   "execution_count": 8,
   "metadata": {},
   "outputs": [],
   "source": [
    "# Data manipulation:\n",
    "\n",
    "def make_segments(x, y):\n",
    "    '''\n",
    "    Create list of line segments from x and y coordinates, in the correct format for LineCollection:\n",
    "    an array of the form   numlines x (points per line) x 2 (x and y) array\n",
    "    '''\n",
    "\n",
    "    points = np.array([x, y]).T.reshape(-1, 1, 2)\n",
    "    segments = np.concatenate([points[:-1], points[1:]], axis=1)\n",
    "    \n",
    "    return segments\n",
    "\n",
    "\n",
    "# Interface to LineCollection:\n",
    "\n",
    "def colorline(x, y, z=None, cmap=plt.get_cmap('copper'), norm=plt.Normalize(0.0, 1.0), linewidth=3, alpha=1.0):\n",
    "    '''\n",
    "    Plot a colored line with coordinates x and y\n",
    "    Optionally specify colors in the array z\n",
    "    Optionally specify a colormap, a norm function and a line width\n",
    "    '''\n",
    "    \n",
    "    # Default colors equally spaced on [0,1]:\n",
    "    if z is None:\n",
    "        z = np.linspace(0.0, 1.0, len(x))\n",
    "           \n",
    "    # Special case if a single number:\n",
    "    if not hasattr(z, \"__iter__\"):  # to check for numerical input -- this is a hack\n",
    "        z = np.array([z])\n",
    "        \n",
    "    z = np.asarray(z)\n",
    "    \n",
    "    segments = make_segments(x, y)\n",
    "    lc = LineCollection(segments, array=z, cmap=cmap, norm=norm, linewidth=linewidth, alpha=alpha)\n",
    "    \n",
    "    ax = plt.gca()\n",
    "    ax.add_collection(lc)\n",
    "    \n",
    "    return lc\n",
    "        \n",
    "    \n",
    "def clear_frame(ax=None): \n",
    "    # Taken from a post by Tony S Yu\n",
    "    if ax is None: \n",
    "        ax = plt.gca() \n",
    "    ax.xaxis.set_visible(False) \n",
    "    ax.yaxis.set_visible(False) \n",
    "    for spine in ax.spines.itervalues(): \n",
    "        spine.set_visible(False) "
   ]
  },
  {
   "cell_type": "code",
   "execution_count": null,
   "metadata": {},
   "outputs": [],
   "source": [
    "np.ze"
   ]
  },
  {
   "cell_type": "code",
   "execution_count": 21,
   "metadata": {},
   "outputs": [
    {
     "data": {
      "image/png": "[encoded data removed]",
      "text/plain": [
       "<Figure size 432x288 with 1 Axes>"
      ]
     },
     "metadata": {
      "needs_background": "light"
     },
     "output_type": "display_data"
    }
   ],
   "source": [
    "# sin(1/x), colored according to the value of its derivative\n",
    "\n",
    "# Use logarithmic spacing so that looks better:\n",
    "log_x = np.linspace(np.log(0.005), np.log(0.1), 5000)\n",
    "x = np.exp(log_x)\n",
    "\n",
    "y = 0.9 * np.sin(1. / x)\n",
    "\n",
    "# Use finite differences to calculate the derivative of y:\n",
    "y_deriv = (y[1:] - y[:-1]) / (x[1:] - x[:-1]) \n",
    "\n",
    "# Create a colormap for red, green and blue:\n",
    "cmap = ListedColormap(['r', 'g', 'b'])\n",
    "cmap = plt.get_cmap('inferno')\n",
    "\n",
    "# Create a 'norm' (normalizing function) which maps data values to the interval [0,1]:\n",
    "norm = BoundaryNorm(np.linspace(-1000, 1000, 256), cmap.N)  # cmap.N is number of items in the colormap\n",
    "\n",
    "fig, axes = plt.subplots()\n",
    "\n",
    "colorline(x, np.zeros_like(x), y_deriv, cmap=cmap, norm=norm, linewidth=1000.*x)\n",
    "# This works even though y_deriv is a different length -- wraps around\n",
    "\n",
    "plt.xlim(x.min(), x.max())\n",
    "plt.ylim(-1.0, 1.0)\n",
    "plt.show()\n",
    "\n"
   ]
  },
  {
   "cell_type": "code",
   "execution_count": null,
   "metadata": {},
   "outputs": [],
   "source": []
  }
 ],
 "metadata": {
  "kernelspec": {
   "display_name": "Python 3",
   "language": "python",
   "name": "python3"
  },
  "language_info": {
   "codemirror_mode": {
    "name": "ipython",
    "version": 3
   },
   "file_extension": ".py",
   "mimetype": "text/x-python",
   "name": "python",
   "nbconvert_exporter": "python",
   "pygments_lexer": "ipython3",
   "version": "3.8.2"
  }
 },
 "nbformat": 4,
 "nbformat_minor": 4
}
