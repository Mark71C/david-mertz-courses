{
 "cells": [
  {
   "cell_type": "markdown",
   "metadata": {
    "slideshow": {
     "slide_type": "slide"
    }
   },
   "source": [
    "# Groups, Classes, and Alternation\n",
    "\n",
    "Regular expressions have several capabilities that add more power than the simple wild cards and quantifiers we saw in the last lesson.  The basic elements to these more complex features are creating character classes, grouping subpatterns, and allowing alternation between different subpatterns."
   ]
  },
  {
   "cell_type": "code",
   "execution_count": 1,
   "metadata": {
    "slideshow": {
     "slide_type": "fragment"
    }
   },
   "outputs": [],
   "source": [
    "from src.setup import *"
   ]
  },
  {
   "cell_type": "markdown",
   "metadata": {
    "slideshow": {
     "slide_type": "slide"
    }
   },
   "source": [
    "## Character Classes\n",
    "\n",
    "The first lesson actually showed several character classes that have been given shorter aliases because they are very commonly used.  However, you are not limited to only the bundled aliases."
   ]
  },
  {
   "cell_type": "markdown",
   "metadata": {
    "slideshow": {
     "slide_type": "fragment"
    }
   },
   "source": [
    "A character class is defined by an expression inside square brackets that contains several characters and/or ranges of characters.  To express ranges, you must know the encoded order of the characters; for ASCII letters and numbers that is obvious, for extended characters it may be less so.  A character class may be expressed as a negation by beginning it with a caret/circumflex `^`."
   ]
  },
  {
   "cell_type": "markdown",
   "metadata": {
    "slideshow": {
     "slide_type": "subslide"
    }
   },
   "source": [
    "We can illustrate this by showing what the equivalent character classes are for the predefined aliases.  Shown here are only the ASCII ranges, which are not complete for non-Latin, or extended-Latin, characters.\n",
    "\n",
    " Wildcard | Class            | Behavior\n",
    ":--------:|------------------|------------------\n",
    "   \\d     | `[0-9]`          | Any decimal digit\n",
    "   \\D     | `[^0-9]`         | Any non-digit character\n",
    "   \\s     | `[ \\t\\n\\r\\f\\v]`  | Any whitespace character\n",
    "   \\S     | `[^ \\t\\n\\r\\f\\v]` | Any non-whitespace character\n",
    "   \\w     | `[a-zA-Z0-9_]`   | Any alphanumeric character\n",
    "   \\W     | `[^a-zA-Z0-9_]`  | Any non-alphanumeric character"
   ]
  },
  {
   "cell_type": "markdown",
   "metadata": {
    "slideshow": {
     "slide_type": "subslide"
    }
   },
   "source": [
    "Continuing with our nursery rhyme example, we might want—for whatever reason—to identify all of those substrings that only use letters from the first half of the English alphabet."
   ]
  },
  {
   "cell_type": "code",
   "execution_count": 2,
   "metadata": {
    "slideshow": {
     "slide_type": "fragment"
    }
   },
   "outputs": [
    {
     "data": {
      "text/html": [
       "·<font color=\"##AA0000\"><b>Ma</b></font>·ry ·<font color=\"##AA0000\"><b>had</b></font>· ·<font color=\"##AA0000\"><b>a</b></font>· ·<font color=\"##AA0000\"><b>li</b></font>·tt·<font color=\"##AA0000\"><b>le</b></font>· ·<font color=\"##AA0000\"><b>lamb</b></font>·<br/>·<font color=\"##AA0000\"><b>I</b></font>·ts ·<font color=\"##AA0000\"><b>fleece</b></font>· ·<font color=\"##AA0000\"><b>a</b></font>·s w·<font color=\"##AA0000\"><b>hi</b></font>·t·<font color=\"##AA0000\"><b>e</b></font>· ·<font color=\"##AA0000\"><b>a</b></font>·s snow<br/>·<font color=\"##AA0000\"><b>A</b></font>·n·<font color=\"##AA0000\"><b>d</b></font>· ·<font color=\"##AA0000\"><b>e</b></font>·v·<font color=\"##AA0000\"><b>e</b></font>·ryw·<font color=\"##AA0000\"><b>he</b></font>·r·<font color=\"##AA0000\"><b>e</b></font>· t·<font color=\"##AA0000\"><b>ha</b></font>·t ·<font color=\"##AA0000\"><b>Ma</b></font>·ry<br/>w·<font color=\"##AA0000\"><b>e</b></font>·nt, t·<font color=\"##AA0000\"><b>he</b></font>· ·<font color=\"##AA0000\"><b>lamb</b></font>· w·<font color=\"##AA0000\"><b>a</b></font>·s sur·<font color=\"##AA0000\"><b>e</b></font>·<br/>to ·<font color=\"##AA0000\"><b>g</b></font>·o"
      ],
      "text/plain": [
       "<IPython.core.display.HTML object>"
      ]
     },
     "execution_count": 2,
     "metadata": {},
     "output_type": "execute_result"
    }
   ],
   "source": [
    "# first half of alphabet\n",
    "show(r'[A-Ma-m]+', rhyme)"
   ]
  },
  {
   "cell_type": "markdown",
   "metadata": {
    "slideshow": {
     "slide_type": "fragment"
    }
   },
   "source": [
    "To look at only those substrings using letters from the second half of the English alphabet, we could take either of two approaches."
   ]
  },
  {
   "cell_type": "code",
   "execution_count": 3,
   "metadata": {
    "slideshow": {
     "slide_type": "subslide"
    }
   },
   "outputs": [
    {
     "data": {
      "text/html": [
       "Ma·<font color=\"##AA0000\"><b>ry</b></font>· had a li·<font color=\"##AA0000\"><b>tt</b></font>·le lamb<br/>I·<font color=\"##AA0000\"><b>ts</b></font>· fleece a·<font color=\"##AA0000\"><b>s</b></font>· ·<font color=\"##AA0000\"><b>w</b></font>·hi·<font color=\"##AA0000\"><b>t</b></font>·e a·<font color=\"##AA0000\"><b>s</b></font>· ·<font color=\"##AA0000\"><b>snow</b></font>·<br/>A·<font color=\"##AA0000\"><b>n</b></font>·d e·<font color=\"##AA0000\"><b>v</b></font>·e·<font color=\"##AA0000\"><b>ryw</b></font>·he·<font color=\"##AA0000\"><b>r</b></font>·e ·<font color=\"##AA0000\"><b>t</b></font>·ha·<font color=\"##AA0000\"><b>t</b></font>· Ma·<font color=\"##AA0000\"><b>ry</b></font>·<br/>·<font color=\"##AA0000\"><b>w</b></font>·e·<font color=\"##AA0000\"><b>nt</b></font>·, ·<font color=\"##AA0000\"><b>t</b></font>·he lamb ·<font color=\"##AA0000\"><b>w</b></font>·a·<font color=\"##AA0000\"><b>s</b></font>· ·<font color=\"##AA0000\"><b>sur</b></font>·e<br/>·<font color=\"##AA0000\"><b>to</b></font>· g·<font color=\"##AA0000\"><b>o</b></font>·"
      ],
      "text/plain": [
       "<IPython.core.display.HTML object>"
      ]
     },
     "execution_count": 3,
     "metadata": {},
     "output_type": "execute_result"
    }
   ],
   "source": [
    "# second half of alphabet (exclude spaces, comma, etc)\n",
    "show(r'[^A-Ma-m ,\\n]+', rhyme)"
   ]
  },
  {
   "cell_type": "code",
   "execution_count": 4,
   "metadata": {
    "slideshow": {
     "slide_type": "fragment"
    }
   },
   "outputs": [
    {
     "data": {
      "text/html": [
       "Ma·<font color=\"##AA0000\"><b>ry</b></font>· had a li·<font color=\"##AA0000\"><b>tt</b></font>·le lamb<br/>I·<font color=\"##AA0000\"><b>ts</b></font>· fleece a·<font color=\"##AA0000\"><b>s</b></font>· ·<font color=\"##AA0000\"><b>w</b></font>·hi·<font color=\"##AA0000\"><b>t</b></font>·e a·<font color=\"##AA0000\"><b>s</b></font>· ·<font color=\"##AA0000\"><b>snow</b></font>·<br/>A·<font color=\"##AA0000\"><b>n</b></font>·d e·<font color=\"##AA0000\"><b>v</b></font>·e·<font color=\"##AA0000\"><b>ryw</b></font>·he·<font color=\"##AA0000\"><b>r</b></font>·e ·<font color=\"##AA0000\"><b>t</b></font>·ha·<font color=\"##AA0000\"><b>t</b></font>· Ma·<font color=\"##AA0000\"><b>ry</b></font>·<br/>·<font color=\"##AA0000\"><b>w</b></font>·e·<font color=\"##AA0000\"><b>nt</b></font>·, ·<font color=\"##AA0000\"><b>t</b></font>·he lamb ·<font color=\"##AA0000\"><b>w</b></font>·a·<font color=\"##AA0000\"><b>s</b></font>· ·<font color=\"##AA0000\"><b>sur</b></font>·e<br/>·<font color=\"##AA0000\"><b>to</b></font>· g·<font color=\"##AA0000\"><b>o</b></font>·"
      ],
      "text/plain": [
       "<IPython.core.display.HTML object>"
      ]
     },
     "execution_count": 4,
     "metadata": {},
     "output_type": "execute_result"
    }
   ],
   "source": [
    "# second half of alphabet (alternative)\n",
    "show(r'[N-Zn-z]+', rhyme)"
   ]
  },
  {
   "cell_type": "markdown",
   "metadata": {
    "slideshow": {
     "slide_type": "subslide"
    }
   },
   "source": [
    "The ranges can occur in any order within the character class; for example, we listed capital letters first in our classes even though lower-case occurs earlier in ASCII or Unicode.  We can also define arbitrary collections of characters that do not include ranges, or that mix ranges with individual characters."
   ]
  },
  {
   "cell_type": "code",
   "execution_count": 5,
   "metadata": {
    "slideshow": {
     "slide_type": "fragment"
    }
   },
   "outputs": [
    {
     "data": {
      "text/html": [
       "M·<font color=\"##AA0000\"><b>a</b></font>·ry ·<font color=\"##AA0000\"><b>had</b></font>· ·<font color=\"##AA0000\"><b>a</b></font>· ·<font color=\"##AA0000\"><b>little</b></font>· ·<font color=\"##AA0000\"><b>la</b></font>·m·<font color=\"##AA0000\"><b>b</b></font>·<br/>I·<font color=\"##AA0000\"><b>t</b></font>·s f·<font color=\"##AA0000\"><b>lee</b></font>·c·<font color=\"##AA0000\"><b>e</b></font>· ·<font color=\"##AA0000\"><b>a</b></font>·s w·<font color=\"##AA0000\"><b>hite</b></font>· ·<font color=\"##AA0000\"><b>a</b></font>·s sn·<font color=\"##AA0000\"><b>o</b></font>·w<br/>An·<font color=\"##AA0000\"><b>d</b></font>· ·<font color=\"##AA0000\"><b>e</b></font>·v·<font color=\"##AA0000\"><b>e</b></font>·ryw·<font color=\"##AA0000\"><b>he</b></font>·r·<font color=\"##AA0000\"><b>e</b></font>· ·<font color=\"##AA0000\"><b>that</b></font>· M·<font color=\"##AA0000\"><b>a</b></font>·ry<br/>w·<font color=\"##AA0000\"><b>e</b></font>·n·<font color=\"##AA0000\"><b>t</b></font>·, ·<font color=\"##AA0000\"><b>the</b></font>· ·<font color=\"##AA0000\"><b>la</b></font>·m·<font color=\"##AA0000\"><b>b</b></font>· w·<font color=\"##AA0000\"><b>a</b></font>·s s·<font color=\"##AA0000\"><b>u</b></font>·r·<font color=\"##AA0000\"><b>e</b></font>·<br/>·<font color=\"##AA0000\"><b>to</b></font>· g·<font color=\"##AA0000\"><b>o</b></font>·"
      ],
      "text/plain": [
       "<IPython.core.display.HTML object>"
      ]
     },
     "execution_count": 5,
     "metadata": {},
     "output_type": "execute_result"
    }
   ],
   "source": [
    "# arbitrary character class\n",
    "show(r'[aeioubdlth]+', rhyme)"
   ]
  },
  {
   "cell_type": "code",
   "execution_count": 6,
   "metadata": {
    "slideshow": {
     "slide_type": "subslide"
    }
   },
   "outputs": [
    {
     "data": {
      "text/html": [
       "·<font color=\"##AA0000\"><b>Mary</b></font>· h·<font color=\"##AA0000\"><b>a</b></font>·d ·<font color=\"##AA0000\"><b>a</b></font>· l·<font color=\"##AA0000\"><b>itt</b></font>·l·<font color=\"##AA0000\"><b>e</b></font>· l·<font color=\"##AA0000\"><b>a</b></font>·mb<br/>·<font color=\"##AA0000\"><b>Its</b></font>· fl·<font color=\"##AA0000\"><b>ee</b></font>·c·<font color=\"##AA0000\"><b>e</b></font>· ·<font color=\"##AA0000\"><b>as</b></font>· ·<font color=\"##AA0000\"><b>w</b></font>·h·<font color=\"##AA0000\"><b>ite</b></font>· ·<font color=\"##AA0000\"><b>as</b></font>· ·<font color=\"##AA0000\"><b>snow</b></font>·<br/>·<font color=\"##AA0000\"><b>An</b></font>·d ·<font color=\"##AA0000\"><b>everyw</b></font>·h·<font color=\"##AA0000\"><b>ere</b></font>· ·<font color=\"##AA0000\"><b>t</b></font>·h·<font color=\"##AA0000\"><b>at</b></font>· ·<font color=\"##AA0000\"><b>Mary</b></font>·<br/>·<font color=\"##AA0000\"><b>went</b></font>·, ·<font color=\"##AA0000\"><b>t</b></font>·h·<font color=\"##AA0000\"><b>e</b></font>· l·<font color=\"##AA0000\"><b>a</b></font>·mb ·<font color=\"##AA0000\"><b>was</b></font>· ·<font color=\"##AA0000\"><b>sure</b></font>·<br/>·<font color=\"##AA0000\"><b>to</b></font>· g·<font color=\"##AA0000\"><b>o</b></font>·"
      ],
      "text/plain": [
       "<IPython.core.display.HTML object>"
      ]
     },
     "execution_count": 6,
     "metadata": {},
     "output_type": "execute_result"
    }
   ],
   "source": [
    "# Any cap, any vower, second half of lower case\n",
    "show(r'[A-Zaeioun-z]+', rhyme)"
   ]
  },
  {
   "cell_type": "markdown",
   "metadata": {
    "slideshow": {
     "slide_type": "slide"
    }
   },
   "source": [
    "## Other Alphabets\n",
    "\n",
    "As mentioned, unfamiliar alphabets may not have an obvious character order for you.  Unless the ASCII-only flag is used (`re.ASCII` or `re.A`), for example, all letter-like characters in Unicode are matched by `\\w`.  Below is a rough Russian translation of \"Mary had a little lamb.\""
   ]
  },
  {
   "cell_type": "code",
   "execution_count": 7,
   "metadata": {
    "slideshow": {
     "slide_type": "fragment"
    }
   },
   "outputs": [
    {
     "name": "stdout",
     "output_type": "stream",
     "text": [
      "[*] у Мэри был маленький ягненок!\n"
     ]
    }
   ],
   "source": [
    "print(рифма)"
   ]
  },
  {
   "cell_type": "code",
   "execution_count": 8,
   "metadata": {
    "slideshow": {
     "slide_type": "fragment"
    }
   },
   "outputs": [
    {
     "data": {
      "text/html": [
       "[*] ·<font color=\"##AA0000\"><b>у</b></font>· ·<font color=\"##AA0000\"><b>Мэри</b></font>· ·<font color=\"##AA0000\"><b>был</b></font>· ·<font color=\"##AA0000\"><b>маленький</b></font>· ·<font color=\"##AA0000\"><b>ягненок</b></font>·!"
      ],
      "text/plain": [
       "<IPython.core.display.HTML object>"
      ]
     },
     "execution_count": 8,
     "metadata": {},
     "output_type": "execute_result"
    }
   ],
   "source": [
    "# Match sequences of letter-like characters, even in Cyrillic\n",
    "show(r'\\w+', рифма)"
   ]
  },
  {
   "cell_type": "markdown",
   "metadata": {
    "slideshow": {
     "slide_type": "subslide"
    }
   },
   "source": [
    "We might perform the same match using character ranges, but we will need to know the Unicode order of the Cyrillic letters.  The same concern, obviously, applies to any alphabet."
   ]
  },
  {
   "cell_type": "code",
   "execution_count": 9,
   "metadata": {
    "slideshow": {
     "slide_type": "fragment"
    }
   },
   "outputs": [
    {
     "data": {
      "text/html": [
       "[*] ·<font color=\"##AA0000\"><b>у</b></font>· ·<font color=\"##AA0000\"><b>Мэри</b></font>· ·<font color=\"##AA0000\"><b>был</b></font>· ·<font color=\"##AA0000\"><b>маленький</b></font>· ·<font color=\"##AA0000\"><b>ягненок</b></font>·!"
      ],
      "text/plain": [
       "<IPython.core.display.HTML object>"
      ]
     },
     "execution_count": 9,
     "metadata": {},
     "output_type": "execute_result"
    }
   ],
   "source": [
    "show(r'[А-Яа-я]+', рифма)"
   ]
  },
  {
   "cell_type": "markdown",
   "metadata": {
    "slideshow": {
     "slide_type": "subslide"
    }
   },
   "source": [
    "The order is more obvious if we use the Unicode code points.  In fact, in the Cyrillic range, the *Russian* upper-case letters occur immediately before the Russian lower-case letters (contrary to the reversed collation and non-contiguity of ASCII Latin characters).  However, languages other than Russian, as well as some uncommon or archaic Russian texts, use some Unicode code points both before and after the range I chose."
   ]
  },
  {
   "cell_type": "markdown",
   "metadata": {
    "slideshow": {
     "slide_type": "subslide"
    }
   },
   "source": [
    "As code points, we can replicate the last example as the below.  However, we cannot use raw strings for this if we want the Unicode escapes."
   ]
  },
  {
   "cell_type": "code",
   "execution_count": 10,
   "metadata": {
    "slideshow": {
     "slide_type": "fragment"
    }
   },
   "outputs": [
    {
     "data": {
      "text/html": [
       "[*] ·<font color=\"##AA0000\"><b>у</b></font>· ·<font color=\"##AA0000\"><b>Мэри</b></font>· ·<font color=\"##AA0000\"><b>был</b></font>· ·<font color=\"##AA0000\"><b>маленький</b></font>· ·<font color=\"##AA0000\"><b>ягненок</b></font>·!"
      ],
      "text/plain": [
       "<IPython.core.display.HTML object>"
      ]
     },
     "execution_count": 10,
     "metadata": {},
     "output_type": "execute_result"
    }
   ],
   "source": [
    "show('[\\u0410-\\u044f]+', рифма)"
   ]
  },
  {
   "cell_type": "markdown",
   "metadata": {
    "slideshow": {
     "slide_type": "subslide"
    }
   },
   "source": [
    "More generally, if we wanted to match the entire Cyrillic block we would use a more expansive range.  Whether this is good or bad depends on the purpose (e.g. maybe we want to match Russian but exclude the additional letters in Abkhaz)."
   ]
  },
  {
   "cell_type": "code",
   "execution_count": 11,
   "metadata": {
    "slideshow": {
     "slide_type": "fragment"
    }
   },
   "outputs": [
    {
     "data": {
      "text/html": [
       "[*] ·<font color=\"##AA0000\"><b>у</b></font>· ·<font color=\"##AA0000\"><b>Мэри</b></font>· ·<font color=\"##AA0000\"><b>был</b></font>· ·<font color=\"##AA0000\"><b>маленький</b></font>· ·<font color=\"##AA0000\"><b>ягненок</b></font>·!"
      ],
      "text/plain": [
       "<IPython.core.display.HTML object>"
      ]
     },
     "execution_count": 11,
     "metadata": {},
     "output_type": "execute_result"
    }
   ],
   "source": [
    "show('[\\u0400-\\u04ff]+', рифма)"
   ]
  },
  {
   "cell_type": "markdown",
   "metadata": {
    "slideshow": {
     "slide_type": "subslide"
    }
   },
   "source": [
    "As in the English examples, we could look for more limited character ranges."
   ]
  },
  {
   "cell_type": "code",
   "execution_count": 12,
   "metadata": {
    "slideshow": {
     "slide_type": "fragment"
    }
   },
   "outputs": [
    {
     "data": {
      "text/html": [
       "[*] у Мэр·<font color=\"##AA0000\"><b>и</b></font>· ·<font color=\"##AA0000\"><b>б</b></font>·ы·<font color=\"##AA0000\"><b>л</b></font>· ·<font color=\"##AA0000\"><b>мален</b></font>·ь·<font color=\"##AA0000\"><b>кий</b></font>· я·<font color=\"##AA0000\"><b>гненок</b></font>·!"
      ],
      "text/plain": [
       "<IPython.core.display.HTML object>"
      ]
     },
     "execution_count": 12,
     "metadata": {},
     "output_type": "execute_result"
    }
   ],
   "source": [
    "show(r'[А-Жа-п]+', рифма)"
   ]
  },
  {
   "cell_type": "markdown",
   "metadata": {
    "slideshow": {
     "slide_type": "slide"
    }
   },
   "source": [
    "## Grouping\n",
    "\n",
    "Any subpattern in a regular expression can be grouped together so that the pattern as a whole can be subject to quantification—as well as to alternation that we will look at below.  "
   ]
  },
  {
   "cell_type": "markdown",
   "metadata": {
    "slideshow": {
     "slide_type": "subslide"
    }
   },
   "source": [
    "Let us look for a particular pattern. We want substrings that start with a consonant, and where each consonant cluster is followed by exactly one vowel, but potentially multiple occurrences of that alternation.  The match is terminated by a word boundary."
   ]
  },
  {
   "cell_type": "code",
   "execution_count": 13,
   "metadata": {
    "slideshow": {
     "slide_type": "fragment"
    }
   },
   "outputs": [
    {
     "data": {
      "text/html": [
       "·<font color=\"##AA0000\"><b>Mary</b></font>· had a ·<font color=\"##AA0000\"><b>little</b></font>· lamb<br/>Its flee·<font color=\"##AA0000\"><b>ce</b></font>· as ·<font color=\"##AA0000\"><b>white</b></font>· as snow<br/>And e·<font color=\"##AA0000\"><b>verywhere</b></font>· that ·<font color=\"##AA0000\"><b>Mary</b></font>·<br/>went, ·<font color=\"##AA0000\"><b>the</b></font>· lamb was ·<font color=\"##AA0000\"><b>sure</b></font>·<br/>·<font color=\"##AA0000\"><b>to</b></font>· ·<font color=\"##AA0000\"><b>go</b></font>·"
      ],
      "text/plain": [
       "<IPython.core.display.HTML object>"
      ]
     },
     "execution_count": 13,
     "metadata": {},
     "output_type": "execute_result"
    }
   ],
   "source": [
    "pat = r'([Mbcdfghjklmnpqrstvwxz]+[aeiouy])+\\b'\n",
    "show(pat, rhyme)"
   ]
  },
  {
   "cell_type": "markdown",
   "metadata": {
    "slideshow": {
     "slide_type": "slide"
    }
   },
   "source": [
    "## Alternation\n",
    "\n",
    "Along with repetition of patterns, you may also specify alternation among patterns.  In the simplest case, this can be simply a choice among literals.  It is sometimes required, and usually helpful, to put parenthesis around the alternation groups."
   ]
  },
  {
   "cell_type": "code",
   "execution_count": 14,
   "metadata": {
    "slideshow": {
     "slide_type": "fragment"
    }
   },
   "outputs": [
    {
     "data": {
      "text/html": [
       "Mary had a little ·<font color=\"##AA0000\"><b>lamb</b></font>·<br/>Its ·<font color=\"##AA0000\"><b>fleece</b></font>· as ·<font color=\"##AA0000\"><b>white</b></font>· as snow<br/>And everywhere that Mary<br/>went, the ·<font color=\"##AA0000\"><b>lamb</b></font>· was sure<br/>to go"
      ],
      "text/plain": [
       "<IPython.core.display.HTML object>"
      ]
     },
     "execution_count": 14,
     "metadata": {},
     "output_type": "execute_result"
    }
   ],
   "source": [
    "show(r'(fleece)|(lamb)|(white)', rhyme)"
   ]
  },
  {
   "cell_type": "markdown",
   "metadata": {
    "slideshow": {
     "slide_type": "subslide"
    }
   },
   "source": [
    "Often it is useful to use subpatterns within the alternation.  For example, let us look for words that *either*:\n",
    "\n",
    "* Begin with a vowel and are one or two letters long;\n",
    "* Begin with a consonent and are 5 or more letters."
   ]
  },
  {
   "cell_type": "code",
   "execution_count": 15,
   "metadata": {
    "slideshow": {
     "slide_type": "fragment"
    }
   },
   "outputs": [
    {
     "data": {
      "text/html": [
       "Mary had ·<font color=\"##AA0000\"><b>a</b></font>· ·<font color=\"##AA0000\"><b>little</b></font>· lamb<br/>Its ·<font color=\"##AA0000\"><b>fleece</b></font>· ·<font color=\"##AA0000\"><b>as</b></font>· ·<font color=\"##AA0000\"><b>white</b></font>· ·<font color=\"##AA0000\"><b>as</b></font>· snow<br/>And everywhere that Mary<br/>went, the lamb was sure<br/>to go"
      ],
      "text/plain": [
       "<IPython.core.display.HTML object>"
      ]
     },
     "execution_count": 15,
     "metadata": {},
     "output_type": "execute_result"
    }
   ],
   "source": [
    "# Some letters omitted from classes to shorten\n",
    "# One initial letter then quantified rest counting the start\n",
    "show(r'\\b([AEIOUaeiou]\\w?|[bcdfghlmMnrstvw]\\w{4,})\\b', rhyme)"
   ]
  },
  {
   "cell_type": "markdown",
   "metadata": {
    "slideshow": {
     "slide_type": "subslide"
    }
   },
   "source": [
    "We can combine these techniques further.  For example, let us identify all sequences of 3 to 7 words matching our somewhat odd criteria.  That is, we quantify an alternation group."
   ]
  },
  {
   "cell_type": "code",
   "execution_count": 16,
   "metadata": {
    "slideshow": {
     "slide_type": "fragment"
    }
   },
   "outputs": [
    {
     "data": {
      "text/html": [
       "Mary had a little lamb<br/>Its ·<font color=\"##AA0000\"><b>fleece as white as </b></font>·snow<br/>And everywhere that Mary<br/>went, the lamb was sure<br/>to go"
      ],
      "text/plain": [
       "<IPython.core.display.HTML object>"
      ]
     },
     "execution_count": 16,
     "metadata": {},
     "output_type": "execute_result"
    }
   ],
   "source": [
    "pat = r'(\\b([AEIOUaeiou]\\w?|[bcdfghlmMnrstvw]\\w{4,})\\s+){3,7}'\n",
    "show(pat, rhyme)"
   ]
  },
  {
   "cell_type": "markdown",
   "metadata": {
    "slideshow": {
     "slide_type": "slide"
    }
   },
   "source": [
    "## Verbose Regular Expressions\n",
    "\n",
    "The last example we looked at is already starting to get pretty dense to read.  Regular expressions can become very complicated to capture complex patterns.  Patterns may be specified in a \"verbose\" mode if an appropriate flag is used for calls to the regex functions."
   ]
  },
  {
   "cell_type": "markdown",
   "metadata": {
    "slideshow": {
     "slide_type": "subslide"
    }
   },
   "source": [
    "In a verbose pattern, whitespace is ignore except when it occurs within a character class.  Moreover, trailing comments on each line are also ignored to allow annotations of the subpatterns.  We can combine several elements of the syntax we have learned to describe URLs in verbose style.  This example is absolutely not robust against everything URLs can contain, but it illustrates the verbose syntax."
   ]
  },
  {
   "cell_type": "code",
   "execution_count": 17,
   "metadata": {
    "slideshow": {
     "slide_type": "subslide"
    }
   },
   "outputs": [],
   "source": [
    "pat = r'''   # identify URLs within a multiline string\n",
    "(https?|ftp) # make sure we find a resource type\n",
    "         :// # needs to be followed by colon-slash-slash\n",
    "  [^ ,\\t\\n]+ # stuff other than comma, space, tab, newline\n",
    "'''"
   ]
  },
  {
   "cell_type": "code",
   "execution_count": 18,
   "metadata": {
    "slideshow": {
     "slide_type": "fragment"
    }
   },
   "outputs": [
    {
     "data": {
      "text/html": [
       "The URL for my site is: ·<font color=\"##AA0000\"><b>http://example.com/mydoc.html.</b></font>·  You<br/>might also enjoy ·<font color=\"##AA0000\"><b>ftp://example.org/index.html</b></font>· for a good place<br/>to download files. A URL might end its line:<br/><br/>·<font color=\"##AA0000\"><b>https://example.net/secure</b></font>·<br/>"
      ],
      "text/plain": [
       "<IPython.core.display.HTML object>"
      ]
     },
     "execution_count": 18,
     "metadata": {},
     "output_type": "execute_result"
    }
   ],
   "source": [
    "s = '''The URL for my site is: http://example.com/mydoc.html.  You\n",
    "might also enjoy ftp://example.org/index.html for a good place\n",
    "to download files. A URL might end its line:\n",
    "\n",
    "https://example.net/secure\n",
    "'''\n",
    "\n",
    "show(pat, s, re.VERBOSE)"
   ]
  }
 ],
 "metadata": {
  "celltoolbar": "Slideshow",
  "kernelspec": {
   "display_name": "Python 3",
   "language": "python",
   "name": "python3"
  },
  "language_info": {
   "codemirror_mode": {
    "name": "ipython",
    "version": 3
   },
   "file_extension": ".py",
   "mimetype": "text/x-python",
   "name": "python",
   "nbconvert_exporter": "python",
   "pygments_lexer": "ipython3",
   "version": "3.8.2"
  }
 },
 "nbformat": 4,
 "nbformat_minor": 4
}
