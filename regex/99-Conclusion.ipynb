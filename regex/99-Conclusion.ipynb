{
 "cells": [
  {
   "cell_type": "markdown",
   "metadata": {
    "slideshow": {
     "slide_type": "slide"
    }
   },
   "source": [
    "# What You Know\n",
    "\n",
    "<img src=\"img/david-headshot2.png\" align=\"right\" width=\"33%\"/>\n",
    "\n",
    "* Quantifiers\n",
    "* Character classes\n",
    "* Groups \n",
    "* Loookahead and lookbehind assertions\n",
    "* Back references\n",
    "* Complexity concerns\n"
   ]
  },
  {
   "cell_type": "markdown",
   "metadata": {
    "slideshow": {
     "slide_type": "slide"
    }
   },
   "source": [
    "# What Next?\n",
    "\n",
    "* <img src=\"img/DQM-Maybe-Belarus-small.jpg\" align=\"right\" width=\"33%\"/>Practice using regular expression to identify patterns in texts you work with concretely\n",
    "* Benchmark the performance of regular expression patterns, compare with variations\n",
    "* Write **unit tests** of code utilizing regular expressions"
   ]
  }
 ],
 "metadata": {
  "celltoolbar": "Slideshow",
  "kernelspec": {
   "display_name": "Python 3",
   "language": "python",
   "name": "python3"
  },
  "language_info": {
   "codemirror_mode": {
    "name": "ipython",
    "version": 3
   },
   "file_extension": ".py",
   "mimetype": "text/x-python",
   "name": "python",
   "nbconvert_exporter": "python",
   "pygments_lexer": "ipython3",
   "version": "3.8.2"
  }
 },
 "nbformat": 4,
 "nbformat_minor": 4
}
