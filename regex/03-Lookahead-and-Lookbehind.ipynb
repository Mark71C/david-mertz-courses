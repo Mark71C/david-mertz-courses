{
 "cells": [
  {
   "cell_type": "markdown",
   "metadata": {
    "slideshow": {
     "slide_type": "slide"
    }
   },
   "source": [
    "# Lookahead and Lookbehind\n",
    "\n",
    "Sometimes in regular expressions, you wish to make *assertions* about patterns without actually including the subpattern in the match.  "
   ]
  },
  {
   "cell_type": "markdown",
   "metadata": {
    "slideshow": {
     "slide_type": "fragment"
    }
   },
   "source": [
    "We have already seen a few examples of this, although not described as such.  The special symbols `^` and `$` mark the beginning and end of lines or strings, respectively, and describe what a match must look like without actually including any characters themselves. The pattern `\\b` that must match a word boundary is similar."
   ]
  },
  {
   "cell_type": "markdown",
   "metadata": {
    "slideshow": {
     "slide_type": "subslide"
    }
   },
   "source": [
    "However, we can be more general in describing a complete subpattern that must occur before or after a match, without that subpattern itself being included in the match.  Negative lookahead and lookbehind assertions are likewise available."
   ]
  },
  {
   "cell_type": "code",
   "execution_count": 1,
   "metadata": {
    "slideshow": {
     "slide_type": "fragment"
    }
   },
   "outputs": [],
   "source": [
    "from src.setup import *"
   ]
  },
  {
   "cell_type": "markdown",
   "metadata": {
    "slideshow": {
     "slide_type": "subslide"
    }
   },
   "source": [
    "Within our nursery rhyme, we can use an example.  Let us match every 'a' or 'e' that is followed by 'd', 'm' or 'r'. "
   ]
  },
  {
   "cell_type": "code",
   "execution_count": 2,
   "metadata": {
    "slideshow": {
     "slide_type": "fragment"
    }
   },
   "outputs": [
    {
     "data": {
      "text/html": [
       "M·<font color=\"##AA0000\"><b>a</b></font>·ry h·<font color=\"##AA0000\"><b>a</b></font>·d a little l·<font color=\"##AA0000\"><b>a</b></font>·mb<br/>Its fleece as white as snow<br/>And ev·<font color=\"##AA0000\"><b>e</b></font>·rywh·<font color=\"##AA0000\"><b>e</b></font>·re that M·<font color=\"##AA0000\"><b>a</b></font>·ry<br/>went, the l·<font color=\"##AA0000\"><b>a</b></font>·mb was sure<br/>to go"
      ],
      "text/plain": [
       "<IPython.core.display.HTML object>"
      ]
     },
     "execution_count": 2,
     "metadata": {},
     "output_type": "execute_result"
    }
   ],
   "source": [
    "show(r'[ae](?=[dmr])', rhyme)"
   ]
  },
  {
   "cell_type": "markdown",
   "metadata": {
    "slideshow": {
     "slide_type": "fragment"
    }
   },
   "source": [
    "Notice two things.  The match consists *only* of the 'a' or 'e' itself; but nonetheless, other 'a' and 'e' characters are not matched."
   ]
  },
  {
   "cell_type": "markdown",
   "metadata": {
    "slideshow": {
     "slide_type": "subslide"
    }
   },
   "source": [
    "It is hard to come up with an obvious reason you would wish to highlight or reference exactly those single letters.  It might make better sense if we do not think of prose sentences, but other information encoded as text.  For example, suppose we have a list of auto part numbers."
   ]
  },
  {
   "cell_type": "code",
   "execution_count": 3,
   "metadata": {
    "slideshow": {
     "slide_type": "fragment"
    }
   },
   "outputs": [
    {
     "name": "stdout",
     "output_type": "stream",
     "text": [
      "FORD-2008-xyz37\n",
      "FORD-1998-ef445\n",
      "TOYO-1999-wxy66\n",
      "TOYO-2005-qrst3\n",
      "FORD-2010-ab614\n",
      "MAZD-1995-pqr33\n",
      "TOYO-2013-fg185\n",
      "TOYO-1997-abc23\n",
      "FORD-2012-lm034\n"
     ]
    }
   ],
   "source": [
    "print(parts)"
   ]
  },
  {
   "cell_type": "markdown",
   "metadata": {
    "slideshow": {
     "slide_type": "subslide"
    }
   },
   "source": [
    "Imagine there are hundreds of thousands of such numbers listed rather than just a few for a somewhat more \"real world\" feel.  We would like to match only the collection of years for which we have Toyota parts.  This is a \"lookbehind\" question rather than \"lookahead.\""
   ]
  },
  {
   "cell_type": "code",
   "execution_count": 4,
   "metadata": {
    "slideshow": {
     "slide_type": "fragment"
    }
   },
   "outputs": [
    {
     "data": {
      "text/html": [
       "FORD-2008-xyz37<br/>FORD-1998-ef445<br/>TOYO-·<font color=\"##AA0000\"><b>1999</b></font>·-wxy66<br/>TOYO-·<font color=\"##AA0000\"><b>2005</b></font>·-qrst3<br/>FORD-2010-ab614<br/>MAZD-1995-pqr33<br/>TOYO-·<font color=\"##AA0000\"><b>2013</b></font>·-fg185<br/>TOYO-·<font color=\"##AA0000\"><b>1997</b></font>·-abc23<br/>FORD-2012-lm034"
      ],
      "text/plain": [
       "<IPython.core.display.HTML object>"
      ]
     },
     "execution_count": 4,
     "metadata": {},
     "output_type": "execute_result"
    }
   ],
   "source": [
    "show(r'(?<=^TOYO-)\\d{4}', parts)"
   ]
  },
  {
   "cell_type": "markdown",
   "metadata": {
    "slideshow": {
     "slide_type": "subslide"
    }
   },
   "source": [
    "Let us make a somewhat more complex query.  We would like the years of Ford parts that use a two letter part code rather than the three or four letter version that some parts have.  Moreover, we only want the years for parts made after year 2000."
   ]
  },
  {
   "cell_type": "code",
   "execution_count": 5,
   "metadata": {
    "slideshow": {
     "slide_type": "fragment"
    }
   },
   "outputs": [
    {
     "data": {
      "text/html": [
       "FORD-2008-xyz37<br/>FORD-1998-ef445<br/>TOYO-1999-wxy66<br/>TOYO-2005-qrst3<br/>FORD-·<font color=\"##AA0000\"><b>2010</b></font>·-ab614<br/>MAZD-1995-pqr33<br/>TOYO-2013-fg185<br/>TOYO-1997-abc23<br/>FORD-·<font color=\"##AA0000\"><b>2012</b></font>·-lm034"
      ],
      "text/plain": [
       "<IPython.core.display.HTML object>"
      ]
     },
     "execution_count": 5,
     "metadata": {},
     "output_type": "execute_result"
    }
   ],
   "source": [
    "pat = r'(?<=^FORD-)2\\d{3}(?=-[^0-9]{2}\\d)' \n",
    "show(pat, parts)"
   ]
  },
  {
   "cell_type": "markdown",
   "metadata": {
    "slideshow": {
     "slide_type": "subslide"
    }
   },
   "source": [
    "Negative assertions are, as the name suggests, requirements that a certain pattern does *not* come before or after that pattern we wish to match. To make a negative assertion  For example, let us find the years of parts that are **not** made by Mazda and that do **not** have four letter codes."
   ]
  },
  {
   "cell_type": "code",
   "execution_count": 6,
   "metadata": {
    "slideshow": {
     "slide_type": "fragment"
    }
   },
   "outputs": [
    {
     "data": {
      "text/html": [
       "FORD-·<font color=\"##AA0000\"><b>2008</b></font>·-xyz37<br/>FORD-·<font color=\"##AA0000\"><b>1998</b></font>·-ef445<br/>TOYO-·<font color=\"##AA0000\"><b>1999</b></font>·-wxy66<br/>TOYO-2005-qrst3<br/>FORD-·<font color=\"##AA0000\"><b>2010</b></font>·-ab614<br/>MAZD-1995-pqr33<br/>TOYO-·<font color=\"##AA0000\"><b>2013</b></font>·-fg185<br/>TOYO-·<font color=\"##AA0000\"><b>1997</b></font>·-abc23<br/>FORD-·<font color=\"##AA0000\"><b>2012</b></font>·-lm034"
      ],
      "text/plain": [
       "<IPython.core.display.HTML object>"
      ]
     },
     "execution_count": 6,
     "metadata": {},
     "output_type": "execute_result"
    }
   ],
   "source": [
    "pat = r'(?<!^MAZD-)\\d{4}(?!-\\D{4})'\n",
    "show(pat, parts)"
   ]
  },
  {
   "cell_type": "markdown",
   "metadata": {
    "slideshow": {
     "slide_type": "subslide"
    }
   },
   "source": [
    "```python\n",
    "pat = r'(?<!^MAZD-)\\d{4}(?!-\\D{4})'\n",
    "```\n",
    "Even in these dense patterns we made a number of simplifying assumptions.  For example, for the part code portion of the part number, we stipulate that it always contains letters and numbers rather than other characters, and hence that a \"not-digit\" class like `\\D` will match only letters.  Moreover, if the expected pattern of `MAKER-YEAR-CODE` is not followed on a given line, results will be unreliable."
   ]
  },
  {
   "cell_type": "markdown",
   "metadata": {
    "slideshow": {
     "slide_type": "slide"
    }
   },
   "source": [
    "## Back References\n",
    "\n",
    "So far everything in these lessons looked only at identifying patterns.  In fact, all we have done is highlight the matches, rather than work with them in a programmatic way within Python.  Later lessons will do more.  "
   ]
  },
  {
   "cell_type": "markdown",
   "metadata": {
    "slideshow": {
     "slide_type": "fragment"
    }
   },
   "source": [
    "Here let us look at a feature in many regular expression tools of using *back references* to groups defined within expressions.  Especially when you do replacements on patterns identified, it is useful to be able to refer to the components of match.  "
   ]
  },
  {
   "cell_type": "markdown",
   "metadata": {
    "slideshow": {
     "slide_type": "subslide"
    }
   },
   "source": [
    "For this example, suppose that the warehouse with these auto parts will stop stocking parts made prior to 2000 to keep more modern inventory.  To aid this process, parts will be renumbered to reflect this change.  Older parts should have the new pattern `MAKER-OBS-CODE(YEAR)`, i.e. the \"year\" portion will become the string 'OBS' (obsolete). To build on lookbehind patterns in this lesson, we only do this for non-Mazda parts."
   ]
  },
  {
   "cell_type": "code",
   "execution_count": 7,
   "metadata": {
    "slideshow": {
     "slide_type": "subslide"
    }
   },
   "outputs": [
    {
     "data": {
      "text/html": [
       "FORD-2008-xyz37<br/>FORD-·<font color=\"##AA0000\"><b>OBS-ef445(1998)</b></font>·<br/>TOYO-·<font color=\"##AA0000\"><b>OBS-wxy66(1999)</b></font>·<br/>TOYO-2005-qrst3<br/>FORD-2010-ab614<br/>MAZD-1995-pqr33<br/>TOYO-2013-fg185<br/>TOYO-·<font color=\"##AA0000\"><b>OBS-abc23(1997)</b></font>·<br/>FORD-2012-lm034"
      ],
      "text/plain": [
       "<IPython.core.display.HTML object>"
      ]
     },
     "execution_count": 7,
     "metadata": {},
     "output_type": "execute_result"
    }
   ],
   "source": [
    "pat = r'(?<!^MAZD-)(1\\d{3})(-.*)'\n",
    "new = r'OBS\\2(\\1)'\n",
    "revised = re.sub(pat, new, parts, flags=re.MULTILINE)\n",
    "show(r'OBS.*', revised)"
   ]
  },
  {
   "cell_type": "markdown",
   "metadata": {
    "slideshow": {
     "slide_type": "subslide"
    }
   },
   "source": [
    "```python\n",
    "pat = r'(?<!^MAZD-)(1\\d{3})(-.*)'\n",
    "new = r'OBS\\2(\\1)'\n",
    "```\n",
    "\n",
    "What happened in that above pattern is that the two *groups* were automatically named `\\1` and `\\2` for purposes of back reference in a replacement pattern.  A lookbehind assertion superficially looks like a group, but it does not count as one for purposes of back reference.  The same applies to lookahead assertations, and to either postive or negative assertions in either direction."
   ]
  },
  {
   "cell_type": "markdown",
   "metadata": {
    "slideshow": {
     "slide_type": "subslide"
    }
   },
   "source": [
    "When a complex regular expression has multiple groups, back referencing them by number can get confusing.  In fact, if you have more than 9 groups, the syntax does not support back reference at all by number.  In this case, you can use *named groups*  The syntax is a bit verbose compared to other regular expression elements, but it can add clarity."
   ]
  },
  {
   "cell_type": "code",
   "execution_count": 8,
   "metadata": {
    "slideshow": {
     "slide_type": "subslide"
    }
   },
   "outputs": [
    {
     "data": {
      "text/html": [
       "FORD-2008-xyz37<br/>FORD-·<font color=\"##AA0000\"><b>OBS-ef445(1998)</b></font>·<br/>TOYO-·<font color=\"##AA0000\"><b>OBS-wxy66(1999)</b></font>·<br/>TOYO-2005-qrst3<br/>FORD-2010-ab614<br/>MAZD-1995-pqr33<br/>TOYO-2013-fg185<br/>TOYO-·<font color=\"##AA0000\"><b>OBS-abc23(1997)</b></font>·<br/>FORD-2012-lm034"
      ],
      "text/plain": [
       "<IPython.core.display.HTML object>"
      ]
     },
     "execution_count": 8,
     "metadata": {},
     "output_type": "execute_result"
    }
   ],
   "source": [
    "pat = (r'(?<!^MAZD-)'\n",
    "       r'(?P<year>1\\d{3})'\n",
    "       r'(?P<code>-.*)')\n",
    "new = r'OBS\\g<code>(\\g<year>)'\n",
    "revised = re.sub(pat, new, parts, flags=re.MULTILINE)\n",
    "\n",
    "show(r'OBS.*', revised)"
   ]
  },
  {
   "cell_type": "markdown",
   "metadata": {
    "slideshow": {
     "slide_type": "subslide"
    }
   },
   "source": [
    "Back references, either named or numbered, may be used within a pattern as well.  In a somewhat contrived example, let us capture the parallel comparison words in the nursery rhyme, i.e. \"fleece as white as snow\" in this case."
   ]
  },
  {
   "cell_type": "code",
   "execution_count": 9,
   "metadata": {
    "slideshow": {
     "slide_type": "fragment"
    }
   },
   "outputs": [
    {
     "data": {
      "text/html": [
       "Mary had a little lamb<br/>Its ·<font color=\"##AA0000\"><b>fleece as white as snow</b></font>·<br/>And everywhere that Mary<br/>went, the lamb was sure<br/>to go"
      ],
      "text/plain": [
       "<IPython.core.display.HTML object>"
      ]
     },
     "execution_count": 9,
     "metadata": {},
     "output_type": "execute_result"
    }
   ],
   "source": [
    "show(r'(fleece) (?P<word>\\w+) (\\w+) (?P=word) (\\w+)', rhyme)"
   ]
  }
 ],
 "metadata": {
  "celltoolbar": "Slideshow",
  "kernelspec": {
   "display_name": "Python 3",
   "language": "python",
   "name": "python3"
  },
  "language_info": {
   "codemirror_mode": {
    "name": "ipython",
    "version": 3
   },
   "file_extension": ".py",
   "mimetype": "text/x-python",
   "name": "python",
   "nbconvert_exporter": "python",
   "pygments_lexer": "ipython3",
   "version": "3.8.2"
  }
 },
 "nbformat": 4,
 "nbformat_minor": 4
}
