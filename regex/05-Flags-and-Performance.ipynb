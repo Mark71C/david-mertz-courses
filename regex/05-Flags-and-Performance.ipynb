{
 "cells": [
  {
   "cell_type": "markdown",
   "metadata": {},
   "source": [
    "# Flags and Performance\n",
    "\n",
    "In earlier example we have occasionally used flags that modified the behavior of regular expressions. In this lesson we look at them more systematically.  "
   ]
  },
  {
   "cell_type": "markdown",
   "metadata": {},
   "source": [
    "Another issue that you may encounter is poor performance of regular expressions against long string.  The examples in these lessons are small, but in principle you may use (complex) regular expressions against strings that are tens or hundreds of megabytes in size."
   ]
  },
  {
   "cell_type": "code",
   "execution_count": null,
   "metadata": {},
   "outputs": [],
   "source": [
    "from src.setup import *"
   ]
  },
  {
   "cell_type": "markdown",
   "metadata": {},
   "source": [
    "## Catastrophic Backtracking\n",
    "\n",
    "The engine underneath a regular expression module can make a large asymptotic difference in performance.  The story here is complicated and involves a lot of computer science and math; moreover, providing better bounds on \"pathological\" cases sometimes makes worse typical behavior on \"normal\" cases.  The documentation of the standard library `re` module notes the third party `regex` module which both has enhanced functionality (some more experimental) and uses a different underlying algorithmic that handles the \"monsters\" vastly better."
   ]
  },
  {
   "cell_type": "markdown",
   "metadata": {},
   "source": [
    "A contrived example below will show how rephrasing a regular expression can make a large difference.  We construct two strings of the letter 'a' terminated by either 'Y' or 'Z'.  The tricky part here is that different subgroups match overlapping sets of patterns.  That in itself is perfectly reasonable and not uncommon"
   ]
  },
  {
   "cell_type": "code",
   "execution_count": 2,
   "metadata": {},
   "outputs": [],
   "source": [
    "success = 'a'*30 + 'Z'\n",
    "failure = 'a'*30 + 'Y'"
   ]
  },
  {
   "cell_type": "markdown",
   "metadata": {},
   "source": [
    "We might first try to match \"a string of lowercase letters followed by 'Z'\".  This works fine for both the success case and where it fails at the last character."
   ]
  },
  {
   "cell_type": "code",
   "execution_count": 3,
   "metadata": {},
   "outputs": [],
   "source": [
    "pat1 = re.compile(r'[a-z]+Z')"
   ]
  },
  {
   "cell_type": "code",
   "execution_count": 4,
   "metadata": {},
   "outputs": [
    {
     "name": "stdout",
     "output_type": "stream",
     "text": [
      "CPU times: user 10 µs, sys: 1 µs, total: 11 µs\n",
      "Wall time: 14.1 µs\n"
     ]
    },
    {
     "data": {
      "text/plain": [
       "<re.Match object; span=(0, 31), match='aaaaaaaaaaaaaaaaaaaaaaaaaaaaaaZ'>"
      ]
     },
     "execution_count": 4,
     "metadata": {},
     "output_type": "execute_result"
    }
   ],
   "source": [
    "%%time\n",
    "re.match(pat1, success) or \"No Match!\""
   ]
  },
  {
   "cell_type": "code",
   "execution_count": 5,
   "metadata": {},
   "outputs": [
    {
     "name": "stdout",
     "output_type": "stream",
     "text": [
      "CPU times: user 12 µs, sys: 1 µs, total: 13 µs\n",
      "Wall time: 16.7 µs\n"
     ]
    },
    {
     "data": {
      "text/plain": [
       "'No Match!'"
      ]
     },
     "execution_count": 5,
     "metadata": {},
     "output_type": "execute_result"
    }
   ],
   "source": [
    "%%time\n",
    "re.match(pat1, failure) or \"No Match!\""
   ]
  },
  {
   "cell_type": "markdown",
   "metadata": {},
   "source": [
    "For a next variation, we want to match:\n",
    "\n",
    "* a string of (at least one) vowels\n",
    "* followed one of more of the first five letters of alphabet\n",
    "* last two subpatterns occurring at least once together\n",
    "* ending with a 'Z'\n",
    "\n",
    "This has a similar feel to the part codes we looked at that had 2-4 letters followed by 1-3 digits; identifying a list of only part codes would have similar logic to this."
   ]
  },
  {
   "cell_type": "code",
   "execution_count": 6,
   "metadata": {},
   "outputs": [],
   "source": [
    "pat2 = re.compile(r'([aeiou]+[abcde]+)+Z')"
   ]
  },
  {
   "cell_type": "code",
   "execution_count": 7,
   "metadata": {},
   "outputs": [
    {
     "name": "stdout",
     "output_type": "stream",
     "text": [
      "CPU times: user 10 µs, sys: 0 ns, total: 10 µs\n",
      "Wall time: 12.2 µs\n"
     ]
    },
    {
     "data": {
      "text/plain": [
       "<re.Match object; span=(0, 31), match='aaaaaaaaaaaaaaaaaaaaaaaaaaaaaaZ'>"
      ]
     },
     "execution_count": 7,
     "metadata": {},
     "output_type": "execute_result"
    }
   ],
   "source": [
    "%%time\n",
    "re.match(pat2, success)"
   ]
  },
  {
   "cell_type": "code",
   "execution_count": 8,
   "metadata": {},
   "outputs": [
    {
     "name": "stdout",
     "output_type": "stream",
     "text": [
      "CPU times: user 38.7 s, sys: 67.2 ms, total: 38.8 s\n",
      "Wall time: 38.6 s\n"
     ]
    },
    {
     "data": {
      "text/plain": [
       "'No Match!'"
      ]
     },
     "execution_count": 8,
     "metadata": {},
     "output_type": "execute_result"
    }
   ],
   "source": [
    "%%time\n",
    "re.match(pat2, failure) or \"No Match!\""
   ]
  },
  {
   "cell_type": "markdown",
   "metadata": {},
   "source": [
    "## What Went Wrong?\n",
    "\n",
    "We started at couple tens of microseconds for either the success or failure case.  For the success case, the time is similar.  But for the failure case we are into tens of **seconds**, i.e. a million times worse.  It gets worse than that though: the complexity is exponential; in other words, the worst case gets worse at a rate of $O(2^N)$ (where N is the length of the target string).  For example, the analagous pattern with 35 'a's takes 20 minutes, and failing to match ten thousand 'a's would take longer than the lifespan of the universe."
   ]
  },
  {
   "cell_type": "markdown",
   "metadata": {},
   "source": [
    "The problem is that the regular expression (depending on engine) needs to consider every possible combination of adjacent subpattern matches, and every number of occurrence counts of those, before it can conclude that there is no 'Z' at the end of the initial group."
   ]
  },
  {
   "cell_type": "markdown",
   "metadata": {},
   "source": [
    "We can fix this is several different ways, but finding one for your particular problem can be something of a dark art.  In the example, we might lookahead for something much more general to get to failures quickly.  Anything that could match would need to be a more than one generic alphanumeric character followed by a 'Z'.  This allows the targets with no 'Z' characters at all to fail immediately without recursive backtracking."
   ]
  },
  {
   "cell_type": "code",
   "execution_count": 9,
   "metadata": {},
   "outputs": [],
   "source": [
    "pat3 = re.compile(r'(?=\\w+Z)([aeiou]+[abcde]+)+Z')"
   ]
  },
  {
   "cell_type": "code",
   "execution_count": 10,
   "metadata": {},
   "outputs": [
    {
     "name": "stdout",
     "output_type": "stream",
     "text": [
      "CPU times: user 14 µs, sys: 0 ns, total: 14 µs\n",
      "Wall time: 17.9 µs\n"
     ]
    },
    {
     "data": {
      "text/plain": [
       "<re.Match object; span=(0, 31), match='aaaaaaaaaaaaaaaaaaaaaaaaaaaaaaZ'>"
      ]
     },
     "execution_count": 10,
     "metadata": {},
     "output_type": "execute_result"
    }
   ],
   "source": [
    "%%time\n",
    "re.match(pat3, success) or \"No Match!\""
   ]
  },
  {
   "cell_type": "code",
   "execution_count": 11,
   "metadata": {},
   "outputs": [
    {
     "name": "stdout",
     "output_type": "stream",
     "text": [
      "CPU times: user 10 µs, sys: 0 ns, total: 10 µs\n",
      "Wall time: 13.1 µs\n"
     ]
    },
    {
     "data": {
      "text/plain": [
       "'No Match!'"
      ]
     },
     "execution_count": 11,
     "metadata": {},
     "output_type": "execute_result"
    }
   ],
   "source": [
    "%%time\n",
    "re.match(pat3, failure) or \"No Match!\""
   ]
  },
  {
   "cell_type": "markdown",
   "metadata": {},
   "source": [
    "Let us see that the improved pattern works even on vastly larger target strings.  A million character string moves us to milliseconds, but not into millennia."
   ]
  },
  {
   "cell_type": "code",
   "execution_count": 12,
   "metadata": {},
   "outputs": [],
   "source": [
    "success2 = 'a'*1_000_000 + 'Z'\n",
    "failure2 = 'a'*1_000_000 + 'Y'"
   ]
  },
  {
   "cell_type": "code",
   "execution_count": 13,
   "metadata": {},
   "outputs": [
    {
     "name": "stdout",
     "output_type": "stream",
     "text": [
      "CPU times: user 16.4 ms, sys: 1 µs, total: 16.4 ms\n",
      "Wall time: 16.9 ms\n"
     ]
    },
    {
     "data": {
      "text/plain": [
       "<re.Match object; span=(0, 1000001), match='aaaaaaaaaaaaaaaaaaaaaaaaaaaaaaaaaaaaaaaaaaaaaaaaa>"
      ]
     },
     "execution_count": 13,
     "metadata": {},
     "output_type": "execute_result"
    }
   ],
   "source": [
    "%%time\n",
    "re.match(pat3, success2) or \"No Match!\""
   ]
  },
  {
   "cell_type": "code",
   "execution_count": 14,
   "metadata": {},
   "outputs": [
    {
     "name": "stdout",
     "output_type": "stream",
     "text": [
      "CPU times: user 8.7 ms, sys: 3 µs, total: 8.71 ms\n",
      "Wall time: 8.72 ms\n"
     ]
    },
    {
     "data": {
      "text/plain": [
       "'No Match!'"
      ]
     },
     "execution_count": 14,
     "metadata": {},
     "output_type": "execute_result"
    }
   ],
   "source": [
    "%%time\n",
    "re.match(pat3, failure2) or \"No Match!\""
   ]
  },
  {
   "cell_type": "markdown",
   "metadata": {},
   "source": [
    "## Regular Expression Flags\n",
    "\n",
    "There are six flags you may use to change the meaning of patterns.  When you use these, you pass them using the keyword argument `flags` of `re.compile()` and of other `re` module functions.  However, the `flags` argument only works if a string rather than compiled pattern is passed to other functions.\n",
    "\n",
    "Flag, Short   | Description\n",
    "--------------|------------------------------------------------------------------------\n",
    "ASCII, A      | `\\w`, `\\b`, `\\s` and `\\d` match only on ASCII characters\n",
    "DOTALL, S     | `.` matches any character, including newlines\n",
    "IGNORECASE, I | Case-insensitive matches\n",
    "LOCALE, L     | Locale-aware match\n",
    "MULTILINE, M  | `^` and `$` match each line, not whole string\n",
    "VERBOSE, X    | Enable verbose regular expressions"
   ]
  },
  {
   "cell_type": "markdown",
   "metadata": {},
   "source": [
    "Flags may be combined by bitwise or'ing them.  Matching per-line, case-insensitively, first words of lines that start with latter part of alphabet:"
   ]
  },
  {
   "cell_type": "code",
   "execution_count": 16,
   "metadata": {},
   "outputs": [
    {
     "data": {
      "text/html": [
       "·<font color=\"##AA0000\"><b>Mary</b></font>· had a little lamb<br/>Its fleece as white as snow<br/>And everywhere that Mary<br/>·<font color=\"##AA0000\"><b>went</b></font>·, the lamb was sure<br/>·<font color=\"##AA0000\"><b>to</b></font>· go"
      ],
      "text/plain": [
       "<IPython.core.display.HTML object>"
      ]
     },
     "execution_count": 16,
     "metadata": {},
     "output_type": "execute_result"
    }
   ],
   "source": [
    "show(r'^[l-z][a-z]*', rhyme, flags=re.M | re.I)"
   ]
  },
  {
   "cell_type": "markdown",
   "metadata": {},
   "source": [
    "An additional cryptic means of choosing flags is available.  They can be part of the pattern itself using a prefix to the whole pattern or a group.  The inline pattern codes are any of `aiLmsux`, with `aLu` permitted per individual group as well.  The `u` here means to use Unicode (in contrast to ASCII or LOCALE)."
   ]
  },
  {
   "cell_type": "code",
   "execution_count": 19,
   "metadata": {},
   "outputs": [
    {
     "data": {
      "text/plain": [
       "['Mary', 'went', 'to']"
      ]
     },
     "execution_count": 19,
     "metadata": {},
     "output_type": "execute_result"
    }
   ],
   "source": [
    "# Entire pattern is case-insensitive and multiline\n",
    "# The first-letter group is interpreted as ASCII\n",
    "re.findall(r'(?im)(?a:^[l-z])[a-z]*', rhyme)"
   ]
  }
 ],
 "metadata": {
  "kernelspec": {
   "display_name": "Python 3",
   "language": "python",
   "name": "python3"
  },
  "language_info": {
   "codemirror_mode": {
    "name": "ipython",
    "version": 3
   },
   "file_extension": ".py",
   "mimetype": "text/x-python",
   "name": "python",
   "nbconvert_exporter": "python",
   "pygments_lexer": "ipython3",
   "version": "3.8.2"
  }
 },
 "nbformat": 4,
 "nbformat_minor": 4
}
