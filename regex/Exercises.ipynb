{
 "cells": [
  {
   "cell_type": "markdown",
   "metadata": {},
   "source": [
    "# 01 Why Regular Expressions?\n",
    "\n",
    "In this exercise you will need to define several regular expressions that match substrings in a text.  Provided for your practice is a `show()` utility function that will display matches by surrounding them with guillemets.  We want to set the various pattern variables such that the following will be output.  Note that there will be many patterns that match the correct substrings, finding any such pattern is acceptable.\n",
    "\n",
    "\n",
    "```python\n",
    ">>> show(pat1) \n",
    "```\n",
    "```\n",
    "«Humpty» «Dumpty» sat on a wall,\n",
    "«Humpty» «Dumpty» had a great fall.\n",
    "All the king's horses and all the king's men\n",
    "Couldn't put «Humpty» together again.\n",
    "```\n",
    "\n",
    "```python\n",
    ">>> show(pat2)\n",
    "```\n",
    "```\n",
    "Humpty Dumpty sat on «a wall»,\n",
    "Humpty Dumpty had «a great» fall.\n",
    "All the king's horses «and all» the king's men\n",
    "Couldn't put Humpty together again.\n",
    "```\n",
    "\n",
    "```python\n",
    ">>> show(pat3)\n",
    "```\n",
    "```\n",
    "Humpty Dumpty «sat» on «a» «wall»,\n",
    "Humpty Dumpty «had» «a» «great» «fall».\n",
    "All the king's horses «and» «all» the king's men\n",
    "Couldn't put Humpty together «again».\n",
    "```\n",
    "\n",
    "```python\n",
    ">>> show(pat4)\n",
    "```\n",
    "```\n",
    "«Humpty Dumpty» sat on a wall,\n",
    "«Humpty Dumpty» had a great fall.\n",
    "All the king's horses and all the king's men\n",
    "Couldn't «put Humpty» together again.\n",
    "```"
   ]
  },
  {
   "cell_type": "markdown",
   "metadata": {},
   "source": [
    "## Setup"
   ]
  },
  {
   "cell_type": "code",
   "execution_count": 1,
   "metadata": {},
   "outputs": [],
   "source": [
    "import re\n",
    "\n",
    "rhyme = '''Humpty Dumpty sat on a wall,\n",
    "Humpty Dumpty had a great fall.\n",
    "All the king's horses and all the king's men\n",
    "Couldn't put Humpty together again.'''\n",
    "\n",
    "def show(pat, s=rhyme):\n",
    "    print(re.sub(pat, r'«\\g<0>»', s, flags=re.M))\n",
    "    \n",
    "pat1 = r\"NOMATCH\"\n",
    "pat2 = r\"NOMATCH\"\n",
    "pat3 = r\"NOMATCH\"\n",
    "pat4 = r\"NOMATCH\""
   ]
  },
  {
   "cell_type": "markdown",
   "metadata": {},
   "source": [
    "## Solution"
   ]
  },
  {
   "cell_type": "code",
   "execution_count": 2,
   "metadata": {},
   "outputs": [],
   "source": [
    "pat1 = r'.umpty'\n",
    "pat2 = r'\\ba\\w* \\w+'\n",
    "pat3 = r'\\b\\w*a\\w*'\n",
    "pat4 = r'\\b.u.{8,15}?\\b'"
   ]
  },
  {
   "cell_type": "markdown",
   "metadata": {},
   "source": [
    "## Tests Cases"
   ]
  },
  {
   "cell_type": "code",
   "execution_count": 3,
   "metadata": {},
   "outputs": [],
   "source": [
    "def test_umpty():\n",
    "    s = '''«Humpty» «Dumpty» sat on a wall,\n",
    "«Humpty» «Dumpty» had a great fall.\n",
    "All the king's horses and all the king's men\n",
    "Couldn't put «Humpty» together again.'''\n",
    "    assert s == re.sub(pat1, r'«\\g<0>»', rhyme, flags=re.M)\n",
    "    \n",
    "test_umpty()"
   ]
  },
  {
   "cell_type": "code",
   "execution_count": 4,
   "metadata": {},
   "outputs": [],
   "source": [
    "def test_a_word_next():\n",
    "    s = '''Humpty Dumpty sat on «a wall»,\n",
    "Humpty Dumpty had «a great» fall.\n",
    "All the king's horses «and all» the king's men\n",
    "Couldn't put Humpty together again.'''\n",
    "    assert s == re.sub(pat2, r'«\\g<0>»', rhyme, flags=re.M)    \n",
    "\n",
    "test_a_word_next()"
   ]
  },
  {
   "cell_type": "code",
   "execution_count": 5,
   "metadata": {},
   "outputs": [],
   "source": [
    "def test_a_words():\n",
    "    s = '''Humpty Dumpty «sat» on «a» «wall»,\n",
    "Humpty Dumpty «had» «a» «great» «fall».\n",
    "All the king's horses «and» «all» the king's men\n",
    "Couldn't put Humpty together «again».'''\n",
    "    assert s == re.sub(pat3, r'«\\g<0>»', rhyme, flags=re.M)    \n",
    "\n",
    "test_a_words()    "
   ]
  },
  {
   "cell_type": "code",
   "execution_count": 6,
   "metadata": {},
   "outputs": [],
   "source": [
    "def test_about_humpty():\n",
    "    s = '''«Humpty Dumpty» sat on a wall,\n",
    "«Humpty Dumpty» had a great fall.\n",
    "All the king's horses and all the king's men\n",
    "Couldn't «put Humpty» together again.'''\n",
    "    assert s == re.sub(pat4, r'«\\g<0>»', rhyme, flags=re.M)    \n",
    "\n",
    "test_about_humpty()        "
   ]
  },
  {
   "cell_type": "markdown",
   "metadata": {},
   "source": [
    "# 02 Groups, Classes, and Alternation\n",
    "\n",
    "In this exercise you will need to define several regular expressions that match substrings in a text. Provided for your practice is a show() utility function that will display matches by surrounding them with guillemets. This exercise is very similar to the previous one, and even uses the same sample text.  However, to create the patterns for this exercise, you will need to use extra regular expression features introduced in this lesson.\n",
    "\n",
    "Note that you should try to come up with relatively compact patterns, which is possible for all of these exercises.  Now that you understand alternation, a trivial \"cheat\" is to match any of an enumeration of literal matching strings.  Your goal is to express the pattern more generally.\n",
    "\n",
    "```python\n",
    ">>> show(pat1)\n",
    "```\n",
    "```\n",
    "Humpty Dumpty sat on «a wall»,\n",
    "Humpty Dumpty had a great fall.\n",
    "All «the king»'s horses and all «the king»'s men\n",
    "Couldn't put Humpty together again.\n",
    "```\n",
    "\n",
    "```python\n",
    ">>> show(pat2)\n",
    "```\n",
    "```\n",
    "Humpty Dumpty sat on «a wall,»\n",
    "Humpty Dumpty «had a great »fall.\n",
    "All the king's horses «and all »the king's men\n",
    "Couldn't put Humpty together again.\n",
    "```\n",
    "\n",
    "```python\n",
    ">>> show(pat3)\n",
    "```\n",
    "```\n",
    "Humpty Dumpty sat on a wall,\n",
    "Humpty Dumpty had a «gre»at fall.\n",
    "«All» «the» «king's» «horses» and all «the» «king's» men\n",
    "«Couldn't» put Humpty «together» again.\n",
    "```\n",
    "\n",
    "```python\n",
    "show(pat4)\n",
    "```\n",
    "```\n",
    "Humpty Dumpty sat« on a »wall,\n",
    "Humpty Dumpty had« a great »fall.\n",
    "All« the king»'s horses« and all »«the king»'s men\n",
    "Couldn't put Humpty together again.\n",
    "```"
   ]
  },
  {
   "cell_type": "markdown",
   "metadata": {},
   "source": [
    "## Setup"
   ]
  },
  {
   "cell_type": "code",
   "execution_count": 7,
   "metadata": {},
   "outputs": [],
   "source": [
    "import re\n",
    "\n",
    "rhyme = '''Humpty Dumpty sat on a wall,\n",
    "Humpty Dumpty had a great fall.\n",
    "All the king's horses and all the king's men\n",
    "Couldn't put Humpty together again.'''\n",
    "\n",
    "def show(pat, s=rhyme):\n",
    "    print(re.sub(pat, r'«\\g<0>»', s, flags=re.M))\n",
    "    \n",
    "pat1 = r\"NOMATCH\"\n",
    "pat2 = r\"NOMATCH\"\n",
    "pat3 = r\"NOMATCH\"\n",
    "pat4 = r\"NOMATCH\""
   ]
  },
  {
   "cell_type": "markdown",
   "metadata": {},
   "source": [
    "## Solution"
   ]
  },
  {
   "cell_type": "code",
   "execution_count": 8,
   "metadata": {},
   "outputs": [],
   "source": [
    "pat1 = r'\\b(the|a) [wk]\\w+\\b'\n",
    "pat2 = r'(\\w*a\\w*[ ,]){2,3}'\n",
    "pat3 = r'[^mpa ,.\\n]{3,}'\n",
    "pat4 = r' ?(on|a|the|and) \\w+ ?'"
   ]
  },
  {
   "cell_type": "markdown",
   "metadata": {},
   "source": [
    "## Tests Cases"
   ]
  },
  {
   "cell_type": "code",
   "execution_count": 9,
   "metadata": {},
   "outputs": [],
   "source": [
    "def test_article_something():\n",
    "    s = '''Humpty Dumpty sat on «a wall»,\n",
    "Humpty Dumpty had a great fall.\n",
    "All «the king»'s horses and all «the king»'s men\n",
    "Couldn't put Humpty together again.'''\n",
    "    assert s == re.sub(pat1, r'«\\g<0>»', rhyme, flags=re.M)    \n",
    "\n",
    "test_article_something()"
   ]
  },
  {
   "cell_type": "code",
   "execution_count": 10,
   "metadata": {},
   "outputs": [],
   "source": [
    "def test_a_words_2_3():\n",
    "    s = '''Humpty Dumpty sat on «a wall,»\n",
    "Humpty Dumpty «had a great »fall.\n",
    "All the king's horses «and all »the king's men\n",
    "Couldn't put Humpty together again.'''\n",
    "    assert s == re.sub(pat2, r'«\\g<0>»', rhyme, flags=re.M)    \n",
    "\n",
    "test_a_words_2_3()"
   ]
  },
  {
   "cell_type": "code",
   "execution_count": 11,
   "metadata": {},
   "outputs": [],
   "source": [
    "def test_not_some_letters():\n",
    "    s = '''Humpty Dumpty sat on a wall,\n",
    "Humpty Dumpty had a «gre»at fall.\n",
    "«All» «the» «king's» «horses» and all «the» «king's» men\n",
    "«Couldn't» put Humpty «together» again.'''\n",
    "    assert s == re.sub(pat3, r'«\\g<0>»', rhyme, flags=re.M)    \n",
    "\n",
    "test_not_some_letters()"
   ]
  },
  {
   "cell_type": "code",
   "execution_count": 12,
   "metadata": {},
   "outputs": [],
   "source": [
    "def test_stop_word_next():\n",
    "    s = '''Humpty Dumpty sat« on a »wall,\n",
    "Humpty Dumpty had« a great »fall.\n",
    "All« the king»'s horses« and all »«the king»'s men\n",
    "Couldn't put Humpty together again.'''\n",
    "    assert s == re.sub(pat4, r'«\\g<0>»', rhyme, flags=re.M)    \n",
    "\n",
    "test_stop_word_next()"
   ]
  },
  {
   "cell_type": "markdown",
   "metadata": {},
   "source": [
    "# 03 Lookahead, Lookbehind, and Back References\n",
    "\n",
    "In this exercise you will need to define several regular expressions that match substrings in a text. Provided for your practice is a show() utility function that will display matches by surrounding them with guillemets. This exercise is very similar to the previous two, but uses a slightly expanded text (with my own doggerel addition). However, to create the patterns for this exercise, you will need to use extra regular expression features introduced in this lesson.\n",
    "\n",
    "```python\n",
    ">>> show(pat1)\n",
    "```\n",
    "```\n",
    "Humpty Dumpty sat on a wall,\n",
    "Humpty Dumpty had a great fall,\n",
    "«Dumpty Humpty» went to the ball,\n",
    "«Humpty Dumpty» then had a lull.\n",
    "All the king's horses and all the king's men\n",
    "All this king's horses and all the king's men\n",
    "Could not put Humpty together again.\n",
    "```\n",
    "\n",
    "```python\n",
    ">>> show(pat2)\n",
    "```\n",
    "```\n",
    "Humpty «Dumpty» sat on a wall,\n",
    "Humpty «Dumpty» had a great fall,\n",
    "Dumpty Humpty «went» to the ball,\n",
    "Humpty «Dumpty» then had a lull.\n",
    "All the king's horses and all the king's men\n",
    "All this king's horses and all the king's men\n",
    "Could not put Humpty «together» again.\n",
    "```\n",
    "\n",
    "```python\n",
    ">>> show(pat3)\n",
    "```\n",
    "```\n",
    "Humpty Dumpty sat on a wall,\n",
    "Humpty Dumpty had a great fall,\n",
    "Dumpty Humpty went to the ball,\n",
    "Humpty Dumpty then had a lull.\n",
    "All «the king's horses and all the» king's men\n",
    "All this «king's horses and all the king»'s men\n",
    "Could not put Humpty together again.\n",
    "```\n",
    "\n",
    "```python\n",
    ">>> show(pat4)\n",
    "```\n",
    "```\n",
    "Humpty Dumpty sat on a wall,\n",
    "Humpty Dumpty had a great fall,\n",
    "Dumpty Humpty went to the ball,\n",
    "Humpty Dumpty then had a lull.\n",
    "«All» «the» king's horses «and» «all» «the» king's «men»\n",
    "«All» this king's horses «and» «all» «the» king's «men»\n",
    "Could «not» «put» Humpty together again.\n",
    "```"
   ]
  },
  {
   "cell_type": "markdown",
   "metadata": {},
   "source": [
    "## Setup"
   ]
  },
  {
   "cell_type": "code",
   "execution_count": 13,
   "metadata": {},
   "outputs": [],
   "source": [
    "import re\n",
    "\n",
    "rhyme = '''Humpty Dumpty sat on a wall,\n",
    "Humpty Dumpty had a great fall,\n",
    "Dumpty Humpty went to the ball,\n",
    "Humpty Dumpty then had a lull.\n",
    "All the king's horses and all the king's men\n",
    "All this king's horses and all the king's men\n",
    "Could not put Humpty together again.'''\n",
    "\n",
    "def show(pat, s=rhyme):\n",
    "    print(re.sub(pat, r'«\\g<0>»', s, flags=re.M))\n",
    "    \n",
    "pat1 = r\"NOMATCH\"\n",
    "pat2 = r\"NOMATCH\"\n",
    "pat3 = r\"NOMATCH\"\n",
    "pat4 = r\"NOMATCH\""
   ]
  },
  {
   "cell_type": "markdown",
   "metadata": {},
   "source": [
    "## Solution"
   ]
  },
  {
   "cell_type": "code",
   "execution_count": 14,
   "metadata": {},
   "outputs": [],
   "source": [
    "pat1 = r'(.umpty ?){2}(?= \\w*e\\w*)'\n",
    "pat2 = r'(?<=Humpty )\\w+'\n",
    "pat3 = r\"(?P<word>\\b\\w+\\b)([ ']?\\w+\\b)+ (?P=word)\"\n",
    "pat4 = r'(?!.*ll.$)(\\b\\w{2,3}\\b)'"
   ]
  },
  {
   "cell_type": "markdown",
   "metadata": {},
   "source": [
    "## Tests Cases"
   ]
  },
  {
   "cell_type": "code",
   "execution_count": 15,
   "metadata": {},
   "outputs": [],
   "source": [
    "def test_umpty_context():\n",
    "    s = '''Humpty Dumpty sat on a wall,\n",
    "Humpty Dumpty had a great fall,\n",
    "«Dumpty Humpty» went to the ball,\n",
    "«Humpty Dumpty» then had a lull.\n",
    "All the king's horses and all the king's men\n",
    "All this king's horses and all the king's men\n",
    "Could not put Humpty together again.'''\n",
    "    assert s == re.sub(pat1, r'«\\g<0>»', rhyme, flags=re.M)    \n",
    "\n",
    "test_umpty_context()"
   ]
  },
  {
   "cell_type": "code",
   "execution_count": 16,
   "metadata": {},
   "outputs": [],
   "source": [
    "def test_after_humpty():\n",
    "    s = '''Humpty «Dumpty» sat on a wall,\n",
    "Humpty «Dumpty» had a great fall,\n",
    "Dumpty Humpty «went» to the ball,\n",
    "Humpty «Dumpty» then had a lull.\n",
    "All the king's horses and all the king's men\n",
    "All this king's horses and all the king's men\n",
    "Could not put Humpty «together» again.'''\n",
    "    assert s == re.sub(pat2, r'«\\g<0>»', rhyme, flags=re.M)    \n",
    "\n",
    "test_after_humpty()"
   ]
  },
  {
   "cell_type": "code",
   "execution_count": 17,
   "metadata": {},
   "outputs": [],
   "source": [
    "def test_words_apart():\n",
    "    s = '''Humpty Dumpty sat on a wall,\n",
    "Humpty Dumpty had a great fall,\n",
    "Dumpty Humpty went to the ball,\n",
    "Humpty Dumpty then had a lull.\n",
    "All «the king's horses and all the» king's men\n",
    "All this «king's horses and all the king»'s men\n",
    "Could not put Humpty together again.'''\n",
    "    assert s == re.sub(pat3, r'«\\g<0>»', rhyme, flags=re.M)\n",
    "    \n",
    "test_words_apart()"
   ]
  },
  {
   "cell_type": "code",
   "execution_count": 18,
   "metadata": {},
   "outputs": [],
   "source": [
    "def test_short_word_not_ll_end():\n",
    "    s = '''Humpty Dumpty sat on a wall,\n",
    "Humpty Dumpty had a great fall,\n",
    "Dumpty Humpty went to the ball,\n",
    "Humpty Dumpty then had a lull.\n",
    "«All» «the» king's horses «and» «all» «the» king's «men»\n",
    "«All» this king's horses «and» «all» «the» king's «men»\n",
    "Could «not» «put» Humpty together again.'''\n",
    "    assert s == re.sub(pat4, r'«\\g<0>»', rhyme, flags=re.M)\n",
    "\n",
    "test_short_word_not_ll_end()"
   ]
  },
  {
   "cell_type": "markdown",
   "metadata": {},
   "source": [
    "# 04 Python Functions\n",
    "\n",
    "In this exercise we will reverse the focus of the earlier exercises.  You will be provided with the pattern, but you need to identify which function is called to produce a given result.  You will accomplish this by assigning different functions within the `re` module to new names, `fun1`, `fun2`, etc.\n",
    "\n",
    "For example, here is a possible solution (this course does not discuss the rarely used `fullmatch()` function, you can look up its documentation):\n",
    "\n",
    "```python\n",
    ">>> fun99 = re.fullmatch\n",
    ">>> fun99(r'^.*$', rhyme, re.DOTALL)\n",
    "<re.Match object; span=(0, 141), match=\"Humpty Dumpty sat on a wall,\\nHumpty Dumpty had a>\n",
    "```\n",
    "\n",
    "Here are functions to assign that the expected results:\n",
    "\n",
    "```python\n",
    ">>> fun1(r'Humpty', rhyme)\n",
    "<re.Match object; span=(0, 6), match='Humpty'>\n",
    "```\n",
    "\n",
    "```python\n",
    ">>> fun2(r'Dumpty', rhyme)\n",
    "<re.Match object; span=(7, 13), match='Dumpty'>\n",
    "```\n",
    "\n",
    "```python\n",
    ">>> list(fun3(r'Humpty', rhyme))\n",
    "[<re.Match object; span=(0, 6), match='Humpty'>,\n",
    " <re.Match object; span=(29, 35), match='Humpty'>,\n",
    " <re.Match object; span=(119, 125), match='Humpty'>]\n",
    "```\n",
    "\n",
    "```python\n",
    ">>> list(fun4(r'Humpty', rhyme))\n",
    "['Humpty', 'Humpty', 'Humpty']\n",
    "```\n",
    "\n",
    "```python\n",
    ">>> list(fun5(r'Humpty', rhyme))\n",
    "['',\n",
    " ' Dumpty sat on a wall,\\n',\n",
    " \" Dumpty had a great fall.\\nAll the king's horses and all the king's men\\nCouldn't put \",\n",
    " ' together again.']\n",
    " ```"
   ]
  },
  {
   "cell_type": "markdown",
   "metadata": {},
   "source": [
    "## Setup"
   ]
  },
  {
   "cell_type": "code",
   "execution_count": 19,
   "metadata": {},
   "outputs": [],
   "source": [
    "import re\n",
    "\n",
    "rhyme = '''Humpty Dumpty sat on a wall,\n",
    "Humpty Dumpty had a great fall.\n",
    "All the king's horses and all the king's men\n",
    "Couldn't put Humpty together again.'''\n",
    "\n",
    "def wrong(pat, *args): \n",
    "    return pat\n",
    "\n",
    "fun1 = wrong\n",
    "fun2 = wrong\n",
    "fun3 = wrong\n",
    "fun4 = wrong\n",
    "fun5 = wrong"
   ]
  },
  {
   "cell_type": "markdown",
   "metadata": {},
   "source": [
    "## Solution"
   ]
  },
  {
   "cell_type": "code",
   "execution_count": 20,
   "metadata": {},
   "outputs": [],
   "source": [
    "fun1 = re.match\n",
    "fun2 = re.search\n",
    "fun3 = re.finditer\n",
    "fun4 = re.findall\n",
    "fun5 = re.split"
   ]
  },
  {
   "cell_type": "markdown",
   "metadata": {},
   "source": [
    "## Tests Cases"
   ]
  },
  {
   "cell_type": "code",
   "execution_count": 21,
   "metadata": {},
   "outputs": [],
   "source": [
    "def test_distinct():\n",
    "    assert len({fun1, fun2, fun3, fun4, fun5}) == 5, \\\n",
    "            \"You have not defined distinct functions\"\n",
    "    \n",
    "test_distinct()"
   ]
  },
  {
   "cell_type": "code",
   "execution_count": 22,
   "metadata": {},
   "outputs": [],
   "source": [
    "def test_1():\n",
    "    assert fun1(r'Humpty', rhyme).span() == (0, 6)\n",
    "    \n",
    "test_1()"
   ]
  },
  {
   "cell_type": "code",
   "execution_count": 23,
   "metadata": {},
   "outputs": [],
   "source": [
    "def test_2():\n",
    "    assert fun2(r'Dumpty', rhyme).span() == (7, 13)\n",
    "\n",
    "test_2()"
   ]
  },
  {
   "cell_type": "code",
   "execution_count": 24,
   "metadata": {},
   "outputs": [],
   "source": [
    "def test_3():\n",
    "    from collections.abc import Iterator\n",
    "    assert isinstance(fun3(r'Humpty', rhyme), Iterator)\n",
    "    \n",
    "test_3()"
   ]
  },
  {
   "cell_type": "code",
   "execution_count": 25,
   "metadata": {},
   "outputs": [],
   "source": [
    "def test_4():\n",
    "    assert len(fun4(r'Humpty', rhyme)) == 3\n",
    "    \n",
    "test_4()"
   ]
  },
  {
   "cell_type": "code",
   "execution_count": 26,
   "metadata": {},
   "outputs": [],
   "source": [
    "def test_5():\n",
    "    assert len(fun5(r'Humpty', rhyme)) == 4\n",
    "    \n",
    "test_5()"
   ]
  },
  {
   "cell_type": "markdown",
   "metadata": {},
   "source": [
    "# 05 Flags and Performance\n",
    "\n",
    "In this exercise you will have two tasks.  For the first task, you will show your understanding of `re` flags to change the behavior of some searches.  In the second task, you will reformulate regular expression patterns so they do not take unreasonably long.\n",
    "\n",
    "There is some value of `flags` which you may set to get the following behavior:\n",
    "\n",
    "```python\n",
    ">>> re.findall(r'(\\w\\w+) o, \\1', fela_song, flags=flags)\n",
    "['Zombie', 'zombie']\n",
    "```\n",
    "\n",
    "To assist with the second task, we provide a context manager `timeout` that will let you try searches without them running indefinitely.  The difference between a normal and a pathological case might be milliseconds versus years.\n",
    "\n",
    "```python\n",
    ">>> with timeout:\n",
    "...    sleep(6)\n",
    "[...]\n",
    "TimeoutError: Timeout (5 seconds)\n",
    "```\n",
    "\n",
    "In the variable `pat1` and `pat2` are equivalent patterns, merely verbose mode or not.  Your answer in `pat` may use either style.  The pattern tries to match a sequence of 8 words, each of which may *either* have 4 letters *or* contain a 3-vowel cluster.  Many words, of course, fulfill neither of those criteria, but some fulfill both.\n",
    "\n",
    "You need to revise the pattern so that it matches in a reasonable time—less than 10 seconds—for either success or failure cases."
   ]
  },
  {
   "cell_type": "markdown",
   "metadata": {},
   "source": [
    "## Setup"
   ]
  },
  {
   "cell_type": "code",
   "execution_count": 27,
   "metadata": {},
   "outputs": [],
   "source": [
    "import re\n",
    "from time import sleep\n",
    "from src.timeout import timeout\n",
    "\n",
    "fela_song = '''\n",
    "Zombie o, zombie (zombie o, zombie)\n",
    "Βρυκόλακας o, βρυκόλακας (βρυκόλακας o, βρυκόλακας)\n",
    "ზომბი o, ზომბი (ზომბი o, ზომბი)\n",
    "'''\n",
    "flags = re.MULTILINE\n",
    "\n",
    "success = ('lieu aeon raia eoan agave kuia euoi kaie naoi eaux viae '\n",
    "           'fetid zoeal ciao luau aias huia idyls quai eaus jiao the '\n",
    "           'moai meou goads paua mooi handy beau moue toea roue ') * 50_000\n",
    "\n",
    "failure = ('eoan agave kuia lieu aeon raman euoi kaie naoi eaux vie '\n",
    "           'fetid zoeal ciao idyls quai eaus luau aias huia jiao the '\n",
    "           'moai meou goads paua mooi handy bean moue toea roue ') * 50_000\n",
    "\n",
    "pat1 = r'((\\b\\w{4}\\b ??)+|(\\b\\w*[aeiou]{3}\\w*\\b ??)+){8}'\n",
    "\n",
    "pat2 = r'''(                   # Want 8 words in row with either...\n",
    "  (\\b\\w{4}\\b[ ]??)+            # Four letter word\n",
    "  |                            # Or...\n",
    "  (\\b\\w*[aeiou]{3}\\w*\\b[ ]??)+ # Has 3-vowel cluster\n",
    "  ){8}                         # 8 words\n",
    "'''\n",
    "\n",
    "pat = re.compile(pat2, re.VERBOSE)\n",
    "pat = re.compile(pat1)\n"
   ]
  },
  {
   "cell_type": "markdown",
   "metadata": {},
   "source": [
    "## Solution"
   ]
  },
  {
   "cell_type": "code",
   "execution_count": 28,
   "metadata": {},
   "outputs": [],
   "source": [
    "flags = re.ASCII | re.IGNORECASE\n",
    "\n",
    "# Eliminate one-or-more quantifier within each alternative\n",
    "# Eliminate word boundary checks implied by trailing space\n",
    "# Space after word common to both alternatives\n",
    "pat_faster = r'''(   # Want 8 words in row with either...\n",
    "  (\\w{4})            # Four letter word\n",
    "  |                  # Or...\n",
    "  (\\w*[aeiou]{3}\\w*) # Has 3-vowel cluster\n",
    "  [ ]?){8}           # 8 words\n",
    "'''\n",
    "\n",
    "pat = re.compile(pat_faster, re.VERBOSE)"
   ]
  },
  {
   "cell_type": "markdown",
   "metadata": {},
   "source": [
    "## Tests Cases"
   ]
  },
  {
   "cell_type": "code",
   "execution_count": 29,
   "metadata": {},
   "outputs": [],
   "source": [
    "def test_fela():\n",
    "    match = re.findall(r'(\\w\\w+) o, \\1', fela_song, flags=flags)\n",
    "    assert match == ['Zombie', 'zombie'], \"Got %s\" % match\n",
    "    \n",
    "test_fela()"
   ]
  },
  {
   "cell_type": "code",
   "execution_count": 30,
   "metadata": {},
   "outputs": [],
   "source": [
    "def test_success():\n",
    "    match = re.search(pat, success)\n",
    "    assert match.span() == (145, 184)\n",
    "    \n",
    "test_success()"
   ]
  },
  {
   "cell_type": "code",
   "execution_count": 31,
   "metadata": {},
   "outputs": [],
   "source": [
    "def test_fast_failure():\n",
    "    with timeout:\n",
    "        match = re.search(pat, failure)\n",
    "    assert match is None\n",
    "    \n",
    "test_fast_failure()"
   ]
  },
  {
   "cell_type": "code",
   "execution_count": null,
   "metadata": {},
   "outputs": [],
   "source": []
  }
 ],
 "metadata": {
  "kernelspec": {
   "display_name": "Python 3",
   "language": "python",
   "name": "python3"
  },
  "language_info": {
   "codemirror_mode": {
    "name": "ipython",
    "version": 3
   },
   "file_extension": ".py",
   "mimetype": "text/x-python",
   "name": "python",
   "nbconvert_exporter": "python",
   "pygments_lexer": "ipython3",
   "version": "3.8.2"
  }
 },
 "nbformat": 4,
 "nbformat_minor": 4
}
