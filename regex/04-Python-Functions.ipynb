{
 "cells": [
  {
   "cell_type": "markdown",
   "metadata": {
    "slideshow": {
     "slide_type": "slide"
    }
   },
   "source": [
    "# Python Functions\n",
    "\n",
    "In the prior lessons, we generally looked only at the regular expression mini-language itself.  Once you understand patterns, you will want to do something with them in Python code."
   ]
  },
  {
   "cell_type": "code",
   "execution_count": 1,
   "metadata": {
    "slideshow": {
     "slide_type": "fragment"
    }
   },
   "outputs": [],
   "source": [
    "from src.setup import *"
   ]
  },
  {
   "cell_type": "markdown",
   "metadata": {
    "slideshow": {
     "slide_type": "slide"
    }
   },
   "source": [
    "## Compiling Queries\n",
    "\n",
    "Before a regular expression can be utilized by Python, it must be *compiled*.  You do not necessarily need to think about this since any string used as a pattern will be compiled behind the scenes.  However, if you will use a pattern more than once in your program, pre-compiling it will speed up operations."
   ]
  },
  {
   "cell_type": "markdown",
   "metadata": {
    "slideshow": {
     "slide_type": "subslide"
    }
   },
   "source": [
    "Here we search for any sequence of five words where the second and fourth word are the same."
   ]
  },
  {
   "cell_type": "code",
   "execution_count": 2,
   "metadata": {
    "slideshow": {
     "slide_type": "fragment"
    }
   },
   "outputs": [
    {
     "data": {
      "text/html": [
       "Mary had a little lamb<br/>Its ·<font color=\"##AA0000\"><b>fleece as white as snow</b></font>·"
      ],
      "text/plain": [
       "<IPython.core.display.HTML object>"
      ]
     },
     "execution_count": 2,
     "metadata": {},
     "output_type": "execute_result"
    }
   ],
   "source": [
    "pat = r'(\\w+) (?P<dup>\\w+) (\\w+) (?P=dup) (\\w+)'\n",
    "show(pat, couplet)"
   ]
  },
  {
   "cell_type": "code",
   "execution_count": 3,
   "metadata": {
    "slideshow": {
     "slide_type": "fragment"
    }
   },
   "outputs": [
    {
     "data": {
      "text/html": [
       "Mary had a little lamb<br/>Its ·<font color=\"##AA0000\"><b>fleece as white as snow</b></font>·"
      ],
      "text/plain": [
       "<IPython.core.display.HTML object>"
      ]
     },
     "execution_count": 3,
     "metadata": {},
     "output_type": "execute_result"
    }
   ],
   "source": [
    "cpat = re.compile(pat)\n",
    "show(cpat, couplet)"
   ]
  },
  {
   "cell_type": "markdown",
   "metadata": {
    "slideshow": {
     "slide_type": "slide"
    }
   },
   "source": [
    "## Find One\n",
    "\n",
    "One of the common functions you will use is `re.search()`.  This will search for the first location where a match occurs, and return a *match object*.  The function `re.match()` is a more limited case of this, and will only match at the beginning of a string.  When no match is found the special value `None` is returned."
   ]
  },
  {
   "cell_type": "code",
   "execution_count": 4,
   "metadata": {
    "slideshow": {
     "slide_type": "fragment"
    }
   },
   "outputs": [
    {
     "name": "stdout",
     "output_type": "stream",
     "text": [
      "<re.Match object; span=(27, 50), match='fleece as white as snow'>\n"
     ]
    }
   ],
   "source": [
    "match = re.search(cpat, couplet)\n",
    "if match is not None:\n",
    "    print(match)"
   ]
  },
  {
   "cell_type": "markdown",
   "metadata": {
    "slideshow": {
     "slide_type": "subslide"
    }
   },
   "source": [
    "We can do a variety of operations with a match object.  For example, we could use the span in the original string to modify that string or extract a relevant portion."
   ]
  },
  {
   "cell_type": "code",
   "execution_count": 5,
   "metadata": {
    "slideshow": {
     "slide_type": "fragment"
    }
   },
   "outputs": [
    {
     "data": {
      "text/plain": [
       "'fleece as white as snow'"
      ]
     },
     "execution_count": 5,
     "metadata": {},
     "output_type": "execute_result"
    }
   ],
   "source": [
    "couplet[match.start():match.end()]"
   ]
  },
  {
   "cell_type": "code",
   "execution_count": 6,
   "metadata": {
    "slideshow": {
     "slide_type": "fragment"
    }
   },
   "outputs": [
    {
     "data": {
      "text/plain": [
       "'fleece as white as snow'"
      ]
     },
     "execution_count": 6,
     "metadata": {},
     "output_type": "execute_result"
    }
   ],
   "source": [
    "# A more obscure shorter spelling\n",
    "couplet[slice(*match.span())]"
   ]
  },
  {
   "cell_type": "markdown",
   "metadata": {
    "slideshow": {
     "slide_type": "subslide"
    }
   },
   "source": [
    "Since the pattern used contains groups, we can look at those.  Notice that our pattern included a back reference which re-uses a group.  Hence there are four groups, not five."
   ]
  },
  {
   "cell_type": "code",
   "execution_count": 7,
   "metadata": {
    "slideshow": {
     "slide_type": "fragment"
    }
   },
   "outputs": [
    {
     "data": {
      "text/plain": [
       "('fleece', 'as', 'white', 'snow')"
      ]
     },
     "execution_count": 7,
     "metadata": {},
     "output_type": "execute_result"
    }
   ],
   "source": [
    "match.groups()"
   ]
  },
  {
   "cell_type": "markdown",
   "metadata": {
    "slideshow": {
     "slide_type": "subslide"
    }
   },
   "source": [
    "An individual group can be retreived either by number, or by name if it is a named group."
   ]
  },
  {
   "cell_type": "code",
   "execution_count": 8,
   "metadata": {
    "slideshow": {
     "slide_type": "fragment"
    }
   },
   "outputs": [
    {
     "data": {
      "text/plain": [
       "('white', 'as')"
      ]
     },
     "execution_count": 8,
     "metadata": {},
     "output_type": "execute_result"
    }
   ],
   "source": [
    "match.group(3), match.group('dup')"
   ]
  },
  {
   "cell_type": "markdown",
   "metadata": {
    "slideshow": {
     "slide_type": "slide"
    }
   },
   "source": [
    "## Splitting\n",
    "\n",
    "Another useful thing do with regex patterns is to split strings apart.  The string method `.split()` can divide a string based on a fixed delimiter, but the function `re.split()` can divide based on an arbitrary complex regular expression."
   ]
  },
  {
   "cell_type": "markdown",
   "metadata": {
    "slideshow": {
     "slide_type": "subslide"
    }
   },
   "source": [
    "For example, if you wished to divide the auto part list using both the dash and newlines, you might use:"
   ]
  },
  {
   "cell_type": "code",
   "execution_count": 9,
   "metadata": {
    "slideshow": {
     "slide_type": "fragment"
    }
   },
   "outputs": [
    {
     "name": "stdout",
     "output_type": "stream",
     "text": [
      "['FORD', '2008', 'xyz37', 'FORD', '1998', 'ef445', 'TOYO', '1999', 'wxy66', 'TOYO', '2005', 'qrst3', 'FORD', '2010', 'ab614', 'MAZD', '1995', 'pqr33', 'TOYO', '2013', 'fg185', 'TOYO', '1997', 'abc23', 'FORD', '2012', 'lm034']\n"
     ]
    }
   ],
   "source": [
    "print(re.split(r'[-\\n]', parts))"
   ]
  },
  {
   "cell_type": "markdown",
   "metadata": {
    "slideshow": {
     "slide_type": "subslide"
    }
   },
   "source": [
    "Even only selecting among two characters for the split is more than `str.split()` can perform directly, but let us try a slightly more complex pattern.  We want to split on the years and their surrounding dashes, but verify that years start with '1' or '2' and are four digits."
   ]
  },
  {
   "cell_type": "code",
   "execution_count": 10,
   "metadata": {
    "slideshow": {
     "slide_type": "fragment"
    }
   },
   "outputs": [
    {
     "name": "stdout",
     "output_type": "stream",
     "text": [
      "['FORD', 'xyz37', 'FORD', 'ef445', 'TOYO', 'wxy66', 'TOYO', 'qrst3', 'FORD', 'ab614', 'MAZD', 'pqr33', 'TOYO', 'fg185', 'TOYO', 'abc23', 'FORD', 'lm034']\n"
     ]
    }
   ],
   "source": [
    "print(re.split(r'-[12]\\d{3}-|\\n', parts))"
   ]
  },
  {
   "cell_type": "markdown",
   "metadata": {
    "slideshow": {
     "slide_type": "subslide"
    }
   },
   "source": [
    "Probably more useful for this case is to perform a separate split per line.  We cannot easily do that with a regular expression alone, but can with just a bit of Python code."
   ]
  },
  {
   "cell_type": "code",
   "execution_count": 11,
   "metadata": {
    "slideshow": {
     "slide_type": "fragment"
    }
   },
   "outputs": [
    {
     "data": {
      "text/plain": [
       "[['FORD', 'xyz37'],\n",
       " ['FORD', 'ef445'],\n",
       " ['TOYO', 'wxy66'],\n",
       " ['TOYO', 'qrst3'],\n",
       " ['FORD', 'ab614'],\n",
       " ['MAZD', 'pqr33'],\n",
       " ['TOYO', 'fg185'],\n",
       " ['TOYO', 'abc23'],\n",
       " ['FORD', 'lm034']]"
      ]
     },
     "execution_count": 11,
     "metadata": {},
     "output_type": "execute_result"
    }
   ],
   "source": [
    "[re.split(r'-[12]\\d{3}-', part) for part in parts.splitlines()]"
   ]
  },
  {
   "cell_type": "markdown",
   "metadata": {
    "slideshow": {
     "slide_type": "slide"
    }
   },
   "source": [
    "## Find Many\n",
    "\n",
    "Two function provide the ability to find all matches to a pattern within a string rather than just the first.  The function `re.findall()` returns a concrete list of all matches as strings.  The function `re.finditer()` creates an iterator of match objects."
   ]
  },
  {
   "cell_type": "code",
   "execution_count": 12,
   "metadata": {
    "slideshow": {
     "slide_type": "fragment"
    }
   },
   "outputs": [
    {
     "name": "stdout",
     "output_type": "stream",
     "text": [
      "['2008', '1998', '1999', '2005', '2010', '1995', '2013', '1997', '2012']\n"
     ]
    }
   ],
   "source": [
    "print(re.findall(r'(?<=-)[12]\\d{3}(?=-)', parts))"
   ]
  },
  {
   "cell_type": "markdown",
   "metadata": {
    "slideshow": {
     "slide_type": "subslide"
    }
   },
   "source": [
    "A list of matching strings for a pattern can be useful, but at times we might want to do more with the match object.  For example, perhaps matches have groups we would like to utilize."
   ]
  },
  {
   "cell_type": "code",
   "execution_count": 13,
   "metadata": {
    "slideshow": {
     "slide_type": "fragment"
    }
   },
   "outputs": [
    {
     "name": "stdout",
     "output_type": "stream",
     "text": [
      "20 08 (4, 10)\n",
      "19 98 (20, 26)\n",
      "19 99 (36, 42)\n",
      "20 05 (52, 58)\n",
      "20 10 (68, 74)\n",
      "19 95 (84, 90)\n",
      "20 13 (100, 106)\n",
      "19 97 (116, 122)\n",
      "20 12 (132, 138)\n"
     ]
    }
   ],
   "source": [
    "pat = r'-(?P<century>19|20)(?P<year>\\d\\d)-'\n",
    "for m in re.finditer(pat, parts):\n",
    "    print(m.group('century'), m.group('year'), m.span())"
   ]
  },
  {
   "cell_type": "markdown",
   "metadata": {
    "slideshow": {
     "slide_type": "slide"
    }
   },
   "source": [
    "## Substitution\n",
    "\n",
    "One of the most powerful uses of regular expressions is in replacing portions of text that match a pattern. It can often be useful to utilize the contents of groups in the match to create the relevant replacement."
   ]
  },
  {
   "cell_type": "markdown",
   "metadata": {
    "slideshow": {
     "slide_type": "subslide"
    }
   },
   "source": [
    "Let us suppose we need to modify part numbers such that the 4 digit year is represented by just the 2-digit year followed by a brackets indicator of the century.  Moreover, the year component of the part number should be surrounded by underscores rather than dashes."
   ]
  },
  {
   "cell_type": "code",
   "execution_count": 14,
   "metadata": {
    "slideshow": {
     "slide_type": "fragment"
    }
   },
   "outputs": [
    {
     "name": "stdout",
     "output_type": "stream",
     "text": [
      "FORD_08{20x}_xyz37\n",
      "FORD_98{19x}_ef445\n",
      "TOYO_99{19x}_wxy66\n",
      "TOYO_05{20x}_qrst3\n",
      "FORD_10{20x}_ab614\n",
      "MAZD_95{19x}_pqr33\n",
      "TOYO_13{20x}_fg185\n",
      "TOYO_97{19x}_abc23\n",
      "FORD_12{20x}_lm034\n"
     ]
    }
   ],
   "source": [
    "print(re.sub(r'-([12]\\d{1})(\\d{2})-', r'_\\2{\\1x}_', parts))"
   ]
  },
  {
   "cell_type": "markdown",
   "metadata": {
    "slideshow": {
     "slide_type": "subslide"
    }
   },
   "source": [
    "We can also pass a match object to a function within the the substitution.  This allows arbitrarily complex computation based on the match, but the function will always need to return a string for the \"new representation\" of the match object."
   ]
  },
  {
   "cell_type": "markdown",
   "metadata": {
    "slideshow": {
     "slide_type": "fragment"
    }
   },
   "source": [
    "Let us reverse every 3+ letter word in our rhyme that contains the letter 'a'.  This gives us the opportunity to use the `re.IGNORECASE` (also spelled `re.I`) flag.  We could, of course, achieve the same effect in this specific pattern using the character class `[aA]`."
   ]
  },
  {
   "cell_type": "code",
   "execution_count": 15,
   "metadata": {
    "slideshow": {
     "slide_type": "subslide"
    }
   },
   "outputs": [
    {
     "data": {
      "text/html": [
       "·<font color=\"##AA0000\"><b>Mary</b></font>· ·<font color=\"##AA0000\"><b>had</b></font>· a little ·<font color=\"##AA0000\"><b>lamb</b></font>·<br/>Its fleece as white as snow<br/>·<font color=\"##AA0000\"><b>And</b></font>· everywhere ·<font color=\"##AA0000\"><b>that</b></font>· ·<font color=\"##AA0000\"><b>Mary</b></font>·<br/>went, the ·<font color=\"##AA0000\"><b>lamb</b></font>· ·<font color=\"##AA0000\"><b>was</b></font>· sure<br/>to go"
      ],
      "text/plain": [
       "<IPython.core.display.HTML object>"
      ]
     },
     "execution_count": 15,
     "metadata": {},
     "output_type": "execute_result"
    }
   ],
   "source": [
    "# Lookahead that word has 'a' before grabbing long enough words\n",
    "pat = re.compile(r'\\b(?=\\w*a\\w*)(\\w{3,})\\b', re.IGNORECASE)\n",
    "show(pat, rhyme)"
   ]
  },
  {
   "cell_type": "code",
   "execution_count": 16,
   "metadata": {
    "slideshow": {
     "slide_type": "subslide"
    }
   },
   "outputs": [],
   "source": [
    "def reverse_match(m):\n",
    "    # `m.group()` is also entire match string\n",
    "    s = m.string[m.start():m.end()]\n",
    "    return ''.join(reversed(s))"
   ]
  },
  {
   "cell_type": "code",
   "execution_count": 17,
   "metadata": {
    "slideshow": {
     "slide_type": "fragment"
    }
   },
   "outputs": [
    {
     "name": "stdout",
     "output_type": "stream",
     "text": [
      "yraM dah a little bmal\n",
      "Its fleece as white as snow\n",
      "dnA everywhere taht yraM\n",
      "went, the bmal saw sure\n",
      "to go\n"
     ]
    }
   ],
   "source": [
    "print(re.sub(pat, reverse_match, rhyme))"
   ]
  },
  {
   "cell_type": "markdown",
   "metadata": {
    "slideshow": {
     "slide_type": "subslide"
    }
   },
   "source": [
    "A variation on `re.sub()` is `re.subn()` that will return a pair containing both the new string and a count of the number of substitutions."
   ]
  },
  {
   "cell_type": "code",
   "execution_count": 18,
   "metadata": {
    "slideshow": {
     "slide_type": "fragment"
    }
   },
   "outputs": [
    {
     "name": "stdout",
     "output_type": "stream",
     "text": [
      "Changed: 8 \n",
      "-----\n",
      "yraM dah a little bmal\n",
      "Its fleece as white as snow\n",
      "dnA everywhere taht yraM\n",
      "went, the bmal saw sure\n",
      "to go\n"
     ]
    }
   ],
   "source": [
    "new, count = re.subn(pat, reverse_match, rhyme)\n",
    "print(\"Changed:\", count, '\\n-----')\n",
    "print(new)"
   ]
  }
 ],
 "metadata": {
  "celltoolbar": "Slideshow",
  "kernelspec": {
   "display_name": "Python 3",
   "language": "python",
   "name": "python3"
  },
  "language_info": {
   "codemirror_mode": {
    "name": "ipython",
    "version": 3
   },
   "file_extension": ".py",
   "mimetype": "text/x-python",
   "name": "python",
   "nbconvert_exporter": "python",
   "pygments_lexer": "ipython3",
   "version": "3.8.2"
  }
 },
 "nbformat": 4,
 "nbformat_minor": 4
}
