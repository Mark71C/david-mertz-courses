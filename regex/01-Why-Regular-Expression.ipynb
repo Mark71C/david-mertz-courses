{
 "cells": [
  {
   "cell_type": "markdown",
   "metadata": {},
   "source": [
    "# Why Regular Expressions?"
   ]
  },
  {
   "cell_type": "markdown",
   "metadata": {},
   "source": [
    "Regular expressions are a compact \"mini-languages\" within Python to identify, modifiy, and extract from strings that have certain characterstics.  With slight syntax differences across variants, \"regexen\" are available in nearly every programming language, and in a variety of other tools such as text editors and command line tools."
   ]
  },
  {
   "cell_type": "markdown",
   "metadata": {},
   "source": [
    "At heard, a regular expression *pattern* is a ways of describing which text within a larger string *matches*.  Special characters can describe complex features of the patterns, but in the simplest case, a pattern can simply be a literal string to match.  This course uses a convenience function `show()`, at times, to focus on matches themselves. Notice that this function adds a small middle-dot around matches as well as a red color to emphasize matched substrings (including spaces, where applicable)."
   ]
  },
  {
   "cell_type": "code",
   "execution_count": 1,
   "metadata": {},
   "outputs": [],
   "source": [
    "from src.setup import *"
   ]
  },
  {
   "cell_type": "markdown",
   "metadata": {},
   "source": [
    "## Simple Examples\n",
    "\n",
    "As a start, let us match a literal pattern.  We can do that with a shell tool like `grep` (**G**lobally search for a **R**egular **E**xpression and **P**rint matching lines).  This tool can also match the full patterns we show throughout the course, but after this one example, we use Python."
   ]
  },
  {
   "cell_type": "code",
   "execution_count": 2,
   "metadata": {},
   "outputs": [
    {
     "name": "stdout",
     "output_type": "stream",
     "text": [
      "\u001b[32m\u001b[K1\u001b[m\u001b[K\u001b[36m\u001b[K:\u001b[m\u001b[K\u001b[01;31m\u001b[KMary\u001b[m\u001b[K had a little lamb\n",
      "\u001b[32m\u001b[K2\u001b[m\u001b[K\u001b[36m\u001b[K-\u001b[m\u001b[KIts fleece as white as snow\n",
      "\u001b[32m\u001b[K3\u001b[m\u001b[K\u001b[36m\u001b[K:\u001b[m\u001b[KAnd everywhere that \u001b[01;31m\u001b[KMary\u001b[m\u001b[K\n",
      "\u001b[32m\u001b[K4\u001b[m\u001b[K\u001b[36m\u001b[K-\u001b[m\u001b[Kwent, the lamb was sure\n",
      "\u001b[32m\u001b[K5\u001b[m\u001b[K\u001b[36m\u001b[K-\u001b[m\u001b[Kto go\n"
     ]
    }
   ],
   "source": [
    "%%bash\n",
    "opt='-n -C2 --color=always'\n",
    "grep $opt 'Mary' data/rhyme.txt"
   ]
  },
  {
   "cell_type": "markdown",
   "metadata": {},
   "source": [
    "We can perform the same match using our Python utility function."
   ]
  },
  {
   "cell_type": "code",
   "execution_count": 3,
   "metadata": {},
   "outputs": [
    {
     "data": {
      "text/html": [
       "·<font color=\"##AA0000\"><b>Mary</b></font>· had a little lamb<br/>Its fleece as white as snow<br/>And everywhere that ·<font color=\"##AA0000\"><b>Mary</b></font>·<br/>went, the lamb was sure<br/>to go"
      ],
      "text/plain": [
       "<IPython.core.display.HTML object>"
      ]
     },
     "execution_count": 3,
     "metadata": {},
     "output_type": "execute_result"
    }
   ],
   "source": [
    "show(r'Mary', rhyme)"
   ]
  },
  {
   "cell_type": "markdown",
   "metadata": {},
   "source": [
    "## Limiting the Match\n",
    "\n",
    "Several special characters are available to constrain the application of patterns.  We will usually use Python *raw strings* to define patterns.  This prevents most escape sequences that have meanign in Python strings to be passed unaltered."
   ]
  },
  {
   "cell_type": "markdown",
   "metadata": {},
   "source": [
    "For example, the character `^` limits a match to the beginning of a line, while the character `$` limits a match to the end of a line.  The sequence `\\b` restricts a match to word boundaries. None of these symbols themselves match any characters."
   ]
  },
  {
   "cell_type": "code",
   "execution_count": 4,
   "metadata": {},
   "outputs": [
    {
     "data": {
      "text/html": [
       "·<font color=\"##AA0000\"><b>Mary</b></font>· had a little lamb<br/>Its fleece as white as snow<br/>And everywhere that Mary<br/>went, the lamb was sure<br/>to go"
      ],
      "text/plain": [
       "<IPython.core.display.HTML object>"
      ]
     },
     "execution_count": 4,
     "metadata": {},
     "output_type": "execute_result"
    }
   ],
   "source": [
    "show(r'^Mary', rhyme)"
   ]
  },
  {
   "cell_type": "code",
   "execution_count": 5,
   "metadata": {},
   "outputs": [
    {
     "data": {
      "text/html": [
       "Mary had a little lamb<br/>Its fleece as white as snow<br/>And everywhere that ·<font color=\"##AA0000\"><b>Mary</b></font>·<br/>went, the lamb was sure<br/>to go"
      ],
      "text/plain": [
       "<IPython.core.display.HTML object>"
      ]
     },
     "execution_count": 5,
     "metadata": {},
     "output_type": "execute_result"
    }
   ],
   "source": [
    "show(r'Mary$', rhyme)"
   ]
  },
  {
   "cell_type": "code",
   "execution_count": 6,
   "metadata": {},
   "outputs": [
    {
     "data": {
      "text/html": [
       "Mary had a little lamb<br/>Its fleece ·<font color=\"##AA0000\"><b>as</b></font>· white ·<font color=\"##AA0000\"><b>as</b></font>· snow<br/>And everywhere that Mary<br/>went, the lamb w·<font color=\"##AA0000\"><b>as</b></font>· sure<br/>to go"
      ],
      "text/plain": [
       "<IPython.core.display.HTML object>"
      ]
     },
     "execution_count": 6,
     "metadata": {},
     "output_type": "execute_result"
    }
   ],
   "source": [
    "show(r'as', rhyme)"
   ]
  },
  {
   "cell_type": "code",
   "execution_count": 7,
   "metadata": {},
   "outputs": [
    {
     "data": {
      "text/html": [
       "Mary had a little lamb<br/>Its fleece ·<font color=\"##AA0000\"><b>as</b></font>· white ·<font color=\"##AA0000\"><b>as</b></font>· snow<br/>And everywhere that Mary<br/>went, the lamb was sure<br/>to go"
      ],
      "text/plain": [
       "<IPython.core.display.HTML object>"
      ]
     },
     "execution_count": 7,
     "metadata": {},
     "output_type": "execute_result"
    }
   ],
   "source": [
    "show(r'\\bas', rhyme)"
   ]
  },
  {
   "cell_type": "code",
   "execution_count": 8,
   "metadata": {},
   "outputs": [
    {
     "data": {
      "text/html": [
       "Mary had a little lamb<br/>Its fleece ·<font color=\"##AA0000\"><b>as</b></font>· white ·<font color=\"##AA0000\"><b>as</b></font>· snow<br/>And everywhere that Mary<br/>went, the lamb w·<font color=\"##AA0000\"><b>as</b></font>· sure<br/>to go"
      ],
      "text/plain": [
       "<IPython.core.display.HTML object>"
      ]
     },
     "execution_count": 8,
     "metadata": {},
     "output_type": "execute_result"
    }
   ],
   "source": [
    "show(r'as\\b', rhyme)"
   ]
  },
  {
   "cell_type": "markdown",
   "metadata": {},
   "source": [
    "## Wildcard and Quantifiers\n",
    "\n",
    "The character `.` can be used to match any single character, and is sometimes called the \"wildcard.\"  More limitd wildcards are available as well \n",
    "\n",
    " Wildcard | Behavior\n",
    ":--------:|--------------------------\n",
    "|   .     | Any single character\n",
    "|  \\d     | Any decimal digit\n",
    "|  \\D     | Any non-digit character\n",
    "|  \\s     | Any whitespace character\n",
    "|  \\S     | Any non-whitespace character\n",
    "|  \\w     | Any alphanumeric character\n",
    "|  \\W     | Any non-alphanumeric character"
   ]
  },
  {
   "cell_type": "markdown",
   "metadata": {},
   "source": [
    "Three \"quantifiers\" are also available.  These indicate the following:\n",
    "\n",
    " Quantifier | Behavior\n",
    ":----------:|-------------------------------\n",
    "|    *      | Zero or more of last pattern\n",
    "|    +      | One or more of last pattern\n",
    "|    ?      | Zero or one of last pattern\n",
    "    "
   ]
  },
  {
   "cell_type": "code",
   "execution_count": 9,
   "metadata": {},
   "outputs": [
    {
     "data": {
      "text/html": [
       "Mary had a little lamb<br/>Its fleece as white as snow<br/>And everywhere that Mary<br/>went, the lamb ·<font color=\"##AA0000\"><b>was</b></font>· sure<br/>to go"
      ],
      "text/plain": [
       "<IPython.core.display.HTML object>"
      ]
     },
     "execution_count": 9,
     "metadata": {},
     "output_type": "execute_result"
    }
   ],
   "source": [
    "# Surrounded by word boundaries, not-whitespace, 'as'\n",
    "show(r'\\b\\Sas\\b', rhyme)"
   ]
  },
  {
   "cell_type": "code",
   "execution_count": 10,
   "metadata": {},
   "outputs": [
    {
     "data": {
      "text/html": [
       "Mary had a litt·<font color=\"##AA0000\"><b>le</b></font>· lamb<br/>Its f·<font color=\"##AA0000\"><b>lee</b></font>·ce as white as snow<br/>And everywhere that Mary<br/>went, the lamb was sure<br/>to go"
      ],
      "text/plain": [
       "<IPython.core.display.HTML object>"
      ]
     },
     "execution_count": 10,
     "metadata": {},
     "output_type": "execute_result"
    }
   ],
   "source": [
    "# Match an 'l' followed by one or two 'e'\n",
    "show(r'lee?', rhyme)"
   ]
  },
  {
   "cell_type": "code",
   "execution_count": 11,
   "metadata": {},
   "outputs": [
    {
     "data": {
      "text/html": [
       "Mary had a litt·<font color=\"##AA0000\"><b>le</b></font>· lamb<br/>Its f·<font color=\"##AA0000\"><b>lee</b></font>··<font color=\"##AA0000\"><b>ce</b></font>· as whi·<font color=\"##AA0000\"><b>te</b></font>· as snow<br/>And·<font color=\"##AA0000\"><b> e</b></font>··<font color=\"##AA0000\"><b>ve</b></font>·ryw·<font color=\"##AA0000\"><b>he</b></font>··<font color=\"##AA0000\"><b>re</b></font>· that Mary<br/>·<font color=\"##AA0000\"><b>we</b></font>·nt, t·<font color=\"##AA0000\"><b>he</b></font>· lamb was su·<font color=\"##AA0000\"><b>re</b></font>·<br/>to go"
      ],
      "text/plain": [
       "<IPython.core.display.HTML object>"
      ]
     },
     "execution_count": 11,
     "metadata": {},
     "output_type": "execute_result"
    }
   ],
   "source": [
    "# Any character (including space) followed by one or more 'e's\n",
    "show(r'.e+', rhyme)"
   ]
  },
  {
   "cell_type": "code",
   "execution_count": 12,
   "metadata": {},
   "outputs": [
    {
     "data": {
      "text/html": [
       "Mary had a ·<font color=\"##AA0000\"><b>little</b></font>· lamb<br/>Its ·<font color=\"##AA0000\"><b>fleece</b></font>· as ·<font color=\"##AA0000\"><b>white</b></font>· as snow<br/>And ·<font color=\"##AA0000\"><b>everywhere</b></font>· that Mary<br/>·<font color=\"##AA0000\"><b>went</b></font>·, ·<font color=\"##AA0000\"><b>the</b></font>· lamb was ·<font color=\"##AA0000\"><b>sure</b></font>·<br/>to go"
      ],
      "text/plain": [
       "<IPython.core.display.HTML object>"
      ]
     },
     "execution_count": 12,
     "metadata": {},
     "output_type": "execute_result"
    }
   ],
   "source": [
    "# Whole words containing one or more e's. \n",
    "# Zero or more letters, one or more 'e', zero or more letters\n",
    "show(r'\\w*e+\\w*', rhyme)"
   ]
  },
  {
   "cell_type": "markdown",
   "metadata": {},
   "source": [
    "## Matching Too Much\n",
    "\n",
    "Regular expression patterns, by default, are *greedy*. They match as much as they possibly can. Sometimes this is what you want, but often it is not.  For example, let us try to match the immediate comparison for what fleece is like (i.e. \"fleece as white\")"
   ]
  },
  {
   "cell_type": "code",
   "execution_count": 13,
   "metadata": {},
   "outputs": [
    {
     "data": {
      "text/html": [
       "Mary had a little lamb<br/>Its ·<font color=\"##AA0000\"><b>fleece as white as snow</b></font>·<br/>And everywhere that Mary<br/>went, the lamb was sure<br/>to go"
      ],
      "text/plain": [
       "<IPython.core.display.HTML object>"
      ]
     },
     "execution_count": 13,
     "metadata": {},
     "output_type": "execute_result"
    }
   ],
   "source": [
    "# Want to match just \"some characters until word boundary\"\n",
    "show(r'fleece as .+\\b', rhyme)"
   ]
  },
  {
   "cell_type": "markdown",
   "metadata": {},
   "source": [
    "We match all the way to the end of the line here.  But it gets worse if we wish to use the flag that makes the dot (`.`) include newlines."
   ]
  },
  {
   "cell_type": "code",
   "execution_count": 14,
   "metadata": {},
   "outputs": [
    {
     "data": {
      "text/html": [
       "Mary had a little lamb<br/>Its ·<font color=\"##AA0000\"><b>fleece as white as snow<br/>And everywhere that Mary<br/>went, the lamb was sure<br/>to go</b></font>·"
      ],
      "text/plain": [
       "<IPython.core.display.HTML object>"
      ]
     },
     "execution_count": 14,
     "metadata": {},
     "output_type": "execute_result"
    }
   ],
   "source": [
    "# Want to match just \"some characters until word boundary\"\n",
    "show(r'fleece as .+\\b', rhyme, re.DOTALL)"
   ]
  },
  {
   "cell_type": "markdown",
   "metadata": {},
   "source": [
    "The problem is that the subpattern `.*` wants to match as much as it can; it needs to end with a word boundary, but the entire ditty does.  The solution is to transform quantifiers into their non-greedy form.\n",
    "\n",
    "\n",
    " Quantifier | Behavior\n",
    ":----------:|----------------------------------\n",
    "|    *?     | Zero or more, as few as possible\n",
    "|    +?     | One or more, as few as possible\n",
    "|    ??     | Zero or one, as few as possible"
   ]
  },
  {
   "cell_type": "code",
   "execution_count": 15,
   "metadata": {},
   "outputs": [
    {
     "data": {
      "text/html": [
       "Mary had a little lamb<br/>Its ·<font color=\"##AA0000\"><b>fleece as white</b></font>· as snow<br/>And everywhere that Mary<br/>went, the lamb was sure<br/>to go"
      ],
      "text/plain": [
       "<IPython.core.display.HTML object>"
      ]
     },
     "execution_count": 15,
     "metadata": {},
     "output_type": "execute_result"
    }
   ],
   "source": [
    "# Successfully match just \"some characters until word boundary\"\n",
    "show(r'fleece as .+?\\b', rhyme, re.DOTALL)"
   ]
  },
  {
   "cell_type": "markdown",
   "metadata": {},
   "source": [
    "## Numeric Range Quantifiers\n",
    "\n",
    "The basic quantifiers in regexen are \"some\", \"many\", and \"maybe\", spelled as `*`, `+`, and `?`.  However, Python (and many other tools) enhance that with specific numeric ranges for occurrence counts.  These are given by subpatterns with curly braces.  "
   ]
  },
  {
   "cell_type": "markdown",
   "metadata": {},
   "source": [
    "The general pattern is `{m,n}`, but either end of the range may be omitted.  A single number in the curly braces indicates an exact count.  The non-greedy modifier `?` may also be used with numeric quantifiers."
   ]
  },
  {
   "cell_type": "code",
   "execution_count": 16,
   "metadata": {},
   "outputs": [
    {
     "data": {
      "text/html": [
       "Mary had a little lamb<br/>Its ·<font color=\"##AA0000\"><b>fleece as white as snow<br/>And everywhere </b></font>·that Mary<br/>went, the lamb was sure<br/>to go"
      ],
      "text/plain": [
       "<IPython.core.display.HTML object>"
      ]
     },
     "execution_count": 16,
     "metadata": {},
     "output_type": "execute_result"
    }
   ],
   "source": [
    "# Match from 10-32 characters ending at word boundary\n",
    "show(r'fleece as .{10,32}\\b', rhyme, re.DOTALL)"
   ]
  },
  {
   "cell_type": "code",
   "execution_count": 17,
   "metadata": {},
   "outputs": [
    {
     "data": {
      "text/html": [
       "Mary had a little lamb<br/>Its ·<font color=\"##AA0000\"><b>fleece as white as snow</b></font>·<br/>And everywhere that Mary<br/>went, the lamb was sure<br/>to go"
      ],
      "text/plain": [
       "<IPython.core.display.HTML object>"
      ]
     },
     "execution_count": 17,
     "metadata": {},
     "output_type": "execute_result"
    }
   ],
   "source": [
    "# Non-greedy match from 10-32 characters ending at word boundary\n",
    "show(r'fleece as .{10,32}?\\b', rhyme, re.DOTALL)"
   ]
  },
  {
   "cell_type": "code",
   "execution_count": 18,
   "metadata": {},
   "outputs": [
    {
     "data": {
      "text/html": [
       "Mary had a little lamb<br/>Its fleece as white as snow<br/>And everywhere that Mary<br/>went, the lamb was sure<br/>to go"
      ],
      "text/plain": [
       "<IPython.core.display.HTML object>"
      ]
     },
     "execution_count": 18,
     "metadata": {},
     "output_type": "execute_result"
    }
   ],
   "source": [
    "# Match exactly 15 characters ending at word boundary (FAIL)\n",
    "show(r'fleece as .{15}\\b', rhyme, re.DOTALL)"
   ]
  },
  {
   "cell_type": "code",
   "execution_count": 19,
   "metadata": {},
   "outputs": [
    {
     "data": {
      "text/html": [
       "Mary had a little lamb<br/>Its ·<font color=\"##AA0000\"><b>fleece as white as snow<br/>And</b></font>· everywhere that Mary<br/>went, the lamb was sure<br/>to go"
      ],
      "text/plain": [
       "<IPython.core.display.HTML object>"
      ]
     },
     "execution_count": 19,
     "metadata": {},
     "output_type": "execute_result"
    }
   ],
   "source": [
    "# Match exactly 17 characters ending at word boundary (SUCCESS)\n",
    "show(r'fleece as .{17}\\b', rhyme, re.DOTALL)"
   ]
  },
  {
   "cell_type": "code",
   "execution_count": 20,
   "metadata": {},
   "outputs": [
    {
     "data": {
      "text/html": [
       "Mary had a little lamb<br/>Its ·<font color=\"##AA0000\"><b>fleece as white as snow<br/>And everywhere that Mary<br/>went, the lamb was sure<br/>to go</b></font>·"
      ],
      "text/plain": [
       "<IPython.core.display.HTML object>"
      ]
     },
     "execution_count": 20,
     "metadata": {},
     "output_type": "execute_result"
    }
   ],
   "source": [
    "# Match at least 15 characters ending at word boundary\n",
    "show(r'fleece as .{15,}\\b', rhyme, re.DOTALL)"
   ]
  },
  {
   "cell_type": "code",
   "execution_count": 21,
   "metadata": {},
   "outputs": [
    {
     "data": {
      "text/html": [
       "Mary had a little lamb<br/>Its ·<font color=\"##AA0000\"><b>fleece as white as snow<br/>And</b></font>· everywhere that Mary<br/>went, the lamb was sure<br/>to go"
      ],
      "text/plain": [
       "<IPython.core.display.HTML object>"
      ]
     },
     "execution_count": 21,
     "metadata": {},
     "output_type": "execute_result"
    }
   ],
   "source": [
    "# Non-greedy match at least 15 chars ending at word boundary\n",
    "show(r'fleece as .{15,}?\\b', rhyme, re.DOTALL)"
   ]
  }
 ],
 "metadata": {
  "kernelspec": {
   "display_name": "Python 3",
   "language": "python",
   "name": "python3"
  },
  "language_info": {
   "codemirror_mode": {
    "name": "ipython",
    "version": 3
   },
   "file_extension": ".py",
   "mimetype": "text/x-python",
   "name": "python",
   "nbconvert_exporter": "python",
   "pygments_lexer": "ipython3",
   "version": "3.8.2"
  }
 },
 "nbformat": 4,
 "nbformat_minor": 4
}
