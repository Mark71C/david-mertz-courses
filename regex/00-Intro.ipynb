{
 "cells": [
  {
   "cell_type": "markdown",
   "metadata": {
    "slideshow": {
     "slide_type": "slide"
    }
   },
   "source": [
    "# Using Regular Expressions in Python\n",
    "\n",
    "This course aims at an beginner level Python programmer.  The focus is on understanding regular expressions themselves, but we do assume you are familiar with basic function calls, loops, and list comprehensions.  However, we do not assume experience with the specific library this lesson addresses."
   ]
  },
  {
   "cell_type": "markdown",
   "metadata": {
    "slideshow": {
     "slide_type": "slide"
    }
   },
   "source": [
    "## Instructor\n",
    "\n",
    "<img src=\"img/dqm-Jozi.jpg\" align=\"right\" width=\"33%\"/>My name is David Mertz, and I am your instructor for these lessons.  I have been part of the Python community for over 20 years. During that time, I have been involved with the governance of the Python Software Foundation, and have worked as a developer, a writer, and a trainer.  In recent years I have  focused on Python's use in scientific computing and data science."
   ]
  },
  {
   "cell_type": "markdown",
   "metadata": {
    "slideshow": {
     "slide_type": "slide"
    }
   },
   "source": [
    "# Why Regular Expressions?\n",
    "\n",
    "When working with text, we are often interested in identifying and manipulating complex patterns.  Regular expressions provide a compact and powerful way—albeit often a confusing way as well—of working with patterns and structures that occur within Python strings.\n",
    "\n",
    "Formally, regular expressions are more powerful than Python's string methods, but not as powerful as full parsers.  For a great many text processing tasks, regular expressions occupy the sweet spot for the right tool for a particular job."
   ]
  },
  {
   "cell_type": "markdown",
   "metadata": {
    "slideshow": {
     "slide_type": "slide"
    }
   },
   "source": [
    "<img src=\"img/DQM-rhizome.png\" align=\"right\" width=\"33%\"/>A bit more that half of this course teaches you regular expressions themselves, and will be equally applicable to many tools and programming languages.  In the remainder we will look at APIs specific to Python for working with regular expressions.  \n",
    "\n",
    "The exercises throughout will give you hands-on practice with the the techniques addressed in the lessons."
   ]
  },
  {
   "cell_type": "code",
   "execution_count": null,
   "metadata": {},
   "outputs": [],
   "source": []
  }
 ],
 "metadata": {
  "celltoolbar": "Slideshow",
  "kernelspec": {
   "display_name": "Python 3",
   "language": "python",
   "name": "python3"
  },
  "language_info": {
   "codemirror_mode": {
    "name": "ipython",
    "version": 3
   },
   "file_extension": ".py",
   "mimetype": "text/x-python",
   "name": "python",
   "nbconvert_exporter": "python",
   "pygments_lexer": "ipython3",
   "version": "3.8.2"
  }
 },
 "nbformat": 4,
 "nbformat_minor": 4
}
