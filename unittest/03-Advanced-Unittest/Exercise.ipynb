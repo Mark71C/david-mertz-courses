{
 "cells": [
  {
   "cell_type": "markdown",
   "metadata": {},
   "source": [
    "# Description\n",
    "\n",
    "This exercise continues to work with the small \"library\" of functions on integers in the setup perform some simple number theoretic or combinatorics operations.  They are little documented and each has a somewhat dense implementation.  From the prior exercises, you will have thought some about relevant tests, and implemented them in doctest and unittest styles.\n",
    "\n",
    "For this exercise, you should write a single `unittest` class called `TestLibrary2`.  A distinct name is used from that in the prior exercise merely because both should be independently valuable, and a real library will probably use multiple test classes.\n",
    "\n",
    "In order to utilize some capabilities discussed in this lesson, your new tests should include:\n",
    "\n",
    "* Consider primes in non-overlapping blocks of 20 at a time.  Calculate the median value of \"reachable\" numbers based on that block.  Here reachable means that a number can be obtained by summing some of the numbers from the block.  \n",
    "  * Specifically, for prime numbers, this procedure will give you the values 29, 113, 229, 349, 463.  \n",
    "  * **As separate subtests**, check each such value is obtained with the functions in the library.\n",
    "\n",
    "* Test how function respond to improper arguments.  \n",
    "  * What does `pair_sums()` do if passed a string? Write a test for that.  \n",
    "  * What does `pair_sums()` do if passed an integer? Write a test for that.  \n",
    "  * What about a list of strings? \n",
    "  * What about a heterogeneous list of numbers and strings? \n",
    "  * What about a list of numbers that includes the special value `nan`? E.g. `[1, 2, 3, nan]`.\n",
    "\n",
    "Add any other tests you find useful, especially ones utilizing techniques you learned in this lesson.\n",
    "\n",
    "The exercises in this courses have a large space of possible solutions.  The \"solution\" provided gives plausible tests to include, but yours may well be substantially different and yet no less useful or relevant.  Your solution might well be better than that suggested."
   ]
  },
  {
   "cell_type": "markdown",
   "metadata": {},
   "source": [
    "# Setup"
   ]
  },
  {
   "cell_type": "code",
   "execution_count": 19,
   "metadata": {},
   "outputs": [],
   "source": [
    "import unittest\n",
    "from math import sqrt, log, nan\n",
    "\n",
    "def get_primes_upto(limit):\n",
    "    \"A list of all primes less than or equal to limit\"\n",
    "    is_prime = [False] * 2 + [True] * (limit-1)\n",
    "    for n in range(int(sqrt(limit) + 1.5)): \n",
    "        if is_prime[n]:\n",
    "            is_prime[n**2::n] = [False] * ((limit - n**2)//n + 1)\n",
    "    return trues(is_prime)\n",
    "\n",
    "def prime_count(limit):\n",
    "    \"Upper bound on number of primes below a limit\"\n",
    "    # Gauss/Legendre approx, padded to exceed π(x) for small limits\n",
    "    return int(1.2 * limit/log(limit))\n",
    "\n",
    "def get_init_primes(N):\n",
    "    \"Return the first N prime numbers\"\n",
    "    # Find \"enough\" primes\n",
    "    limit = 8\n",
    "    while N > prime_count(limit):\n",
    "        limit *= 2\n",
    "    many_primes = get_primes_upto(limit)\n",
    "    # Return exactly N of them\n",
    "    return many_primes[:N]\n",
    "\n",
    "def trues(it): \n",
    "    \"Which elements of 'bitfield iterable' are True?\"\n",
    "    return [n for n, target in enumerate(it) if target]\n",
    "\n",
    "def sums_of_subset(numbers):\n",
    "    \"The natural numbers that are sums of subsets of initial set\"\n",
    "    numbers = sorted(numbers)                 # Numbers in ascending order\n",
    "    sum_of_numbers = sum(numbers)\n",
    "    reachable = [False] * (sum_of_numbers+1)  # Trues as one-based index\n",
    "    for p in numbers:\n",
    "        reachable[p] = True \n",
    "        for n, target in enumerate(reachable[:]):\n",
    "            if target and  n != p:\n",
    "                reachable[p+n] = True\n",
    "    return trues(reachable)\n",
    "\n",
    "def pair_sums(numbers, allow_doubles=False):\n",
    "    \"Sums of elements from initial set\"\n",
    "    sums = set()\n",
    "    numbers = sorted(numbers)\n",
    "    for i in numbers:\n",
    "        for j in numbers:\n",
    "            if allow_doubles or i != j:\n",
    "                sums.add(i+j)\n",
    "    return sums"
   ]
  },
  {
   "cell_type": "markdown",
   "metadata": {},
   "source": [
    "# Solution"
   ]
  },
  {
   "cell_type": "code",
   "execution_count": 83,
   "metadata": {},
   "outputs": [],
   "source": [
    "class TestLibrary2(unittest.TestCase):\n",
    "    def setUp(self):\n",
    "        self.primes100 = get_init_primes(100)\n",
    "        \n",
    "    def test_reachable_from_primes(self):\n",
    "        from statistics import median_low\n",
    "        medians = [29, 113, 229, 349, 463]\n",
    "        for med, n in zip(medians, range(0, 100, 20)):\n",
    "            with self.subTest(n=n):\n",
    "                group = self.primes100[n:n+20]\n",
    "                self.assertEqual(med, median_low(group))\n",
    "    \n",
    "    def test_pair_sum_string(self):\n",
    "        pairs = pair_sums('abcd')\n",
    "        self.assertIsInstance(pairs, set)\n",
    "        self.assertTrue(len(pairs) == 12)\n",
    "        for s in {'ab', 'ac', 'bd', 'db', 'dc'}:\n",
    "            with self.subTest(s=s):\n",
    "                self.assertIn(s, pairs)\n",
    "\n",
    "    def test_pair_sum_int(self):\n",
    "        with self.assertRaises(TypeError):\n",
    "            pairs = pair_sums(1234)\n",
    "\n",
    "    def test_pair_sum_string_list(self):\n",
    "        pairs = pair_sums(['a', 'b', 'c', 'd'])\n",
    "        self.assertIsInstance(pairs, set)\n",
    "        self.assertTrue(len(pairs) == 12)\n",
    "        for s in {'ab', 'ac', 'bd', 'db', 'dc'}:\n",
    "            with self.subTest(s=s):\n",
    "                self.assertIn(s, pairs)\n",
    "\n",
    "    def test_pair_sum_mixed_list(self):\n",
    "        with self.assertRaises(TypeError):\n",
    "            pairs = pair_sums(['a', 'b', 'c', 1])\n",
    "\n",
    "    def test_pair_sum_nans(self):\n",
    "        # nans are unequal to themselves... hmm...\n",
    "        from math import isnan\n",
    "        pairs = pair_sums([1, 2, 3, nan])\n",
    "        self.assertEqual(len(pairs), 10)\n",
    "        self.assertEqual(sum(isnan(n) for n in pairs), 7)"
   ]
  },
  {
   "cell_type": "markdown",
   "metadata": {},
   "source": [
    "# Test Cases"
   ]
  },
  {
   "cell_type": "code",
   "execution_count": 84,
   "metadata": {},
   "outputs": [],
   "source": [
    "def test_is_test_class():\n",
    "    assert issubclass(TestLibrary2, unittest.TestCase)\n",
    "    \n",
    "test_is_test_class()"
   ]
  },
  {
   "cell_type": "code",
   "execution_count": 85,
   "metadata": {},
   "outputs": [],
   "source": [
    "def test_all():\n",
    "    runner = TestLibrary2()\n",
    "    runner.setUp()\n",
    "    tests = [getattr(runner, name) for name in dir(runner) \n",
    "             if name.startswith('test_')]\n",
    "    assert len(tests) >= 6, \"At least 6 tests are required\"\n",
    "    for test in tests:\n",
    "        test()\n",
    "\n",
    "test_all()"
   ]
  },
  {
   "cell_type": "code",
   "execution_count": null,
   "metadata": {},
   "outputs": [],
   "source": []
  }
 ],
 "metadata": {
  "kernelspec": {
   "display_name": "Python 3",
   "language": "python",
   "name": "python3"
  },
  "language_info": {
   "codemirror_mode": {
    "name": "ipython",
    "version": 3
   },
   "file_extension": ".py",
   "mimetype": "text/x-python",
   "name": "python",
   "nbconvert_exporter": "python",
   "pygments_lexer": "ipython3",
   "version": "3.8.2"
  }
 },
 "nbformat": 4,
 "nbformat_minor": 4
}
