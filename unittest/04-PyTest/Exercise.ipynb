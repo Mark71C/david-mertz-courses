{
 "cells": [
  {
   "cell_type": "markdown",
   "metadata": {},
   "source": [
    "# Description\n",
    "\n",
    "This exercise continues to work with the small \"library\" of functions on integers in the setup perform some simple number theoretic or combinatorics operations.  They are little documented and each has a somewhat dense implementation.  In prior exercises, you will have thought some about relevant tests, and implemented them in doctest and unittest styles.\n",
    "\n",
    "For this exercise, you should write a collection of `pytest` functions. You should revisit the test you have written in the last three lessons, but rewrite them in `pytest` function style.  Implement these especially:\n",
    "\n",
    "* Consider primes in non-overlapping blocks of 20 at a time.  Calculate the median value of \"reachable\" numbers based on that block.  Here reachable means that a number can be obtained by summing some of the numbers from the block.  \n",
    "  * Specifically, for prime numbers, this procedure will give you the values 29, 113, 229, 349, 463.  \n",
    "  * **As parameterized tests**, check each such value is obtained with the functions in the library.\n",
    "\n",
    "* Test how function respond to improper arguments.  \n",
    "  * What does `pair_sums()` do if passed a string? Write a test for that.  \n",
    "  * What does `pair_sums()` do if passed an integer? Write a test for that.  \n",
    "  * What about a list of strings? \n",
    "  * What about a heterogeneous list of numbers and strings? \n",
    "  * What about a list of numbers that includes the special value `nan`? E.g. `[1, 2, 3, nan]`.\n",
    "\n",
    "* An **exact** prime counting function would produce the values listed.  Test that the one provided always finds a value larger than the exact value, but *also* explicitly that if fails to find the exact value (no known closed form expression is exact).\n",
    "\n",
    "|  x       |  π(x)\n",
    "|---------:|---------\n",
    "|       10 | 4\n",
    "|      100 | 25\n",
    "|     1000 | 168\n",
    "|   10,000 | 1,229\n",
    "|  100,000 | 9,592\n",
    "|1,000,000 | 78,498\n",
    "\n",
    "The exercises in this courses have a large space of possible solutions.  The \"solution\" provided gives plausible tests to include, but yours may well be substantially different and yet no less useful or relevant.  Your solution might well be better than that suggested."
   ]
  },
  {
   "cell_type": "markdown",
   "metadata": {},
   "source": [
    "# Setup"
   ]
  },
  {
   "cell_type": "code",
   "execution_count": 1,
   "metadata": {},
   "outputs": [],
   "source": [
    "import pytest\n",
    "from numbertheory.utilities import (\n",
    "    get_init_primes, get_primes_upto, log, \n",
    "    nan, pair_sums, prime_count, sqrt, \n",
    "    sums_of_subset, trues)\n",
    "\n",
    "def test_addition():\n",
    "    assert 2 + 2 == 4\n",
    "\n",
    "def test_type():\n",
    "    assert isinstance(42, int)"
   ]
  },
  {
   "cell_type": "markdown",
   "metadata": {},
   "source": [
    "# Solution"
   ]
  },
  {
   "cell_type": "code",
   "execution_count": 2,
   "metadata": {},
   "outputs": [],
   "source": [
    "import pytest\n",
    "\n",
    "def test_pair_sum_string():\n",
    "    pairs = pair_sums('abcd')\n",
    "    assert isinstance(pairs, set)\n",
    "    assert len(pairs) == 12\n",
    "    for s in {'ab', 'ac', 'bd', 'db', 'dc'}:\n",
    "        assert s in pairs\n",
    "\n",
    "def test_pair_sum_int():\n",
    "    with pytest.raises(TypeError):\n",
    "        pairs = pair_sums(1234)\n",
    "\n",
    "def test_pair_sum_mixed_list():\n",
    "    with pytest.raises(TypeError):\n",
    "        pairs = pair_sums(['a', 'b', 'c', 1])\n",
    "\n",
    "def test_pair_sum_nans():\n",
    "    # nans are unequal to themselves... hmm...\n",
    "    from math import isnan\n",
    "    pairs = pair_sums([1, 2, 3, nan])\n",
    "    assert len(pairs) == 10\n",
    "    assert sum(isnan(n) for n in pairs) == 7\n",
    "\n",
    "@pytest.mark.parametrize('n', [1, 2, 3, 4, 5, 6])\n",
    "@pytest.mark.xfail\n",
    "def test_inexact_prime_count(n):\n",
    "    exact = {1:4, 2:25, 3:168, 4:1229, 5:9592, 6:78_498}\n",
    "    result = prime_count(10**n)\n",
    "    assert result == exact[n], f\"Got {result} not {exact[n]}\"\n",
    "\n",
    "@pytest.mark.parametrize('n', [1, 2, 3, 4, 5, 6])\n",
    "def test_sufficient_prime_count(n):\n",
    "    exact = {1:4, 2:25, 3:168, 4:1229, 5:9592, 6:78_498}\n",
    "    result = prime_count(10**n)\n",
    "    assert result >= exact[n]\n",
    "    \n",
    "@pytest.mark.parametrize('ntest', [0, 1, 2, 3, 4])\n",
    "def test_reachable_from_primes(ntest):\n",
    "    from statistics import median_low\n",
    "    medians = [29, 113, 229, 349, 463]\n",
    "    n = ntest * 20\n",
    "    group = get_init_primes(100)[n:n+20]\n",
    "    assert medians[ntest] == median_low(group)"
   ]
  },
  {
   "cell_type": "markdown",
   "metadata": {},
   "source": [
    "# Test Cases"
   ]
  },
  {
   "cell_type": "code",
   "execution_count": 3,
   "metadata": {},
   "outputs": [],
   "source": [
    "def test_enough_tests():\n",
    "    tests = [name for name in globals() if name.startswith('test_')]\n",
    "    assert len(tests) >= 6\n",
    "    \n",
    "test_enough_tests()"
   ]
  }
 ],
 "metadata": {
  "kernelspec": {
   "display_name": "Python 3",
   "language": "python",
   "name": "python3"
  },
  "language_info": {
   "codemirror_mode": {
    "name": "ipython",
    "version": 3
   },
   "file_extension": ".py",
   "mimetype": "text/x-python",
   "name": "python",
   "nbconvert_exporter": "python",
   "pygments_lexer": "ipython3",
   "version": "3.8.2"
  }
 },
 "nbformat": 4,
 "nbformat_minor": 4
}
