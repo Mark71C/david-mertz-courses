{
 "cells": [
  {
   "cell_type": "markdown",
   "metadata": {
    "slideshow": {
     "slide_type": "slide"
    }
   },
   "source": [
    "# What You Know\n",
    "\n",
    "* <img src=\"DQM-cartoon.png\" align=\"right\" width=\"33%\"/>Integrating doctests within good quality documentation of software.\n",
    "* How to write object-oriented unit tests with the `unittest` package\n",
    "* How and when to use the popular `pytest` framework for more function-based tests\n",
    "* Creating fixtures and mocks as scaffolding for powerful and meaningful tests.\n"
   ]
  },
  {
   "cell_type": "markdown",
   "metadata": {
    "slideshow": {
     "slide_type": "slide"
    }
   },
   "source": [
    "# What Next?\n",
    "\n",
    "<table border=\"0\" background=\"white\">\n",
    "<tr>\n",
    "<td><img src=\"DQM-in-white.jpg\" width=\"80%\" align=\"left\"/></td>\n",
    "<td style=\"font-size:26pt\">\n",
    "    <ul>\n",
    "        <li>Add better documentation to your existing projects, including examples of API behavior.</li>\n",
    "        <li>Determine and improve the coverage of tests over the \"code surface\" of your projects.</li>\n",
    "        <li>Begin new projects, or adapt existing projects to a more test-driven development approach.</li>\n",
    "    </ul>\n",
    "    </td>"
   ]
  }
 ],
 "metadata": {
  "celltoolbar": "Slideshow",
  "kernelspec": {
   "display_name": "Python 3",
   "language": "python",
   "name": "python3"
  },
  "language_info": {
   "codemirror_mode": {
    "name": "ipython",
    "version": 3
   },
   "file_extension": ".py",
   "mimetype": "text/x-python",
   "name": "python",
   "nbconvert_exporter": "python",
   "pygments_lexer": "ipython3",
   "version": "3.8.2"
  }
 },
 "nbformat": 4,
 "nbformat_minor": 4
}
