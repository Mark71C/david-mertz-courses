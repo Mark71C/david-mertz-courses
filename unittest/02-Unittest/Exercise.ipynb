{
 "cells": [
  {
   "cell_type": "markdown",
   "metadata": {},
   "source": [
    "# Description\n",
    "\n",
    "The small \"library\" of functions on integers in the setup perform some simple number theoretic or combinatorics operations.  However, they are little documented and each has a somewhat dense implementation.  For this exercise, you should write a single `unittest` class called `TestLibrary`.  In the exercise for that last lesson, you wrote a number of doctests; testing the same features is acceptable, but other tests may lend themselves better to a `unittest` approach.\n",
    "\n",
    "The exercises in this courses have a large space of possible solutions.  The \"solution\" provided gives plausible tests to include, but yours may well be substantially different and yet no less useful or relevant.  Your solution might well be better than that suggested.\n",
    "\n",
    "Some of these functions deal with prime numbers.  To aid in your exploration or tests, the file `primes-5000.txt` in this repository contains the first 5000 prime numbers.  These numbers *are correct* and you may use them as a reference in whatever manner you find useful."
   ]
  },
  {
   "cell_type": "markdown",
   "metadata": {},
   "source": [
    "# Setup"
   ]
  },
  {
   "cell_type": "code",
   "execution_count": 1,
   "metadata": {},
   "outputs": [],
   "source": [
    "import unittest\n",
    "from math import sqrt, log\n",
    "\n",
    "def get_primes_upto(limit):\n",
    "    \"A list of all primes less than or equal to limit\"\n",
    "    is_prime = [False] * 2 + [True] * (limit-1)\n",
    "    for n in range(int(sqrt(limit) + 1.5)): \n",
    "        if is_prime[n]:\n",
    "            is_prime[n**2::n] = [False] * ((limit - n**2)//n + 1)\n",
    "    return trues(is_prime)\n",
    "\n",
    "def prime_count(limit):\n",
    "    \"Upper bound on number of primes below a limit\"\n",
    "    # Gauss/Legendre approx, padded to exceed π(x) for small limits\n",
    "    return int(1.2 * limit/log(limit))\n",
    "\n",
    "def get_init_primes(N):\n",
    "    \"Return the first N prime numbers\"\n",
    "    # Find \"enough\" primes\n",
    "    limit = 8\n",
    "    while N > prime_count(limit):\n",
    "        limit *= 2\n",
    "    many_primes = get_primes_upto(limit)\n",
    "    # Return exactly N of them\n",
    "    return many_primes[:N]\n",
    "\n",
    "def trues(it): \n",
    "    \"Which elements of 'bitfield iterable' are True?\"\n",
    "    return [n for n, target in enumerate(it) if target]\n",
    "\n",
    "def sums_of_subset(numbers):\n",
    "    \"The natural numbers that are sums of subsets of initial set\"\n",
    "    numbers = sorted(numbers)                 # Numbers in ascending order\n",
    "    sum_of_numbers = sum(numbers)\n",
    "    reachable = [False] * (sum_of_numbers+1)  # Trues as one-based index\n",
    "    for p in numbers:\n",
    "        reachable[p] = True \n",
    "        for n, target in enumerate(reachable[:]):\n",
    "            if target and  n != p:\n",
    "                reachable[p+n] = True\n",
    "    return trues(reachable)\n",
    "\n",
    "def pair_sums(numbers, allow_doubles=False):\n",
    "    \"Sums of elements from initial set\"\n",
    "    sums = set()\n",
    "    numbers = sorted(numbers)\n",
    "    for i in numbers:\n",
    "        for j in numbers:\n",
    "            if allow_doubles or i != j:\n",
    "                sums.add(i+j)\n",
    "    return sums"
   ]
  },
  {
   "cell_type": "markdown",
   "metadata": {},
   "source": [
    "# Solution"
   ]
  },
  {
   "cell_type": "code",
   "execution_count": 2,
   "metadata": {},
   "outputs": [],
   "source": [
    "class TestLibrary(unittest.TestCase):\n",
    "    def setUp(self):\n",
    "        self.primes_5k = [int(n) for n in open('primes-5000.txt')]\n",
    "        self.prime1000 = prime_count(1000)\n",
    "        \n",
    "    def test_prime_generation(self):\n",
    "        # Top is not prime\n",
    "        self.assertEqual(get_primes_upto(100)[-1], 97)\n",
    "        # Top is prime\n",
    "        self.assertEqual(get_primes_upto(101)[-1], 101)\n",
    "    \n",
    "    def test_prime_accuracy(self):\n",
    "        # Check some against reference\n",
    "        self.assertEqual(get_init_primes(1000), self.primes_5k[:1000])\n",
    "        \n",
    "    def test_prime_count(self):\n",
    "        # 168 is exact π(1000) value\n",
    "        self.assertTrue(200 >= self.prime1000 >= 168)\n",
    "        self.assertTrue(prime_count(1e10) >= 455_052_511)\n",
    "\n",
    "    def test_trues(self):\n",
    "        bools = [True, True, False, False, True, False, True]\n",
    "        self.assertTrue(trues(bools), [0, 1, 4, 6])\n",
    "    \n",
    "    def test_pair_sums(self):\n",
    "        self.assertTrue(pair_sums([3, 4, 5]), {7, 8, 9})\n",
    "        \n",
    "    def test_pair_sums_dups(self):\n",
    "        self.assertTrue(pair_sums([3, 5], allow_doubles=True), {6, 8, 10})\n",
    "        \n",
    "    def test_Goldbach(self):\n",
    "        twoprime = pair_sums(get_init_primes(7), True)\n",
    "        for even in range(4, 32, 2):\n",
    "            self.assertIn(even, twoprime)\n",
    "        \n",
    "    def test_unreachables(self):\n",
    "        # The only small numbers not sum of primes\n",
    "        unreachable = {1, 4, 6}\n",
    "        sums = set(sums_of_subset(get_init_primes(400)))\n",
    "        self.assertEqual({i for i in range(1, 10_000) if i not in sums}, \n",
    "                         unreachable)"
   ]
  },
  {
   "cell_type": "markdown",
   "metadata": {},
   "source": [
    "# Test Cases"
   ]
  },
  {
   "cell_type": "code",
   "execution_count": 3,
   "metadata": {},
   "outputs": [],
   "source": [
    "def test_is_test_class():\n",
    "    assert issubclass(TestLibrary, unittest.TestCase)\n",
    "    \n",
    "test_is_test_class()"
   ]
  },
  {
   "cell_type": "code",
   "execution_count": 4,
   "metadata": {},
   "outputs": [],
   "source": [
    "def test_all():\n",
    "    runner = TestLibrary()\n",
    "    runner.setUp()\n",
    "    tests = [getattr(runner, name) for name in dir(runner) \n",
    "             if name.startswith('test_')]\n",
    "    assert len(tests) >= 8, \"At least 8 tests are required\"\n",
    "    for test in tests:\n",
    "        test()\n",
    "\n",
    "test_all()"
   ]
  }
 ],
 "metadata": {
  "kernelspec": {
   "display_name": "Python 3",
   "language": "python",
   "name": "python3"
  },
  "language_info": {
   "codemirror_mode": {
    "name": "ipython",
    "version": 3
   },
   "file_extension": ".py",
   "mimetype": "text/x-python",
   "name": "python",
   "nbconvert_exporter": "python",
   "pygments_lexer": "ipython3",
   "version": "3.8.2"
  }
 },
 "nbformat": 4,
 "nbformat_minor": 4
}
