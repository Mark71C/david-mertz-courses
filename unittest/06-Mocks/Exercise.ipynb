{
 "cells": [
  {
   "cell_type": "markdown",
   "metadata": {},
   "source": [
    "# Description\n",
    "\n",
    "In this exercise, we continue to work with the small \"numbertheory\" library used in prior exercises. However, a new function has been added for this exercise. This lendd itself to testing with mocks. Let us look at it:\n",
    "\n",
    "```python\n",
    "def get_primes_between(start=0, end=100):\n",
    "    \"Find all primes in interval [start, end]\"\n",
    "    assert n < m\n",
    "    url = f'http://example.org/primes-between/json/{start}/{end}'\n",
    "    response = requests.get(url)\n",
    "    return response.json()\n",
    "```\n",
    "\n",
    "The function is not really needed for primes in a small range where our existing functions could easily generate these answers.  However, for larger numbers, the load on the local system might be appropriate to transfer to a dedicated service.  E.g., we might do this:\n",
    "\n",
    "```python\n",
    ">>> get_primes_between(961_748_940, 961_748_988)\n",
    "[961748941, 961748947, 961748951, 961748969, 961748987]\n",
    "```\n",
    "\n",
    "This question can be answered *relatively* feasibly using `likely_prime()`, but for a larger range it becomes more difficult.  Performing 1.5 billion Miller-Rabin tests (assuming 40 trials per candidate) can be *very slow*.\n",
    "\n",
    "```python\n",
    ">>> get_primes_between(961_748_988, 999_999_999)\n",
    "[961748993, 961749023, 961749037, ...approx 2 million more...]\n",
    "```\n",
    "\n",
    "Adding to the issue is that the server we intend to use does not actually even exist (yet).  Using mocks or stubs, do the following:\n",
    "\n",
    "* Use local calculation to simulate getting a moderate number of moderately large primes.  E.g. a few hundred in the 1,000,000-1,500,000 range at a time.\n",
    "* Use a custom mocked object that will provide an approximation of the *number* of items expected from a call."
   ]
  },
  {
   "cell_type": "markdown",
   "metadata": {},
   "source": [
    "# Setup"
   ]
  },
  {
   "cell_type": "code",
   "execution_count": 1,
   "metadata": {},
   "outputs": [],
   "source": [
    "import pytest\n",
    "import unittest\n",
    "from numbertheory.utilities import *\n",
    "\n",
    "def test_exact_moderate_range():\n",
    "    # Check for correct results for moderate result size\n",
    "    # Ideal test should be parameterized to check a number of ranges\n",
    "    correct = [1_000_003, 1_000_033, 1_000_037,\n",
    "               1_000_039, 1_000_081, 1_000_099]\n",
    "    assert get_primes_between(1_000_000, 1_000_100) == correct\n",
    "    \n",
    "\n",
    "def test_approx_large_range():\n",
    "    # Check for approximate results for large result size\n",
    "    # Ideal test should be parameterized to check a number of ranges\n",
    "    primes = get_primes_between(100_000_000, 105_000_000)\n",
    "    at_least, at_most = 279_682, 338_416\n",
    "    assert at_least < len(primes) < at_most"
   ]
  },
  {
   "cell_type": "markdown",
   "metadata": {},
   "source": [
    "# Solution"
   ]
  },
  {
   "cell_type": "code",
   "execution_count": 2,
   "metadata": {},
   "outputs": [],
   "source": [
    "import pytest\n",
    "import requests\n",
    "#from utilities import *\n",
    "\n",
    "class JSONAnswer:\n",
    "    def __init__(self, data):\n",
    "        self.data = data\n",
    "        \n",
    "    def json(self):\n",
    "        return self.data\n",
    "\n",
    "def mock_get(url):\n",
    "    parts = url.split('/')\n",
    "    start, stop = map(int, parts[-2:])\n",
    "    primes = get_primes_upto(stop)\n",
    "    result = [n for n in primes if n >= start]\n",
    "    return JSONAnswer(result)\n",
    "        \n",
    "                          \n",
    "def test_exact_moderate_range(monkeypatch):\n",
    "    # Check for correct results for moderate result size\n",
    "    correct = [1_000_003, 1_000_033, 1_000_037,\n",
    "               1_000_039, 1_000_081, 1_000_099]\n",
    "    monkeypatch.setattr(requests, 'get', mock_get)\n",
    "    assert get_primes_between(1_000_000, 1_000_100) == correct\n",
    "\n",
    "\n",
    "class JSONLen:\n",
    "    def __init__(self, len_):\n",
    "        self.len = len_\n",
    "        \n",
    "    def json(self):\n",
    "        class Len:\n",
    "            def __init__(self, len_):\n",
    "                self.len = len_\n",
    "            def __len__(self):\n",
    "                return self.len\n",
    "            \n",
    "        return Len(self.len)\n",
    "\n",
    "def mock_get_approx(url):\n",
    "    parts = url.split('/')\n",
    "    start, stop = map(int, parts[-2:])\n",
    "    return JSONLen(prime_count(stop) - prime_count(start))\n",
    "    \n",
    "    \n",
    "def test_approx_large_range(monkeypatch):\n",
    "    # Check for approximate results for large result size\n",
    "    monkeypatch.setattr(requests, 'get', mock_get_approx)\n",
    "    primes = get_primes_between(100_000_000, 105_000_000)\n",
    "    at_least, at_most = 279_682, 338_416\n",
    "    assert at_least < len(primes) < at_most"
   ]
  },
  {
   "cell_type": "markdown",
   "metadata": {},
   "source": [
    "# Test Cases"
   ]
  },
  {
   "cell_type": "code",
   "execution_count": 3,
   "metadata": {},
   "outputs": [],
   "source": [
    "def test_enough_tests():\n",
    "    tests = {name for name in globals() if name.startswith('test_')}\n",
    "    for name in ['test_exact_moderate_range', \n",
    "                 'test_approx_large_range']:\n",
    "        assert name in tests\n",
    "    \n",
    "test_enough_tests()"
   ]
  }
 ],
 "metadata": {
  "kernelspec": {
   "display_name": "Python 3",
   "language": "python",
   "name": "python3"
  },
  "language_info": {
   "codemirror_mode": {
    "name": "ipython",
    "version": 3
   },
   "file_extension": ".py",
   "mimetype": "text/x-python",
   "name": "python",
   "nbconvert_exporter": "python",
   "pygments_lexer": "ipython3",
   "version": "3.8.2"
  }
 },
 "nbformat": 4,
 "nbformat_minor": 4
}
