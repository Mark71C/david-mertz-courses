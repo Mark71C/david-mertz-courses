{
 "cells": [
  {
   "cell_type": "markdown",
   "metadata": {},
   "source": [
    "* Select the `ine` database\n",
    "* Unfold the tree to identify the Tables within it\n",
    "* View 100 rows of `census_zipcode_geography` using popup menu\n",
    "* Modify query using accesskey+I or toolbar (filter options), such that we only choose rows more than 200 sq miles of water\n",
    "* Sort by zipcode (will match 21 rows)\n",
    "* Create a GIST index on column `location`\n",
    "* Use the Query Editor to run:\n",
    "```sql\n",
    "SELECT usps  \n",
    "FROM census_zipcode_geography \n",
    "WHERE awater_sqmi > (SELECT avg(aland_sqmi) \n",
    "                     FROM census_zipcode_geography)\n",
    "AND aland_sqmi > (SELECT avg(awater_sqmi)\n",
    "                  FROM census_zipcode_geography)\n",
    "ORDER BY location <-> point '(45.1,-69.3)'\n",
    "LIMIT 20;\n",
    "```\n",
    "* Present the graphical explanation of the query plan\n",
    "* Look at the statistics for the query plan\n",
    "* Delete the index created"
   ]
  },
  {
   "cell_type": "markdown",
   "metadata": {},
   "source": [
    "* Login with \n",
    "\n",
    "```bash\n",
    "$ psql -h localhost --username=datascience -W -p 5432 -d postgres\n",
    "```\n",
    "* Show SQL help (`\\h`) and psql help (`\\?`)\n",
    "* List databases (`\\l`)\n",
    "* List users (`\\du`)\n",
    "* Create a new user `ine_test` with:\n",
    "```sql\n",
    "-- previously ran, e.g. `CREATE GROUP ine_users;`\n",
    "postgres=# CREATE USER ine_test IN GROUP ine_users,practice CREATEDB PASSWORD 'ine-test';\n",
    "```\n",
    "* DROP the test user (synonym `DROP ROLE`)\n",
    "* Connect to the database `ine` (`\\c ine`)\n",
    "* List the relations/tables (`\\d`)\n",
    "* DESCRIBE a table\n",
    "* Perform the nested query in the GUI example\n",
    "* Use EXPLAIN to understand the query plan\n",
    "* Create an index on location:\n",
    "```sql\n",
    "CREATE INDEX index_location ON census_zipcode_geography USING GIST (location);\n",
    "```\n",
    "* EXPLAIN the query plan again\n",
    "* List the indices (`\\di`)\n",
    "* Quit (`\\q`)"
   ]
  }
 ],
 "metadata": {
  "kernelspec": {
   "display_name": "Python 3",
   "language": "python",
   "name": "python3"
  },
  "language_info": {
   "codemirror_mode": {
    "name": "ipython",
    "version": 3
   },
   "file_extension": ".py",
   "mimetype": "text/x-python",
   "name": "python",
   "nbconvert_exporter": "python",
   "pygments_lexer": "ipython3",
   "version": "3.8.2"
  }
 },
 "nbformat": 4,
 "nbformat_minor": 4
}
