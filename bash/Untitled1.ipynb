{
 "cells": [
  {
   "cell_type": "code",
   "execution_count": 1,
   "metadata": {},
   "outputs": [
    {
     "name": "stdout",
     "output_type": "stream",
     "text": [
      "      3 cut\n",
      "      2 sort\n",
      "      1 uniq\n",
      "      1 tr\n",
      "      1 sed\n",
      "      1 PS1\n",
      "      1 history\n",
      "      1 export\n",
      "      1 display\n",
      "      1 '\n"
     ]
    }
   ],
   "source": [
    "history | cut -c8- | tr '|' '\\n' | sed 's/^ *//' | cut -d' ' -f1 | cut -d= -f1 | sort | uniq -c | sort -nr"
   ]
  },
  {
   "cell_type": "code",
   "execution_count": null,
   "metadata": {},
   "outputs": [],
   "source": []
  }
 ],
 "metadata": {
  "kernelspec": {
   "display_name": "Bash",
   "language": "bash",
   "name": "bash"
  },
  "language_info": {
   "codemirror_mode": "shell",
   "file_extension": ".sh",
   "mimetype": "text/x-sh",
   "name": "bash"
  }
 },
 "nbformat": 4,
 "nbformat_minor": 4
}
