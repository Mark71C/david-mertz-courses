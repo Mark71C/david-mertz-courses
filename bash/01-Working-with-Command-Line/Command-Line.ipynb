{
 "cells": [
  {
   "cell_type": "markdown",
   "metadata": {},
   "source": [
    "<div style=\"position: relative;\">\n",
    "<img src=\"https://user-images.githubusercontent.com/7065401/98728503-5ab82f80-2378-11eb-9c79-adeb308fc647.png\"></img>\n",
    "\n",
    "<h1 style=\"color: white; position: absolute; top:30%; left:10%;\">\n",
    "    Bash Scripting for Data Scientists\n",
    "</h1>\n",
    "\n",
    "<h3 style=\"color: #ef7d22; font-weight: normal; position: absolute; top:48%; left:10%;\">\n",
    "    David Mertz, Ph.D.\n",
    "</h3>\n",
    "\n",
    "<h3 style=\"color: #ef7d22; font-weight: normal; position: absolute; top:55%; left:10%;\">\n",
    "    Data Scientist\n",
    "</h3>\n",
    "</div>\n",
    "<br/>"
   ]
  },
  {
   "cell_type": "markdown",
   "metadata": {},
   "source": [
    "# Becoming familiar with the command line\n",
    "\n",
    "In this course, the specific command shell we will use is known as the \"Bourne Again Shell\", or `bash`.  The wordplay in the name indicates that bash is a superset of the earlier Bourne Shell (`sh`).  \n",
    "\n",
    "In parallel with bash being created, other derivatives of `sh` have also been created, enhancing features in somewhat different ways.  Some of these include KornShell (`ksh`), C shell (`csh` and later `tcsh`), Z shell (`zsh`), `fish`, and `xonsh` (an IPython successor).\n",
    "\n",
    "While there are many different command shells, offering some differences in syntax and capabilities, the large majority of Linux distributions, Mac OSX, and Windows Subsystem for Linux, use `bash` as their default shell.  Most of this course will apply if you choose other shells, but for beginners, sticking with `bash` is the easiest approach."
   ]
  },
  {
   "cell_type": "markdown",
   "metadata": {},
   "source": [
    "## Basic file operations\n",
    "\n",
    "cd, cp, chmod, mv, ls, tree, mkdir, rm, touch, wc"
   ]
  },
  {
   "cell_type": "markdown",
   "metadata": {},
   "source": [
    "## Terminal operations\n",
    "\n",
    "clear, whoami, PS1, pwd, which, man, cd, less, echo"
   ]
  },
  {
   "cell_type": "markdown",
   "metadata": {},
   "source": [
    "## Affordances\n",
    "\n",
    "history, command completion, command editing, shortcuts (~)"
   ]
  },
  {
   "cell_type": "markdown",
   "metadata": {},
   "source": [
    "## Process control\n",
    "\n",
    "bg, fg, jobs, ps, top/htop"
   ]
  },
  {
   "cell_type": "code",
   "execution_count": 3,
   "metadata": {},
   "outputs": [
    {
     "name": "stdout",
     "output_type": "stream",
     "text": [
      "      3 cut\n",
      "      2 top\n",
      "      2 sort\n",
      "      1 uniq\n",
      "      1 tr\n",
      "      1 sed\n",
      "      1 PS1\n",
      "      1 history\n",
      "      1 export\n",
      "      1 echo\n",
      "      1 display\n",
      "      1 '\n"
     ]
    }
   ],
   "source": [
    "history | cut -c8- | tr '|' '\\n' | sed 's/^ *//' | cut -d' ' -f1 | cut -d= -f1 | sort | uniq -c | sort -nr"
   ]
  },
  {
   "cell_type": "code",
   "execution_count": null,
   "metadata": {},
   "outputs": [],
   "source": []
  }
 ],
 "metadata": {
  "kernelspec": {
   "display_name": "Bash",
   "language": "bash",
   "name": "bash"
  },
  "language_info": {
   "codemirror_mode": "shell",
   "file_extension": ".sh",
   "mimetype": "text/x-sh",
   "name": "bash"
  }
 },
 "nbformat": 4,
 "nbformat_minor": 4
}
