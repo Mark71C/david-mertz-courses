{
 "cells": [
  {
   "cell_type": "markdown",
   "metadata": {},
   "source": [
    "<div style=\"position: relative;\">\n",
    "<img src=\"https://user-images.githubusercontent.com/7065401/98728503-5ab82f80-2378-11eb-9c79-adeb308fc647.png\"></img>\n",
    "\n",
    "<h1 style=\"color: white; position: absolute; top:27%; left:10%;\">\n",
    "    MySQL and MariaDB for Python Developers\n",
    "</h1>\n",
    "\n",
    "<h3 style=\"color: #ef7d22; font-weight: normal; position: absolute; top:55%; left:10%;\">\n",
    "    David Mertz, Ph.D.\n",
    "</h3>\n",
    "\n",
    "<h3 style=\"color: #ef7d22; font-weight: normal; position: absolute; top:62%; left:10%;\">\n",
    "    Data Scientist\n",
    "</h3>\n",
    "</div>"
   ]
  },
  {
   "cell_type": "markdown",
   "metadata": {},
   "source": [
    "# Data types in MySQL\n",
    "\n",
    "Columns in MySQL may utilize a wide range of data types.  Many of these are features in SQL standards.  Others are MySQL custom data types with particular functions and syntax provided to work with them.  Still others—such as support for JSON and spatial objects—are supported in the most recent SQL standards, but were added in somewhat different forms earlier and independently within MySQL.\n",
    "\n",
    "We have used `TIMESTAMP` in an earlier lesson.  `DATE`, `DATETIME`, and `YEAR` are also available.  Within Python, these all interact seamlessly with the Python `datetime` module, so no special discussion is contained in this lesson."
   ]
  },
  {
   "cell_type": "code",
   "execution_count": 1,
   "metadata": {},
   "outputs": [],
   "source": [
    "import mysql.connector\n",
    "import pandas as pd\n",
    "cred = dict(user='ine_student', password='ine-password', database='ine', host='localhost')\n",
    "conn = mysql.connector.connect(**cred)\n",
    "cur = conn.cursor()"
   ]
  },
  {
   "cell_type": "markdown",
   "metadata": {},
   "source": [
    "## Numeric types\n",
    "\n",
    "MySQL numeric types consist of one, two, three, four, and eight byte integers, signed or unsigned.  Four and eight byte floating-point numbers, and selectable-precision decimals. If the extra specifiers `UNSIGNED` and `SIGNED` are omitted, the latter is assumed."
   ]
  },
  {
   "cell_type": "code",
   "execution_count": 17,
   "metadata": {},
   "outputs": [],
   "source": [
    "sql = \"\"\"\n",
    "CREATE TABLE numbers (\n",
    "    name TEXT,\n",
    "    a TINYINT UNSIGNED DEFAULT NULL, -- 0 to +255\n",
    "    b SMALLINT SIGNED DEFAULT NULL,  -- -32,768 to 32,767\n",
    "    c MEDIUMINT DEFAULT NULL,        -- -8,388,608 to 8,388,607\n",
    "    d INT DEFAULT NULL,              -- approx -2e9 to +2e9\n",
    "    e BIGINT UNSIGNED DEFAULT NULL,  -- 0 to approx 1.8e19\n",
    "    f DECIMAL(10,9) DEFAULT NULL,    -- up to 65 decimals digits permitted\n",
    "    g DECIMAL(40,25) DEFAULT NULL,   -- 40 total digits, 25 trailing\n",
    "    h FLOAT DEFAULT NULL,            -- 32-bit float\n",
    "    i DOUBLE PRECISION DEFAULT NULL  -- 64-bit float\n",
    "    );\n",
    "\"\"\"\n",
    "cur.execute('DROP TABLE IF EXISTS numbers;')\n",
    "cur.execute(sql)\n",
    "conn.commit()"
   ]
  },
  {
   "cell_type": "markdown",
   "metadata": {},
   "source": [
    "Let us insert a fairly precise version of pi into all the columns."
   ]
  },
  {
   "cell_type": "code",
   "execution_count": 3,
   "metadata": {},
   "outputs": [
    {
     "name": "stdout",
     "output_type": "stream",
     "text": [
      "Column a: (3,)\n",
      "Column b: (3,)\n",
      "Column c: (3,)\n",
      "Column d: (3,)\n",
      "Column e: (3,)\n",
      "Column f: (Decimal('3.141592654'),)\n",
      "Column g: (Decimal('3.1415926535897932384626434'),)\n",
      "Column h: (3.14159,)\n",
      "Column i: (3.141592653589793,)\n"
     ]
    }
   ],
   "source": [
    "pi = '3.14159265358979323846264338327950288419716939937510582097494459230781640628620899862803482534'\n",
    "cur.execute(\"INSERT INTO numbers (name) VALUES ('pi')\")\n",
    "\n",
    "for col in 'abcdefghi':\n",
    "    try:\n",
    "        cur.execute(f\"UPDATE numbers SET {col}={pi} WHERE name='pi';\")\n",
    "    except Exception as err:\n",
    "        print(f\"Column {col}: {str(err).strip()}\")\n",
    "    else:\n",
    "        cur.execute(f'SELECT {col} FROM numbers;')\n",
    "        print(f\"Column {col}: {cur.fetchall()[-1]}\")\n",
    "    finally:\n",
    "        conn.commit()"
   ]
  },
  {
   "cell_type": "code",
   "execution_count": 4,
   "metadata": {},
   "outputs": [
    {
     "name": "stdout",
     "output_type": "stream",
     "text": [
      "Column a: 1264 (22003): Out of range value for column 'a' at row 2\n",
      "Column b: 1264 (22003): Out of range value for column 'b' at row 2\n",
      "Column c: 1264 (22003): Out of range value for column 'c' at row 2\n",
      "Column d: 1264 (22003): Out of range value for column 'd' at row 2\n",
      "Column e: (1000000000000,)\n",
      "Column f: 1264 (22003): Out of range value for column 'f' at row 2\n",
      "Column g: (Decimal('1000000000000.0000000000000000000000000'),)\n",
      "Column h: (1000000000000.0,)\n",
      "Column i: (1000000000000.0,)\n"
     ]
    }
   ],
   "source": [
    "bignum = '1000000000000'\n",
    "cur.execute(f\"INSERT INTO numbers (name) VALUES ('{bignum}')\")\n",
    "for col in 'abcdefghi':\n",
    "    try:\n",
    "        cur.execute(f\"UPDATE numbers SET {col}={bignum} WHERE name='{bignum}';\")\n",
    "    except Exception as err:\n",
    "        print(f\"Column {col}: {str(err).strip()}\")\n",
    "    else:\n",
    "        cur.execute(f'SELECT {col} FROM numbers;')\n",
    "        print(f\"Column {col}: {cur.fetchall()[-1]}\")\n",
    "    finally:\n",
    "        conn.commit()"
   ]
  },
  {
   "cell_type": "code",
   "execution_count": 5,
   "metadata": {},
   "outputs": [
    {
     "data": {
      "text/html": [
       "<div>\n",
       "<style scoped>\n",
       "    .dataframe tbody tr th:only-of-type {\n",
       "        vertical-align: middle;\n",
       "    }\n",
       "\n",
       "    .dataframe tbody tr th {\n",
       "        vertical-align: top;\n",
       "    }\n",
       "\n",
       "    .dataframe thead th {\n",
       "        text-align: right;\n",
       "    }\n",
       "</style>\n",
       "<table border=\"1\" class=\"dataframe\">\n",
       "  <thead>\n",
       "    <tr style=\"text-align: right;\">\n",
       "      <th></th>\n",
       "      <th>0</th>\n",
       "      <th>1</th>\n",
       "    </tr>\n",
       "  </thead>\n",
       "  <tbody>\n",
       "    <tr>\n",
       "      <th>name</th>\n",
       "      <td>pi</td>\n",
       "      <td>1000000000000</td>\n",
       "    </tr>\n",
       "    <tr>\n",
       "      <th>a</th>\n",
       "      <td>3</td>\n",
       "      <td>NaN</td>\n",
       "    </tr>\n",
       "    <tr>\n",
       "      <th>b</th>\n",
       "      <td>3</td>\n",
       "      <td>NaN</td>\n",
       "    </tr>\n",
       "    <tr>\n",
       "      <th>c</th>\n",
       "      <td>3</td>\n",
       "      <td>NaN</td>\n",
       "    </tr>\n",
       "    <tr>\n",
       "      <th>d</th>\n",
       "      <td>3</td>\n",
       "      <td>NaN</td>\n",
       "    </tr>\n",
       "    <tr>\n",
       "      <th>e</th>\n",
       "      <td>3</td>\n",
       "      <td>1000000000000</td>\n",
       "    </tr>\n",
       "    <tr>\n",
       "      <th>f</th>\n",
       "      <td>3.141592654</td>\n",
       "      <td>None</td>\n",
       "    </tr>\n",
       "    <tr>\n",
       "      <th>g</th>\n",
       "      <td>3.1415926535897932384626434</td>\n",
       "      <td>1000000000000.0000000000000000000000000</td>\n",
       "    </tr>\n",
       "    <tr>\n",
       "      <th>h</th>\n",
       "      <td>3.14159</td>\n",
       "      <td>1e+12</td>\n",
       "    </tr>\n",
       "    <tr>\n",
       "      <th>i</th>\n",
       "      <td>3.14159</td>\n",
       "      <td>1e+12</td>\n",
       "    </tr>\n",
       "  </tbody>\n",
       "</table>\n",
       "</div>"
      ],
      "text/plain": [
       "                                0                                        1\n",
       "name                           pi                            1000000000000\n",
       "a                               3                                      NaN\n",
       "b                               3                                      NaN\n",
       "c                               3                                      NaN\n",
       "d                               3                                      NaN\n",
       "e                               3                            1000000000000\n",
       "f                     3.141592654                                     None\n",
       "g     3.1415926535897932384626434  1000000000000.0000000000000000000000000\n",
       "h                         3.14159                                    1e+12\n",
       "i                         3.14159                                    1e+12"
      ]
     },
     "execution_count": 5,
     "metadata": {},
     "output_type": "execute_result"
    }
   ],
   "source": [
    "cur.execute(\"SELECT * FROM numbers\")\n",
    "pd.DataFrame(cur.fetchall(), \n",
    "             columns=[c[0] for c in cur.description]).T"
   ]
  },
  {
   "cell_type": "markdown",
   "metadata": {},
   "source": [
    "## Character and binary data\n",
    "\n",
    "There are numerous character and binary data types in MySQL, of both fixed and varying length. They are `CHAR`, `VARCHAR`, `BINARY`, `VARBINARY`, `BLOB`, `TEXT`, `ENUM`, and `SET`.  Even more types actually exist, since `TINYTEXT`, `TINYBLOB`, `MEDIUMTEXT`, `MEDIUMBLOB`, `LONGTEXT` and `LONGBLOB` are `TEXT` and `BLOB` with different maximum sizes.\n",
    "\n",
    "\n"
   ]
  },
  {
   "cell_type": "markdown",
   "metadata": {},
   "source": [
    "The fact there are so many to choose from can make the decision a little tricky.  For columns that will be indexed (other than with a `FULLTEXT` index), only `CHAR` and `VARCHAR` (or `BINARY` and `VARBINARY`) can be used.  `VARCHAR` uses one extra character of storage to null terminate each value, but `CHAR` uses space padding; this means that either might be smaller overall, but for most kinds of textual content, `VARCHAR` will win.  However, on the flip side, `CHAR` columns produce somewhat faster indices.  All of these are small differences, however."
   ]
  },
  {
   "cell_type": "markdown",
   "metadata": {},
   "source": [
    "The `TEXT` or `BLOB` types are very similar to `VARCHAR`, but with fixed maximum lengths of $2^8$, $2^{16}$, $2^{24}$ and $2^{32}$ for the several size prefixes.  These different types use a size prefix of 1, 2, 3, or 4 bytes, but beyond a few bytes, no space is wasted by choosing a larger `TEXT` type.  By implication, the largest size of a single data item in MySQL is 4 GiB."
   ]
  },
  {
   "cell_type": "code",
   "execution_count": 6,
   "metadata": {},
   "outputs": [],
   "source": [
    "sql = \"\"\"\n",
    "CREATE TABLE characters (\n",
    "    a CHAR(5) CHARACTER SET utf8,\n",
    "    b CHAR(50),\n",
    "    c VARCHAR(5),\n",
    "    d VARCHAR(50),\n",
    "    e TEXT CHARACTER SET latin1 COLLATE latin1_general_cs\n",
    "    );\n",
    "\"\"\"\n",
    "cur.execute('DROP TABLE IF EXISTS characters;')\n",
    "cur.execute(sql)\n",
    "conn.commit()"
   ]
  },
  {
   "cell_type": "markdown",
   "metadata": {},
   "source": [
    "UTF-8 should be the default encoding for any sensibly configured MySQL installation, but legacy settings sometimes exist.  Unless you have a compelling need not to do so, use UTF-8 for all text.  Within Python, characters are always abstract unicode code points, so no special conversion is needed."
   ]
  },
  {
   "cell_type": "code",
   "execution_count": 7,
   "metadata": {},
   "outputs": [
    {
     "name": "stdout",
     "output_type": "stream",
     "text": [
      "Column a: 1406 (22001): Data too long for column 'a' at row 1\n",
      "Column b: ('MySQL sure has a lot of character types',)\n",
      "Column c: 1406 (22001): Data too long for column 'c' at row 1\n",
      "Column d: ('MySQL sure has a lot of character types',)\n",
      "Column e: ('MySQL sure has a lot of character types',)\n"
     ]
    }
   ],
   "source": [
    "s = 'MySQL sure has a lot of character types'\n",
    "for col in 'abcde':\n",
    "    try:\n",
    "        cur.execute(f\"INSERT INTO characters ({col}) VALUES ('{s}');\")\n",
    "    except Exception as err:\n",
    "        print(f\"Column {col}: {str(err).strip()}\")\n",
    "    else:\n",
    "        cur.execute(f'SELECT {col} FROM characters;')\n",
    "        print(f\"Column {col}: {cur.fetchall()[0]}\")\n",
    "    finally:\n",
    "        conn.rollback()"
   ]
  },
  {
   "cell_type": "markdown",
   "metadata": {},
   "source": [
    "## Binary data\n",
    "\n"
   ]
  },
  {
   "cell_type": "markdown",
   "metadata": {},
   "source": [
    "To illustrate binary data, we might create a few Python pickles as something plausible to store in a database."
   ]
  },
  {
   "cell_type": "code",
   "execution_count": 8,
   "metadata": {},
   "outputs": [],
   "source": [
    "from pickle import dumps, loads\n",
    "cur.execute(\"DROP TABLE IF EXISTS pickles;\")\n",
    "cur.execute(\"CREATE TABLE pickles (name TEXT, bytes BLOB);\")\n",
    "\n",
    "data = [('tuple', dumps((\"a string\", 1+2j))), \n",
    "        ('dict', dumps({'this': 4, 'that': 1.23})),\n",
    "        ('complex', dumps(3+4j))]\n",
    "\n",
    "cur.executemany(\"INSERT INTO pickles VALUES (%s, %s)\", data)"
   ]
  },
  {
   "cell_type": "code",
   "execution_count": 9,
   "metadata": {},
   "outputs": [
    {
     "name": "stdout",
     "output_type": "stream",
     "text": [
      "tuple ('a string', (1+2j))\n",
      "b'\\x80\\x04\\x95;\\x00\\x00\\x00\\x00\\x00\\x00\\x00\\x8c\\x08a string\\x94\\x8c\\x08builtins\\x94\\x8c\\x07complex\\x94\\x93\\x94G?\\xf0\\x00\\x00\\x00\\x00\\x00\\x00G@\\x00\\x00\\x00\\x00\\x00\\x00\\x00\\x86\\x94R\\x94\\x86\\x94.'\n",
      "\n",
      "dict {'this': 4, 'that': 1.23}\n",
      "b'\\x80\\x04\\x95\\x1e\\x00\\x00\\x00\\x00\\x00\\x00\\x00}\\x94(\\x8c\\x04this\\x94K\\x04\\x8c\\x04that\\x94G?\\xf3\\xae\\x14z\\xe1G\\xaeu.'\n",
      "\n",
      "complex (3+4j)\n",
      "b'\\x80\\x04\\x95.\\x00\\x00\\x00\\x00\\x00\\x00\\x00\\x8c\\x08builtins\\x94\\x8c\\x07complex\\x94\\x93\\x94G@\\x08\\x00\\x00\\x00\\x00\\x00\\x00G@\\x10\\x00\\x00\\x00\\x00\\x00\\x00\\x86\\x94R\\x94.'\n",
      "\n"
     ]
    }
   ],
   "source": [
    "cur.execute(\"SELECT * FROM pickles;\")\n",
    "for row in cur:\n",
    "    print(row[0], loads(row[1]))\n",
    "    print(bytes(row[1]))\n",
    "    print()"
   ]
  },
  {
   "cell_type": "markdown",
   "metadata": {},
   "source": [
    "## Set and Enum\n",
    "\n",
    "Two additional string types are available: `SET` and `ENUM`.  These create more efficient storage, and access, but are mostly equivalent semantically to strings.  We saw earlier that `ENUM` is simply a string that can have a finite number of distinct values (maximum 65k).  A `SET` can contain multiple strings that you interact with simply as commas separated values.  However, internally, a set of up to 64 items is represented as a single bit field (32- or 64-bit; which can be much smaller than the full text it represents)."
   ]
  },
  {
   "cell_type": "code",
   "execution_count": 10,
   "metadata": {},
   "outputs": [],
   "source": [
    "sql_items = \"\"\"\n",
    "CREATE TABLE items (\n",
    "  onecolor ENUM('red', 'green', 'blue', 'orange', 'white', 'black', 'purple'),\n",
    "  many SET('red', 'green', 'blue', 'orange', 'white', 'black', 'purple')\n",
    ");\n",
    "\"\"\"\n",
    "cur.execute(\"DROP TABLE IF EXISTS items\")\n",
    "cur.execute(sql_items)"
   ]
  },
  {
   "cell_type": "code",
   "execution_count": 11,
   "metadata": {},
   "outputs": [],
   "source": [
    "from random import shuffle, randrange\n",
    "colors = [\"red\", \"green\", \"blue\", \"orange\", \"white\", \"black\", \"purple\"]\n",
    "\n",
    "for _ in range(100):\n",
    "    shuffle(colors)\n",
    "    onecolor = colors[-1]\n",
    "    many = \",\".join(colors[:randrange(8)])\n",
    "    cur.execute(f\"INSERT INTO items VALUES ('{onecolor}', '{many}')\")"
   ]
  },
  {
   "cell_type": "code",
   "execution_count": 12,
   "metadata": {},
   "outputs": [
    {
     "data": {
      "text/html": [
       "<div>\n",
       "<style scoped>\n",
       "    .dataframe tbody tr th:only-of-type {\n",
       "        vertical-align: middle;\n",
       "    }\n",
       "\n",
       "    .dataframe tbody tr th {\n",
       "        vertical-align: top;\n",
       "    }\n",
       "\n",
       "    .dataframe thead th {\n",
       "        text-align: right;\n",
       "    }\n",
       "</style>\n",
       "<table border=\"1\" class=\"dataframe\">\n",
       "  <thead>\n",
       "    <tr style=\"text-align: right;\">\n",
       "      <th></th>\n",
       "      <th>onecolor</th>\n",
       "      <th>many</th>\n",
       "    </tr>\n",
       "  </thead>\n",
       "  <tbody>\n",
       "    <tr>\n",
       "      <th>0</th>\n",
       "      <td>orange</td>\n",
       "      <td>{black}</td>\n",
       "    </tr>\n",
       "    <tr>\n",
       "      <th>1</th>\n",
       "      <td>green</td>\n",
       "      <td>{purple, blue, white, orange}</td>\n",
       "    </tr>\n",
       "    <tr>\n",
       "      <th>2</th>\n",
       "      <td>blue</td>\n",
       "      <td>{white, black}</td>\n",
       "    </tr>\n",
       "    <tr>\n",
       "      <th>3</th>\n",
       "      <td>green</td>\n",
       "      <td>{red, green, orange, blue, white, purple, black}</td>\n",
       "    </tr>\n",
       "    <tr>\n",
       "      <th>4</th>\n",
       "      <td>purple</td>\n",
       "      <td>{}</td>\n",
       "    </tr>\n",
       "    <tr>\n",
       "      <th>...</th>\n",
       "      <td>...</td>\n",
       "      <td>...</td>\n",
       "    </tr>\n",
       "    <tr>\n",
       "      <th>95</th>\n",
       "      <td>black</td>\n",
       "      <td>{}</td>\n",
       "    </tr>\n",
       "    <tr>\n",
       "      <th>96</th>\n",
       "      <td>white</td>\n",
       "      <td>{orange}</td>\n",
       "    </tr>\n",
       "    <tr>\n",
       "      <th>97</th>\n",
       "      <td>black</td>\n",
       "      <td>{green, blue, white}</td>\n",
       "    </tr>\n",
       "    <tr>\n",
       "      <th>98</th>\n",
       "      <td>green</td>\n",
       "      <td>{red, orange, blue, white, black}</td>\n",
       "    </tr>\n",
       "    <tr>\n",
       "      <th>99</th>\n",
       "      <td>red</td>\n",
       "      <td>{purple}</td>\n",
       "    </tr>\n",
       "  </tbody>\n",
       "</table>\n",
       "<p>100 rows × 2 columns</p>\n",
       "</div>"
      ],
      "text/plain": [
       "   onecolor                                              many\n",
       "0    orange                                           {black}\n",
       "1     green                     {purple, blue, white, orange}\n",
       "2      blue                                    {white, black}\n",
       "3     green  {red, green, orange, blue, white, purple, black}\n",
       "4    purple                                                {}\n",
       "..      ...                                               ...\n",
       "95    black                                                {}\n",
       "96    white                                          {orange}\n",
       "97    black                              {green, blue, white}\n",
       "98    green                 {red, orange, blue, white, black}\n",
       "99      red                                          {purple}\n",
       "\n",
       "[100 rows x 2 columns]"
      ]
     },
     "execution_count": 12,
     "metadata": {},
     "output_type": "execute_result"
    }
   ],
   "source": [
    "cur.execute(\"SELECT * FROM items\")\n",
    "pd.DataFrame(cur.fetchall(), columns=[c[0] for c in cur.description])"
   ]
  },
  {
   "cell_type": "markdown",
   "metadata": {},
   "source": [
    "## Geometric types\n",
    "\n",
    "MySQL offers a wide range of geometric/spatial types.  All of them describe some particular subset of a Cartesian plain.  The type `POINT` was used in prior lessons.  We also have: `GEOMETRY`, `LINESTRING`, `POLYGON`, `MULTIPOINT`, `MULTILINESTRING`, `MULTIPOLYGON`, `GEOMETRYCOLLECTION`.  Working with these gets into some specialized GIS (Geographic Information Systems) issues that will not be addressed in this course.  \n",
    "\n",
    "If your work is in this area, MySQL provides R-Trees with quadratic splitting for `SPATIAL` indexes on spatial columns.  R-tree indices can greatly improve performance for many kinds of queries."
   ]
  },
  {
   "cell_type": "markdown",
   "metadata": {},
   "source": [
    "## Full text indexing\n",
    "\n",
    "Use of `FULLTEXT` indices is not a data type *per se*, but can work with any character data type.  However, it is worth noting and is related to these data types. MySQL is very powerful is in performing efficient full-text search.  For this example, let us put the Project Gutenberg book, _Introduction to the study of the history of language_, by Herbert Augustus Strong and Willem Sijbrand Logeman and Benjamin Ide Wheeler (1891) into a MySQL table, in a special way."
   ]
  },
  {
   "cell_type": "code",
   "execution_count": 13,
   "metadata": {},
   "outputs": [
    {
     "data": {
      "text/plain": [
       "3247"
      ]
     },
     "execution_count": 13,
     "metadata": {},
     "output_type": "execute_result"
    }
   ],
   "source": [
    "# Create one text for each paragraph\n",
    "paras = open('../data/58650-0.txt').read().split('\\n\\n')\n",
    "len(paras)"
   ]
  },
  {
   "cell_type": "markdown",
   "metadata": {},
   "source": [
    "The format used here will allow many books to be loaded.  For the example, only one is used."
   ]
  },
  {
   "cell_type": "code",
   "execution_count": 14,
   "metadata": {},
   "outputs": [],
   "source": [
    "sql_books = \"\"\"\n",
    "CREATE TABLE books (\n",
    "    book_id TEXT,\n",
    "    para_num INTEGER,\n",
    "    para_text TEXT,\n",
    "    FULLTEXT idx (para_text)\n",
    ") ENGINE=InnoDB;\n",
    "\"\"\"\n",
    "cur.execute(\"DROP TABLE IF EXISTS books;\")\n",
    "cur.execute(sql_books)\n",
    "conn.commit()"
   ]
  },
  {
   "cell_type": "code",
   "execution_count": 15,
   "metadata": {},
   "outputs": [],
   "source": [
    "for n, para in enumerate(paras):\n",
    "    # Add both the vector and full text to row\n",
    "    sql = \"INSERT INTO books VALUES (%s, %s, %s);\"\n",
    "    cur.execute(sql, ('58650-0.txt', n, para))\n",
    "conn.commit()"
   ]
  },
  {
   "cell_type": "markdown",
   "metadata": {},
   "source": [
    "This becomes interesting where we want to search for patterns.  For example, the linguistics book sometimes discusses what proper names refer to.  The search we perform does basic stemming (e.g. name/names both match) and is case insensitive."
   ]
  },
  {
   "cell_type": "code",
   "execution_count": 16,
   "metadata": {},
   "outputs": [
    {
     "name": "stdout",
     "output_type": "stream",
     "text": [
      "Paragraph: 194\n",
      "Score: 66.00066375732422\n",
      "❰Proper❱ ❰names❱ owe their origin to the change of the ‘occasional’ concrete\n",
      "meanings of certain words into ‘usual’ meanings. All ❰names❱ of persons\n",
      "and places took their origin from ❰names❱ of species; and the usage\n",
      "κατ’ ἐξοχήν was the starting-point for this process. We are\n",
      "able to observe it distinctly in numerous instances of ❰names❱ both of\n",
      "persons and of places. Such ordinary ❰names❱ as the following are very\n",
      "instructive for our purpose: _Field_, _Hill_, _Bridges_, _Townsend_,\n",
      "_Hedges_, _Church_, _Stone_, _Meadows_, _Newton_, _Villeneuve_,\n",
      "_Newcastle_, _Neuchâtel_, _Neuburg_, _Milltown_, etc. Such ❰names❱ as\n",
      "these served in the first instance merely to indicate to neighbours a\n",
      "certain person or town: and they were sufficient to distinguish such\n",
      "person or town from others in the neighbourhood. They passed into\n",
      "regular ❰proper❱ ❰names❱ as soon as they were apprehended in this concrete\n",
      "sense by neighbours too far removed to judge of the reasons why they\n",
      "received their special ❰name❱ ...\n",
      "\n",
      "Paragraph: 198\n",
      "Score: 17.600177764892578\n",
      "The great number of phenomena occurring under this head renders it hard\n",
      "to classify them: but certain ones of marked peculiarity may be\n",
      "mentioned. In some cases we ❰name❱ the object from its appearance to our\n",
      "sight: as in the case of the _eye_ of a potato, the _head_ or _heart_ of\n",
      "a cabbage, the _arm_ of a river, the _cup_ of a flower, the _bed_ of a\n",
      "river. A statue or a picture is ❰name❱d after what it represents; as, _an\n",
      "Apollo_, _a Laocoon_, _the Adoration of the Magi_: or, again, a work of\n",
      "art is ❰name❱d after its executor; as, _a Phidias_, _a Praxiteles_. In all\n",
      "such cases the original signification has been limited in one direction\n",
      "and amplified in another. For instance, in the case of ‘the _bed_ of a\n",
      "river,’ we exclude from consideration other beds, such as beds for\n",
      "sleeping on; but, on the other hand, the word may be applied in its\n",
      "novel sense to as many rivers as flow and have _beds_. We call a part of\n",
      "one object after the part of another object which corresponds to it in\n",
      "posi ...\n",
      "\n"
     ]
    }
   ],
   "source": [
    "import re\n",
    "sql_search = \"\"\"\n",
    "SELECT para_num, para_text, \n",
    "       MATCH(para_text) AGAINST ('+proper +names' IN NATURAL LANGUAGE MODE) AS score \n",
    "FROM books\n",
    "ORDER BY score DESC\n",
    "LIMIT 2;\n",
    "\"\"\"\n",
    "cur.execute(sql_search)\n",
    "for para, text, score in cur.fetchall():\n",
    "    pat = re.compile(r'(proper|names|name|refer)', re.I)\n",
    "    text = re.sub(pat, r'❰\\1❱', text)\n",
    "    print(f\"Paragraph: {para}\\nScore: {score}\")\n",
    "    print(text[:1000], \"...\")\n",
    "    print()"
   ]
  },
  {
   "cell_type": "code",
   "execution_count": null,
   "metadata": {},
   "outputs": [],
   "source": []
  }
 ],
 "metadata": {
  "kernelspec": {
   "display_name": "Python 3",
   "language": "python",
   "name": "python3"
  },
  "language_info": {
   "codemirror_mode": {
    "name": "ipython",
    "version": 3
   },
   "file_extension": ".py",
   "mimetype": "text/x-python",
   "name": "python",
   "nbconvert_exporter": "python",
   "pygments_lexer": "ipython3",
   "version": "3.8.2"
  }
 },
 "nbformat": 4,
 "nbformat_minor": 4
}
