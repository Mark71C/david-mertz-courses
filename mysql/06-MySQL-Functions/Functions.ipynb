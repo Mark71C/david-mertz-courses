{
 "cells": [
  {
   "cell_type": "markdown",
   "metadata": {},
   "source": [
    "<div style=\"position: relative;\">\n",
    "<img src=\"https://user-images.githubusercontent.com/7065401/98728503-5ab82f80-2378-11eb-9c79-adeb308fc647.png\"></img>\n",
    "\n",
    "<h1 style=\"color: white; position: absolute; top:27%; left:10%;\">\n",
    "    MySQL and MariaDB for Python Developers\n",
    "</h1>\n",
    "\n",
    "<h3 style=\"color: #ef7d22; font-weight: normal; position: absolute; top:55%; left:10%;\">\n",
    "    David Mertz, Ph.D.\n",
    "</h3>\n",
    "\n",
    "<h3 style=\"color: #ef7d22; font-weight: normal; position: absolute; top:62%; left:10%;\">\n",
    "    Data Scientist\n",
    "</h3>\n",
    "</div>"
   ]
  },
  {
   "cell_type": "markdown",
   "metadata": {},
   "source": [
    "# MySQL functions\n",
    "\n",
    "Within MySQL there are a large number of built-in functions.  As well, you may define your own user-defined functions.  In this lesson we also look at MySQL views, which work nicely with functions."
   ]
  },
  {
   "cell_type": "code",
   "execution_count": 1,
   "metadata": {},
   "outputs": [],
   "source": [
    "import mysql.connector\n",
    "cred = dict(user='ine_student', password='ine-password', database='ine', host='localhost')\n",
    "from collections import namedtuple\n",
    "\n",
    "conn = mysql.connector.connect(**cred)\n",
    "cur = conn.cursor()"
   ]
  },
  {
   "cell_type": "markdown",
   "metadata": {},
   "source": [
    "We will use small function presented in a prior lesson."
   ]
  },
  {
   "cell_type": "code",
   "execution_count": 2,
   "metadata": {},
   "outputs": [],
   "source": [
    "import pandas as pd\n",
    "def table_schema(table_name):\n",
    "    cur.execute(f\"SHOW columns FROM {table_name}\")\n",
    "    info_cols = [c[0] for c in cur.description]\n",
    "    schema = cur.fetchall()\n",
    "    df = pd.DataFrame(schema, columns=info_cols)\n",
    "    # Cleaner to show DataFrame with str rather than bytes\n",
    "    df['Type'] = df.Type.str.decode('utf-8')\n",
    "    # And nullable as Bool value\n",
    "    df['Null'] = df.Null == 'YES'\n",
    "    return df"
   ]
  },
  {
   "cell_type": "markdown",
   "metadata": {},
   "source": [
    "## Built-in functions\n",
    "\n",
    "The hundreds of functions available as built-ins in MySQL can be loosely broken out by the data type(s) they operate on.  For example, we have numeric functions like:\n",
    "\n",
    "* ABS(): Return the absolute value\n",
    "* CEIL(): Return the smallest integer value not less than the argument\n",
    "* COS(): Return the cosine\n",
    "* DEGREES(): Convert radians to degrees\n",
    "* LN(): Return the natural logarithm of the argument\n",
    "* MOD(): Return the remainder\n",
    "* SIGN(): Return the sign of the argument\n",
    "\n",
    "Other functions deal with string manipulation, or datetimes, regular expression matching, geometric functions, and others.  \n",
    "\n",
    "Another special kind of function is an aggregation that takes many inputs—typically the many values in a query column—and combines them into a single value.  Particularly notable among those are `COUNT()`, `AVG()`, `MIN()`, `MAX()`, and `SUM()`.  But more specialized ones like `VAR_POP()` (population variance) or `BIT_XOR()` are also available."
   ]
  },
  {
   "cell_type": "markdown",
   "metadata": {},
   "source": [
    "## User-defined functions\n",
    "\n",
    "MySQL allows you to write external functions in C or C++, and install them into a MySQL server.  Writing C/C++ code is outside the scope of this lesson.  If you happen to have functions you have written or obtained, installing them is simple, e.g.:\n",
    "\n",
    "```sql\n",
    "CREATE FUNCTION metaphon\n",
    "  RETURNS STRING\n",
    "  SONAME 'udf_example.so';\n",
    "```"
   ]
  },
  {
   "cell_type": "markdown",
   "metadata": {},
   "source": [
    "Let us show a MySQL function we can write purely in MySQL.  In earlier lessons, we created tables that have geographic information about United States zipcodes.  This version only stores `POINT` data, but has generated columns for `lat` and `lon`."
   ]
  },
  {
   "cell_type": "code",
   "execution_count": 3,
   "metadata": {},
   "outputs": [
    {
     "data": {
      "text/html": [
       "<div>\n",
       "<style scoped>\n",
       "    .dataframe tbody tr th:only-of-type {\n",
       "        vertical-align: middle;\n",
       "    }\n",
       "\n",
       "    .dataframe tbody tr th {\n",
       "        vertical-align: top;\n",
       "    }\n",
       "\n",
       "    .dataframe thead th {\n",
       "        text-align: right;\n",
       "    }\n",
       "</style>\n",
       "<table border=\"1\" class=\"dataframe\">\n",
       "  <thead>\n",
       "    <tr style=\"text-align: right;\">\n",
       "      <th></th>\n",
       "      <th>Field</th>\n",
       "      <th>Type</th>\n",
       "      <th>Null</th>\n",
       "      <th>Key</th>\n",
       "      <th>Default</th>\n",
       "      <th>Extra</th>\n",
       "    </tr>\n",
       "  </thead>\n",
       "  <tbody>\n",
       "    <tr>\n",
       "      <th>0</th>\n",
       "      <td>zipcode</td>\n",
       "      <td>char(5)</td>\n",
       "      <td>False</td>\n",
       "      <td>PRI</td>\n",
       "      <td>None</td>\n",
       "      <td></td>\n",
       "    </tr>\n",
       "    <tr>\n",
       "      <th>1</th>\n",
       "      <td>usps</td>\n",
       "      <td>text</td>\n",
       "      <td>True</td>\n",
       "      <td></td>\n",
       "      <td>None</td>\n",
       "      <td>VIRTUAL GENERATED</td>\n",
       "    </tr>\n",
       "    <tr>\n",
       "      <th>2</th>\n",
       "      <td>aland</td>\n",
       "      <td>bigint</td>\n",
       "      <td>True</td>\n",
       "      <td></td>\n",
       "      <td>None</td>\n",
       "      <td></td>\n",
       "    </tr>\n",
       "    <tr>\n",
       "      <th>3</th>\n",
       "      <td>awater</td>\n",
       "      <td>bigint</td>\n",
       "      <td>True</td>\n",
       "      <td></td>\n",
       "      <td>None</td>\n",
       "      <td></td>\n",
       "    </tr>\n",
       "    <tr>\n",
       "      <th>4</th>\n",
       "      <td>aland_sqmi</td>\n",
       "      <td>decimal(8,3)</td>\n",
       "      <td>True</td>\n",
       "      <td></td>\n",
       "      <td>None</td>\n",
       "      <td>VIRTUAL GENERATED</td>\n",
       "    </tr>\n",
       "    <tr>\n",
       "      <th>5</th>\n",
       "      <td>awater_sqmi</td>\n",
       "      <td>decimal(8,3)</td>\n",
       "      <td>True</td>\n",
       "      <td></td>\n",
       "      <td>None</td>\n",
       "      <td>VIRTUAL GENERATED</td>\n",
       "    </tr>\n",
       "    <tr>\n",
       "      <th>6</th>\n",
       "      <td>lat</td>\n",
       "      <td>double</td>\n",
       "      <td>True</td>\n",
       "      <td></td>\n",
       "      <td>None</td>\n",
       "      <td>VIRTUAL GENERATED</td>\n",
       "    </tr>\n",
       "    <tr>\n",
       "      <th>7</th>\n",
       "      <td>lon</td>\n",
       "      <td>double</td>\n",
       "      <td>True</td>\n",
       "      <td></td>\n",
       "      <td>None</td>\n",
       "      <td>VIRTUAL GENERATED</td>\n",
       "    </tr>\n",
       "    <tr>\n",
       "      <th>8</th>\n",
       "      <td>location</td>\n",
       "      <td>point</td>\n",
       "      <td>True</td>\n",
       "      <td></td>\n",
       "      <td>None</td>\n",
       "      <td></td>\n",
       "    </tr>\n",
       "  </tbody>\n",
       "</table>\n",
       "</div>"
      ],
      "text/plain": [
       "         Field          Type   Null  Key Default              Extra\n",
       "0      zipcode       char(5)  False  PRI    None                   \n",
       "1         usps          text   True         None  VIRTUAL GENERATED\n",
       "2        aland        bigint   True         None                   \n",
       "3       awater        bigint   True         None                   \n",
       "4   aland_sqmi  decimal(8,3)   True         None  VIRTUAL GENERATED\n",
       "5  awater_sqmi  decimal(8,3)   True         None  VIRTUAL GENERATED\n",
       "6          lat        double   True         None  VIRTUAL GENERATED\n",
       "7          lon        double   True         None  VIRTUAL GENERATED\n",
       "8     location         point   True         None                   "
      ]
     },
     "execution_count": 3,
     "metadata": {},
     "output_type": "execute_result"
    }
   ],
   "source": [
    "table_schema('census_zipcode_integrity')"
   ]
  },
  {
   "cell_type": "markdown",
   "metadata": {},
   "source": [
    "To define a UDF (user-defined function) we need to have administrative privileges.  Those have not been granted to the user `ine-student`, so as root I do the following in the MySLQ shell.  The specific math is not important, but the formula in `haversine()` is a standard way of measuring surface distances between latitude/longitude pairs."
   ]
  },
  {
   "cell_type": "markdown",
   "metadata": {},
   "source": [
    "```sql\n",
    "mysql> DROP FUNCTION IF EXISTS haversine;\n",
    "Query OK, 0 rows affected (0.02 sec)\n",
    "\n",
    "mysql> DELIMITER $$\n",
    "mysql> CREATE FUNCTION haversine(\n",
    "    ->         lat1 FLOAT, lon1 FLOAT,\n",
    "    ->         lat2 FLOAT, lon2 FLOAT\n",
    "    ->      ) RETURNS FLOAT\n",
    "    ->     NO SQL DETERMINISTIC\n",
    "    ->     COMMENT 'Returns the distance in degrees on the Earth\n",
    "    '>              between two known points of latitude and longitude'\n",
    "    -> BEGIN\n",
    "    ->     RETURN DEGREES(ACOS(\n",
    "    ->               COS(RADIANS(lat1)) *\n",
    "    ->               COS(RADIANS(lat2)) *\n",
    "    ->               COS(RADIANS(lon2) - RADIANS(lon1)) +\n",
    "    ->               SIN(RADIANS(lat1)) * SIN(RADIANS(lat2))\n",
    "    ->             ));\n",
    "    -> END$$\n",
    "Query OK, 0 rows affected (0.01 sec)\n",
    "\n",
    "mysql> DELIMITER ;\n",
    "```"
   ]
  },
  {
   "cell_type": "markdown",
   "metadata": {},
   "source": [
    "This used a little bit of special MySQL in temporarily redefining the delimiter from `;` because otherwise MySQL would take the end of the function line as the end of the SQL command.  If you have logged in as an administrator within Python, the delimiter issue should not matter via the DB-API interface.  By indicating that the function is `DETERMINISTIC` and `NO SQL` (does not make SQL queries internally), the optimizer can make it more efficient."
   ]
  },
  {
   "cell_type": "markdown",
   "metadata": {},
   "source": [
    "In an earlier lesson, we tried to find zip codes that are \"close\" to a given latitude and longitude.  However, as a compromise for that lesson, we simply used Cartesian distance with the Pythagorian formula.  On the surface of earth, this is wrong.\n",
    "\n",
    "We can use the MySQL function purely as a function.  For example:"
   ]
  },
  {
   "cell_type": "code",
   "execution_count": 4,
   "metadata": {},
   "outputs": [
    {
     "data": {
      "text/plain": [
       "(1.09535,)"
      ]
     },
     "execution_count": 4,
     "metadata": {},
     "output_type": "execute_result"
    }
   ],
   "source": [
    "mylat = 45.024212\n",
    "mylon = -69.289848\n",
    "cur.execute(\"SELECT haversine(%s, %s, 46, -70)\", (mylat, mylon))\n",
    "cur.fetchone()"
   ]
  },
  {
   "cell_type": "markdown",
   "metadata": {},
   "source": [
    "In contrast, here is the Pythagorian formula distance:"
   ]
  },
  {
   "cell_type": "code",
   "execution_count": 5,
   "metadata": {},
   "outputs": [
    {
     "data": {
      "text/plain": [
       "1.206846338208802"
      ]
     },
     "execution_count": 5,
     "metadata": {},
     "output_type": "execute_result"
    }
   ],
   "source": [
    "from math import sqrt\n",
    "def pythag(lat1, lon1, lat2, lon2):\n",
    "    return sqrt((lat1-lat2)**2 + (lon1-lon2)**2)\n",
    "\n",
    "pythag(mylat, mylon, 46, -70)"
   ]
  },
  {
   "cell_type": "markdown",
   "metadata": {},
   "source": [
    "Those are definitely different, but it gets more stark as the actual distance increases."
   ]
  },
  {
   "cell_type": "code",
   "execution_count": 6,
   "metadata": {},
   "outputs": [
    {
     "name": "stdout",
     "output_type": "stream",
     "text": [
      "Haversine: 39.2511\n",
      "Cartesian: 61.60215306370425\n"
     ]
    }
   ],
   "source": [
    "cur.execute(\"SELECT haversine(%s, %s, 80, -120)\", (mylat, mylon))\n",
    "print(\"Haversine:\", cur.fetchone()[0])\n",
    "print(\"Cartesian:\", pythag(mylat, mylon, 80, -120))"
   ]
  },
  {
   "cell_type": "markdown",
   "metadata": {},
   "source": [
    "Let us use the function to answer the question of \"what zip codes are near me\" more accurately than in the earlier lesson."
   ]
  },
  {
   "cell_type": "code",
   "execution_count": 7,
   "metadata": {},
   "outputs": [
    {
     "data": {
      "text/html": [
       "<div>\n",
       "<style scoped>\n",
       "    .dataframe tbody tr th:only-of-type {\n",
       "        vertical-align: middle;\n",
       "    }\n",
       "\n",
       "    .dataframe tbody tr th {\n",
       "        vertical-align: top;\n",
       "    }\n",
       "\n",
       "    .dataframe thead th {\n",
       "        text-align: right;\n",
       "    }\n",
       "</style>\n",
       "<table border=\"1\" class=\"dataframe\">\n",
       "  <thead>\n",
       "    <tr style=\"text-align: right;\">\n",
       "      <th></th>\n",
       "      <th>aland_sqmi</th>\n",
       "      <th>awater_sqmi</th>\n",
       "      <th>distance</th>\n",
       "    </tr>\n",
       "    <tr>\n",
       "      <th>zipcode</th>\n",
       "      <th></th>\n",
       "      <th></th>\n",
       "      <th></th>\n",
       "    </tr>\n",
       "  </thead>\n",
       "  <tbody>\n",
       "    <tr>\n",
       "      <th>04930</th>\n",
       "      <td>53.969</td>\n",
       "      <td>2.373</td>\n",
       "      <td>0.020158</td>\n",
       "    </tr>\n",
       "    <tr>\n",
       "      <th>04928</th>\n",
       "      <td>38.712</td>\n",
       "      <td>0.767</td>\n",
       "      <td>0.083780</td>\n",
       "    </tr>\n",
       "    <tr>\n",
       "      <th>04479</th>\n",
       "      <td>38.441</td>\n",
       "      <td>1.359</td>\n",
       "      <td>0.100014</td>\n",
       "    </tr>\n",
       "    <tr>\n",
       "      <th>04939</th>\n",
       "      <td>37.670</td>\n",
       "      <td>0.269</td>\n",
       "      <td>0.106723</td>\n",
       "    </tr>\n",
       "    <tr>\n",
       "      <th>04923</th>\n",
       "      <td>21.358</td>\n",
       "      <td>0.071</td>\n",
       "      <td>0.110290</td>\n",
       "    </tr>\n",
       "    <tr>\n",
       "      <th>...</th>\n",
       "      <td>...</td>\n",
       "      <td>...</td>\n",
       "      <td>...</td>\n",
       "    </tr>\n",
       "    <tr>\n",
       "      <th>96910</th>\n",
       "      <td>15.120</td>\n",
       "      <td>0.053</td>\n",
       "      <td>113.896000</td>\n",
       "    </tr>\n",
       "    <tr>\n",
       "      <th>96915</th>\n",
       "      <td>82.008</td>\n",
       "      <td>6.421</td>\n",
       "      <td>113.982000</td>\n",
       "    </tr>\n",
       "    <tr>\n",
       "      <th>96928</th>\n",
       "      <td>0.459</td>\n",
       "      <td>0.001</td>\n",
       "      <td>113.993000</td>\n",
       "    </tr>\n",
       "    <tr>\n",
       "      <th>96917</th>\n",
       "      <td>17.947</td>\n",
       "      <td>0.048</td>\n",
       "      <td>114.041000</td>\n",
       "    </tr>\n",
       "    <tr>\n",
       "      <th>96916</th>\n",
       "      <td>3.145</td>\n",
       "      <td>0.000</td>\n",
       "      <td>114.089000</td>\n",
       "    </tr>\n",
       "  </tbody>\n",
       "</table>\n",
       "<p>33144 rows × 3 columns</p>\n",
       "</div>"
      ],
      "text/plain": [
       "        aland_sqmi awater_sqmi    distance\n",
       "zipcode                                   \n",
       "04930       53.969       2.373    0.020158\n",
       "04928       38.712       0.767    0.083780\n",
       "04479       38.441       1.359    0.100014\n",
       "04939       37.670       0.269    0.106723\n",
       "04923       21.358       0.071    0.110290\n",
       "...            ...         ...         ...\n",
       "96910       15.120       0.053  113.896000\n",
       "96915       82.008       6.421  113.982000\n",
       "96928        0.459       0.001  113.993000\n",
       "96917       17.947       0.048  114.041000\n",
       "96916        3.145       0.000  114.089000\n",
       "\n",
       "[33144 rows x 3 columns]"
      ]
     },
     "execution_count": 7,
     "metadata": {},
     "output_type": "execute_result"
    }
   ],
   "source": [
    "sql_near = \"\"\"\n",
    "SELECT zipcode, aland_sqmi, awater_sqmi, \n",
    "       haversine(%s, %s, lat, lon) as distance\n",
    "FROM census_zipcode_integrity\n",
    "ORDER BY distance;\n",
    "\"\"\"\n",
    "cur.execute(sql_near, (mylat, mylon))\n",
    "pd.DataFrame(cur.fetchall(), \n",
    "             columns=[c[0] for c in cur.description]).set_index('zipcode')"
   ]
  },
  {
   "cell_type": "markdown",
   "metadata": {},
   "source": [
    "## Views\n",
    "\n",
    "A view is a virtualized table that is only generated when it is accessed.  Among other benefits, this lets us include function calls in queries without a user needing to think about those functions.  View are also commonly useful when they are the result of JOINs, GROUP BYs, subqueries, and other more complex constructions.  The user of the virtual table does not need to think about how it is constructed, just use it as if it were a simple table."
   ]
  },
  {
   "cell_type": "code",
   "execution_count": 8,
   "metadata": {},
   "outputs": [],
   "source": [
    "sql_hashes = \"\"\"\n",
    "CREATE OR REPLACE VIEW book_hashes (book_id, para_num, excerpt, sha1) AS \n",
    "SELECT book_id, para_num, left(para_text, 40), sha1(para_text)\n",
    "FROM books;\n",
    "\"\"\"\n",
    "cur.execute(sql_hashes)"
   ]
  },
  {
   "cell_type": "code",
   "execution_count": 9,
   "metadata": {},
   "outputs": [
    {
     "data": {
      "text/html": [
       "<div>\n",
       "<style scoped>\n",
       "    .dataframe tbody tr th:only-of-type {\n",
       "        vertical-align: middle;\n",
       "    }\n",
       "\n",
       "    .dataframe tbody tr th {\n",
       "        vertical-align: top;\n",
       "    }\n",
       "\n",
       "    .dataframe thead th {\n",
       "        text-align: right;\n",
       "    }\n",
       "</style>\n",
       "<table border=\"1\" class=\"dataframe\">\n",
       "  <thead>\n",
       "    <tr style=\"text-align: right;\">\n",
       "      <th></th>\n",
       "      <th>excerpt</th>\n",
       "      <th>sha1</th>\n",
       "    </tr>\n",
       "    <tr>\n",
       "      <th>para_num</th>\n",
       "      <th></th>\n",
       "      <th></th>\n",
       "    </tr>\n",
       "  </thead>\n",
       "  <tbody>\n",
       "    <tr>\n",
       "      <th>1000</th>\n",
       "      <td>The defects of written speech which have</td>\n",
       "      <td>cf84b2c5c56386d085ca15ea43483343627631ce</td>\n",
       "    </tr>\n",
       "    <tr>\n",
       "      <th>1001</th>\n",
       "      <td>The advantages of a fixed orthography ar</td>\n",
       "      <td>a1f30479d3dc089d8715f38fb55d8039afb1e5a6</td>\n",
       "    </tr>\n",
       "    <tr>\n",
       "      <th>1002</th>\n",
       "      <td>On the whole, it is true that the natura</td>\n",
       "      <td>9bdeefca3a7a7840f4a889327580e46107bdfa0a</td>\n",
       "    </tr>\n",
       "    <tr>\n",
       "      <th>1003</th>\n",
       "      <td>If we should institute a comparison betw</td>\n",
       "      <td>2cb0e4c5e0b73fe08c16d4865e209b895a827d48</td>\n",
       "    </tr>\n",
       "    <tr>\n",
       "      <th>1004</th>\n",
       "      <td>One of the most obvious difficulties tha</td>\n",
       "      <td>78c45a50080537d1db61d5f7458788abbdb07c73</td>\n",
       "    </tr>\n",
       "    <tr>\n",
       "      <th>...</th>\n",
       "      <td>...</td>\n",
       "      <td>...</td>\n",
       "    </tr>\n",
       "    <tr>\n",
       "      <th>1495</th>\n",
       "      <td>Gossip, 337</td>\n",
       "      <td>571ab80c4ae1ba77575e69dd3d598fc928c5d117</td>\n",
       "    </tr>\n",
       "    <tr>\n",
       "      <th>1496</th>\n",
       "      <td>Gradation of vowel-sound, effect of, o</td>\n",
       "      <td>5d6bc0d9ed2090dae4fbaa1dbe8f37ffb42948ae</td>\n",
       "    </tr>\n",
       "    <tr>\n",
       "      <th>1497</th>\n",
       "      <td>Grain, 44</td>\n",
       "      <td>02b86ddb759336158ec80540f5f5e4092da5a3d8</td>\n",
       "    </tr>\n",
       "    <tr>\n",
       "      <th>1498</th>\n",
       "      <td>Grammars, all incomplete, 6;\\n    histo</td>\n",
       "      <td>432dbad0941cbe7d19bf6719a23f36af95144560</td>\n",
       "    </tr>\n",
       "    <tr>\n",
       "      <th>1499</th>\n",
       "      <td>Grammatical analysis _v._ logical anal</td>\n",
       "      <td>b7f199b896b1a65dc9ed231538187cc3cdb6d43c</td>\n",
       "    </tr>\n",
       "  </tbody>\n",
       "</table>\n",
       "<p>500 rows × 2 columns</p>\n",
       "</div>"
      ],
      "text/plain": [
       "                                            excerpt  \\\n",
       "para_num                                              \n",
       "1000       The defects of written speech which have   \n",
       "1001       The advantages of a fixed orthography ar   \n",
       "1002       On the whole, it is true that the natura   \n",
       "1003       If we should institute a comparison betw   \n",
       "1004       One of the most obvious difficulties tha   \n",
       "...                                             ...   \n",
       "1495                                    Gossip, 337   \n",
       "1496         Gradation of vowel-sound, effect of, o   \n",
       "1497                                      Grain, 44   \n",
       "1498        Grammars, all incomplete, 6;\\n    histo   \n",
       "1499         Grammatical analysis _v._ logical anal   \n",
       "\n",
       "                                              sha1  \n",
       "para_num                                            \n",
       "1000      cf84b2c5c56386d085ca15ea43483343627631ce  \n",
       "1001      a1f30479d3dc089d8715f38fb55d8039afb1e5a6  \n",
       "1002      9bdeefca3a7a7840f4a889327580e46107bdfa0a  \n",
       "1003      2cb0e4c5e0b73fe08c16d4865e209b895a827d48  \n",
       "1004      78c45a50080537d1db61d5f7458788abbdb07c73  \n",
       "...                                            ...  \n",
       "1495      571ab80c4ae1ba77575e69dd3d598fc928c5d117  \n",
       "1496      5d6bc0d9ed2090dae4fbaa1dbe8f37ffb42948ae  \n",
       "1497      02b86ddb759336158ec80540f5f5e4092da5a3d8  \n",
       "1498      432dbad0941cbe7d19bf6719a23f36af95144560  \n",
       "1499      b7f199b896b1a65dc9ed231538187cc3cdb6d43c  \n",
       "\n",
       "[500 rows x 2 columns]"
      ]
     },
     "execution_count": 9,
     "metadata": {},
     "output_type": "execute_result"
    }
   ],
   "source": [
    "sql = \"\"\"\n",
    "SELECT para_num, excerpt, sha1 \n",
    "FROM book_hashes \n",
    "ORDER BY para_num\n",
    "LIMIT 500\n",
    "OFFSET 1000;\n",
    "\"\"\"\n",
    "cur.execute(sql)\n",
    "pd.DataFrame(cur.fetchall(), \n",
    "             columns=[c[0] for c in cur.description]).set_index('para_num')"
   ]
  },
  {
   "cell_type": "markdown",
   "metadata": {},
   "source": [
    "## Summary"
   ]
  },
  {
   "cell_type": "markdown",
   "metadata": {},
   "source": [
    "Custom functions and can be a powerful enhancement to those MySQL provides.  Combining these with views can provide a simple face to quite complex underlying queries and synthesis of data."
   ]
  }
 ],
 "metadata": {
  "kernelspec": {
   "display_name": "Python 3",
   "language": "python",
   "name": "python3"
  },
  "language_info": {
   "codemirror_mode": {
    "name": "ipython",
    "version": 3
   },
   "file_extension": ".py",
   "mimetype": "text/x-python",
   "name": "python",
   "nbconvert_exporter": "python",
   "pygments_lexer": "ipython3",
   "version": "3.8.2"
  }
 },
 "nbformat": 4,
 "nbformat_minor": 4
}
