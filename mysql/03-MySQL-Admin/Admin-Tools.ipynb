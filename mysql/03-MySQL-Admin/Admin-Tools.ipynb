{
 "cells": [
  {
   "cell_type": "markdown",
   "metadata": {},
   "source": [
    "<div style=\"position: relative;\">\n",
    "<img src=\"https://user-images.githubusercontent.com/7065401/98728503-5ab82f80-2378-11eb-9c79-adeb308fc647.png\"></img>\n",
    "\n",
    "<h1 style=\"color: white; position: absolute; top:27%; left:10%;\">\n",
    "    MySQL and MariaDB for Python Developers\n",
    "</h1>\n",
    "\n",
    "<h3 style=\"color: #ef7d22; font-weight: normal; position: absolute; top:55%; left:10%;\">\n",
    "    David Mertz, Ph.D.\n",
    "</h3>\n",
    "\n",
    "<h3 style=\"color: #ef7d22; font-weight: normal; position: absolute; top:62%; left:10%;\">\n",
    "    Data Scientist\n",
    "</h3>\n",
    "</div>"
   ]
  },
  {
   "cell_type": "markdown",
   "metadata": {},
   "source": [
    "# MySQL Administration Tools\n",
    "\n",
    "In concept, you could do all of your MySQL administration via Python commands through an adapter. Everything that can be configured can be configured via SQL commands.  Most likely, however, you would find this unecessarily cumbersome; using native administration tools is easier for most tasks."
   ]
  },
  {
   "cell_type": "markdown",
   "metadata": {},
   "source": [
    "Administration tools may be either command-line—i.e. the `mysql` administration tool—or GUI tools.  Although the tool MySQL Workbench (https://www.mysql.com/products/workbench/) is developed by Oracle, who holds the MySQL copyright, it is not the dominant tool in the way the the roughly corresponding tool `pgAdmin` is for PostgreSQL.  However, MySQL Workbench is flexible and free..\n",
    "\n",
    "A number of commercial tools exist that either focus on MySQL specifically, or generically interact with many RDBMS servers.  In the Free Software world, phpMyAdmin (https://www.phpmyadmin.net/) is quite capable.  Although, as the name suggests, the tool is written in PHP and exposed via a web interface, you do not need to know or use PHP code to use it.  HeidiSQL (https://www.heidisql.com/) is a similar tool, as in OmniDB (https://omnidb.org/)."
   ]
  },
  {
   "cell_type": "markdown",
   "metadata": {},
   "source": [
    "Each of the GUI tools have their own advantages and disadvantages, but in general they all look fairly similar and have largely the same capabilities. The one we will present in this lesson is DBeaver (https://dbeaver.io/).  Of all the tools, this is probably compatible with the largest number of database systems, both relational and NoSQL style ones."
   ]
  },
  {
   "cell_type": "markdown",
   "metadata": {},
   "source": [
    "---\n",
    "\n",
    "We will talk a bit about DBeaver in this lesson, but the greater part will be spent on mysql because command-line tools enable better reproducibility and can be scripted more easily."
   ]
  },
  {
   "cell_type": "markdown",
   "metadata": {},
   "source": [
    "## DBeaver\n",
    "\n",
    "Rather than walk through numerous screenshots, I will perform a few simple tasks within the DBeaver interface.\n",
    "\n",
    "* Create a new connection to MySQL `ine` database\n",
    "* Select the `ine` database\n",
    "* Unfold the tree to identify the Tables within it\n",
    "* View the table `census_zipcode_geography`\n",
    "* Look at Properties tab (schema)\n",
    "* Look at Data tab\n",
    "* Filter for AWATER_SQMI > 200\n",
    "* Sort by zipcode using column header icon\n",
    "* Show adding selection using column header icon\n",
    "* Use the SQL Editor to run:\n",
    "```sql\n",
    "SELECT usps  \n",
    "FROM census_zipcode_geography \n",
    "WHERE awater_sqmi > (SELECT avg(aland_sqmi) \n",
    "                     FROM census_zipcode_geography)\n",
    "AND aland_sqmi > (SELECT avg(awater_sqmi)\n",
    "                  FROM census_zipcode_geography)\n",
    "ORDER BY awater_sqmi + aland_sqmi\n",
    "LIMIT 1000;\n",
    "```\n",
    "* Present the graphical explanation of the query plan using side tab\n",
    "* Look at the statistics for the query plan"
   ]
  },
  {
   "cell_type": "markdown",
   "metadata": {},
   "source": [
    "## mysql command line\n",
    "\n",
    "As with the GUI tool, a walk through of using `mysql` will make its usage much more clear than simply capturing screenshots or text portions of the interface."
   ]
  },
  {
   "cell_type": "markdown",
   "metadata": {},
   "source": [
    "**Configure the command-line tools**\n",
    "\n",
    "```bash\n",
    "mysql_config_editor set --login-path=client --host=localhost --user=ine_student --password\n",
    "mysql_config_editor print --all\n",
    "mysqldump ine users\n",
    "mysql_config_editor set --login-path=mysqldump --host=localhost --user=ine_student --password\n",
    "mysql_config_editor print --all\n",
    "cat ~/.mylogin.cnf\n",
    "```"
   ]
  },
  {
   "cell_type": "markdown",
   "metadata": {},
   "source": [
    "**Working with tools**\n",
    "\n",
    "```bash\n",
    "mysqldump ine users\n",
    "mysql ine\n",
    "mysql> help\n",
    "mysql> help contents\n",
    "mysql> help datatypes\n",
    "mysql> help bigint\n",
    "mysql> SHOW DATABASES;\n",
    "mysql> SHOW TABLES;\n",
    "mysql> DESCRIBE Tweets;\n",
    "mysql> SELECT * FROM Tweets LIMIT 2;\n",
    "mysql> SELECT * FROM Tweets LIMIT 2\\G\n",
    "\n",
    "```"
   ]
  },
  {
   "cell_type": "markdown",
   "metadata": {},
   "source": [
    "**Perform the nested query in the GUI example**\n",
    "\n",
    "```sql\n",
    "SELECT usps  \n",
    "FROM census_zipcode_geography \n",
    "WHERE awater_sqmi > (SELECT avg(aland_sqmi) \n",
    "                   FROM census_zipcode_geography)\n",
    "AND aland_sqmi > (SELECT avg(awater_sqmi)\n",
    "                FROM census_zipcode_geography)\n",
    "ORDER BY awater_sqmi + aland_sqmi\n",
    "LIMIT 1000;\n",
    "\n",
    "EXPLAIN SELECT usps  \n",
    "FROM census_zipcode_geography \n",
    "WHERE awater_sqmi > (SELECT avg(aland_sqmi) \n",
    "                   FROM census_zipcode_geography)\n",
    "AND aland_sqmi > (SELECT avg(awater_sqmi)\n",
    "                FROM census_zipcode_geography)\n",
    "ORDER BY awater_sqmi + aland_sqmi\n",
    "LIMIT 1000\\G\n",
    "\n",
    "EXPLAIN ANALYZE SELECT usps  \n",
    "FROM census_zipcode_geography \n",
    "WHERE awater_sqmi > (SELECT avg(aland_sqmi) \n",
    "                   FROM census_zipcode_geography)\n",
    "AND aland_sqmi > (SELECT avg(awater_sqmi)\n",
    "                FROM census_zipcode_geography)\n",
    "ORDER BY awater_sqmi + aland_sqmi\n",
    "LIMIT 1000\\G\n",
    "```"
   ]
  },
  {
   "cell_type": "markdown",
   "metadata": {},
   "source": [
    "**Create an index on areas**\n",
    "\n",
    "```sql\n",
    "CREATE INDEX water_sqmi ON census_zipcode_geography (awater_sqmi);\n",
    "CREATE INDEX land_sqmi ON census_zipcode_geography (aland_sqmi);\n",
    "SHOW INDEXES FROM census_zipcode_geography\\G\n",
    "\n",
    "EXPLAIN ANALYZE SELECT usps  \n",
    "FROM census_zipcode_geography \n",
    "WHERE awater_sqmi > (SELECT avg(aland_sqmi) \n",
    "                   FROM census_zipcode_geography)\n",
    "AND aland_sqmi > (SELECT avg(awater_sqmi)\n",
    "                FROM census_zipcode_geography)\n",
    "ORDER BY awater_sqmi + aland_sqmi\n",
    "LIMIT 1000\\G\n",
    "```"
   ]
  },
  {
   "cell_type": "markdown",
   "metadata": {},
   "source": [
    "**Client as tool in pipes**\n",
    "\n",
    "Using `mysql` is perhaps most powerful when you can use it as a scripting engine to pass along SQL from a file or from STDIN. \n",
    "\n",
    "We might run a query from the shell (perhaps piping or redirecting the response).  By default, `mysql` produces tab separated results, which are easy to process with other tools."
   ]
  },
  {
   "cell_type": "code",
   "execution_count": 1,
   "metadata": {},
   "outputs": [
    {
     "name": "stdout",
     "output_type": "stream",
     "text": [
      "user_id\tusername\tpassword\tage\tcreated_on\n",
      "1\tAlice\tbad_pw_1\t37\t2021-01-09 22:19:03\n",
      "2\tBob\tbad_pw_2\tNULL\t2021-01-09 22:19:03\n",
      "3\tCarlos\tbad_pw_3\t62\t2021-01-09 22:19:03\n",
      "10\tSybil\tM7c&sd31&0hA\t44\t2021-01-09 22:32:16\n",
      "11\tTrudy\ty9bD6SA2O%$t\t22\t2021-01-09 22:32:16\n",
      "12\tVanna\t9$Ts9HK*3!tR\t55\t2021-01-09 22:32:16\n"
     ]
    }
   ],
   "source": [
    "!echo \"SELECT * FROM users;\" | mysql ine"
   ]
  },
  {
   "cell_type": "markdown",
   "metadata": {},
   "source": [
    "If you would like more formatted results, the switches `--html` and `--table` are availabe."
   ]
  },
  {
   "cell_type": "code",
   "execution_count": 2,
   "metadata": {},
   "outputs": [
    {
     "name": "stdout",
     "output_type": "stream",
     "text": [
      "+---------+----------+--------------+------+---------------------+\n",
      "| user_id | username | password     | age  | created_on          |\n",
      "+---------+----------+--------------+------+---------------------+\n",
      "|       1 | Alice    | bad_pw_1     |   37 | 2021-01-09 22:19:03 |\n",
      "|       2 | Bob      | bad_pw_2     | NULL | 2021-01-09 22:19:03 |\n",
      "|       3 | Carlos   | bad_pw_3     |   62 | 2021-01-09 22:19:03 |\n",
      "|      10 | Sybil    | M7c&sd31&0hA |   44 | 2021-01-09 22:32:16 |\n",
      "|      11 | Trudy    | y9bD6SA2O%$t |   22 | 2021-01-09 22:32:16 |\n",
      "|      12 | Vanna    | 9$Ts9HK*3!tR |   55 | 2021-01-09 22:32:16 |\n",
      "+---------+----------+--------------+------+---------------------+\n"
     ]
    }
   ],
   "source": [
    "!echo \"SELECT * FROM users;\" | mysql --table ine"
   ]
  }
 ],
 "metadata": {
  "kernelspec": {
   "display_name": "Python 3",
   "language": "python",
   "name": "python3"
  },
  "language_info": {
   "codemirror_mode": {
    "name": "ipython",
    "version": 3
   },
   "file_extension": ".py",
   "mimetype": "text/x-python",
   "name": "python",
   "nbconvert_exporter": "python",
   "pygments_lexer": "ipython3",
   "version": "3.8.2"
  }
 },
 "nbformat": 4,
 "nbformat_minor": 4
}
