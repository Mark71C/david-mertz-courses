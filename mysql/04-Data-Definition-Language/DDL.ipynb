{
 "cells": [
  {
   "cell_type": "markdown",
   "metadata": {},
   "source": [
    "<div style=\"position: relative;\">\n",
    "<img src=\"https://user-images.githubusercontent.com/7065401/98728503-5ab82f80-2378-11eb-9c79-adeb308fc647.png\"></img>\n",
    "\n",
    "<h1 style=\"color: white; position: absolute; top:27%; left:10%;\">\n",
    "    MySQL and MariaDB for Python Developers\n",
    "</h1>\n",
    "\n",
    "<h3 style=\"color: #ef7d22; font-weight: normal; position: absolute; top:55%; left:10%;\">\n",
    "    David Mertz, Ph.D.\n",
    "</h3>\n",
    "\n",
    "<h3 style=\"color: #ef7d22; font-weight: normal; position: absolute; top:62%; left:10%;\">\n",
    "    Data Scientist\n",
    "</h3>\n",
    "</div>"
   ]
  },
  {
   "cell_type": "markdown",
   "metadata": {},
   "source": [
    "# MySQL Data Definition Language\n",
    "\n",
    "Various RDBMSs implement languages close to official SQL specifications, but rarely either a strict superset nor a strict subset of actual specs.  It is complicated further by the fact that SQL specs include SQL-86, SQL-89, SQL-92, SQL:1999, SQL:2003, SQL:2006, SQL:2008, SQL:2011, and SQL:2016.  Each of these are different, not only by adding features but also sometimes deprecating them or changing spelling.\n",
    "\n",
    "In other words, while most data definition commands you will use in MySQL are mostly similar to the equivalent commands in other RDBMSs, the equivalence is not precise.  MySQL supports a large number of data definition commands (all SQL-like); this lesson will highlight some particularly commonly used ones."
   ]
  },
  {
   "cell_type": "markdown",
   "metadata": {},
   "source": [
    "## CREATE, DROP, ALTER\n",
    "\n",
    "The basic verbs for working with *data* in MySQL are SELECT, INSERT, UPDATE, DELETE, and perhaps TRUNCATE.  The first of those does not actually change data, just retrieve it.  But the verbs of the MySQL data definitions language (DDL) are CREATE, DROP, and ALTER.  GRANT is borderline, but possibly worth including as DDL.  These affect the *shape* of data rather than the content as such; however, many changes to shape by implication change underlying data globally (such as by removing it, or by changing its data type)."
   ]
  },
  {
   "cell_type": "markdown",
   "metadata": {},
   "source": [
    "Each regular DDL verb is followed by a noun, and usually by some additional qualifiers.  For example, we can DROP the following objects:\n",
    "\n",
    "\n",
    "| Objects       | Objects       | Objects      \n",
    "|:--------------|:--------------|:--------------\n",
    "| DATABASE      | EVENT         | FUNCTION\n",
    "| FUNCTION UDF  | INDEX         | PREPARE\n",
    "| PROCEDURE     | RESOURCE GROUP| ROLE\n",
    "| SCHEMA        | SERVER        | SPATIAL REFERENCE SYSTEM\n",
    "| TABLE         | TABLESPACE    | TRIGGER\n",
    "| USER          | VIEW"
   ]
  },
  {
   "cell_type": "markdown",
   "metadata": {},
   "source": [
    "Most of those same things can be CREATE'd or ALTER'd.  All of these are useful, of course, but USER/ROLE, TABLE, DATABASE, and INDEX are those you will use during typical database configuration.\n",
    "\n",
    "Although the steps in this lesson are ones you would typically perform in an administration interface, let us work within the notebook, and using a `mysql.connector` connection."
   ]
  },
  {
   "cell_type": "code",
   "execution_count": 1,
   "metadata": {},
   "outputs": [],
   "source": [
    "import mysql.connector \n",
    "user = 'ine_student'\n",
    "pwd = 'ine-password'\n",
    "host = 'localhost'\n",
    "port = '3306'\n",
    "db = 'ine'\n",
    "\n",
    "conn = mysql.connector.connect(database=db, host=host, user=user, password=pwd, port=port)\n",
    "cur = conn.cursor()"
   ]
  },
  {
   "cell_type": "markdown",
   "metadata": {},
   "source": [
    "## Refactoring tables\n",
    "\n",
    "Let us recall the definition of the `census_zipcode_geography` table.  It has some flaws we can improve.  We might define a simple function to view table definitions from Python."
   ]
  },
  {
   "cell_type": "code",
   "execution_count": 2,
   "metadata": {},
   "outputs": [],
   "source": [
    "def table_schema(table_name):\n",
    "    import pandas as pd\n",
    "    cur.execute(f\"SHOW columns FROM {table_name}\")\n",
    "    info_cols = [c[0] for c in cur.description]\n",
    "    schema = cur.fetchall()\n",
    "    df = pd.DataFrame(schema, columns=info_cols)\n",
    "    # Cleaner to show DataFrame with str rather than bytes\n",
    "    df['Type'] = df.Type.str.decode('utf-8')\n",
    "    # And nullable as Bool value\n",
    "    df['Null'] = df.Null == 'YES'\n",
    "    return df"
   ]
  },
  {
   "cell_type": "markdown",
   "metadata": {},
   "source": [
    "Viewing the table, we can see significant redundancy.  `awater` and `aland` express the same quantity as `awater_sqmi` and `aland_sqmi`, respectively, only in different units (square meters versus square miles).  Moreover, `location` is simply a combination of `intptlat` and `intptlong`.  Not only does this waste storage space, it could potentially lead to inconsistencies in the data."
   ]
  },
  {
   "cell_type": "code",
   "execution_count": 3,
   "metadata": {},
   "outputs": [
    {
     "data": {
      "text/html": [
       "<div>\n",
       "<style scoped>\n",
       "    .dataframe tbody tr th:only-of-type {\n",
       "        vertical-align: middle;\n",
       "    }\n",
       "\n",
       "    .dataframe tbody tr th {\n",
       "        vertical-align: top;\n",
       "    }\n",
       "\n",
       "    .dataframe thead th {\n",
       "        text-align: right;\n",
       "    }\n",
       "</style>\n",
       "<table border=\"1\" class=\"dataframe\">\n",
       "  <thead>\n",
       "    <tr style=\"text-align: right;\">\n",
       "      <th></th>\n",
       "      <th>Field</th>\n",
       "      <th>Type</th>\n",
       "      <th>Null</th>\n",
       "      <th>Key</th>\n",
       "      <th>Default</th>\n",
       "      <th>Extra</th>\n",
       "    </tr>\n",
       "  </thead>\n",
       "  <tbody>\n",
       "    <tr>\n",
       "      <th>0</th>\n",
       "      <td>USPS</td>\n",
       "      <td>char(5)</td>\n",
       "      <td>False</td>\n",
       "      <td>PRI</td>\n",
       "      <td>None</td>\n",
       "      <td></td>\n",
       "    </tr>\n",
       "    <tr>\n",
       "      <th>1</th>\n",
       "      <td>ALAND</td>\n",
       "      <td>bigint</td>\n",
       "      <td>True</td>\n",
       "      <td></td>\n",
       "      <td>None</td>\n",
       "      <td></td>\n",
       "    </tr>\n",
       "    <tr>\n",
       "      <th>2</th>\n",
       "      <td>AWATER</td>\n",
       "      <td>bigint</td>\n",
       "      <td>True</td>\n",
       "      <td></td>\n",
       "      <td>None</td>\n",
       "      <td></td>\n",
       "    </tr>\n",
       "    <tr>\n",
       "      <th>3</th>\n",
       "      <td>ALAND_SQMI</td>\n",
       "      <td>decimal(8,3)</td>\n",
       "      <td>True</td>\n",
       "      <td></td>\n",
       "      <td>None</td>\n",
       "      <td></td>\n",
       "    </tr>\n",
       "    <tr>\n",
       "      <th>4</th>\n",
       "      <td>AWATER_SQMI</td>\n",
       "      <td>decimal(8,3)</td>\n",
       "      <td>True</td>\n",
       "      <td></td>\n",
       "      <td>None</td>\n",
       "      <td></td>\n",
       "    </tr>\n",
       "    <tr>\n",
       "      <th>5</th>\n",
       "      <td>INTPTLAT</td>\n",
       "      <td>double</td>\n",
       "      <td>True</td>\n",
       "      <td></td>\n",
       "      <td>None</td>\n",
       "      <td></td>\n",
       "    </tr>\n",
       "    <tr>\n",
       "      <th>6</th>\n",
       "      <td>INTPTLONG</td>\n",
       "      <td>double</td>\n",
       "      <td>True</td>\n",
       "      <td></td>\n",
       "      <td>None</td>\n",
       "      <td></td>\n",
       "    </tr>\n",
       "    <tr>\n",
       "      <th>7</th>\n",
       "      <td>location</td>\n",
       "      <td>point</td>\n",
       "      <td>True</td>\n",
       "      <td></td>\n",
       "      <td>None</td>\n",
       "      <td></td>\n",
       "    </tr>\n",
       "  </tbody>\n",
       "</table>\n",
       "</div>"
      ],
      "text/plain": [
       "         Field          Type   Null  Key Default Extra\n",
       "0         USPS       char(5)  False  PRI    None      \n",
       "1        ALAND        bigint   True         None      \n",
       "2       AWATER        bigint   True         None      \n",
       "3   ALAND_SQMI  decimal(8,3)   True         None      \n",
       "4  AWATER_SQMI  decimal(8,3)   True         None      \n",
       "5     INTPTLAT        double   True         None      \n",
       "6    INTPTLONG        double   True         None      \n",
       "7     location         point   True         None      "
      ]
     },
     "execution_count": 3,
     "metadata": {},
     "output_type": "execute_result"
    }
   ],
   "source": [
    "table_schema('census_zipcode_geography')"
   ]
  },
  {
   "cell_type": "markdown",
   "metadata": {},
   "source": [
    "## Generated columns\n",
    "\n",
    "Suppose we with to emulate initial `census_zipcode_geography` table, but enforce data integrity among columns.  We might define a new table as:"
   ]
  },
  {
   "cell_type": "code",
   "execution_count": 4,
   "metadata": {},
   "outputs": [],
   "source": [
    "sql_geography = \"\"\"\n",
    "CREATE TABLE census_zipcode_integrity (\n",
    "  zipcode CHAR(5),\n",
    "  usps TEXT AS (zipcode),     -- Compatible with queries using old name\n",
    "  aland BIGINT,               -- m^2 \n",
    "  awater BIGINT,\n",
    "  aland_sqmi DECIMAL(8, 3) AS (aland / 2589988.1103), \n",
    "  awater_sqmi DECIMAL(8, 3) AS (awater / 2589988.1103),\n",
    "  lat DOUBLE AS (ST_X(location)),\n",
    "  lon DOUBLE AS (ST_Y(location)),\n",
    "  location POINT,              -- use geometric type for lat/lon\n",
    "  PRIMARY KEY (zipcode)  \n",
    ");\n",
    "\"\"\"\n",
    "cur.execute('DROP TABLE IF EXISTS census_zipcode_integrity')\n",
    "cur.execute(sql_geography)\n",
    "conn.commit()"
   ]
  },
  {
   "cell_type": "markdown",
   "metadata": {},
   "source": [
    "Let us insert an invented data row to demonstrate.  Notice that the MySQL `POINT` type is a binary representation that we need special functions to parse into more usable numbers (as the generated columns do for us)."
   ]
  },
  {
   "cell_type": "code",
   "execution_count": 5,
   "metadata": {},
   "outputs": [
    {
     "name": "stdout",
     "output_type": "stream",
     "text": [
      "{'aland': 25000000,\n",
      " 'aland_sqmi': Decimal('9.653'),\n",
      " 'awater': 10000000,\n",
      " 'awater_sqmi': Decimal('3.861'),\n",
      " 'lat': 37.1,\n",
      " 'location': bytearray(b'\\x00\\x00\\x00\\x00\\x01\\x01\\x00\\x00\\x00\\xcd\\xcc\\xcc'\n",
      "                       b'\\xcc\\xcc\\x8cB@\\xcd\\xcc\\xcc\\xcc\\xcc\\xecW\\xc0'),\n",
      " 'lon': -95.7,\n",
      " 'usps': '99999',\n",
      " 'zipcode': '99999'}\n"
     ]
    }
   ],
   "source": [
    "from pprint import pprint\n",
    "sql_99999 = \"\"\"\n",
    "INSERT INTO census_zipcode_integrity (zipcode, aland, awater, location)\n",
    "VALUES (99999, 25000000, 10000000, POINT (37.1, -95.7))\n",
    "\"\"\"\n",
    "try:\n",
    "    cur.execute(sql_99999)\n",
    "except Exception as err:\n",
    "    # If we've already inserted it, just show message\n",
    "    print(err)\n",
    "\n",
    "cur.execute(\"SELECT * FROM census_zipcode_integrity WHERE zipcode='99999';\")\n",
    "for row in cur:\n",
    "    pprint(dict(zip((c[0] for c in cur.description), row)))\n",
    "\n",
    "# Don't actually keep this data\n",
    "conn.rollback()"
   ]
  },
  {
   "cell_type": "markdown",
   "metadata": {},
   "source": [
    "We can copy over the non-generated data into the new table."
   ]
  },
  {
   "cell_type": "code",
   "execution_count": 6,
   "metadata": {},
   "outputs": [],
   "source": [
    "sql_copy_zips = \"\"\"\n",
    "INSERT INTO census_zipcode_integrity (zipcode, aland, awater, location)\n",
    "SELECT usps, aland, awater, location FROM census_zipcode_geography;\n",
    "\"\"\"\n",
    "cur.execute(sql_copy_zips)\n",
    "conn.commit()"
   ]
  },
  {
   "cell_type": "markdown",
   "metadata": {},
   "source": [
    "The census bureau provides the data as both square meters and square miles.  It appears that in 123 of the 33,144 rows, their conversion was not identical to ours.  Whether this matters is a domain judgement."
   ]
  },
  {
   "cell_type": "code",
   "execution_count": 7,
   "metadata": {},
   "outputs": [
    {
     "name": "stdout",
     "output_type": "stream",
     "text": [
      "('00685', Decimal('77.532'), Decimal('77.533'))\n",
      "('03741', Decimal('76.932'), Decimal('76.933'))\n",
      "('06074', Decimal('28.055'), Decimal('28.056'))\n",
      "('13656', Decimal('85.074'), Decimal('85.075'))\n",
      "('14454', Decimal('50.623'), Decimal('50.624'))\n",
      "('20106', Decimal('60.225'), Decimal('60.226'))\n",
      "('24018', Decimal('45.385'), Decimal('45.386'))\n",
      "('24426', Decimal('332.864'), Decimal('332.865'))\n",
      "Total rows: 123\n"
     ]
    }
   ],
   "source": [
    "cur.execute(\"\"\"\n",
    "  SELECT new.zipcode, new.aland_sqmi as converted, old.aland_sqmi reported\n",
    "  FROM census_zipcode_geography old\n",
    "  JOIN census_zipcode_integrity new\n",
    "  ON (old.usps = new.zipcode)\n",
    "  WHERE new.aland_sqmi != old.aland_sqmi;\"\"\")\n",
    "\n",
    "rows = cur.fetchall()\n",
    "for row in rows[:8]:\n",
    "    print(row)\n",
    "print(\"Total rows:\", len(rows))"
   ]
  },
  {
   "cell_type": "markdown",
   "metadata": {},
   "source": [
    "## Altering tables\n",
    "\n",
    "We have copied data from some tables into related tables to refactor the data organization.  We can also change tables in place.  This should be done with caution, since some such alterations will lose information.  In many cases, we can make alterations such as changing to a compatible data type or adding columns, without harming existing data.\n",
    "\n",
    "Recall the simple table that records long descriptions of zipcode field keys:"
   ]
  },
  {
   "cell_type": "code",
   "execution_count": 8,
   "metadata": {},
   "outputs": [
    {
     "data": {
      "text/html": [
       "<div>\n",
       "<style scoped>\n",
       "    .dataframe tbody tr th:only-of-type {\n",
       "        vertical-align: middle;\n",
       "    }\n",
       "\n",
       "    .dataframe tbody tr th {\n",
       "        vertical-align: top;\n",
       "    }\n",
       "\n",
       "    .dataframe thead th {\n",
       "        text-align: right;\n",
       "    }\n",
       "</style>\n",
       "<table border=\"1\" class=\"dataframe\">\n",
       "  <thead>\n",
       "    <tr style=\"text-align: right;\">\n",
       "      <th></th>\n",
       "      <th>Field</th>\n",
       "      <th>Type</th>\n",
       "      <th>Null</th>\n",
       "      <th>Key</th>\n",
       "      <th>Default</th>\n",
       "      <th>Extra</th>\n",
       "    </tr>\n",
       "  </thead>\n",
       "  <tbody>\n",
       "    <tr>\n",
       "      <th>0</th>\n",
       "      <td>fieldname</td>\n",
       "      <td>varchar(15)</td>\n",
       "      <td>False</td>\n",
       "      <td>PRI</td>\n",
       "      <td>None</td>\n",
       "      <td></td>\n",
       "    </tr>\n",
       "    <tr>\n",
       "      <th>1</th>\n",
       "      <td>description</td>\n",
       "      <td>text</td>\n",
       "      <td>True</td>\n",
       "      <td></td>\n",
       "      <td>None</td>\n",
       "      <td></td>\n",
       "    </tr>\n",
       "  </tbody>\n",
       "</table>\n",
       "</div>"
      ],
      "text/plain": [
       "         Field         Type   Null  Key Default Extra\n",
       "0    fieldname  varchar(15)  False  PRI    None      \n",
       "1  description         text   True         None      "
      ]
     },
     "execution_count": 8,
     "metadata": {},
     "output_type": "execute_result"
    }
   ],
   "source": [
    "conn = mysql.connector.connect(database=db, host=host, user=user, password=pwd, port=port)\n",
    "cur = conn.cursor()\n",
    "table_schema(\"census_zipcode_fields\")"
   ]
  },
  {
   "cell_type": "code",
   "execution_count": 9,
   "metadata": {},
   "outputs": [],
   "source": [
    "sql_new = \"\"\"\n",
    "CREATE TABLE zipcode_fields_altered\n",
    "SELECT * FROM census_zipcode_fields;\n",
    "\"\"\"\n",
    "cur.execute(\"DROP TABLE IF EXISTS zipcode_fields_altered\")\n",
    "cur.execute(sql_new)\n",
    "conn.commit()"
   ]
  },
  {
   "cell_type": "code",
   "execution_count": 10,
   "metadata": {},
   "outputs": [],
   "source": [
    "sql_refcol = \"\"\"\n",
    "ALTER TABLE zipcode_fields_altered\n",
    "ADD reference CHAR(50) DEFAULT 'https://www.census.gov/data/tables.html';\n",
    "\"\"\"\n",
    "cur.execute(sql_refcol)\n",
    "conn.commit()"
   ]
  },
  {
   "cell_type": "code",
   "execution_count": 11,
   "metadata": {},
   "outputs": [
    {
     "data": {
      "text/plain": [
       "[('ALAND',\n",
       "  'Land Area (square meters) - Created for statistical purposes only',\n",
       "  'https://www.census.gov/data/tables.html'),\n",
       " ('ALAND_SQMI',\n",
       "  'Land Area (square miles) - Created for statistical purposes only',\n",
       "  'https://www.census.gov/data/tables.html'),\n",
       " ('AWATER',\n",
       "  'Water Area (square meters) - Created for statistical purposes only',\n",
       "  'https://www.census.gov/data/tables.html')]"
      ]
     },
     "execution_count": 11,
     "metadata": {},
     "output_type": "execute_result"
    }
   ],
   "source": [
    "cur.execute('SELECT * FROM zipcode_fields_altered LIMIT 3;')\n",
    "cur.fetchall()"
   ]
  },
  {
   "cell_type": "markdown",
   "metadata": {},
   "source": [
    "## Summary\n",
    "\n",
    "We looked here at highlights of the MySQL DDL.  Various other elements of it are shown in other lessons, both before and after this one.\n",
    "\n",
    "In the next lesson we look at data types available for MySQL."
   ]
  }
 ],
 "metadata": {
  "kernelspec": {
   "display_name": "Python 3",
   "language": "python",
   "name": "python3"
  },
  "language_info": {
   "codemirror_mode": {
    "name": "ipython",
    "version": 3
   },
   "file_extension": ".py",
   "mimetype": "text/x-python",
   "name": "python",
   "nbconvert_exporter": "python",
   "pygments_lexer": "ipython3",
   "version": "3.8.2"
  }
 },
 "nbformat": 4,
 "nbformat_minor": 4
}
