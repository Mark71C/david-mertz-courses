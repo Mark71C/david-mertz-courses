{
  "nbformat": 4,
  "nbformat_minor": 0,
  "metadata": {
    "kernelspec": {
      "name": "python3",
      "display_name": "Python 3"
    },
    "colab": {
      "name": "Kopie van Project.ipynb",
      "provenance": [],
      "include_colab_link": true
    }
  },
  "cells": [
    {
      "cell_type": "markdown",
      "metadata": {
        "id": "view-in-github",
        "colab_type": "text"
      },
      "source": [
        "<a href=\"https://colab.research.google.com/github/Mark71C/david-mertz-courses/blob/master/Kopie_van_Project.ipynb\" target=\"_parent\"><img src=\"https://colab.research.google.com/assets/colab-badge.svg\" alt=\"Open In Colab\"/></a>"
      ]
    },
    {
      "cell_type": "markdown",
      "metadata": {
        "id": "3bAjs0lUoLMQ"
      },
      "source": [
        "![ine-divider](https://user-images.githubusercontent.com/7065401/92672068-398e8080-f2ee-11ea-82d6-ad53f7feb5c0.png)\n",
        "<hr>\n",
        "\n",
        "# Bash Scripting for Data Scientists\n",
        "\n",
        "This project will have somewhat unusual requirements among INE data science courses.  Most such projects ask you to complete cells in a notebook such as this.  However, working with the command line necessarily is about the command line, not notebooks.  \n",
        "\n",
        "There *does* exist a bash kernel for Jupyter, which this notebook is saved as indicating.  However, the kinds of interactivity you have at a shell are much different than those that can exist in a notebook.  However, you *can* run bash commands if you install that Jupyter kernel. E.g.:"
      ]
    },
    {
      "cell_type": "code",
      "metadata": {
        "colab": {
          "base_uri": "https://localhost:8080/",
          "height": 129
        },
        "id": "RQwBeBFOoLMX",
        "outputId": "de001a28-50cc-47b1-aac6-4b838527e03a"
      },
      "source": [
        "chmod +x hi"
      ],
      "execution_count": 9,
      "outputs": [
        {
          "output_type": "error",
          "ename": "SyntaxError",
          "evalue": "ignored",
          "traceback": [
            "\u001b[0;36m  File \u001b[0;32m\"<ipython-input-9-8305eae43e0a>\"\u001b[0;36m, line \u001b[0;32m1\u001b[0m\n\u001b[0;31m    chmod +x hi\u001b[0m\n\u001b[0m              ^\u001b[0m\n\u001b[0;31mSyntaxError\u001b[0m\u001b[0;31m:\u001b[0m invalid syntax\n"
          ]
        }
      ]
    },
    {
      "cell_type": "markdown",
      "metadata": {
        "id": "BB5PRjdBoLMY"
      },
      "source": [
        "![orange-divider](https://user-images.githubusercontent.com/7065401/92672455-187a5f80-f2ef-11ea-890c-40be9474f7b7.png)"
      ]
    },
    {
      "cell_type": "markdown",
      "metadata": {
        "id": "Otl2WxaRoLMZ"
      },
      "source": [
        "## Part 1\n",
        "\n",
        "**File operations at the shell**\n",
        "\n",
        "For this task, accomplish a series of things at the command line.\n",
        "\n",
        "* Create a working directory as a child of your home directory, called `ine-practice/`.\n",
        "* Switch to that directory.\n",
        "* Create the following file, named `hi`, inside that directory using an editor of your choice (don't worry that the contents probably do not make sense to you):\n",
        "\n",
        "```bash\n",
        "#!/bin/bash\n",
        "if [ -z \"$1\" ]; then\n",
        "    echo \"Hello Student!\"\n",
        "else\n",
        "    echo \"Hello $1\"\n",
        "fi\n",
        "```\n",
        "\n",
        "* Make that file executable.\n",
        "* Make the timestamp on that file be 5 days ago.\n",
        "* Verify the timestamp is set as you wish.\n",
        "* Change back to your home directory.\n",
        "* Run `ine-practice/hi [myname]`.  You should see a greeting addressed to you."
      ]
    },
    {
      "cell_type": "markdown",
      "metadata": {
        "id": "KGgp2d8CoLMZ"
      },
      "source": [
        "![orange-divider](https://user-images.githubusercontent.com/7065401/92672455-187a5f80-f2ef-11ea-890c-40be9474f7b7.png)\n",
        "\n",
        "## Part 2\n",
        "\n",
        "**Terminal operations**\n",
        "\n",
        "* Customize your terminal prompt. Try to make it resemble this one (I'm writing the example just after midnight):\n",
        "\n",
        "```\n",
        "(00:11) INE Student dmertz... \n",
        "```\n",
        "\n",
        "* For extra credit, see if you can figure out how to make it look like this:\n",
        "\n",
        "```\n",
        "[117×57 console] ~/ine-practice: \n",
        "```\n",
        "\n",
        "* Find the path to the `less` executable on your system.\n",
        "* Allow your prompt to locate the program you created in first part.  You should be able to run `hi Student` at the command line now.\n",
        "* Find the path to the `hi` executable on your system.\n",
        "* Display the first line of the manual for `chmod`, which will resemble this:\n",
        "\n",
        "```\n",
        "CHMOD(1)                User Commands               CHMOD(1)\n",
        "```\n"
      ]
    },
    {
      "cell_type": "markdown",
      "metadata": {
        "id": "lAkZJKheoLMa"
      },
      "source": [
        "![orange-divider](https://user-images.githubusercontent.com/7065401/92672455-187a5f80-f2ef-11ea-890c-40be9474f7b7.png)\n",
        "\n",
        "## Part 3\n",
        "\n",
        "**Affordances**\n",
        "\n",
        "* Practice identifying and using commands in you history.  For example, recall your setting of your custom prompt, and modify it slightly to suit you.\n",
        "* Practice editing past commands, substituting different command switches."
      ]
    },
    {
      "cell_type": "markdown",
      "metadata": {
        "id": "ZpjTvTlOoLMa"
      },
      "source": [
        "![orange-divider](https://user-images.githubusercontent.com/7065401/92672455-187a5f80-f2ef-11ea-890c-40be9474f7b7.png)"
      ]
    }
  ]
}