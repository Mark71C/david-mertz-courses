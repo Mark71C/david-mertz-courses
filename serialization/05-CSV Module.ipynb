{
 "cells": [
  {
   "cell_type": "markdown",
   "metadata": {
    "slideshow": {
     "slide_type": "slide"
    }
   },
   "source": [
    "# Reading CSV with Standard Library\n",
    "\n",
    "Python provides a module in its standard library for reading and writing CSV or other delimited files.  It can be tempting to create or read such files using only Python's powerful string manipulation functionality.  Indeed, the author of this tutorial has done so far more often than he wishes to admit; however, it is a mistake to eschew the `csv` module which simply deals with many edge cases that are easy to overlook in quick scripts."
   ]
  },
  {
   "cell_type": "markdown",
   "metadata": {
    "slideshow": {
     "slide_type": "fragment"
    }
   },
   "source": [
    "Let us start out by loading a few Python standard library modules that this lesson will utilize."
   ]
  },
  {
   "cell_type": "code",
   "execution_count": 1,
   "metadata": {
    "slideshow": {
     "slide_type": "fragment"
    }
   },
   "outputs": [],
   "source": [
    "import csv\n",
    "from pprint import pprint"
   ]
  },
  {
   "cell_type": "markdown",
   "metadata": {
    "slideshow": {
     "slide_type": "slide"
    }
   },
   "source": [
    "# Doing it Wrong\n",
    "\n",
    "In Python, the string methods `.split()` and `.join()` do 90% of what we need to in working with CSV.  The problem is, they do not do the other 10%.  Let's try a naive approach that goes bad."
   ]
  },
  {
   "cell_type": "code",
   "execution_count": 2,
   "metadata": {
    "slideshow": {
     "slide_type": "fragment"
    }
   },
   "outputs": [],
   "source": [
    "fields = [\"Name\",\"Evaluation\",\"Age\"]\n",
    "data = [\n",
    "    [\"Mia Johnson\", \"The movie was excellent\", 25],\n",
    "    [\"Liam Lopez\", \"Didn't really like it\", 35],\n",
    "    [\"Isabella Lee\", \"Wow! That was great\", 45]\n",
    "]"
   ]
  },
  {
   "cell_type": "markdown",
   "metadata": {
    "slideshow": {
     "slide_type": "fragment"
    }
   },
   "source": [
    "This is unremarkable data about several movie evaluations.  Let us try to serialize it."
   ]
  },
  {
   "cell_type": "code",
   "execution_count": 3,
   "metadata": {
    "slideshow": {
     "slide_type": "fragment"
    }
   },
   "outputs": [
    {
     "name": "stdout",
     "output_type": "stream",
     "text": [
      "sequence item 2: expected str instance, int found\n"
     ]
    }
   ],
   "source": [
    "with open('data/movie.csv', 'w') as movie:\n",
    "    try:\n",
    "        print(\",\".join(fields), file=movie)\n",
    "        for record in data:\n",
    "            print(\",\".join(record), file=movie)\n",
    "    except Exception as err:\n",
    "        print(err)"
   ]
  },
  {
   "cell_type": "markdown",
   "metadata": {
    "slideshow": {
     "slide_type": "subslide"
    }
   },
   "source": [
    "It is easy to see what went wrong.  The `.join()` method needs only strings in the iterable argument.  We can fix that fairly easily.  Python knows how to *stringify* all its objects."
   ]
  },
  {
   "cell_type": "code",
   "execution_count": 4,
   "metadata": {
    "slideshow": {
     "slide_type": "fragment"
    }
   },
   "outputs": [],
   "source": [
    "with open('data/movie.csv', 'w') as movie:\n",
    "    try:\n",
    "        print(\",\".join(fields), file=movie)\n",
    "        for record in data:\n",
    "            print(\",\".join(str(r) for r in record), file=movie)\n",
    "    except Exception as err:\n",
    "        print(err)"
   ]
  },
  {
   "cell_type": "markdown",
   "metadata": {
    "slideshow": {
     "slide_type": "fragment"
    }
   },
   "source": [
    "Success! At least for now. Perhaps we want to read it back as a list of dictionaries."
   ]
  },
  {
   "cell_type": "code",
   "execution_count": 5,
   "metadata": {
    "slideshow": {
     "slide_type": "fragment"
    }
   },
   "outputs": [
    {
     "name": "stdout",
     "output_type": "stream",
     "text": [
      "[{'Age\\n': '25\\n',\n",
      "  'Evaluation': 'The movie was excellent',\n",
      "  'Name': 'Mia Johnson'},\n",
      " {'Age\\n': '35\\n', 'Evaluation': \"Didn't really like it\", 'Name': 'Liam Lopez'},\n",
      " {'Age\\n': '45\\n', 'Evaluation': 'Wow! That was great', 'Name': 'Isabella Lee'}]\n"
     ]
    }
   ],
   "source": [
    "with open('data/movie.csv') as movie:\n",
    "    newdata = []\n",
    "    keys = next(movie).split(',') # Header\n",
    "    for line in movie:\n",
    "        newdata.append(dict(zip(keys, line.split(','))))\n",
    "    \n",
    "pprint(newdata)"
   ]
  },
  {
   "cell_type": "markdown",
   "metadata": {
    "slideshow": {
     "slide_type": "subslide"
    }
   },
   "source": [
    "We did *pretty well*.  However, the last field of header and data have a trailing newline chacter we do not really want.  We can strip that, but other problems still arise."
   ]
  },
  {
   "cell_type": "code",
   "execution_count": 6,
   "metadata": {
    "slideshow": {
     "slide_type": "fragment"
    }
   },
   "outputs": [
    {
     "name": "stdout",
     "output_type": "stream",
     "text": [
      "[{'Age': '25', 'Evaluation': 'The movie was excellent', 'Name': 'Mia Johnson'},\n",
      " {'Age': '35', 'Evaluation': \"Didn't really like it\", 'Name': 'Liam Lopez'},\n",
      " {'Age': '45', 'Evaluation': 'Wow! That was great', 'Name': 'Isabella Lee'}]\n"
     ]
    }
   ],
   "source": [
    "with open('data/movie.csv') as movie:\n",
    "    newdata = []\n",
    "    line = next(movie).rstrip()  # Header\n",
    "    keys = line.split(',') \n",
    "    for line in movie:\n",
    "        line = line.rstrip()\n",
    "        newdata.append(dict(zip(keys, line.split(','))))\n",
    "    \n",
    "pprint(newdata)"
   ]
  },
  {
   "cell_type": "markdown",
   "metadata": {
    "slideshow": {
     "slide_type": "fragment"
    }
   },
   "source": [
    "So far, our ad hoc reader and writer behave well enough."
   ]
  },
  {
   "cell_type": "markdown",
   "metadata": {
    "slideshow": {
     "slide_type": "subslide"
    }
   },
   "source": [
    "Let us add an additional record and try again."
   ]
  },
  {
   "cell_type": "code",
   "execution_count": 7,
   "metadata": {
    "slideshow": {
     "slide_type": "fragment"
    }
   },
   "outputs": [],
   "source": [
    "new_eval = [\"Olivia Gupta\", \"Meh, not my thing\", 55]\n",
    "data.append(new_eval)\n",
    "\n",
    "with open('data/movie.csv', 'w') as movie:\n",
    "    try:\n",
    "        print(\",\".join(fields), file=movie)\n",
    "        for record in data:\n",
    "            print(\",\".join(str(r) for r in record), file=movie)\n",
    "    except Exception as err:\n",
    "        print(err)"
   ]
  },
  {
   "cell_type": "markdown",
   "metadata": {
    "slideshow": {
     "slide_type": "fragment"
    }
   },
   "source": [
    "We can see that something is going to go wrong when a field can legitimately contain the delimiter."
   ]
  },
  {
   "cell_type": "code",
   "execution_count": 8,
   "metadata": {
    "slideshow": {
     "slide_type": "fragment"
    }
   },
   "outputs": [
    {
     "name": "stdout",
     "output_type": "stream",
     "text": [
      "Name,Evaluation,Age\r\n",
      "Mia Johnson,The movie was excellent,25\r\n",
      "Liam Lopez,Didn't really like it,35\r\n",
      "Isabella Lee,Wow! That was great,45\r\n",
      "Olivia Gupta,Meh, not my thing,55\r\n"
     ]
    }
   ],
   "source": [
    "!cat data/movie.csv"
   ]
  },
  {
   "cell_type": "markdown",
   "metadata": {
    "slideshow": {
     "slide_type": "subslide"
    }
   },
   "source": [
    "Let's use the idential ad hoc reader to read the data on disk again."
   ]
  },
  {
   "cell_type": "code",
   "execution_count": 9,
   "metadata": {
    "slideshow": {
     "slide_type": "fragment"
    }
   },
   "outputs": [
    {
     "name": "stdout",
     "output_type": "stream",
     "text": [
      "[{'Age': '25', 'Evaluation': 'The movie was excellent', 'Name': 'Mia Johnson'},\n",
      " {'Age': '35', 'Evaluation': \"Didn't really like it\", 'Name': 'Liam Lopez'},\n",
      " {'Age': '45', 'Evaluation': 'Wow! That was great', 'Name': 'Isabella Lee'},\n",
      " {'Age': ' not my thing', 'Evaluation': 'Meh', 'Name': 'Olivia Gupta'}]\n"
     ]
    }
   ],
   "source": [
    "with open('data/movie.csv') as movie:\n",
    "    newdata = []\n",
    "    line = next(movie).rstrip()\n",
    "    keys = line.split(',') # Header\n",
    "    for line in movie:\n",
    "        line = line.rstrip()\n",
    "        newdata.append(dict(zip(keys, line.split(','))))\n",
    "    \n",
    "pprint(newdata)"
   ]
  },
  {
   "cell_type": "markdown",
   "metadata": {
    "slideshow": {
     "slide_type": "fragment"
    }
   },
   "source": [
    "As written, nothing crashed.  But we also get data in the wrong fields sometimes. Another likely problem is handling embedded newlines in strings; a few other edge cases also occur. We could complicate matters with some additional code, and eventually get it right.  But the Python standard library does that for us."
   ]
  },
  {
   "cell_type": "markdown",
   "metadata": {
    "slideshow": {
     "slide_type": "slide"
    }
   },
   "source": [
    "# The `csv` Module\n",
    "\n",
    "In the basic case, using the `csv` module gives us a largely file-like interface.  It merely handles a few things that can go wrong automatically."
   ]
  },
  {
   "cell_type": "code",
   "execution_count": 10,
   "metadata": {
    "slideshow": {
     "slide_type": "fragment"
    }
   },
   "outputs": [
    {
     "name": "stdout",
     "output_type": "stream",
     "text": [
      "Name,Evaluation,Age\r",
      "\r\n",
      "Mia Johnson,The movie was excellent,25\r",
      "\r\n",
      "Liam Lopez,Didn't really like it,35\r",
      "\r\n",
      "Isabella Lee,Wow! That was great,45\r",
      "\r\n",
      "Olivia Gupta,\"Meh, not my thing\",55\r",
      "\r\n"
     ]
    }
   ],
   "source": [
    "with open('data/movies.csv', 'w') as fh:\n",
    "    movies = csv.writer(fh, quoting=csv.QUOTE_MINIMAL)\n",
    "    for record in [fields]+data:\n",
    "        movies.writerow(record)\n",
    "        \n",
    "!cat data/movies.csv"
   ]
  },
  {
   "cell_type": "markdown",
   "metadata": {
    "slideshow": {
     "slide_type": "fragment"
    }
   },
   "source": [
    "Reading the data back is similar, with quoting and escaping handled properly."
   ]
  },
  {
   "cell_type": "code",
   "execution_count": 11,
   "metadata": {
    "slideshow": {
     "slide_type": "fragment"
    }
   },
   "outputs": [
    {
     "name": "stdout",
     "output_type": "stream",
     "text": [
      "['Name', 'Evaluation', 'Age']\n",
      "['Mia Johnson', 'The movie was excellent', '25']\n",
      "['Liam Lopez', \"Didn't really like it\", '35']\n",
      "['Isabella Lee', 'Wow! That was great', '45']\n",
      "['Olivia Gupta', 'Meh, not my thing', '55']\n"
     ]
    }
   ],
   "source": [
    "with open('data/movies.csv') as fh:\n",
    "    movies = csv.reader(fh)\n",
    "    for record in movies:\n",
    "        print(record)"
   ]
  },
  {
   "cell_type": "markdown",
   "metadata": {
    "slideshow": {
     "slide_type": "subslide"
    }
   },
   "source": [
    "## Data Typing\n",
    "\n",
    "Unlike some other tools, the standard library `csv` module makes little attempt to impose datatypes.  During writing, it will, of course, stringify objects that are not strings.  It usually leaves the decision of casting to other types up to the programmer.  "
   ]
  },
  {
   "cell_type": "code",
   "execution_count": 12,
   "metadata": {
    "slideshow": {
     "slide_type": "fragment"
    }
   },
   "outputs": [
    {
     "name": "stdout",
     "output_type": "stream",
     "text": [
      "\"Name\",\"Evaluation\",\"Age\"\r",
      "\r\n",
      "\"Mia Johnson\",\"The movie was excellent\",25\r",
      "\r\n",
      "\"Liam Lopez\",\"Didn't really like it\",35\r",
      "\r\n",
      "\"Isabella Lee\",\"Wow! That was great\",45\r",
      "\r\n",
      "\"Olivia Gupta\",\"Meh, not my thing\",55\r",
      "\r\n"
     ]
    }
   ],
   "source": [
    "with open('data/movies.csv', 'w') as fh:\n",
    "    movies = csv.writer(fh, quoting=csv.QUOTE_NONNUMERIC)\n",
    "    for record in [fields]+data:\n",
    "        movies.writerow(record)\n",
    "        \n",
    "!cat data/movies.csv"
   ]
  },
  {
   "cell_type": "markdown",
   "metadata": {
    "slideshow": {
     "slide_type": "fragment"
    }
   },
   "source": [
    "The `csv` module provides a limited option to quote all strings and to infer that anything unquoted is a number instead.  The numeric type used is always a floating point for this rule.  If you wish to read in an int, or a Decimal or Fraction, or another numeric type, you still need to write more custom code."
   ]
  },
  {
   "cell_type": "code",
   "execution_count": 13,
   "metadata": {
    "slideshow": {
     "slide_type": "fragment"
    }
   },
   "outputs": [
    {
     "name": "stdout",
     "output_type": "stream",
     "text": [
      "['Name', 'Evaluation', 'Age']\n",
      "['Mia Johnson', 'The movie was excellent', 25.0]\n",
      "['Liam Lopez', \"Didn't really like it\", 35.0]\n",
      "['Isabella Lee', 'Wow! That was great', 45.0]\n",
      "['Olivia Gupta', 'Meh, not my thing', 55.0]\n"
     ]
    }
   ],
   "source": [
    "with open('data/movies.csv') as fh:\n",
    "    movies = csv.reader(fh, quoting=csv.QUOTE_NONNUMERIC)\n",
    "    for record in movies:\n",
    "        print(record)"
   ]
  },
  {
   "cell_type": "code",
   "execution_count": null,
   "metadata": {},
   "outputs": [],
   "source": []
  }
 ],
 "metadata": {
  "celltoolbar": "Slideshow",
  "kernelspec": {
   "display_name": "Python 3",
   "language": "python",
   "name": "python3"
  },
  "language_info": {
   "codemirror_mode": {
    "name": "ipython",
    "version": 3
   },
   "file_extension": ".py",
   "mimetype": "text/x-python",
   "name": "python",
   "nbconvert_exporter": "python",
   "pygments_lexer": "ipython3",
   "version": "3.8.2"
  }
 },
 "nbformat": 4,
 "nbformat_minor": 4
}
