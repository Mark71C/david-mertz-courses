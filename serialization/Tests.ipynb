{
 "cells": [
  {
   "cell_type": "markdown",
   "metadata": {},
   "source": [
    "# 01 Pickle"
   ]
  },
  {
   "cell_type": "code",
   "execution_count": 1,
   "metadata": {},
   "outputs": [],
   "source": [
    "# Setup\n",
    "import pickle\n",
    "from datetime import datetime"
   ]
  },
  {
   "cell_type": "code",
   "execution_count": 2,
   "metadata": {},
   "outputs": [],
   "source": [
    "# Solution part 1\n",
    "from urllib.request import urlopen\n",
    "from tempfile import TemporaryFile\n",
    "\n",
    "tmp = TemporaryFile('w+b')\n",
    "web = urlopen('http://example.com')\n",
    "anon = lambda: None\n",
    "\n",
    "unpickle = [tmp, web, anon]"
   ]
  },
  {
   "cell_type": "code",
   "execution_count": 3,
   "metadata": {},
   "outputs": [],
   "source": [
    "# Solution part 2\n",
    "class Person:\n",
    "    \"Plain class that holds file descriptor\"\n",
    "    def __init__(self, name, address, favorite_color):\n",
    "        self.name = name\n",
    "        self.address = address\n",
    "        self.favorite_color = favorite_color\n",
    "        self.created_at = datetime.now()\n",
    "\n",
    "    def __setstate__(self, data):\n",
    "        self.__dict__ = data\n",
    "        self.created_at = datetime.now()\n",
    "        \n",
    "person = Person('David', '45 Main St', 'Red')"
   ]
  },
  {
   "cell_type": "markdown",
   "metadata": {},
   "source": [
    "## Tests"
   ]
  },
  {
   "cell_type": "code",
   "execution_count": 4,
   "metadata": {},
   "outputs": [],
   "source": [
    "def test_listed_types():\n",
    "    from itertools import combinations\n",
    "    assert len(unpickle) >= 3, \"Provide at least 3 objects\"\n",
    "    for (a, b) in combinations(unpickle, 2):\n",
    "        assert not issubclass(type(a), type(b)), \\\n",
    "            f\"issubclass({a}, {b}) not permitted\"\n",
    "        assert not issubclass(type(b), type(a)), \\\n",
    "            f\"issubclass({b}, {a}) not permitted\"\n",
    "        \n",
    "test_listed_types()"
   ]
  },
  {
   "cell_type": "code",
   "execution_count": 5,
   "metadata": {},
   "outputs": [],
   "source": [
    "def test_pickle_failure():\n",
    "    for obj in unpickle:\n",
    "        pickled = False\n",
    "        try:\n",
    "            pkl = pickle.dumps(obj)\n",
    "            pickled = True\n",
    "        except:\n",
    "            pass\n",
    "            \n",
    "        if pickled:\n",
    "            assert False, f\"{repr(obj)} should not be pickleable\"\n",
    "\n",
    "            \n",
    "test_pickle_failure()"
   ]
  },
  {
   "cell_type": "code",
   "execution_count": 6,
   "metadata": {},
   "outputs": [],
   "source": [
    "def test_person_attributes():\n",
    "    assert hasattr(person, 'name')\n",
    "    assert hasattr(person, 'address')\n",
    "    assert hasattr(person, 'favorite_color')\n",
    "    assert hasattr(person, 'created_at')\n",
    "    assert isinstance(person.created_at, datetime)\n",
    "\n",
    "test_person_attributes()"
   ]
  },
  {
   "cell_type": "code",
   "execution_count": 7,
   "metadata": {},
   "outputs": [],
   "source": [
    "def test_deserialize():\n",
    "    pkl = pickle.dumps(person)\n",
    "    t1 = datetime.now()\n",
    "    new = pickle.loads(pkl)\n",
    "    t2 = datetime.now()\n",
    "    assert person.created_at < t1 < new.created_at < t2, \\\n",
    "        \"Time must be refreshed when record is deserialized\"\n",
    "    assert person.name == new.name\n",
    "    assert person.address == new.address\n",
    "    assert person.favorite_color == new.favorite_color\n",
    "    \n",
    "test_deserialize()"
   ]
  },
  {
   "cell_type": "markdown",
   "metadata": {},
   "source": [
    "# 02 Basic JSON"
   ]
  },
  {
   "cell_type": "code",
   "execution_count": null,
   "metadata": {},
   "outputs": [],
   "source": []
  }
 ],
 "metadata": {
  "kernelspec": {
   "display_name": "Python 3",
   "language": "python",
   "name": "python3"
  },
  "language_info": {
   "codemirror_mode": {
    "name": "ipython",
    "version": 3
   },
   "file_extension": ".py",
   "mimetype": "text/x-python",
   "name": "python",
   "nbconvert_exporter": "python",
   "pygments_lexer": "ipython3",
   "version": "3.8.2"
  }
 },
 "nbformat": 4,
 "nbformat_minor": 4
}
