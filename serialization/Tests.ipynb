{
 "cells": [
  {
   "cell_type": "markdown",
   "metadata": {},
   "source": [
    "# 01 Pickle"
   ]
  },
  {
   "cell_type": "code",
   "execution_count": 1,
   "metadata": {},
   "outputs": [],
   "source": [
    "# Setup\n",
    "import pickle\n",
    "from datetime import datetime"
   ]
  },
  {
   "cell_type": "code",
   "execution_count": 2,
   "metadata": {},
   "outputs": [],
   "source": [
    "# Solution part 1\n",
    "from urllib.request import urlopen\n",
    "from tempfile import TemporaryFile\n",
    "\n",
    "tmp = TemporaryFile('w+b')\n",
    "web = urlopen('http://example.com')\n",
    "anon = lambda: None\n",
    "\n",
    "unpickle = [tmp, web, anon]"
   ]
  },
  {
   "cell_type": "code",
   "execution_count": 3,
   "metadata": {},
   "outputs": [],
   "source": [
    "# Solution part 2\n",
    "class Person:\n",
    "    \"Plain class that holds file descriptor\"\n",
    "    def __init__(self, name, address, favorite_color):\n",
    "        self.name = name\n",
    "        self.address = address\n",
    "        self.favorite_color = favorite_color\n",
    "        self.created_at = datetime.now()\n",
    "\n",
    "    def __setstate__(self, data):\n",
    "        self.__dict__ = data\n",
    "        self.created_at = datetime.now()\n",
    "        \n",
    "person =  Person('David', '45 Main St', \"Red\")"
   ]
  },
  {
   "cell_type": "markdown",
   "metadata": {},
   "source": [
    "## Tests"
   ]
  },
  {
   "cell_type": "code",
   "execution_count": 4,
   "metadata": {},
   "outputs": [],
   "source": [
    "def test_listed_types():\n",
    "    from itertools import combinations\n",
    "    assert len(unpickle) >= 3, \"Provide at least 3 objects\"\n",
    "    for (a, b) in combinations(unpickle, 2):\n",
    "        assert not issubclass(type(a), type(b)), \\\n",
    "            f\"issubclass({a}, {b}) not permitted\"\n",
    "        assert not issubclass(type(b), type(a)), \\\n",
    "            f\"issubclass({b}, {a}) not permitted\"\n",
    "        \n",
    "test_listed_types()"
   ]
  },
  {
   "cell_type": "code",
   "execution_count": 5,
   "metadata": {},
   "outputs": [],
   "source": [
    "def test_pickle_failure():\n",
    "    for obj in unpickle:\n",
    "        pickled = False\n",
    "        try:\n",
    "            pkl = pickle.dumps(obj)\n",
    "            pickled = True\n",
    "        except:\n",
    "            pass\n",
    "            \n",
    "        if pickled:\n",
    "            assert False, f\"{repr(obj)} should not be pickleable\"\n",
    "\n",
    "            \n",
    "test_pickle_failure()"
   ]
  },
  {
   "cell_type": "code",
   "execution_count": 6,
   "metadata": {},
   "outputs": [],
   "source": [
    "def test_person_attributes():\n",
    "    assert hasattr(person, 'name')\n",
    "    assert hasattr(person, 'address')\n",
    "    assert hasattr(person, 'favorite_color')\n",
    "    assert hasattr(person, 'created_at')\n",
    "    assert isinstance(person.created_at, datetime)\n",
    "\n",
    "test_person_attributes()"
   ]
  },
  {
   "cell_type": "code",
   "execution_count": 7,
   "metadata": {},
   "outputs": [],
   "source": [
    "def test_deserialize():\n",
    "    pkl = pickle.dumps(person)\n",
    "    t1 = datetime.now()\n",
    "    new = pickle.loads(pkl)\n",
    "    t2 = datetime.now()\n",
    "    assert person.created_at < t1 < new.created_at < t2, \\\n",
    "        \"Time must be refreshed when record is deserialized\"\n",
    "    assert person.name == new.name\n",
    "    assert person.address == new.address\n",
    "    assert person.favorite_color == new.favorite_color\n",
    "    \n",
    "test_deserialize()"
   ]
  },
  {
   "cell_type": "markdown",
   "metadata": {},
   "source": [
    "# 02 Basic JSON"
   ]
  },
  {
   "cell_type": "code",
   "execution_count": 8,
   "metadata": {},
   "outputs": [],
   "source": [
    "# Setup\n",
    "import json\n",
    "\n",
    "class Person:\n",
    "    def __init__(self, name=None, address=None, \n",
    "                       favorite_color=None):\n",
    "        self.name = name\n",
    "        self.address = address\n",
    "        self.favorite_color = favorite_color\n",
    "        \n",
    "    def toJSON(self):\n",
    "        return \"JSON string here\"\n",
    "    \n",
    "    def fromJSON(self, jstr):\n",
    "        return \"Return new instance\"\n",
    "\n",
    "Red = \"Red\"\n",
    "person =  Person('David', '45 Main St', Red)"
   ]
  },
  {
   "cell_type": "code",
   "execution_count": 9,
   "metadata": {},
   "outputs": [],
   "source": [
    "bad_json = \"\"\"\n",
    "{\"name\": \"David\",\n",
    " \"address\": '45 Main St',\n",
    " \"favorite_color\": Red,\n",
    "}\n",
    "\"\"\"\n",
    "good_json = bad_json"
   ]
  },
  {
   "cell_type": "code",
   "execution_count": 10,
   "metadata": {},
   "outputs": [],
   "source": [
    "# Solution part 1\n",
    "good_json = \"\"\"\n",
    "{\"name\": \"David\",\n",
    " \"address\": \"45 Main St\",\n",
    " \"favorite_color\": \"Red\"\n",
    "}\n",
    "\"\"\""
   ]
  },
  {
   "cell_type": "code",
   "execution_count": 11,
   "metadata": {},
   "outputs": [],
   "source": [
    "# Solution part 2\n",
    "_Person = Person\n",
    "\n",
    "class Person(_Person):\n",
    "    def toJSON(self):\n",
    "        return json.dumps(self.__dict__)\n",
    "    \n",
    "    def fromJSON(self, jstr):\n",
    "        new = self.__class__()\n",
    "        new.__dict__ = json.loads(jstr)\n",
    "        return new\n",
    "    \n",
    "person =  Person('David', '45 Main St', Red)"
   ]
  },
  {
   "cell_type": "markdown",
   "metadata": {},
   "source": [
    "## Tests"
   ]
  },
  {
   "cell_type": "code",
   "execution_count": 12,
   "metadata": {},
   "outputs": [],
   "source": [
    "def test_json_fixed():\n",
    "    try:\n",
    "        person = json.loads(good_json)\n",
    "    except:\n",
    "        person = dict()\n",
    "    assert set(person.keys()) == {'name', 'address', 'favorite_color'}\n",
    "    assert person.get('name') == 'David'\n",
    "    assert person.get('address') == \"45 Main St\"\n",
    "    assert person.get('favorite_color') == Red\n",
    "    \n",
    "test_json_fixed()"
   ]
  },
  {
   "cell_type": "code",
   "execution_count": 13,
   "metadata": {},
   "outputs": [],
   "source": [
    "def test_round_trip():\n",
    "    from random import randint\n",
    "    name = f\"Jane-{randint(1, 1000)}\"\n",
    "    person = Person(name, \"123 Any Road\", \"Green\")\n",
    "    jstr = person.toJSON()\n",
    "    try:\n",
    "        json.loads(jstr)\n",
    "    except json.JSONDecodeError:\n",
    "        assert False, \"Invalid JSON string produced\"\n",
    "    new = person.fromJSON(jstr)\n",
    "    assert isinstance(new, Person), f\"Not a Person: {repr(new)}\"\n",
    "    assert person.name == new.name\n",
    "    \n",
    "test_round_trip()"
   ]
  },
  {
   "cell_type": "markdown",
   "metadata": {},
   "source": [
    "# 03 Sharing JSON"
   ]
  },
  {
   "cell_type": "markdown",
   "metadata": {},
   "source": [
    "# 04 JSON Schema"
   ]
  },
  {
   "cell_type": "markdown",
   "metadata": {},
   "source": [
    "## Setup"
   ]
  },
  {
   "cell_type": "code",
   "execution_count": 14,
   "metadata": {},
   "outputs": [],
   "source": [
    "import json\n",
    "from jsonschema import validate, ValidationError\n",
    "\n",
    "def is_valid(instance, schema):\n",
    "    try:\n",
    "        validate(instance, schema)\n",
    "        return True\n",
    "    except:\n",
    "        return False\n",
    "    \n",
    "json1 = \"\"\"{\n",
    "    \"Band\": \"Pere Ubu\",\n",
    "    \"Guitarists\": [\"Michele Temple\", \"Keith Moliné\",\n",
    "                   \"Peter Laughner\", \"Tom Herman\",\n",
    "                   \"Mayo Thompson\", \"Jim Jones\",\n",
    "                   \"Wayne Kramer\"],\n",
    "    \"NumAlbums\": 18,\n",
    "    \"Formation\": 1975\n",
    "}\"\"\"\n",
    "\n",
    "json2 = \"\"\"{\n",
    "    \"Band\": \"L7\",\n",
    "    \"Guitarists\": [\"Suzi Gardner\", \"Donita Sparks\"],\n",
    "    \"NumAlbums\": 7\n",
    "}\"\"\"\n",
    "\n",
    "json3 = \"\"\"{\n",
    "    \"Band\": \"The Runaways\",\n",
    "    \"Guitarists\": [\"Joan Jett\", \"Lita Ford\"],\n",
    "    \"NumAlbums\": 4,\n",
    "    \"Formation\": \"1975\"\n",
    "}\"\"\"\n",
    "\n",
    "schema1 = {\"type\": \"object\"}\n",
    "schema2 = {\"type\": \"string\"}\n",
    "schema3 = {\"type\": \"array\"}"
   ]
  },
  {
   "cell_type": "markdown",
   "metadata": {},
   "source": [
    "## Solution"
   ]
  },
  {
   "cell_type": "code",
   "execution_count": 15,
   "metadata": {},
   "outputs": [],
   "source": [
    "schema1 = {\n",
    "    \"type\": \"object\",\n",
    "    \"properties\": {\n",
    "        \"NumAlbums\": {\n",
    "            \"type\": \"number\",\n",
    "            \"minimum\": 5\n",
    "        }\n",
    "    }\n",
    "}\n",
    "schema2 = {\n",
    "    \"type\": \"object\",\n",
    "    \"properties\": {\n",
    "        \"Guitarists\": {\n",
    "             \"type\": \"array\",\n",
    "             \"maxItems\": 3\n",
    "        }\n",
    "    }\n",
    "}\n",
    "schema3 = {\n",
    "    \"type\": \"object\",\n",
    "    \"required\": [\"Formation\"]\n",
    "}"
   ]
  },
  {
   "cell_type": "markdown",
   "metadata": {},
   "source": [
    "## Tests"
   ]
  },
  {
   "cell_type": "code",
   "execution_count": 16,
   "metadata": {},
   "outputs": [],
   "source": [
    "def test_schema1():\n",
    "    assert is_valid(json.loads(json1), schema1), \\\n",
    "        \"schema1 must accept json1\"\n",
    "    assert is_valid(json.loads(json2), schema1), \\\n",
    "        \"schema1 must accept json2\"\n",
    "    assert not is_valid(json.loads(json3), schema1), \\\n",
    "        \"schema1 must reject json3\"\n",
    "\n",
    "test_schema1()"
   ]
  },
  {
   "cell_type": "code",
   "execution_count": 17,
   "metadata": {},
   "outputs": [],
   "source": [
    "def test_schema2():\n",
    "    assert not is_valid(json.loads(json1), schema2), \\\n",
    "        \"schema2 must reject json1\"\n",
    "    assert is_valid(json.loads(json2), schema2), \\\n",
    "        \"schema2 must accept json2\"\n",
    "    assert is_valid(json.loads(json3), schema2), \\\n",
    "        \"schema2 must accept json3\"\n",
    "    \n",
    "test_schema2()"
   ]
  },
  {
   "cell_type": "code",
   "execution_count": 18,
   "metadata": {},
   "outputs": [],
   "source": [
    "def test_schema3():\n",
    "    assert is_valid(json.loads(json1), schema3), \\\n",
    "        \"schema3 must accept json1\"\n",
    "    assert not is_valid(json.loads(json2), schema3), \\\n",
    "        \"schema3 must reject json2\"\n",
    "    assert is_valid(json.loads(json3), schema3), \\\n",
    "        \"schema3 must accept json3\"\n",
    "    \n",
    "test_schema3()"
   ]
  },
  {
   "cell_type": "markdown",
   "metadata": {},
   "source": [
    "# 05 CSV Module"
   ]
  },
  {
   "cell_type": "markdown",
   "metadata": {},
   "source": [
    "## Setup"
   ]
  },
  {
   "cell_type": "code",
   "execution_count": 19,
   "metadata": {},
   "outputs": [],
   "source": [
    "import csv\n",
    "from dataclasses import dataclass\n",
    "\n",
    "@dataclass\n",
    "class InventoryItem:\n",
    "    '''Class for keeping track of an item in inventory.'''\n",
    "    name: str\n",
    "    price: float\n",
    "    quantity: int = 0\n",
    "\n",
    "    def total_cost(self) -> float:\n",
    "        return self.unit_price * self.quantity_on_hand"
   ]
  },
  {
   "cell_type": "markdown",
   "metadata": {},
   "source": [
    "## Solution"
   ]
  },
  {
   "cell_type": "code",
   "execution_count": 20,
   "metadata": {},
   "outputs": [],
   "source": [
    "items = []\n",
    "with open('data/Inventory.txt') as fh:\n",
    "    inventory = csv.reader(fh, delimiter=\"|\", \n",
    "                               quotechar=\"/\",\n",
    "                               escapechar=\"%\")\n",
    "    skip_header = next(inventory)\n",
    "    for record in inventory:\n",
    "        if not record:\n",
    "            continue\n",
    "        name = record[0]\n",
    "        price = float(record[1])\n",
    "        quantity = int(record[2].replace(',','')) if record[2] else 0\n",
    "        record = InventoryItem(name, price, quantity)\n",
    "        items.append(record)"
   ]
  },
  {
   "cell_type": "markdown",
   "metadata": {},
   "source": [
    "## Tests"
   ]
  },
  {
   "cell_type": "code",
   "execution_count": 21,
   "metadata": {},
   "outputs": [],
   "source": [
    "def test_structure():\n",
    "    import pickle\n",
    "    correct = pickle.load(open('data/Inventory.pkl', 'rb'))\n",
    "    assert len(correct) == len(items), \"Wrong number of records constructed\"\n",
    "    assert correct == items, \"Error in one or more records\"\n",
    "    \n",
    "test_structure()"
   ]
  },
  {
   "cell_type": "markdown",
   "metadata": {},
   "source": [
    "# 06 CSV with Pandas"
   ]
  },
  {
   "cell_type": "markdown",
   "metadata": {},
   "source": [
    "## Setup"
   ]
  },
  {
   "cell_type": "code",
   "execution_count": 22,
   "metadata": {},
   "outputs": [],
   "source": [
    "import pandas as pd\n",
    "items = pd.DataFrame()"
   ]
  },
  {
   "cell_type": "markdown",
   "metadata": {},
   "source": [
    "## Solution"
   ]
  },
  {
   "cell_type": "code",
   "execution_count": 23,
   "metadata": {},
   "outputs": [
    {
     "name": "stdout",
     "output_type": "stream",
     "text": [
      "Name         object\n",
      "Price       float64\n",
      "Quantity    float64\n",
      "dtype: object\n"
     ]
    },
    {
     "data": {
      "text/html": [
       "<div>\n",
       "<style scoped>\n",
       "    .dataframe tbody tr th:only-of-type {\n",
       "        vertical-align: middle;\n",
       "    }\n",
       "\n",
       "    .dataframe tbody tr th {\n",
       "        vertical-align: top;\n",
       "    }\n",
       "\n",
       "    .dataframe thead th {\n",
       "        text-align: right;\n",
       "    }\n",
       "</style>\n",
       "<table border=\"1\" class=\"dataframe\">\n",
       "  <thead>\n",
       "    <tr style=\"text-align: right;\">\n",
       "      <th></th>\n",
       "      <th>Name</th>\n",
       "      <th>Price</th>\n",
       "      <th>Quantity</th>\n",
       "    </tr>\n",
       "  </thead>\n",
       "  <tbody>\n",
       "    <tr>\n",
       "      <th>0</th>\n",
       "      <td>Wankle rotary engine</td>\n",
       "      <td>555.55</td>\n",
       "      <td>527.0</td>\n",
       "    </tr>\n",
       "    <tr>\n",
       "      <th>1</th>\n",
       "      <td>Sousaphone w/ stand</td>\n",
       "      <td>333.33</td>\n",
       "      <td>123.0</td>\n",
       "    </tr>\n",
       "    <tr>\n",
       "      <th>2</th>\n",
       "      <td>Feather Duster</td>\n",
       "      <td>22.22</td>\n",
       "      <td>900.0</td>\n",
       "    </tr>\n",
       "    <tr>\n",
       "      <th>3</th>\n",
       "      <td>Area 51 metal fragment</td>\n",
       "      <td>9999.99</td>\n",
       "      <td>NaN</td>\n",
       "    </tr>\n",
       "    <tr>\n",
       "      <th>4</th>\n",
       "      <td>The kitchen sink</td>\n",
       "      <td>129.99</td>\n",
       "      <td>43.0</td>\n",
       "    </tr>\n",
       "    <tr>\n",
       "      <th>5</th>\n",
       "      <td>Steak knife</td>\n",
       "      <td>12.49</td>\n",
       "      <td>1000000.0</td>\n",
       "    </tr>\n",
       "  </tbody>\n",
       "</table>\n",
       "</div>"
      ],
      "text/plain": [
       "                     Name    Price   Quantity\n",
       "0    Wankle rotary engine   555.55      527.0\n",
       "1     Sousaphone w/ stand   333.33      123.0\n",
       "2          Feather Duster    22.22      900.0\n",
       "3  Area 51 metal fragment  9999.99        NaN\n",
       "4        The kitchen sink   129.99       43.0\n",
       "5             Steak knife    12.49  1000000.0"
      ]
     },
     "execution_count": 23,
     "metadata": {},
     "output_type": "execute_result"
    }
   ],
   "source": [
    "items = pd.read_csv('data/Inventory.txt', \n",
    "                    skip_blank_lines=True, \n",
    "                    sep='|',\n",
    "                    quotechar='/',\n",
    "                    escapechar='%',\n",
    "                    thousands=',')\n",
    "print(items.dtypes)\n",
    "items"
   ]
  },
  {
   "cell_type": "markdown",
   "metadata": {},
   "source": [
    "## Tests"
   ]
  },
  {
   "cell_type": "code",
   "execution_count": 24,
   "metadata": {},
   "outputs": [],
   "source": [
    "def test_correct_df():\n",
    "    import pickle\n",
    "    correct = pickle.load(open('data/Inventory-df.pkl', 'rb'))\n",
    "    assert isinstance(items, pd.DataFrame)\n",
    "    assert correct.equals(items), \"Generated DataFrame does not match\"\n",
    "    \n",
    "test_correct_df()"
   ]
  },
  {
   "cell_type": "markdown",
   "metadata": {},
   "source": [
    "# 07 XML with ElementTree"
   ]
  },
  {
   "cell_type": "markdown",
   "metadata": {},
   "source": [
    "## Setup"
   ]
  },
  {
   "cell_type": "code",
   "execution_count": 25,
   "metadata": {},
   "outputs": [],
   "source": [
    "import xml.etree.ElementTree as ET\n",
    "\n",
    "# Unfortunately, ElementTree lacks pretty print\n",
    "import xml.dom.minidom\n",
    "def pretty_etree(doc):\n",
    "    dom = xml.dom.minidom.parseString(ET.tostring(doc))\n",
    "    return dom.toprettyxml(indent='  ')"
   ]
  },
  {
   "cell_type": "markdown",
   "metadata": {},
   "source": [
    "## Solution"
   ]
  },
  {
   "cell_type": "code",
   "execution_count": 26,
   "metadata": {},
   "outputs": [],
   "source": [
    "band = ET.Element('band')\n",
    "name = ET.SubElement(band, 'name')\n",
    "name.text = 'L7'\n",
    "guitarists = ET.SubElement(band, 'guitarists')\n",
    "for guitarist in [\"Suzi Gardner\", \"Donita Sparks\"]:\n",
    "    g = ET.SubElement(guitarists, 'item')\n",
    "    g.text = guitarist\n",
    "numalbum = ET.SubElement(band, 'numalbums')\n",
    "numalbum.text = '7'"
   ]
  },
  {
   "cell_type": "markdown",
   "metadata": {},
   "source": [
    "## Tests"
   ]
  },
  {
   "cell_type": "code",
   "execution_count": 27,
   "metadata": {},
   "outputs": [],
   "source": [
    "def test_doc_type():\n",
    "    assert isinstance(band, ET.Element)\n",
    "    \n",
    "test_doc_type()"
   ]
  },
  {
   "cell_type": "code",
   "execution_count": 28,
   "metadata": {},
   "outputs": [],
   "source": [
    "def test_doc_structure():\n",
    "    assert [e.tag for e in band] == ['name', 'guitarists', 'numalbums']\n",
    "\n",
    "test_doc_structure()"
   ]
  },
  {
   "cell_type": "code",
   "execution_count": 29,
   "metadata": {},
   "outputs": [],
   "source": [
    "def test_guitarists():\n",
    "    guitarists = band.find('guitarists').findall('item')\n",
    "    assert [g.text for g in guitarists] == ['Suzi Gardner', 'Donita Sparks']\n",
    "    \n",
    "test_guitarists()"
   ]
  },
  {
   "cell_type": "markdown",
   "metadata": {},
   "source": [
    "# 08 XML with lxml.objectify"
   ]
  },
  {
   "cell_type": "markdown",
   "metadata": {},
   "source": [
    "## Setup"
   ]
  },
  {
   "cell_type": "code",
   "execution_count": 30,
   "metadata": {},
   "outputs": [],
   "source": [
    "from lxml import objectify\n",
    "doc = objectify.ObjectifiedElement()\n",
    "query1 = \"doc.bands.band[2].formation\"\n",
    "query2 = ...\n",
    "query3 = ...\n",
    "query4 = ..."
   ]
  },
  {
   "cell_type": "markdown",
   "metadata": {},
   "source": [
    "## Solution"
   ]
  },
  {
   "cell_type": "code",
   "execution_count": 31,
   "metadata": {},
   "outputs": [],
   "source": [
    "doc = objectify.parse(open('data/Bands.xml'))\n",
    "doc = objectify.E.root(doc.getroot())\n",
    "\n",
    "query2 = \"doc.bands.band[0].guitarists.item[-2:]\"\n",
    "query3 = \"[b.name for b in doc.bands.band[:]]\"\n",
    "query4 = \"sum(b.numalbums for b in doc.bands.band[:])\""
   ]
  },
  {
   "cell_type": "markdown",
   "metadata": {},
   "source": [
    "## Tests"
   ]
  },
  {
   "cell_type": "code",
   "execution_count": 32,
   "metadata": {},
   "outputs": [],
   "source": [
    "def test_doc_type():\n",
    "    assert isinstance(doc, objectify.ObjectifiedElement)\n",
    "    \n",
    "test_doc_type()"
   ]
  },
  {
   "cell_type": "code",
   "execution_count": 33,
   "metadata": {},
   "outputs": [],
   "source": [
    "def test_third_formation():\n",
    "    assert isinstance(query1, str)\n",
    "    assert eval(query1) == 1975\n",
    "\n",
    "test_third_formation()"
   ]
  },
  {
   "cell_type": "code",
   "execution_count": 34,
   "metadata": {},
   "outputs": [],
   "source": [
    "def test_guitarists():\n",
    "    assert query2.startswith('doc.')\n",
    "    assert set(eval(query2)) == {'Jim Jones', 'Wayne Kramer'}\n",
    "    \n",
    "test_guitarists()"
   ]
  },
  {
   "cell_type": "code",
   "execution_count": 35,
   "metadata": {},
   "outputs": [],
   "source": [
    "def test_bands():\n",
    "    assert isinstance(query3, str)\n",
    "    assert 'doc.' in query4\n",
    "    assert set(eval(query3)) == {'Pere Ubu', 'L7', 'The Runaways'}\n",
    "\n",
    "test_bands()"
   ]
  },
  {
   "cell_type": "code",
   "execution_count": 36,
   "metadata": {},
   "outputs": [],
   "source": [
    "def test_albums():\n",
    "    assert isinstance(query4, str)\n",
    "    assert 'doc.' in query4\n",
    "    assert eval(query4) == 29\n",
    "\n",
    "test_albums()"
   ]
  },
  {
   "cell_type": "markdown",
   "metadata": {},
   "source": [
    "# 09 XPATH"
   ]
  },
  {
   "cell_type": "markdown",
   "metadata": {},
   "source": [
    "## Setup"
   ]
  },
  {
   "cell_type": "code",
   "execution_count": 37,
   "metadata": {},
   "outputs": [],
   "source": [
    "import xml.etree.ElementTree as ET\n",
    "doc = ET.ElementTree()\n",
    "\n",
    "def text_of(doc, xpath):\n",
    "    matches = doc.findall(xpath)\n",
    "    texts = [e.text for e in matches]\n",
    "    return texts[0] if len(texts) == 1 else texts\n",
    "\n",
    "xpath1 = \".//band[3]/formation\"\n",
    "xpath2 = ...\n",
    "xpath3 = ...\n",
    "xpath4 = ..."
   ]
  },
  {
   "cell_type": "markdown",
   "metadata": {},
   "source": [
    "## Solution"
   ]
  },
  {
   "cell_type": "code",
   "execution_count": 38,
   "metadata": {},
   "outputs": [],
   "source": [
    "doc = ET.parse('data/Bands.xml')\n",
    "\n",
    "xpath2 = \".//band[1]/guitarists[1]/item[last()-2]\"\n",
    "xpath3 = \"./band/name\"\n",
    "xpath4 = \"./band/numalbums\"\n",
    "\n",
    "def count(nums):\n",
    "    return sum(map(int, nums))"
   ]
  },
  {
   "cell_type": "markdown",
   "metadata": {},
   "source": [
    "## Tests"
   ]
  },
  {
   "cell_type": "code",
   "execution_count": 39,
   "metadata": {},
   "outputs": [],
   "source": [
    "def test_doc_type():\n",
    "    assert isinstance(doc, ET.ElementTree)\n",
    "    \n",
    "test_doc_type()"
   ]
  },
  {
   "cell_type": "code",
   "execution_count": 40,
   "metadata": {},
   "outputs": [],
   "source": [
    "def test_third_formation():\n",
    "    assert text_of(doc, xpath1) == '1975'\n",
    "\n",
    "test_third_formation()"
   ]
  },
  {
   "cell_type": "code",
   "execution_count": 41,
   "metadata": {},
   "outputs": [],
   "source": [
    "def test_guitarist():\n",
    "    assert text_of(doc, xpath2) == 'Mayo Thompson'\n",
    "    \n",
    "test_guitarist()"
   ]
  },
  {
   "cell_type": "code",
   "execution_count": 42,
   "metadata": {},
   "outputs": [],
   "source": [
    "def test_bands():\n",
    "    assert set(text_of(doc, xpath3)) == {'Pere Ubu', 'L7', 'The Runaways'}\n",
    "\n",
    "test_bands()"
   ]
  },
  {
   "cell_type": "code",
   "execution_count": 43,
   "metadata": {},
   "outputs": [],
   "source": [
    "def test_albums():\n",
    "    nums = set(text_of(doc, xpath4))\n",
    "    assert nums == {'18', '7', '4'}\n",
    "    assert count(nums) == 29\n",
    "\n",
    "test_albums()"
   ]
  },
  {
   "cell_type": "markdown",
   "metadata": {},
   "source": [
    "# 10 Serializing NumPy"
   ]
  },
  {
   "cell_type": "markdown",
   "metadata": {},
   "source": [
    "## Setup"
   ]
  },
  {
   "cell_type": "code",
   "execution_count": 45,
   "metadata": {},
   "outputs": [],
   "source": [
    "import numpy as np\n",
    "\n",
    "arr1 = ...\n",
    "arr2 = ...\n",
    "arr3 = ..."
   ]
  },
  {
   "cell_type": "markdown",
   "metadata": {},
   "source": [
    "## Solution"
   ]
  },
  {
   "cell_type": "code",
   "execution_count": 77,
   "metadata": {},
   "outputs": [],
   "source": [
    "arr1 = np.random.randint(10, 51, 300_000, dtype=np.uint8).reshape(20, 30, 10, 50)\n",
    "arr2 = np.zeros(100, dtype=complex)\n",
    "arr3 = np.array(['Red', 'Green', 'Blue'])\n",
    "\n",
    "np.savez_compressed('tmp/exercise', arr1, arr2, arr3)"
   ]
  },
  {
   "cell_type": "markdown",
   "metadata": {},
   "source": [
    "## Tests"
   ]
  },
  {
   "cell_type": "code",
   "execution_count": 60,
   "metadata": {},
   "outputs": [],
   "source": [
    "def test_arr1():\n",
    "    assert str(arr1.dtype) == 'uint8'\n",
    "    assert arr1.shape == (20, 30, 10, 50)\n",
    "    assert arr1.min() == 10\n",
    "    assert arr1.max() == 50\n",
    "    \n",
    "test_arr1()"
   ]
  },
  {
   "cell_type": "code",
   "execution_count": 64,
   "metadata": {},
   "outputs": [],
   "source": [
    "def test_arr2():\n",
    "    assert 'complex' in str(arr2.dtype)\n",
    "    assert arr2.size == 100\n",
    "    \n",
    "test_arr2()"
   ]
  },
  {
   "cell_type": "code",
   "execution_count": 71,
   "metadata": {},
   "outputs": [],
   "source": [
    "def test_arr3():\n",
    "    assert arr3.size == 3\n",
    "    assert arr3[0] == 'Red'\n",
    "    assert arr3[1] == 'Green'\n",
    "    assert arr3[2] == 'Blue'\n",
    "    \n",
    "test_arr3()"
   ]
  },
  {
   "cell_type": "code",
   "execution_count": 80,
   "metadata": {},
   "outputs": [],
   "source": [
    "def test_archive():\n",
    "    import os\n",
    "    fsize = os.stat('tmp/exercise.npz').st_size \n",
    "    assert fsize < 220_000, \"The file might not have been compressed\"\n",
    "    data = list(np.load('tmp/exercise.npz').values())\n",
    "    assert data[0].shape == (20, 30, 10, 50)\n",
    "    assert str(data[0].dtype) == 'uint8'\n",
    "    assert 'complex' in str(data[1].dtype)\n",
    "    assert set(data[2]) == {'Red', 'Green', 'Blue'}\n",
    "\n",
    "test_archive()"
   ]
  },
  {
   "cell_type": "code",
   "execution_count": null,
   "metadata": {},
   "outputs": [],
   "source": []
  }
 ],
 "metadata": {
  "kernelspec": {
   "display_name": "Python 3",
   "language": "python",
   "name": "python3"
  },
  "language_info": {
   "codemirror_mode": {
    "name": "ipython",
    "version": 3
   },
   "file_extension": ".py",
   "mimetype": "text/x-python",
   "name": "python",
   "nbconvert_exporter": "python",
   "pygments_lexer": "ipython3",
   "version": "3.8.2"
  }
 },
 "nbformat": 4,
 "nbformat_minor": 4
}
