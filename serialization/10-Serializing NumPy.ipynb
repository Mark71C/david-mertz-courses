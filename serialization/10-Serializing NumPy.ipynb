{
 "cells": [
  {
   "cell_type": "markdown",
   "metadata": {
    "slideshow": {
     "slide_type": "slide"
    }
   },
   "source": [
    "# Saving and Loading NumPy Arrays\n",
    "\n",
    "While not part of Python itself, the NumPy array library forms the basis for nearly all numeric computation within Python.  A few core features of the Python language have been specialized to accomodate the NumPy community and library.  The most notable examples of the language definition being modified for the sake of NumPy are the extended slice notation and the matrix multiply operator."
   ]
  },
  {
   "cell_type": "markdown",
   "metadata": {
    "slideshow": {
     "slide_type": "fragment"
    }
   },
   "source": [
    "The *stride* argument to slices was added in Python 1.4 (long ago), but was not used by Python lists, tuples, or strings until 2.3 (still a long time).  The use of commas within compound slice descriptions is not used anywhere in Python's standard library but exists so that NumPy (and later other libraries) can utilize it.  Similarly, the operator `@` is not used anywhere in Python itself or its standard library, but was added so that NumPy can use it to denote matrix multiplication (some other libraries have utilized it for other purposes since then)."
   ]
  },
  {
   "cell_type": "code",
   "execution_count": 1,
   "metadata": {
    "slideshow": {
     "slide_type": "fragment"
    }
   },
   "outputs": [],
   "source": [
    "import pickle\n",
    "import numpy as np"
   ]
  },
  {
   "cell_type": "markdown",
   "metadata": {
    "slideshow": {
     "slide_type": "slide"
    }
   },
   "source": [
    "# Serializing with Pickle\n",
    "\n",
    "Most Python objects, even those in extension libraries, can be serialized and deserialized with `pickle` module.  Classes are able to define a few protocol methods that allow them to interoperate with pickling.  For most purposes, pickle is fine for representing NumPy arrays.  Let us create one and roundtrip it."
   ]
  },
  {
   "cell_type": "code",
   "execution_count": 2,
   "metadata": {
    "slideshow": {
     "slide_type": "fragment"
    }
   },
   "outputs": [
    {
     "data": {
      "text/plain": [
       "(100, 100, 100)"
      ]
     },
     "execution_count": 2,
     "metadata": {},
     "output_type": "execute_result"
    }
   ],
   "source": [
    "arr = np.random.randint(1, 100, 1_000_000).reshape(100, 100, 100)\n",
    "arr.shape"
   ]
  },
  {
   "cell_type": "code",
   "execution_count": 3,
   "metadata": {
    "slideshow": {
     "slide_type": "fragment"
    }
   },
   "outputs": [
    {
     "data": {
      "text/plain": [
       "array([[5890, 8550, 1140, 6175],\n",
       "       [1736, 2520,  336, 1820],\n",
       "       [5704, 8280, 1104, 5980],\n",
       "       [3720, 5400,  720, 3900]])"
      ]
     },
     "execution_count": 3,
     "metadata": {},
     "output_type": "execute_result"
    }
   ],
   "source": [
    "# Syntax extras for NumPy (matrix multiply dimensional slices)\n",
    "arr[2:6, 4, 3:4] @ arr[8:9, 3, 4:8]"
   ]
  },
  {
   "cell_type": "markdown",
   "metadata": {
    "slideshow": {
     "slide_type": "subslide"
    }
   },
   "source": [
    "Dumping and loading a pickle of a NumPy array is the same as for any Python object."
   ]
  },
  {
   "cell_type": "code",
   "execution_count": 4,
   "metadata": {
    "slideshow": {
     "slide_type": "fragment"
    }
   },
   "outputs": [
    {
     "data": {
      "text/plain": [
       "array([[[35, 18, 48, ..., 11, 42, 64],\n",
       "        [95,  9, 55, ..., 84, 19, 60],\n",
       "        [19, 75, 30, ..., 49, 11, 83],\n",
       "        ...,\n",
       "        [19, 80, 68, ..., 68, 59, 20],\n",
       "        [ 8, 58, 85, ..., 81, 64, 41],\n",
       "        [99, 66, 81, ..., 87, 35, 76]],\n",
       "\n",
       "       [[63, 31, 58, ..., 85,  7, 32],\n",
       "        [60, 41, 28, ...,  6, 92, 19],\n",
       "        [66, 50, 50, ..., 24, 55, 79],\n",
       "        ...,\n",
       "        [59, 68, 13, ..., 40, 48, 57],\n",
       "        [35, 18, 24, ..., 94, 17,  3],\n",
       "        [85, 94, 10, ..., 63, 20, 94]]])"
      ]
     },
     "execution_count": 4,
     "metadata": {},
     "output_type": "execute_result"
    }
   ],
   "source": [
    "pickle.dump(arr, open('tmp/arr.pkl', 'wb'))\n",
    "arr2 = pickle.load(open('tmp/arr.pkl', 'rb'))\n",
    "arr2[:2]"
   ]
  },
  {
   "cell_type": "markdown",
   "metadata": {
    "slideshow": {
     "slide_type": "subslide"
    }
   },
   "source": [
    "An advantage of pickles is that you might embed an array inside other structures, and pickle will handle that."
   ]
  },
  {
   "cell_type": "code",
   "execution_count": 5,
   "metadata": {
    "slideshow": {
     "slide_type": "fragment"
    }
   },
   "outputs": [
    {
     "name": "stdout",
     "output_type": "stream",
     "text": [
      "b'\\x80\\x04\\x95\\x92\\x00\\x00\\x00\\x00\\x00\\x00\\x00}\\x94(\\x8c\\x05array\\x94\\x8c\\x15numpy.core.'\n",
      "Description: A million random integers\n",
      "Extra data: [0. 1. 2. 3. 4.]\n"
     ]
    }
   ],
   "source": [
    "data = {'array': arr,\n",
    "        'description': \"A million random integers\",\n",
    "        'list': [5.4, 9.1, 3.4],\n",
    "        'another_array': np.arange(5.0)}\n",
    "\n",
    "data_bytes = pickle.dumps(data)\n",
    "print(data_bytes[:35])\n",
    "\n",
    "new_data = pickle.loads(data_bytes)\n",
    "print(\"Description:\", new_data['description'])\n",
    "print(\"Extra data:\", new_data['another_array'])"
   ]
  },
  {
   "cell_type": "markdown",
   "metadata": {
    "slideshow": {
     "slide_type": "slide"
    }
   },
   "source": [
    "# Serializing with `np.savetxt()`\n",
    "\n",
    "For NumPy arrays that are 1-D or 2-D, you can save them as delimited files with the `savetxt()` function.  This is a convenient way to save data to CSV or TSV that might be read by DataFrame libraries or similar tools.  However, multi-dimensional arrays need to be reduced to 2-D to be stored in this manner."
   ]
  },
  {
   "cell_type": "code",
   "execution_count": 6,
   "metadata": {
    "slideshow": {
     "slide_type": "fragment"
    }
   },
   "outputs": [],
   "source": [
    "np.savetxt('tmp/arr-txt.tsv', \n",
    "           arr.reshape(100_000, 10),\n",
    "           delimiter='\\t',\n",
    "           fmt='%d',\n",
    "           header='Original shape: (100, 100, 100)',\n",
    "           comments='# ')"
   ]
  },
  {
   "cell_type": "code",
   "execution_count": 7,
   "metadata": {
    "slideshow": {
     "slide_type": "fragment"
    }
   },
   "outputs": [
    {
     "name": "stdout",
     "output_type": "stream",
     "text": [
      "# Original shape: (100, 100, 100)\r\n",
      "35\t18\t48\t42\t74\t43\t99\t46\t74\t64\r\n",
      "55\t34\t9\t31\t28\t39\t10\t46\t24\t12\r\n",
      "51\t11\t27\t39\t35\t21\t75\t10\t71\t8\r\n",
      "48\t49\t33\t17\t20\t73\t52\t86\t1\t96\r\n",
      "42\t80\t65\t48\t18\t95\t81\t51\t25\t68\r\n",
      "29\t66\t52\t21\t26\t91\t81\t10\t61\t64\r\n",
      "50\t57\t69\t94\t54\t38\t59\t42\t61\t33\r\n",
      "2\t93\t23\t51\t45\t63\t73\t96\t72\t19\r\n",
      "37\t68\t8\t51\t93\t36\t54\t76\t4\t43\r\n"
     ]
    }
   ],
   "source": [
    "!head tmp/arr-txt.tsv"
   ]
  },
  {
   "cell_type": "markdown",
   "metadata": {
    "slideshow": {
     "slide_type": "slide"
    }
   },
   "source": [
    "# Serializing with `np.save()`\n",
    "\n",
    "The native NumPy serialization format is very simple and directly represents arrays on disk.  An `.npy` file is *slightly* faster to write than a pickle, and is *slightly* smaller on disk.  These differences are minimal and are swamped by disk caching effects and data size, respectively.  The actual advantage of `.npy` is precisely what it *does not* do; reading a serialized array will never instantiate custom classes, will never execute arbitrary code, and will never contain structures other than arrays."
   ]
  },
  {
   "cell_type": "code",
   "execution_count": 8,
   "metadata": {
    "slideshow": {
     "slide_type": "fragment"
    }
   },
   "outputs": [
    {
     "name": "stdout",
     "output_type": "stream",
     "text": [
      "CPU times: user 2.63 ms, sys: 20.4 ms, total: 23 ms\n",
      "Wall time: 20.6 ms\n"
     ]
    }
   ],
   "source": [
    "%time np.save('tmp/arr.npy', arr)"
   ]
  },
  {
   "cell_type": "code",
   "execution_count": 9,
   "metadata": {
    "slideshow": {
     "slide_type": "fragment"
    }
   },
   "outputs": [
    {
     "data": {
      "text/plain": [
       "array([[[35, 18, 48, ..., 11, 42, 64],\n",
       "        [95,  9, 55, ..., 84, 19, 60],\n",
       "        [19, 75, 30, ..., 49, 11, 83],\n",
       "        ...,\n",
       "        [19, 80, 68, ..., 68, 59, 20],\n",
       "        [ 8, 58, 85, ..., 81, 64, 41],\n",
       "        [99, 66, 81, ..., 87, 35, 76]],\n",
       "\n",
       "       [[63, 31, 58, ..., 85,  7, 32],\n",
       "        [60, 41, 28, ...,  6, 92, 19],\n",
       "        [66, 50, 50, ..., 24, 55, 79],\n",
       "        ...,\n",
       "        [59, 68, 13, ..., 40, 48, 57],\n",
       "        [35, 18, 24, ..., 94, 17,  3],\n",
       "        [85, 94, 10, ..., 63, 20, 94]]])"
      ]
     },
     "execution_count": 9,
     "metadata": {},
     "output_type": "execute_result"
    }
   ],
   "source": [
    "arr3 = np.load('tmp/arr.npy')\n",
    "arr3[:2]"
   ]
  },
  {
   "cell_type": "markdown",
   "metadata": {
    "slideshow": {
     "slide_type": "slide"
    }
   },
   "source": [
    "# Serializing with `np.savez` and `np.savez_compressed`\n",
    "\n",
    "An enhancement to the `.npy` format is the `.npz` format.  This uses a zipfile wrapper to aggregate multiple arrays in the same file.  Again, pickle could do this by putting them inside a dict or a list; the restriction is exactly the advantage for some cases.  In general, the compressed version is to be preferred in almost all cases; for the last decade, the extra CPU cycles to perform compression have been almost always faster than the extra time required to write more data to disk."
   ]
  },
  {
   "cell_type": "code",
   "execution_count": 10,
   "metadata": {
    "slideshow": {
     "slide_type": "fragment"
    }
   },
   "outputs": [],
   "source": [
    "np.savez('tmp/arr', arr, data['another_array'])\n",
    "np.savez_compressed('tmp/arr-compress', arr, data['another_array'])"
   ]
  },
  {
   "cell_type": "markdown",
   "metadata": {
    "slideshow": {
     "slide_type": "fragment"
    }
   },
   "source": [
    "The multiple arrays are available in a dict-like interface, and simply named as `arr_0`, `arr_1`, and so on.  You must store any mapping to the variable names used for these by separate means."
   ]
  },
  {
   "cell_type": "code",
   "execution_count": 11,
   "metadata": {
    "slideshow": {
     "slide_type": "fragment"
    }
   },
   "outputs": [
    {
     "name": "stdout",
     "output_type": "stream",
     "text": [
      "arr_0 (100, 100, 100) int64\n",
      "arr_1 (5,) float64\n",
      "[0. 1. 2. 3. 4.]\n"
     ]
    }
   ],
   "source": [
    "arr_data = np.load('tmp/arr.npz')\n",
    "for name in arr_data:\n",
    "    print(name, arr_data[name].shape, arr_data[name].dtype)\n",
    "\n",
    "print(arr_data['arr_1'])"
   ]
  },
  {
   "cell_type": "markdown",
   "metadata": {
    "slideshow": {
     "slide_type": "slide"
    }
   },
   "source": [
    "# File sizes\n",
    "\n",
    "We serialized the same data using several different formats.  The CPU times taken for all of them are neglibigle; there are some notable patterns in disk usage.  "
   ]
  },
  {
   "cell_type": "code",
   "execution_count": 12,
   "metadata": {
    "slideshow": {
     "slide_type": "fragment"
    }
   },
   "outputs": [
    {
     "name": "stdout",
     "output_type": "stream",
     "text": [
      "total 27516\r\n",
      "drwxr-xr-x 2 dmertz dmertz    4096 Jun 16 12:19 .\r\n",
      "drwxr-xr-x 7 dmertz dmertz    4096 Jun 16 23:19 ..\r\n",
      "-rw-r--r-- 1 dmertz dmertz 1245015 Jun 16 23:19 arr-compress.npz\r\n",
      "-rw-r--r-- 1 dmertz dmertz 8000128 Jun 16 23:19 arr.npy\r\n",
      "-rw-r--r-- 1 dmertz dmertz 8000546 Jun 16 23:19 arr.npz\r\n",
      "-rw-r--r-- 1 dmertz dmertz 8000165 Jun 16 23:19 arr.pkl\r\n",
      "-rw-r--r-- 1 dmertz dmertz 2909005 Jun 16 23:19 arr-txt.tsv\r\n"
     ]
    }
   ],
   "source": [
    "!ls -la tmp"
   ]
  },
  {
   "cell_type": "markdown",
   "metadata": {
    "slideshow": {
     "slide_type": "fragment"
    }
   },
   "source": [
    "Notice the initially surprising fact that the text format is not the largest.  Because all of our integers were only two digits, they were each stored with two bytes for the numbers plus one for the delimiter.  In contrast, an int64 value requires 8 bytes to store uncompressed.  If the data contained values closer to `sys.maxsize`, i.e. 9,223,372,036,854,775,807, the size of the text version could easily become larger."
   ]
  }
 ],
 "metadata": {
  "celltoolbar": "Slideshow",
  "kernelspec": {
   "display_name": "Python 3",
   "language": "python",
   "name": "python3"
  },
  "language_info": {
   "codemirror_mode": {
    "name": "ipython",
    "version": 3
   },
   "file_extension": ".py",
   "mimetype": "text/x-python",
   "name": "python",
   "nbconvert_exporter": "python",
   "pygments_lexer": "ipython3",
   "version": "3.8.2"
  }
 },
 "nbformat": 4,
 "nbformat_minor": 4
}
