{
 "cells": [
  {
   "cell_type": "markdown",
   "metadata": {
    "slideshow": {
     "slide_type": "slide"
    }
   },
   "source": [
    "# Programming Concurrency in Python\n",
    "\n",
    "<img src=\"img/python-logo.png\" width=\"25%\" align=\"right\"/>This course aims at an intermediate Python programmer.  We look at several models and paradigms for writing concurrent programs using tools in the Python standard library.  \n",
    "\n",
    "The course addresses several pitfalls developers face with concurrency, including race conditions and deadlocks.  As well, it explains the pros and cons of working with threads versus processes as concurrency models."
   ]
  },
  {
   "cell_type": "markdown",
   "metadata": {
    "slideshow": {
     "slide_type": "slide"
    }
   },
   "source": [
    "# Instructor\n",
    "\n",
    "<img src=\"DQM-Jozi.jpg\" align=\"right\" width=\"25%\"/>My name is David Mertz, and I am your instructor for these lessons.  I have been part of the Python community for over 20 years. During that time, I have been involved with the governance of the Python Software Foundation, and have worked as a developer, a writer, and a trainer.  In recent years I have  focused on Python's use in scientific computing and data science."
   ]
  },
  {
   "cell_type": "markdown",
   "metadata": {
    "slideshow": {
     "slide_type": "slide"
    }
   },
   "source": [
    "# In This Course\n",
    "\n",
    "<img src=\"DQM-colors-2.jpg\" align=\"right\" width=\"25%\"/>This course will touch on the following topics:\n",
    "\n",
    "* The `concurrent.futures` module for high-level abstraction of concurrency.\n",
    "* Basics of threading, using the `threading` module.\n",
    "* Sharing data among threads and race conditions.\n",
    "* Locks, deadlocks, and circular dependencies of threads.\n",
    "* The Python Global Interpreter Lock.\n",
    "* Process-based parallelism with the `multiprocessing` module."
   ]
  },
  {
   "cell_type": "code",
   "execution_count": null,
   "metadata": {},
   "outputs": [],
   "source": []
  }
 ],
 "metadata": {
  "celltoolbar": "Slideshow",
  "kernelspec": {
   "display_name": "Python 3",
   "language": "python",
   "name": "python3"
  },
  "language_info": {
   "codemirror_mode": {
    "name": "ipython",
    "version": 3
   },
   "file_extension": ".py",
   "mimetype": "text/x-python",
   "name": "python",
   "nbconvert_exporter": "python",
   "pygments_lexer": "ipython3",
   "version": "3.8.5"
  }
 },
 "nbformat": 4,
 "nbformat_minor": 4
}
