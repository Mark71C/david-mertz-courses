{
 "cells": [
  {
   "cell_type": "markdown",
   "metadata": {},
   "source": [
    "# Description\n",
    "\n",
    "This exercise has a similar setup to the first exercise.  It also works with 1000 files on the local disk, each of them named like `tmp-?????.numbers`, where each contains 20 whole numbers on separate lines.  As with the prior exercise, the operations you will perform are fast enough that a purely sequential approach is faster than a threaded one, but the balance would change with larger files and/or more complex operations.\n",
    "\n",
    "In four threads you should perform the following operations. Here the index positions are their 1-based position.  E.g., if this is the head of one of the files:\n",
    "\n",
    "```\n",
    "5\n",
    "32\n",
    "4\n",
    "18\n",
    "```\n",
    "\n",
    "Index 2 is 32; index 3 is 4; etc.\n",
    "\n",
    "* Read index 2 and 10 from each file, then multiply them together;\n",
    "* Read index 5 and 10 from each file, then substract index 5 from index 10;\n",
    "* Read index 11 and 15 from each file, then take the floor division of 11 by 15;\n",
    "* Read index 5 and 19 from each file, as x and y, then calculate $x^2 + y^2$.\n",
    "\n",
    "The function `sum_of_ops()` should return the total of all the quantities caclulated in the threads, along with a list of the partial results from each thread, in order.\n",
    "\n",
    "During testing or experimentation, you are likely to start the threads, but be sure to leave each of them in their created-but-not-started state before you run the tests."
   ]
  },
  {
   "cell_type": "markdown",
   "metadata": {},
   "source": [
    "# Setup\n",
    "\n"
   ]
  },
  {
   "cell_type": "code",
   "execution_count": 1,
   "metadata": {},
   "outputs": [],
   "source": [
    "from threading import Thread, current_thread\n",
    "from generate import create_files\n",
    "from time import sleep\n",
    "\n",
    "create_files('lesson-2')\n",
    "\n",
    "t1 = Thread(target=sleep, args=(1,), name=\"mult2,10\")\n",
    "t2 = Thread(target=sleep, args=(1,), name=\"diff5,10\")\n",
    "t3 = Thread(target=sleep, args=(1,), name=\"fdiv11,15\")\n",
    "t4 = Thread(target=sleep, args=(1,), name=\"hypot5,19\")\n",
    "\n",
    "def sum_of_ops(t1: Thread, t2: Thread, t3: Thread, t4: Thread) -> int:\n",
    "    [t.start() for t in (t1, t2, t3, t4)]\n",
    "    t1_result = [12, 34, 56]\n",
    "    t2_result = [23, 45, 67]\n",
    "    t3_result = [34, 56, 78]\n",
    "    t4_result = [45, 67, 89]\n",
    "    return 606, t1_result, t2_result, t3_result, t4_result"
   ]
  },
  {
   "cell_type": "markdown",
   "metadata": {},
   "source": [
    "# Solution"
   ]
  },
  {
   "cell_type": "code",
   "execution_count": 2,
   "metadata": {
    "scrolled": false
   },
   "outputs": [],
   "source": [
    "from functools import partial\n",
    "from itertools import chain\n",
    "from glob import glob\n",
    "calculations = {}\n",
    "\n",
    "def getcalc(i, j, fn):\n",
    "    global calculations\n",
    "    name = current_thread().name\n",
    "    calculations[name] = []\n",
    "    for fname in glob('tmp-*.numbers'):\n",
    "        nums = [int(n) for n in open(fname)]\n",
    "        calculations[name].append(fn(nums[i-1], nums[j-1]))\n",
    "\n",
    "t1 = Thread(target=partial(getcalc, 2, 10, lambda n, m: n+m))\n",
    "t2 = Thread(target=partial(getcalc, 5, 10, lambda n, m: m-n))\n",
    "t3 = Thread(target=partial(getcalc, 11, 15, lambda n, m: n//m))\n",
    "t4 = Thread(target=partial(getcalc, 5, 19, lambda n, m: n**2 + m**2))\n",
    "\n",
    "def sum_of_ops(t1, t2, t3, t4):\n",
    "    [t.start() for t in (t1, t2, t3, t4)]\n",
    "    [t.join() for t in (t1, t2, t3, t4)]\n",
    "    total = sum(chain.from_iterable(calculations.values()))\n",
    "    return total, *calculations.values()"
   ]
  },
  {
   "cell_type": "markdown",
   "metadata": {},
   "source": [
    "# Test Cases"
   ]
  },
  {
   "cell_type": "code",
   "execution_count": 3,
   "metadata": {},
   "outputs": [],
   "source": [
    "def test_types():\n",
    "    assert callable(sum_of_ops)\n",
    "    for t in (t1, t2, t3, t4):\n",
    "        assert isinstance(t, Thread)\n",
    "    \n",
    "test_types()"
   ]
  },
  {
   "cell_type": "code",
   "execution_count": 4,
   "metadata": {},
   "outputs": [],
   "source": [
    "def test_thread_state():\n",
    "    for t in (t1, t2, t3, t4):\n",
    "        assert not t.is_alive() and not t.ident, t\n",
    "        \n",
    "test_thread_state()"
   ]
  },
  {
   "cell_type": "code",
   "execution_count": 5,
   "metadata": {},
   "outputs": [],
   "source": [
    "def test_results():\n",
    "    from math import prod\n",
    "    total, l1, l2, l3, l4 = sum_of_ops(t1, t2, t3, t4)\n",
    "    assert total == 6748263, f\"Wrong total {total}\"\n",
    "    for lst in (l1, l2, l3, l4):\n",
    "        assert len(lst) == 1000, \"Partial results of wrong length\"\n",
    "    assert prod(l1) % 78233 == 8953, \"Wrong list 1 calculations\"\n",
    "    assert sum(l2) == -2089, \"Wrong list 2 calculations\"\n",
    "    assert sum(l3) == 2359, \"Wrong list 3 calculations\"\n",
    "    assert prod(l4) % 82171 == 75175, \"Wrong list 4 calculations\"\n",
    "    \n",
    "test_results()"
   ]
  }
 ],
 "metadata": {
  "kernelspec": {
   "display_name": "Python 3",
   "language": "python",
   "name": "python3"
  },
  "language_info": {
   "codemirror_mode": {
    "name": "ipython",
    "version": 3
   },
   "file_extension": ".py",
   "mimetype": "text/x-python",
   "name": "python",
   "nbconvert_exporter": "python",
   "pygments_lexer": "ipython3",
   "version": "3.8.5"
  }
 },
 "nbformat": 4,
 "nbformat_minor": 4
}
