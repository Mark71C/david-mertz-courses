{
 "cells": [
  {
   "cell_type": "markdown",
   "metadata": {
    "slideshow": {
     "slide_type": "slide"
    }
   },
   "source": [
    "# Thread Basics\n",
    "\n",
    "In this lesson, we look at the `threading` module, and think about threads at a low-level.  In other lessons, higher level abstractions around the basics are addressed.\n",
    "\n",
    "Note that underneath `threading` lives an even lower-level module `_thread`.  As the initial underscore suggests, `_thread` is really only for developers of Python itself, or perhaps custom low-level libraries.  Use `threading` or \"above.\""
   ]
  },
  {
   "cell_type": "code",
   "execution_count": 1,
   "metadata": {
    "slideshow": {
     "slide_type": "fragment"
    }
   },
   "outputs": [],
   "source": [
    "from time import sleep\n",
    "from random import choice, random, randint\n",
    "import threading\n",
    "from threading import Thread"
   ]
  },
  {
   "cell_type": "markdown",
   "metadata": {
    "slideshow": {
     "slide_type": "subslide"
    }
   },
   "source": [
    "In interface, a thread constructor looks like this:\n",
    "\n",
    "```python\n",
    "class Thread:\n",
    "    def __init__(self, target, name=None, args=(), kwargs={}):\n",
    "        pass\n",
    "```"
   ]
  },
  {
   "cell_type": "markdown",
   "metadata": {
    "slideshow": {
     "slide_type": "fragment"
    }
   },
   "source": [
    "The `target` argument is the function that will be executed in that particular thread.  Alternately, a subclass of `Thread` might define a `.run()` method rather than using a passed in function; passing in an executable is generally more flexible."
   ]
  },
  {
   "cell_type": "markdown",
   "metadata": {
    "slideshow": {
     "slide_type": "fragment"
    }
   },
   "source": [
    "Once a thread has been _created_ (instantiated), we need to `start()` it in order for it to begin to process."
   ]
  },
  {
   "cell_type": "markdown",
   "metadata": {
    "slideshow": {
     "slide_type": "slide"
    }
   },
   "source": [
    "## Basic example of a thread"
   ]
  },
  {
   "cell_type": "code",
   "execution_count": 2,
   "metadata": {
    "slideshow": {
     "slide_type": "fragment"
    }
   },
   "outputs": [],
   "source": [
    "def worker():\n",
    "    print('hello', flush=True)\n",
    "    time.sleep(2)\n",
    "    print('world', flush=True)"
   ]
  },
  {
   "cell_type": "code",
   "execution_count": 3,
   "metadata": {
    "slideshow": {
     "slide_type": "fragment"
    }
   },
   "outputs": [],
   "source": [
    "t1 = Thread(target=worker)"
   ]
  },
  {
   "cell_type": "code",
   "execution_count": 4,
   "metadata": {
    "slideshow": {
     "slide_type": "fragment"
    }
   },
   "outputs": [
    {
     "name": "stdout",
     "output_type": "stream",
     "text": [
      "hello\n"
     ]
    },
    {
     "name": "stderr",
     "output_type": "stream",
     "text": [
      "Exception in thread Thread-4:\n",
      "Traceback (most recent call last):\n",
      "  File \"/home/davidmertz/miniconda3/envs/INE/lib/python3.8/threading.py\", line 932, in _bootstrap_inner\n",
      "    self.run()\n",
      "  File \"/home/davidmertz/miniconda3/envs/INE/lib/python3.8/threading.py\", line 870, in run\n",
      "    self._target(*self._args, **self._kwargs)\n",
      "  File \"<ipython-input-2-1baa9f54510e>\", line 3, in worker\n"
     ]
    }
   ],
   "source": [
    "t1.start()"
   ]
  },
  {
   "cell_type": "markdown",
   "metadata": {
    "slideshow": {
     "slide_type": "slide"
    }
   },
   "source": [
    "## Running multiple threads concurrently\n",
    "\n",
    "Although you *can* launch one thread as an indirect way to run one function, the reason you want to is to allow concurrency of multiple threads."
   ]
  },
  {
   "cell_type": "code",
   "execution_count": 5,
   "metadata": {
    "slideshow": {
     "slide_type": "fragment"
    }
   },
   "outputs": [
    {
     "name": "stderr",
     "output_type": "stream",
     "text": [
      "NameError: name 'time' is not defined\n"
     ]
    }
   ],
   "source": [
    "def worker(favcolor=None):\n",
    "    sleep(random() * 5)\n",
    "    value = randint(0, 99)\n",
    "    name = threading.current_thread().name\n",
    "    print(f'My name is {name}; '\n",
    "          f'computation is {value}; '\n",
    "          f'favorite color is {favcolor}')"
   ]
  },
  {
   "cell_type": "code",
   "execution_count": 6,
   "metadata": {
    "slideshow": {
     "slide_type": "fragment"
    }
   },
   "outputs": [
    {
     "name": "stdout",
     "output_type": "stream",
     "text": [
      "My name is MainThread; computation is 93; favorite color is None\n"
     ]
    }
   ],
   "source": [
    "worker()"
   ]
  },
  {
   "cell_type": "markdown",
   "metadata": {
    "slideshow": {
     "slide_type": "subslide"
    }
   },
   "source": [
    "So far, this is just a function, albeit one that reports the name of the thread it runs in.  If your code never mentions `threading` or related modules, your program runs in one thread called \"MainThread\".  However, let us create several threads that utilize this function."
   ]
  },
  {
   "cell_type": "code",
   "execution_count": 7,
   "metadata": {
    "slideshow": {
     "slide_type": "fragment"
    }
   },
   "outputs": [
    {
     "data": {
      "text/plain": [
       "[<Thread(thread-0, initial)>,\n",
       " <Thread(thread-1, initial)>,\n",
       " <Thread(thread-2, initial)>,\n",
       " <Thread(thread-3, initial)>,\n",
       " <Thread(thread-4, initial)>]"
      ]
     },
     "execution_count": 7,
     "metadata": {},
     "output_type": "execute_result"
    }
   ],
   "source": [
    "threads = [Thread(target=worker, \n",
    "                  name=f\"thread-{i}\", \n",
    "                  kwargs={'favcolor': choice(['blue', 'green', 'yellow'])}) \n",
    "           for i in range(5)]\n",
    "threads"
   ]
  },
  {
   "cell_type": "code",
   "execution_count": 8,
   "metadata": {
    "slideshow": {
     "slide_type": "fragment"
    }
   },
   "outputs": [],
   "source": [
    "for thread in threads:\n",
    "    thread.start()"
   ]
  },
  {
   "cell_type": "markdown",
   "metadata": {
    "slideshow": {
     "slide_type": "slide"
    }
   },
   "source": [
    "## Thread states\n",
    "\n",
    "A thread is alive when it is running, but not otherwise.  There is both a time \"before its birth\" and a time \"after its termination\" and it is alive during neither of those times. Creating a thread only reserves resources like memory for it; it has to be `.start()`'ed to actually become alive and carry out actions."
   ]
  },
  {
   "cell_type": "code",
   "execution_count": 9,
   "metadata": {
    "slideshow": {
     "slide_type": "fragment"
    }
   },
   "outputs": [
    {
     "data": {
      "text/plain": [
       "False"
      ]
     },
     "execution_count": 9,
     "metadata": {},
     "output_type": "execute_result"
    }
   ],
   "source": [
    "t = Thread(target=worker)\n",
    "t.is_alive()"
   ]
  },
  {
   "cell_type": "code",
   "execution_count": 10,
   "metadata": {
    "slideshow": {
     "slide_type": "fragment"
    }
   },
   "outputs": [
    {
     "name": "stdout",
     "output_type": "stream",
     "text": [
      "My name is thread-0; computation is 14; favorite color is yellow\n"
     ]
    },
    {
     "data": {
      "text/plain": [
       "True"
      ]
     },
     "execution_count": 10,
     "metadata": {},
     "output_type": "execute_result"
    }
   ],
   "source": [
    "t.start()\n",
    "t.is_alive()"
   ]
  },
  {
   "cell_type": "code",
   "execution_count": 11,
   "metadata": {
    "slideshow": {
     "slide_type": "fragment"
    }
   },
   "outputs": [
    {
     "name": "stdout",
     "output_type": "stream",
     "text": [
      "My name is thread-1; computation is 49; favorite color is yellow\n",
      "My name is Thread-5; computation is 47; favorite color is None\n"
     ]
    },
    {
     "ename": "NameError",
     "evalue": "name 'time' is not defined",
     "output_type": "error",
     "traceback": [
      "\u001b[0;31m---------------------------------------------------------------------------\u001b[0m",
      "\u001b[0;31mNameError\u001b[0m                                 Traceback (most recent call last)",
      "\u001b[0;32m<ipython-input-11-24dd12226284>\u001b[0m in \u001b[0;36m<module>\u001b[0;34m\u001b[0m\n\u001b[0;32m----> 1\u001b[0;31m \u001b[0mtime\u001b[0m\u001b[0;34m.\u001b[0m\u001b[0msleep\u001b[0m\u001b[0;34m(\u001b[0m\u001b[0;36m5\u001b[0m\u001b[0;34m)\u001b[0m  \u001b[0;31m# Must wait for output from above...\u001b[0m\u001b[0;34m\u001b[0m\u001b[0;34m\u001b[0m\u001b[0m\n\u001b[0m\u001b[1;32m      2\u001b[0m \u001b[0mt\u001b[0m\u001b[0;34m.\u001b[0m\u001b[0mis_alive\u001b[0m\u001b[0;34m(\u001b[0m\u001b[0;34m)\u001b[0m\u001b[0;34m\u001b[0m\u001b[0;34m\u001b[0m\u001b[0m\n",
      "\u001b[0;31mNameError\u001b[0m: name 'time' is not defined"
     ]
    }
   ],
   "source": [
    "time.sleep(5)  # Must wait for output from above...\n",
    "t.is_alive()"
   ]
  },
  {
   "cell_type": "markdown",
   "metadata": {
    "slideshow": {
     "slide_type": "subslide"
    }
   },
   "source": [
    "A thread that has finished can't be started again, as shown in the following example:"
   ]
  },
  {
   "cell_type": "code",
   "execution_count": null,
   "metadata": {
    "slideshow": {
     "slide_type": "fragment"
    }
   },
   "outputs": [],
   "source": [
    "try:\n",
    "    t.start()\n",
    "except Exception as err:\n",
    "    print(repr(err))"
   ]
  },
  {
   "cell_type": "markdown",
   "metadata": {
    "slideshow": {
     "slide_type": "subslide"
    }
   },
   "source": [
    "## Joining threads\n",
    "\n",
    "There is an element of the lifetime of threads that we brushed over.  Sometimes you would like to wait within the MainThread for a thread to finish; or indeed, wait within some child thread for some grandchild to finish.  For example:"
   ]
  },
  {
   "cell_type": "code",
   "execution_count": null,
   "metadata": {
    "slideshow": {
     "slide_type": "fragment"
    }
   },
   "outputs": [],
   "source": [
    "t = Thread(target=worker)\n",
    "print(\"About to start...\")\n",
    "t.start()\n",
    "print(\"All done\")"
   ]
  },
  {
   "cell_type": "markdown",
   "metadata": {
    "slideshow": {
     "slide_type": "subslide"
    }
   },
   "source": [
    "That was not as intended. The \"All done\" message printed before the thread was done.  We *could* manually wait on it:"
   ]
  },
  {
   "cell_type": "code",
   "execution_count": null,
   "metadata": {
    "slideshow": {
     "slide_type": "fragment"
    }
   },
   "outputs": [],
   "source": [
    "t = Thread(target=worker)\n",
    "print(\"About to start...\")\n",
    "t.start()\n",
    "while t.is_alive():\n",
    "    sleep(0.01)\n",
    "print(\"All done\")"
   ]
  },
  {
   "cell_type": "markdown",
   "metadata": {
    "slideshow": {
     "slide_type": "subslide"
    }
   },
   "source": [
    "There is a better, shorter, and more explicit way in `.join`'ing a thread."
   ]
  },
  {
   "cell_type": "code",
   "execution_count": null,
   "metadata": {
    "slideshow": {
     "slide_type": "fragment"
    }
   },
   "outputs": [],
   "source": [
    "t = Thread(target=worker)\n",
    "print(\"About to start...\")\n",
    "t.start()\n",
    "t.join() # Don't continue until thread completes\n",
    "print(\"All done\")"
   ]
  },
  {
   "cell_type": "markdown",
   "metadata": {
    "slideshow": {
     "slide_type": "slide"
    }
   },
   "source": [
    "## Thread identity\n",
    "\n",
    "The thread class has two attributes that lets us identify each thread. The human-ready `name`, which we can set when we construct the thread, and the machine-oriented `ident` one.  The name is set immediately, either to a passed in value or a generated human-readable one.  The `ident` is None until the thread actually starts."
   ]
  },
  {
   "cell_type": "code",
   "execution_count": null,
   "metadata": {
    "slideshow": {
     "slide_type": "fragment"
    }
   },
   "outputs": [],
   "source": [
    "t = Thread(target=worker)\n",
    "print(\"Automatic thread name:\", t.name)\n",
    "print(\"Thread identity:\", t.ident)\n",
    "\n",
    "print(\"Starting thread...\")\n",
    "t.start()\n",
    "print(\"Thread identity:\", t.ident)"
   ]
  },
  {
   "cell_type": "markdown",
   "metadata": {
    "slideshow": {
     "slide_type": "slide"
    }
   },
   "source": [
    "## Subclassing `Thread`\n",
    "\n",
    "In prior examples,  we created threads is by passing a `target` function to be executed. An alternative, and object oriented, way to do it is to extend the Thread class:"
   ]
  },
  {
   "cell_type": "code",
   "execution_count": null,
   "metadata": {},
   "outputs": [],
   "source": [
    "class MyThread(Thread):\n",
    "    def __init__(self, time_to_sleep, name=None):\n",
    "        super().__init__(name=name)\n",
    "        self.time_to_sleep = time_to_sleep\n",
    "        \n",
    "    def run(self):\n",
    "        ident = threading.current_thread().ident\n",
    "        print(f\"I am thread {self.name} (ID {ident}), \"\n",
    "              f\"sleeping for {self.time_to_sleep} seconds.\")\n",
    "        sleep(self.time_to_sleep)\n",
    "        print(f'Thread {self.name} exiting...')"
   ]
  },
  {
   "cell_type": "code",
   "execution_count": null,
   "metadata": {},
   "outputs": [],
   "source": [
    "t = MyThread(2, name=\"Santiago\")\n",
    "t.start()"
   ]
  },
  {
   "cell_type": "markdown",
   "metadata": {},
   "source": [
    "## Shared Data\n",
    "\n",
    "As we'll see, Threads can access shared data within the process they live in. Example:"
   ]
  },
  {
   "cell_type": "code",
   "execution_count": null,
   "metadata": {},
   "outputs": [],
   "source": [
    "TIME_TO_SLEEP = 2"
   ]
  },
  {
   "cell_type": "code",
   "execution_count": null,
   "metadata": {},
   "outputs": [],
   "source": [
    "def simple_worker():\n",
    "    myself = threading.current_thread()\n",
    "    print(f\"I am thread {myself.name}, and I'm sleeping for {TIME_TO_SLEEP}.\")\n",
    "    time.sleep(TIME_TO_SLEEP)\n",
    "    print(f'Thread {myself.name} exiting...')"
   ]
  },
  {
   "cell_type": "code",
   "execution_count": null,
   "metadata": {},
   "outputs": [],
   "source": [
    "t1 = Thread(target=simple_worker, name='Bubbles')\n",
    "t2 = Thread(target=simple_worker, name='Blossom')\n",
    "t3 = Thread(target=simple_worker, name='Buttercup')"
   ]
  },
  {
   "cell_type": "code",
   "execution_count": null,
   "metadata": {},
   "outputs": [],
   "source": [
    "t1.start()"
   ]
  },
  {
   "cell_type": "code",
   "execution_count": null,
   "metadata": {},
   "outputs": [],
   "source": [
    "t2.start()"
   ]
  },
  {
   "cell_type": "code",
   "execution_count": null,
   "metadata": {},
   "outputs": [],
   "source": [
    "t3.start()"
   ]
  },
  {
   "cell_type": "markdown",
   "metadata": {},
   "source": [
    "How is this possible?\n",
    "\n",
    "Remember, all threads live **within the same process**, and the variable `TIME_TO_SLEEP` is stored in the process. So all the threads created can access that variable."
   ]
  },
  {
   "cell_type": "markdown",
   "metadata": {},
   "source": [
    "## A real example\n",
    "\n",
    "In the `crypto-examples` directory, we've included a real example of a web server that contains prices of different cryptocurrencies. You can run it with `python flask_app.py --sleep [sleep in seconds]`. The server can be slowed down on purpose to simulate a real slow server.\n",
    "\n",
    "Let's check how to get one price as an example:"
   ]
  },
  {
   "cell_type": "code",
   "execution_count": null,
   "metadata": {},
   "outputs": [],
   "source": [
    "BASE_URL = \"http://localhost:5000\""
   ]
  },
  {
   "cell_type": "code",
   "execution_count": null,
   "metadata": {},
   "outputs": [],
   "source": [
    "import requests"
   ]
  },
  {
   "cell_type": "code",
   "execution_count": null,
   "metadata": {},
   "outputs": [],
   "source": [
    "resp = requests.get(f\"{BASE_URL}/price/bitfinex/btc/2020-04-01\")"
   ]
  },
  {
   "cell_type": "code",
   "execution_count": null,
   "metadata": {},
   "outputs": [],
   "source": [
    "resp"
   ]
  },
  {
   "cell_type": "code",
   "execution_count": null,
   "metadata": {},
   "outputs": [],
   "source": [
    "resp.json()"
   ]
  },
  {
   "cell_type": "markdown",
   "metadata": {},
   "source": [
    "Now, let's suppose we want to get the price of Bitcoin from 3 different exchanges: `bitfinex`, `bitstamp` and `kraken`. The sequential requests would take us 6 seconds (with a sleep param in 2)."
   ]
  },
  {
   "cell_type": "code",
   "execution_count": null,
   "metadata": {},
   "outputs": [],
   "source": [
    "%%time\n",
    "for exchange in ['bitfinex', 'bitstamp', 'kraken']:\n",
    "    url = f\"{BASE_URL}/price/{exchange}/btc/2020-04-01\"\n",
    "    resp = requests.get(url)\n",
    "    print(f\"{exchange.title()}: ${resp.json()['close']}\")"
   ]
  },
  {
   "cell_type": "markdown",
   "metadata": {
    "slideshow": {
     "slide_type": "slide"
    }
   },
   "source": [
    "Let's now move it to threads! For now, we'll just **print** the output, as we'll se data sharing in further lessons..."
   ]
  },
  {
   "cell_type": "code",
   "execution_count": null,
   "metadata": {
    "slideshow": {
     "slide_type": "fragment"
    }
   },
   "outputs": [],
   "source": [
    "%%time\n",
    "def check_price(exchange, symbol, date, base_url=BASE_URL):\n",
    "    \"General price-checker for given exchange, symbol, and date\"\n",
    "    url = f\"{base_url}/price/{exchange}/{symbol}/{date}\"\n",
    "    resp = requests.get(f\"{base_url}/price/{exchange}/{symbol}/{date}\")\n",
    "    print(f\"{exchange.title()}: ${resp.json()['close']}\")\n",
    "\n",
    "check_price('bitfinex', 'btc', '2020-04-01')"
   ]
  },
  {
   "cell_type": "code",
   "execution_count": null,
   "metadata": {
    "slideshow": {
     "slide_type": "subslide"
    }
   },
   "outputs": [
    {
     "name": "stdout",
     "output_type": "stream",
     "text": [
      "My name is thread-4; computation is 49; favorite color is yellow\n",
      "My name is thread-3; computation is 64; favorite color is green\n",
      "My name is thread-2; computation is 16; favorite color is green\n"
     ]
    }
   ],
   "source": [
    "threads = [\n",
    "    Thread(target=check_price, args=(exchange, 'btc', '2020-04-01'))\n",
    "    for exchange in EXCHANGES\n",
    "]\n",
    "\n",
    "print(\"Starting threads...\")\n",
    "%time for t in threads: t.start()\n",
    "print('-----')\n",
    "\n",
    "print(\"Joining threads...\")\n",
    "%time for t in threads: t.join()"
   ]
  },
  {
   "cell_type": "markdown",
   "metadata": {
    "slideshow": {
     "slide_type": "subslide"
    }
   },
   "source": [
    "## How many threads can we start?\n",
    "\n",
    "Let's say we need to get prices for 10 exchanges, 3 symbols, for a total of 30 days. \n",
    "\n",
    "We cannot efficiently start 900 threads at once, however. Each threads consumes resources and too many threads tend to bog down your system."
   ]
  },
  {
   "cell_type": "markdown",
   "metadata": {
    "slideshow": {
     "slide_type": "fragment"
    }
   },
   "source": [
    "So, what can we do when we need to process too many concurrent jobs? We'll create workers and use a consumer-producer model. But first, we need to talk about shared data, race conditions and synchronization..."
   ]
  },
  {
   "cell_type": "markdown",
   "metadata": {
    "slideshow": {
     "slide_type": "slide"
    }
   },
   "source": [
    "## Summary:\n",
    "\n",
    "* `threading` module ✅\n",
    "* `_thread`  module ❌\n",
    "\n",
    "A thread's life cycle is Instantiated > Started > Running > Finished."
   ]
  }
 ],
 "metadata": {
  "celltoolbar": "Slideshow",
  "kernelspec": {
   "display_name": "Python 3",
   "language": "python",
   "name": "python3"
  },
  "language_info": {
   "codemirror_mode": {
    "name": "ipython",
    "version": 3
   },
   "file_extension": ".py",
   "mimetype": "text/x-python",
   "name": "python",
   "nbconvert_exporter": "python",
   "pygments_lexer": "ipython3",
   "version": "3.8.5"
  }
 },
 "nbformat": 4,
 "nbformat_minor": 4
}
