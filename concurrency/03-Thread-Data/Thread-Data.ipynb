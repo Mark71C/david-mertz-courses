{
 "cells": [
  {
   "cell_type": "markdown",
   "metadata": {
    "slideshow": {
     "slide_type": "slide"
    }
   },
   "source": [
    "# Thread Data and Race Conditions\n",
    "\n",
    "We saw at the end of the last lesson that threads can access to share data. This is useful to share configuration, but it introduces problems. The main problem that arises is _[**race conditions**](https://en.wikipedia.org/wiki/Race_condition)_. Let us create an example."
   ]
  },
  {
   "cell_type": "code",
   "execution_count": 46,
   "metadata": {
    "slideshow": {
     "slide_type": "fragment"
    }
   },
   "outputs": [],
   "source": [
    "import threading\n",
    "from threading import Thread, current_thread\n",
    "from time import sleep, time\n",
    "import random\n",
    "import sys"
   ]
  },
  {
   "cell_type": "markdown",
   "metadata": {
    "slideshow": {
     "slide_type": "subslide"
    }
   },
   "source": [
    "## Shared state\n",
    "\n",
    "Previously we had created a dictionary and had issues arrive when different threads update values.  But actually, one simple share scalar value suffices to see the problem."
   ]
  },
  {
   "cell_type": "code",
   "execution_count": 56,
   "metadata": {
    "slideshow": {
     "slide_type": "fragment"
    }
   },
   "outputs": [],
   "source": [
    "counter, nthread, nloop = 0, 100, 50_000 \n",
    "\n",
    "def increment(n):\n",
    "    global counter\n",
    "    for _ in range(n):\n",
    "        counter += 1\n",
    "\n",
    "threads = [Thread(target=increment, args=(nloop,)) for _ in range(nthread)]\n",
    "for t in threads:\n",
    "    t.start()"
   ]
  },
  {
   "cell_type": "code",
   "execution_count": 57,
   "metadata": {
    "slideshow": {
     "slide_type": "subslide"
    }
   },
   "outputs": [
    {
     "name": "stdout",
     "output_type": "stream",
     "text": [
      "50,000 loops X 100 threads -> counter is 4,950,000\n"
     ]
    }
   ],
   "source": [
    "# Make sure they have finished before we report\n",
    "while alive := sum(t.is_alive() for t in threads):\n",
    "    sleep(2)\n",
    "    print(\"Num threads alive:\", sum(t.is_alive() for t in threads))\n",
    "    \n",
    "print(f\"{nloop:,} loops X {nthread:,} threads -> counter is {counter:,}\")    "
   ]
  },
  {
   "cell_type": "markdown",
   "metadata": {
    "slideshow": {
     "slide_type": "subslide"
    }
   },
   "source": [
    "### Where we went wrong?\n",
    "\n",
    "A subtlety in our program is that the single augmented assignment, `+=` is not **atomic**. \n",
    "\n",
    "Behind the scenes, `+=` runs 2 (or more) operations. In pseudo-code, this looks like:\n",
    "\n",
    "```\n",
    "add(counter, 1) TO <temp>  # A\n",
    "store(\"counter\", <temp>)   # B\n",
    "```\n",
    "\n",
    "Multiple threads are executing concurrently. Hence one or more may hold a value that becomes outdated between the time when the addition is performed (A) and the time when the name `counter` is rebound (B)."
   ]
  },
  {
   "cell_type": "markdown",
   "metadata": {
    "slideshow": {
     "slide_type": "subslide"
    }
   },
   "source": [
    "To be more exact, we can actually look at the Python bytecode (wordcode).  A thread may be suspended after any single instruction, and there are **four** instructions involved in the single augmented assignment."
   ]
  },
  {
   "cell_type": "code",
   "execution_count": null,
   "metadata": {
    "slideshow": {
     "slide_type": "fragment"
    }
   },
   "outputs": [],
   "source": [
    "import dis\n",
    "dis.dis(increment)"
   ]
  },
  {
   "cell_type": "markdown",
   "metadata": {
    "slideshow": {
     "slide_type": "slide"
    }
   },
   "source": [
    "## Thread Synchronization\n",
    "\n",
    "<img src=\"recording_studio_light.png\" width=\"25%\" align=\"right\"/>How can we fix the race condition? \n",
    "\n",
    "We need a way to keep the threads from stepping onto each other's data, some signal that a resource is **busy**.\n",
    "\n",
    "*(Example of INEs studios, a recording light is on, the studio is busy, nobody will enter the room)*"
   ]
  },
  {
   "cell_type": "markdown",
   "metadata": {
    "slideshow": {
     "slide_type": "subslide"
    }
   },
   "source": [
    "<img src=\"recording_studio_light.png\" width=\"25%\" align=\"right\"/>The easiest synchronization mechanism is a [Lock](https://en.wikipedia.org/wiki/Lock_(computer_science)), or a Mutex (mutual exclusion lock). Python includes the very intuitive `threading.Lock` class. \n",
    "\n",
    "A Lock works like the RECORDING light pictured. The first person (thread) that \"arrives\" turns on the light (acquires the lock). Anyone else has to wait for the person/thread to turn the light off and make the room (resource) available again."
   ]
  },
  {
   "cell_type": "markdown",
   "metadata": {
    "slideshow": {
     "slide_type": "slide"
    }
   },
   "source": [
    "## Locking"
   ]
  },
  {
   "cell_type": "code",
   "execution_count": null,
   "metadata": {
    "slideshow": {
     "slide_type": "slide"
    }
   },
   "outputs": [],
   "source": [
    "lock = threading.Lock()\n",
    "\n",
    "def lock_hogger(lock, wait=5):\n",
    "    name = current_thread().name\n",
    "    print(f\"{name}: acquiring lock.\")\n",
    "    lock.acquire()\n",
    "    print(f\"{name}: Lock acquired, sleeping\")\n",
    "    sleep(wait)\n",
    "    print(f\"{name}: Woke up, releasing lock\")\n",
    "    lock.release()\n",
    "\n",
    "Thread(target=lock_hogger, args=(lock,)).start()"
   ]
  },
  {
   "cell_type": "markdown",
   "metadata": {
    "slideshow": {
     "slide_type": "subslide"
    }
   },
   "source": [
    "We can ask about the state of a lock."
   ]
  },
  {
   "cell_type": "code",
   "execution_count": null,
   "metadata": {
    "slideshow": {
     "slide_type": "fragment"
    }
   },
   "outputs": [],
   "source": [
    "print(\"Is lock currently being used?\", lock.locked())\n",
    "\n",
    "# Claim the lock\n",
    "lock.acquire()\n",
    "print(\"Lock acquired?\", lock.locked())\n",
    "\n",
    "# We are done now\n",
    "lock.release()\n",
    "print(\"Still being used?\", lock.locked())"
   ]
  },
  {
   "cell_type": "markdown",
   "metadata": {
    "slideshow": {
     "slide_type": "fragment"
    }
   },
   "source": [
    "If we only ever ran sequential code, the lock would just be equivalent to a Boolean value.  But it is shared across all threads that have it in scope.  When another thread tries to acquire a lock that is in use, it will block until the lock becomes free."
   ]
  },
  {
   "cell_type": "markdown",
   "metadata": {
    "slideshow": {
     "slide_type": "subslide"
    }
   },
   "source": [
    "It is important (and sometimes tricky) to get the sequence of actions right, since a released lock with raise an exception if you try to release it again."
   ]
  },
  {
   "cell_type": "code",
   "execution_count": null,
   "metadata": {
    "slideshow": {
     "slide_type": "fragment"
    }
   },
   "outputs": [],
   "source": [
    "lock = threading.Lock()\n",
    "t = Thread(target=lock_hogger, args=(lock, 0.1))\n",
    "t.start()\n",
    "print(\"Releasing lock in MainThread...\")\n",
    "lock.release()"
   ]
  },
  {
   "cell_type": "markdown",
   "metadata": {
    "slideshow": {
     "slide_type": "subslide"
    }
   },
   "source": [
    "Where we get an exception among the competing `lock.release()` calls depends on the timings of threads."
   ]
  },
  {
   "cell_type": "code",
   "execution_count": null,
   "metadata": {
    "slideshow": {
     "slide_type": "fragment"
    }
   },
   "outputs": [],
   "source": [
    "lock = threading.Lock()\n",
    "t = Thread(target=lock_hogger, args=(lock, 0))\n",
    "t.start()\n",
    "sleep(0.1)\n",
    "try:\n",
    "    print(\"Releasing lock in MainThread...\")\n",
    "    lock.release()\n",
    "except Exception as err:\n",
    "    print(f\"{repr(err)} in {current_thread().name}\", file=sys.stderr)"
   ]
  },
  {
   "cell_type": "markdown",
   "metadata": {
    "slideshow": {
     "slide_type": "slide"
    }
   },
   "source": [
    "## Fixing the counter\n",
    "\n",
    "Now that we know about locks, we can use them to fix our counter example:"
   ]
  },
  {
   "cell_type": "code",
   "execution_count": 47,
   "metadata": {
    "slideshow": {
     "slide_type": "fragment"
    }
   },
   "outputs": [],
   "source": [
    "lock = threading.Lock()\n",
    "counter, nthread, nloop = 0, 100, 50_000 \n",
    "\n",
    "def increment(n, lock):\n",
    "    global counter\n",
    "    for _ in range(n):\n",
    "        lock.acquire()\n",
    "        counter += 1\n",
    "        lock.release()\n",
    "\n",
    "threads, now = [], time()\n",
    "for _ in range(nthread):\n",
    "    t = Thread(target=increment, args=(nloop, lock))\n",
    "    threads.append(t)\n",
    "    t.start()"
   ]
  },
  {
   "cell_type": "code",
   "execution_count": 48,
   "metadata": {
    "slideshow": {
     "slide_type": "subslide"
    }
   },
   "outputs": [
    {
     "name": "stdout",
     "output_type": "stream",
     "text": [
      "Num threads alive: 100\n",
      "Num threads alive: 100\n",
      "Num threads alive: 100\n",
      "Num threads alive: 100\n",
      "Num threads alive: 100\n",
      "Num threads alive: 99\n",
      "Num threads alive: 99\n",
      "Num threads alive: 99\n",
      "Num threads alive: 99\n",
      "Num threads alive: 0\n",
      "50,000 loops X 100 threads -> counter is 5,000,000\n",
      "Running everything took 51.14 seconds!\n"
     ]
    }
   ],
   "source": [
    "while alive := sum(t.is_alive() for t in threads):\n",
    "    sleep(5)\n",
    "    print(\"Num threads alive:\", sum(t.is_alive() for t in threads))\n",
    "    \n",
    "print(f\"{nloop:,} loops X {nthread:,} threads -> counter is {counter:,}\")\n",
    "print(f\"Running everything took {time()-now:.2f} seconds!\")"
   ]
  },
  {
   "cell_type": "markdown",
   "metadata": {
    "slideshow": {
     "slide_type": "slide"
    }
   },
   "source": [
    "## Problems with synchronization\n",
    "\n",
    "Locks are acquired before accessing what we call \"Critical Sections\"; important sections in our code that can potentially introduce race conditions. \n",
    "\n",
    "The problem is that locks are \"cooperative\", but you're not obliged to use them. If just one function in the codebase does lock management wrong, the problems can propagate. Possible problems:\n",
    "\n",
    "1. You fail to recognize that there is a \"critical section\".\n",
    "2. You fail to acquire the lock before entering the critical section.\n",
    "3. The critical section might use resources NOT protected by the lock.\n",
    "4. You fail to release the lock (e. g. code breaks before releasing).\n",
    "5. Deadlocks! (more in next lesson)."
   ]
  },
  {
   "cell_type": "markdown",
   "metadata": {
    "slideshow": {
     "slide_type": "subslide"
    }
   },
   "source": [
    "### Exceptions\n",
    "\n",
    "What if our function doesn't run has hoped?"
   ]
  },
  {
   "cell_type": "code",
   "execution_count": null,
   "metadata": {
    "slideshow": {
     "slide_type": "fragment"
    }
   },
   "outputs": [],
   "source": [
    "lock = threading.Lock()\n",
    "\n",
    "def faulty_lock_handler(lock, sleep=10):\n",
    "    print(\"\\t\\tThread: Acquiring lock.\")\n",
    "    lock.acquire()\n",
    "    print(\"\\t\\tThread: Lock acquired\")\n",
    "    time.sleep(sleep)\n",
    "    print(\"\\t\\tThread: Woke up, releasing lock\")\n",
    "    lock.release()\n",
    "\n",
    "# The `sleep` param is incorrect, should be a number\n",
    "Thread(target=faulty_lock_handler, args=(lock, 'x')).start()"
   ]
  },
  {
   "cell_type": "markdown",
   "metadata": {
    "slideshow": {
     "slide_type": "subslide"
    }
   },
   "source": [
    "Trying to acquire the lock will block **FOREVER**:"
   ]
  },
  {
   "cell_type": "code",
   "execution_count": 61,
   "metadata": {
    "slideshow": {
     "slide_type": "fragment"
    }
   },
   "outputs": [
    {
     "ename": "KeyboardInterrupt",
     "evalue": "",
     "output_type": "error",
     "traceback": [
      "\u001b[0;31m---------------------------------------------------------------------------\u001b[0m",
      "\u001b[0;31mKeyboardInterrupt\u001b[0m                         Traceback (most recent call last)",
      "\u001b[0;32m<ipython-input-61-7d28dc795612>\u001b[0m in \u001b[0;36m<module>\u001b[0;34m\u001b[0m\n\u001b[0;32m----> 1\u001b[0;31m \u001b[0mlock\u001b[0m\u001b[0;34m.\u001b[0m\u001b[0macquire\u001b[0m\u001b[0;34m(\u001b[0m\u001b[0;34m)\u001b[0m\u001b[0;34m\u001b[0m\u001b[0;34m\u001b[0m\u001b[0m\n\u001b[0m",
      "\u001b[0;31mKeyboardInterrupt\u001b[0m: "
     ]
    }
   ],
   "source": [
    "lock.acquire()"
   ]
  },
  {
   "cell_type": "markdown",
   "metadata": {
    "slideshow": {
     "slide_type": "fragment"
    }
   },
   "source": [
    "We could potentially add a _timeout_ to our acquire method, it will block for the specified number of seconds; if it hasn't acquired the lock, it returns `False`:"
   ]
  },
  {
   "cell_type": "code",
   "execution_count": 62,
   "metadata": {
    "slideshow": {
     "slide_type": "fragment"
    }
   },
   "outputs": [
    {
     "data": {
      "text/plain": [
       "False"
      ]
     },
     "execution_count": 62,
     "metadata": {},
     "output_type": "execute_result"
    }
   ],
   "source": [
    "lock.acquire(timeout=2)"
   ]
  },
  {
   "cell_type": "markdown",
   "metadata": {
    "slideshow": {
     "slide_type": "subslide"
    }
   },
   "source": [
    "We can make it non-blocking, if it is not able to acquire the lock, it will release it immediately:"
   ]
  },
  {
   "cell_type": "code",
   "execution_count": 65,
   "metadata": {
    "slideshow": {
     "slide_type": "fragment"
    }
   },
   "outputs": [
    {
     "data": {
      "text/plain": [
       "True"
      ]
     },
     "execution_count": 65,
     "metadata": {},
     "output_type": "execute_result"
    }
   ],
   "source": [
    "lock.acquire(blocking=False)"
   ]
  },
  {
   "cell_type": "markdown",
   "metadata": {
    "slideshow": {
     "slide_type": "fragment"
    }
   },
   "source": [
    "Thankfully, we have a handle on the lock variable, so we can release it from here, but this is cheating:"
   ]
  },
  {
   "cell_type": "code",
   "execution_count": 66,
   "metadata": {
    "slideshow": {
     "slide_type": "fragment"
    }
   },
   "outputs": [
    {
     "data": {
      "text/plain": [
       "True"
      ]
     },
     "execution_count": 66,
     "metadata": {},
     "output_type": "execute_result"
    }
   ],
   "source": [
    "lock.release()\n",
    "lock.acquire(blocking=False)"
   ]
  },
  {
   "cell_type": "markdown",
   "metadata": {
    "slideshow": {
     "slide_type": "subslide"
    }
   },
   "source": [
    "## Context Manager\n",
    "\n",
    "The way to solve this problem is to use a locks as Context Managers. This will release the lock **even if** something goes wrong within the critical section:"
   ]
  },
  {
   "cell_type": "code",
   "execution_count": null,
   "metadata": {
    "slideshow": {
     "slide_type": "fragment"
    }
   },
   "outputs": [],
   "source": [
    "def fixed_lock_handler(lock, sleep=10):\n",
    "    print(\"\\t\\tThread: Acquiring lock.\")\n",
    "    with lock:\n",
    "        print(\"\\t\\tThread: Lock acquired\")\n",
    "        if sleep:\n",
    "            time.sleep(sleep)\n",
    "    print(\"\\t\\tThread: Woke up, releasing lock\")"
   ]
  },
  {
   "cell_type": "code",
   "execution_count": 67,
   "metadata": {
    "slideshow": {
     "slide_type": "subslide"
    }
   },
   "outputs": [
    {
     "name": "stdout",
     "output_type": "stream",
     "text": [
      "\t\tThread: Acquiring lock.\n",
      "\t\tThread: Lock acquired\n"
     ]
    },
    {
     "name": "stderr",
     "output_type": "stream",
     "text": [
      "Exception in thread Thread-4527:\n",
      "Traceback (most recent call last):\n",
      "  File \"/home/davidmertz/miniconda3/envs/INE/lib/python3.8/threading.py\", line 932, in _bootstrap_inner\n",
      "    self.run()\n",
      "  File \"/home/davidmertz/miniconda3/envs/INE/lib/python3.8/threading.py\", line 870, in run\n",
      "    self._target(*self._args, **self._kwargs)\n",
      "  File \"<ipython-input-67-8211ba63e980>\", line 8, in fixed_lock_handler\n",
      "AttributeError: 'builtin_function_or_method' object has no attribute 'sleep'\n"
     ]
    }
   ],
   "source": [
    "lock = threading.Lock()\n",
    "Thread(target=fixed_lock_handler, args=(lock, 5)).start()"
   ]
  },
  {
   "cell_type": "code",
   "execution_count": 68,
   "metadata": {
    "slideshow": {
     "slide_type": "fragment"
    }
   },
   "outputs": [
    {
     "data": {
      "text/plain": [
       "True"
      ]
     },
     "execution_count": 68,
     "metadata": {},
     "output_type": "execute_result"
    }
   ],
   "source": [
    "lock.acquire()"
   ]
  },
  {
   "cell_type": "code",
   "execution_count": 69,
   "metadata": {
    "slideshow": {
     "slide_type": "fragment"
    }
   },
   "outputs": [],
   "source": [
    "lock.release()"
   ]
  },
  {
   "cell_type": "code",
   "execution_count": 70,
   "metadata": {
    "slideshow": {
     "slide_type": "subslide"
    }
   },
   "outputs": [
    {
     "name": "stdout",
     "output_type": "stream",
     "text": [
      "\t\tThread: Acquiring lock.\n",
      "\t\tThread: Lock acquired\n"
     ]
    },
    {
     "name": "stderr",
     "output_type": "stream",
     "text": [
      "Exception in thread Thread-4528:\n",
      "Traceback (most recent call last):\n",
      "  File \"/home/davidmertz/miniconda3/envs/INE/lib/python3.8/threading.py\", line 932, in _bootstrap_inner\n",
      "    self.run()\n",
      "  File \"/home/davidmertz/miniconda3/envs/INE/lib/python3.8/threading.py\", line 870, in run\n",
      "    self._target(*self._args, **self._kwargs)\n",
      "  File \"<ipython-input-67-8211ba63e980>\", line 8, in fixed_lock_handler\n",
      "AttributeError: 'builtin_function_or_method' object has no attribute 'sleep'\n"
     ]
    }
   ],
   "source": [
    "# The `sleep` param is incorrect, should be a number\n",
    "Thread(target=fixed_lock_handler, args=(lock, 'x')).start()"
   ]
  },
  {
   "cell_type": "markdown",
   "metadata": {
    "slideshow": {
     "slide_type": "subslide"
    }
   },
   "source": [
    "Is the lock still acquired?"
   ]
  },
  {
   "cell_type": "code",
   "execution_count": 71,
   "metadata": {
    "slideshow": {
     "slide_type": "fragment"
    }
   },
   "outputs": [
    {
     "data": {
      "text/plain": [
       "False"
      ]
     },
     "execution_count": 71,
     "metadata": {},
     "output_type": "execute_result"
    }
   ],
   "source": [
    "lock.locked()"
   ]
  },
  {
   "cell_type": "code",
   "execution_count": 72,
   "metadata": {
    "slideshow": {
     "slide_type": "fragment"
    }
   },
   "outputs": [
    {
     "data": {
      "text/plain": [
       "True"
      ]
     },
     "execution_count": 72,
     "metadata": {},
     "output_type": "execute_result"
    }
   ],
   "source": [
    "lock.acquire()"
   ]
  },
  {
   "cell_type": "code",
   "execution_count": 73,
   "metadata": {
    "slideshow": {
     "slide_type": "fragment"
    }
   },
   "outputs": [],
   "source": [
    "lock.release()"
   ]
  },
  {
   "cell_type": "markdown",
   "metadata": {
    "slideshow": {
     "slide_type": "subslide"
    }
   },
   "source": [
    "The critical section failed with an exception, but the lock was released before exiting. Using `with` and the lock as context manager is syntactic sugar for this pattern:\n",
    "\n",
    "```python\n",
    "lock.acquire()\n",
    "try:\n",
    "    critical_section()\n",
    "finally:\n",
    "    lock.release()  # We'll release the lock no matter what\n",
    "```"
   ]
  },
  {
   "cell_type": "markdown",
   "metadata": {
    "slideshow": {
     "slide_type": "subslide"
    }
   },
   "source": [
    "## Improving the threaded counter\n",
    "\n",
    "The last touch for our counter should be to use the context manager protocol of the lock object:"
   ]
  },
  {
   "cell_type": "code",
   "execution_count": 77,
   "metadata": {
    "slideshow": {
     "slide_type": "fragment"
    }
   },
   "outputs": [],
   "source": [
    "lock = threading.Lock()\n",
    "counter, nthread, nloop = 0, 100, 50_000 \n",
    "\n",
    "def increment(n, lock):\n",
    "    global counter\n",
    "    for _ in range(n):\n",
    "        with lock:\n",
    "            counter += 1\n",
    "            \n",
    "threads, now = [], time()\n",
    "for _ in range(nthread):\n",
    "    t = Thread(target=increment, args=(nloop, lock))\n",
    "    threads.append(t)\n",
    "    t.start()"
   ]
  },
  {
   "cell_type": "code",
   "execution_count": 78,
   "metadata": {
    "slideshow": {
     "slide_type": "subslide"
    }
   },
   "outputs": [
    {
     "name": "stdout",
     "output_type": "stream",
     "text": [
      "Num threads alive: 100\n",
      "Num threads alive: 100\n",
      "Num threads alive: 100\n",
      "Num threads alive: 100\n",
      "Num threads alive: 100\n",
      "Num threads alive: 100\n",
      "Num threads alive: 99\n",
      "Num threads alive: 99\n",
      "Num threads alive: 0\n",
      "50,000 loops X 100 threads -> counter is 5,000,000\n",
      "Running everything took 55.22 seconds!\n"
     ]
    }
   ],
   "source": [
    "while alive := sum(t.is_alive() for t in threads):\n",
    "    sleep(5)\n",
    "    print(\"Num threads alive:\", sum(t.is_alive() for t in threads))\n",
    "    \n",
    "print(f\"{nloop:,} loops X {nthread:,} threads -> counter is {counter:,}\")\n",
    "print(f\"Running everything took {time()-now:.2f} seconds!\")"
   ]
  },
  {
   "cell_type": "markdown",
   "metadata": {
    "slideshow": {
     "slide_type": "subslide"
    }
   },
   "source": [
    "## Coarser Locks\n",
    "\n",
    "The threaded program is a **whole lot** slower than a serial version! When we do the augmented assignment, `+=` it is not *atomic*, but it is still a lot less work than acquiring and releasing the lock.  The program is dominated by juggling locks."
   ]
  },
  {
   "cell_type": "code",
   "execution_count": 80,
   "metadata": {},
   "outputs": [
    {
     "name": "stdout",
     "output_type": "stream",
     "text": [
      "CPU times: user 354 ms, sys: 0 ns, total: 354 ms\n",
      "Wall time: 350 ms\n"
     ]
    }
   ],
   "source": [
    "%%time\n",
    "counter, nthread, nloop = 0, 100, 50_000 \n",
    "\n",
    "def increment(nthread, nloop):\n",
    "    global counter\n",
    "    for n in range(nloop):\n",
    "        for m in range(nthread):\n",
    "            counter += 1\n",
    "            \n",
    "increment(nthread, nloop)"
   ]
  },
  {
   "cell_type": "markdown",
   "metadata": {
    "slideshow": {
     "slide_type": "subslide"
    }
   },
   "source": [
    "Even the threaded version that did not use locks will be slower than the serial version, but not hundreds of times slower.  By releasing locks less often, and doing more work within a thread, we can make a compromise."
   ]
  },
  {
   "cell_type": "code",
   "execution_count": 83,
   "metadata": {
    "slideshow": {
     "slide_type": "fragment"
    }
   },
   "outputs": [],
   "source": [
    "lock = threading.Lock()\n",
    "counter, nthread, nloop = 0, 100, 50_000\n",
    "coarseness = 1000\n",
    "\n",
    "def increment(nloop, lock, coarsness):\n",
    "    assert nloop % coarseness == 0, \"Cannot evenly divide word\"\n",
    "    global counter\n",
    "    for chunk in range(nloop//coarseness):\n",
    "        with lock:\n",
    "            for _ in range(coarseness):\n",
    "                counter += 1\n",
    "\n",
    "threads, now = [], time()\n",
    "for _ in range(nthread):\n",
    "    t = Thread(target=increment, args=(nloop, lock, coarseness))\n",
    "    threads.append(t)\n",
    "    t.start()"
   ]
  },
  {
   "cell_type": "code",
   "execution_count": 84,
   "metadata": {
    "slideshow": {
     "slide_type": "subslide"
    }
   },
   "outputs": [
    {
     "name": "stdout",
     "output_type": "stream",
     "text": [
      "50,000 loops X 100 threads -> counter is 5,000,000\n",
      "Running everything took 3.26 seconds!\n"
     ]
    }
   ],
   "source": [
    "while alive := sum(t.is_alive() for t in threads):\n",
    "    sleep(5)\n",
    "    print(\"Num threads alive:\", sum(t.is_alive() for t in threads))\n",
    "    \n",
    "print(f\"{nloop:,} loops X {nthread:,} threads -> counter is {counter:,}\")\n",
    "print(f\"Running everything took {time()-now:.2f} seconds!\")"
   ]
  },
  {
   "cell_type": "markdown",
   "metadata": {
    "slideshow": {
     "slide_type": "slide"
    }
   },
   "source": [
    "## Summary:\n",
    "\n",
    "We've seen the importance of keeping our critical sections safe, to avoid race conditions. But there's no free lunch. To prevent race conditions we have to use synchronization mechanisms, and as we saw, that can carry other issues.\n",
    "\n",
    "In the next section we'll explore one of the many things that can go wrong with manual synchronization: one of the the scariest words in computer science: **Deadlocks**."
   ]
  }
 ],
 "metadata": {
  "celltoolbar": "Slideshow",
  "kernelspec": {
   "display_name": "Python 3",
   "language": "python",
   "name": "python3"
  },
  "language_info": {
   "codemirror_mode": {
    "name": "ipython",
    "version": 3
   },
   "file_extension": ".py",
   "mimetype": "text/x-python",
   "name": "python",
   "nbconvert_exporter": "python",
   "pygments_lexer": "ipython3",
   "version": "3.8.5"
  }
 },
 "nbformat": 4,
 "nbformat_minor": 4
}
