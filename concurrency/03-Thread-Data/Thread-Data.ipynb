{
 "cells": [
  {
   "cell_type": "markdown",
   "metadata": {
    "slideshow": {
     "slide_type": "slide"
    }
   },
   "source": [
    "# Thread Data and Race Conditions\n",
    "\n",
    "We saw at the end of the last lesson that threads can access to share data. This is useful to share configuration, but it introduces problems. The main problem that arises is _[**race conditions**](https://en.wikipedia.org/wiki/Race_condition)_. Let us create an example."
   ]
  },
  {
   "cell_type": "code",
   "execution_count": 1,
   "metadata": {
    "slideshow": {
     "slide_type": "fragment"
    }
   },
   "outputs": [],
   "source": [
    "from threading import Thread, current_thread, Lock\n",
    "from time import sleep, time\n",
    "from sys import stderr"
   ]
  },
  {
   "cell_type": "markdown",
   "metadata": {
    "slideshow": {
     "slide_type": "subslide"
    }
   },
   "source": [
    "## Shared state\n",
    "\n",
    "Previously we had created a dictionary and had issues arrive when different threads update values.  But actually, one simple share scalar value suffices to see the problem."
   ]
  },
  {
   "cell_type": "code",
   "execution_count": 2,
   "metadata": {
    "slideshow": {
     "slide_type": "fragment"
    }
   },
   "outputs": [],
   "source": [
    "def increment(n):\n",
    "    global counter\n",
    "    for _ in range(n):\n",
    "        counter += 1"
   ]
  },
  {
   "cell_type": "code",
   "execution_count": 6,
   "metadata": {
    "slideshow": {
     "slide_type": "subslide"
    }
   },
   "outputs": [
    {
     "name": "stdout",
     "output_type": "stream",
     "text": [
      "Num threads alive: 0\n",
      "55,000 loops X 100 threads -> counter is 4,872,301\n"
     ]
    }
   ],
   "source": [
    "counter, nthread, nloop = 0, 100, 55_000 \n",
    "threads = [Thread(target=increment, args=(nloop,)) for _ in range(nthread)]\n",
    "for t in threads:\n",
    "    t.start()\n",
    "\n",
    "# Make sure they have finished before we report\n",
    "while alive := sum(t.is_alive() for t in threads):\n",
    "    sleep(2)\n",
    "    print(\"Num threads alive:\", sum(t.is_alive() for t in threads))\n",
    "    \n",
    "print(f\"{nloop:,} loops X {nthread:,} threads -> counter is {counter:,}\")    "
   ]
  },
  {
   "cell_type": "markdown",
   "metadata": {
    "slideshow": {
     "slide_type": "subslide"
    }
   },
   "source": [
    "### Where we went wrong?\n",
    "\n",
    "A subtlety in our program is that the single augmented assignment, `+=` is not **atomic**. \n",
    "\n",
    "Behind the scenes, `+=` runs 2 (or more) operations. In pseudo-code, this looks like:\n",
    "\n",
    "```\n",
    "add(counter, 1) TO <temp>  # A\n",
    "store(\"counter\", <temp>)   # B\n",
    "```\n",
    "\n",
    "Multiple threads are executing concurrently. Hence one or more may hold a value that becomes outdated between the time when the addition is performed (A) and the time when the name `counter` is rebound (B)."
   ]
  },
  {
   "cell_type": "markdown",
   "metadata": {
    "slideshow": {
     "slide_type": "subslide"
    }
   },
   "source": [
    "To be more exact, we can actually look at the Python bytecode (wordcode).  A thread may be suspended after any single instruction, and there are **four** instructions involved in the single augmented assignment."
   ]
  },
  {
   "cell_type": "code",
   "execution_count": 7,
   "metadata": {
    "slideshow": {
     "slide_type": "fragment"
    }
   },
   "outputs": [
    {
     "name": "stdout",
     "output_type": "stream",
     "text": [
      "  3           0 LOAD_GLOBAL              0 (range)\n",
      "              2 LOAD_FAST                0 (n)\n",
      "              4 CALL_FUNCTION            1\n",
      "              6 GET_ITER\n",
      "        >>    8 FOR_ITER                12 (to 22)\n",
      "             10 STORE_FAST               1 (_)\n",
      "\n",
      "  4          12 LOAD_GLOBAL              1 (counter)\n",
      "             14 LOAD_CONST               1 (1)\n",
      "             16 INPLACE_ADD\n",
      "             18 STORE_GLOBAL             1 (counter)\n",
      "             20 JUMP_ABSOLUTE            8\n",
      "        >>   22 LOAD_CONST               0 (None)\n",
      "             24 RETURN_VALUE\n"
     ]
    }
   ],
   "source": [
    "import dis\n",
    "dis.dis(increment)"
   ]
  },
  {
   "cell_type": "markdown",
   "metadata": {
    "slideshow": {
     "slide_type": "slide"
    }
   },
   "source": [
    "## Thread Synchronization\n",
    "\n",
    "<img src=\"recording_studio_light.png\" width=\"25%\" align=\"right\"/>How can we fix the race condition? \n",
    "\n",
    "We need a way to keep the threads from stepping onto each other's data, some signal that a resource is **busy**.\n",
    "\n",
    "*(Example of INEs studios, a recording light is on, the studio is busy, nobody will enter the room)*"
   ]
  },
  {
   "cell_type": "markdown",
   "metadata": {
    "slideshow": {
     "slide_type": "subslide"
    }
   },
   "source": [
    "<img src=\"recording_studio_light.png\" width=\"25%\" align=\"right\"/>The most basic synchronization mechanism is a [Lock](https://en.wikipedia.org/wiki/Lock_(computer_science)), or a Mutex (mutual exclusion lock). Python includes the very intuitive `threading.Lock` class. \n",
    "\n",
    "A Lock works like the RECORDING light pictured. The first person (thread) that \"arrives\" turns on the light (acquires the lock). Anyone else has to wait for the person/thread to turn the light off and make the room (resource) available again."
   ]
  },
  {
   "cell_type": "markdown",
   "metadata": {
    "slideshow": {
     "slide_type": "slide"
    }
   },
   "source": [
    "## Locking"
   ]
  },
  {
   "cell_type": "code",
   "execution_count": 8,
   "metadata": {
    "slideshow": {
     "slide_type": "fragment"
    }
   },
   "outputs": [
    {
     "name": "stdout",
     "output_type": "stream",
     "text": [
      "Thread-404: acquiring lock.\n",
      "Thread-404: Lock acquired, sleeping\n",
      "Thread-404: Woke up, releasing lock\n"
     ]
    }
   ],
   "source": [
    "lock = Lock()\n",
    "\n",
    "def lock_hogger(lock, wait=5):\n",
    "    name = current_thread().name\n",
    "    print(f\"{name}: acquiring lock.\")\n",
    "    lock.acquire()\n",
    "    print(f\"{name}: Lock acquired, sleeping\")\n",
    "    sleep(wait)\n",
    "    print(f\"{name}: Woke up, releasing lock\")\n",
    "    lock.release()\n",
    "\n",
    "Thread(target=lock_hogger, args=(lock,)).start()"
   ]
  },
  {
   "cell_type": "markdown",
   "metadata": {
    "slideshow": {
     "slide_type": "subslide"
    }
   },
   "source": [
    "We can ask about the state of a lock."
   ]
  },
  {
   "cell_type": "code",
   "execution_count": 9,
   "metadata": {
    "slideshow": {
     "slide_type": "fragment"
    }
   },
   "outputs": [
    {
     "name": "stdout",
     "output_type": "stream",
     "text": [
      "Is lock currently being used? False\n",
      "Lock acquired? True\n",
      "Still being used? False\n"
     ]
    }
   ],
   "source": [
    "print(\"Is lock currently being used?\", lock.locked())\n",
    "\n",
    "# Claim the lock\n",
    "lock.acquire()\n",
    "print(\"Lock acquired?\", lock.locked())\n",
    "\n",
    "# We are done now\n",
    "lock.release()\n",
    "print(\"Still being used?\", lock.locked())"
   ]
  },
  {
   "cell_type": "markdown",
   "metadata": {
    "slideshow": {
     "slide_type": "subslide"
    }
   },
   "source": [
    "If we only ever ran sequential code, the lock would just be equivalent to a Boolean value.  But it is shared across all threads that have it in scope.  When another thread tries to acquire a lock that is in use, it will block until the lock becomes free."
   ]
  },
  {
   "cell_type": "markdown",
   "metadata": {
    "slideshow": {
     "slide_type": "fragment"
    }
   },
   "source": [
    "It is important (and sometimes tricky) to get the sequence of actions right, since a released lock will raise an exception if you try to release it again."
   ]
  },
  {
   "cell_type": "code",
   "execution_count": 10,
   "metadata": {
    "slideshow": {
     "slide_type": "subslide"
    }
   },
   "outputs": [
    {
     "name": "stdout",
     "output_type": "stream",
     "text": [
      "Thread-405: acquiring lock.\n",
      "Thread-405: Lock acquired, sleeping\n",
      "Releasing lock in MainThread...\n"
     ]
    },
    {
     "name": "stderr",
     "output_type": "stream",
     "text": [
      "Exception in thread Thread-405:\n",
      "Traceback (most recent call last):\n",
      "  File \"/home/dmertz/miniconda3/envs/INE/lib/python3.8/threading.py\", line 932, in _bootstrap_inner\n",
      "    self.run()\n",
      "  File \"/home/dmertz/miniconda3/envs/INE/lib/python3.8/threading.py\", line 870, in run\n",
      "    self._target(*self._args, **self._kwargs)\n",
      "  File \"<ipython-input-8-3315af7a6c72>\", line 10, in lock_hogger\n",
      "RuntimeError: release unlocked lock\n"
     ]
    },
    {
     "name": "stdout",
     "output_type": "stream",
     "text": [
      "Thread-405: Woke up, releasing lock\n"
     ]
    }
   ],
   "source": [
    "lock = Lock()\n",
    "t = Thread(target=lock_hogger, args=(lock, 0.1))\n",
    "t.start()\n",
    "print(\"Releasing lock in MainThread...\")\n",
    "lock.release()"
   ]
  },
  {
   "cell_type": "markdown",
   "metadata": {
    "slideshow": {
     "slide_type": "subslide"
    }
   },
   "source": [
    "Where we get an exception among the competing `lock.release()` calls depends on the timings of threads."
   ]
  },
  {
   "cell_type": "code",
   "execution_count": 11,
   "metadata": {
    "slideshow": {
     "slide_type": "fragment"
    }
   },
   "outputs": [
    {
     "name": "stdout",
     "output_type": "stream",
     "text": [
      "Thread-406: acquiring lock.\n",
      "Thread-406: Lock acquired, sleeping\n",
      "Thread-406: Woke up, releasing lock\n",
      "Releasing lock in MainThread...\n"
     ]
    },
    {
     "name": "stderr",
     "output_type": "stream",
     "text": [
      "RuntimeError('release unlocked lock') in MainThread\n"
     ]
    }
   ],
   "source": [
    "lock = Lock()\n",
    "t = Thread(target=lock_hogger, args=(lock, 0))\n",
    "t.start()\n",
    "sleep(0.1)\n",
    "try:\n",
    "    print(\"Releasing lock in MainThread...\")\n",
    "    lock.release()\n",
    "except Exception as err:\n",
    "    print(f\"{repr(err)} in {current_thread().name}\", file=stderr)"
   ]
  },
  {
   "cell_type": "markdown",
   "metadata": {
    "slideshow": {
     "slide_type": "slide"
    }
   },
   "source": [
    "## Fixing the counter\n",
    "\n",
    "Now that we know about locks, we can use them to fix our counter example:"
   ]
  },
  {
   "cell_type": "code",
   "execution_count": 12,
   "metadata": {
    "slideshow": {
     "slide_type": "fragment"
    }
   },
   "outputs": [],
   "source": [
    "lock, counter, nthread, nloop = Lock(), 0, 100, 70_000 \n",
    "\n",
    "def increment(n, lock):\n",
    "    global counter\n",
    "    for _ in range(n):\n",
    "        lock.acquire()\n",
    "        counter += 1\n",
    "        lock.release()\n",
    "\n",
    "threads, now = [], time()\n",
    "for _ in range(nthread):\n",
    "    t = Thread(target=increment, args=(nloop, lock))\n",
    "    threads.append(t)\n",
    "    t.start()"
   ]
  },
  {
   "cell_type": "code",
   "execution_count": 13,
   "metadata": {
    "slideshow": {
     "slide_type": "subslide"
    }
   },
   "outputs": [
    {
     "name": "stdout",
     "output_type": "stream",
     "text": [
      "Num threads alive: 98\n",
      "Num threads alive: 98\n",
      "Num threads alive: 98\n",
      "Num threads alive: 98\n",
      "Num threads alive: 98\n",
      "Num threads alive: 98\n",
      "Num threads alive: 98\n",
      "Num threads alive: 98\n",
      "Num threads alive: 97\n",
      "Num threads alive: 0\n",
      "70,000 loops X 100 threads -> counter is 7,000,000\n",
      "Running everything took 60.98 seconds!\n"
     ]
    }
   ],
   "source": [
    "while alive := sum(t.is_alive() for t in threads):\n",
    "    sleep(5)\n",
    "    print(\"Num threads alive:\", sum(t.is_alive() for t in threads))\n",
    "    \n",
    "print(f\"{nloop:,} loops X {nthread:,} threads -> counter is {counter:,}\")\n",
    "print(f\"Running everything took {time()-now:.2f} seconds!\")"
   ]
  },
  {
   "cell_type": "markdown",
   "metadata": {
    "slideshow": {
     "slide_type": "slide"
    }
   },
   "source": [
    "## Problems with synchronization\n",
    "\n",
    "Locks are acquired before accessing what we call \"Critical Sections\"; important sections in our code that can potentially introduce race conditions. \n",
    "\n",
    "The problem is that locks are \"cooperative\", but you're not obliged to use them. If just one function in the codebase does lock management wrong, the problems can propagate. "
   ]
  },
  {
   "cell_type": "markdown",
   "metadata": {
    "slideshow": {
     "slide_type": "slide"
    }
   },
   "source": [
    "Possible problems:\n",
    "\n",
    "1. You fail to recognize that there is a \"critical section\".\n",
    "2. You fail to acquire the lock before entering the critical section.\n",
    "3. The critical section might use resources NOT protected by the lock.\n",
    "4. You fail to release the lock (e. g. code breaks before releasing).\n",
    "5. Deadlocks! (more in next lesson)."
   ]
  },
  {
   "cell_type": "markdown",
   "metadata": {
    "slideshow": {
     "slide_type": "subslide"
    }
   },
   "source": [
    "### Exceptions\n",
    "\n",
    "What if our function doesn't run has hoped?"
   ]
  },
  {
   "cell_type": "code",
   "execution_count": 14,
   "metadata": {
    "slideshow": {
     "slide_type": "fragment"
    }
   },
   "outputs": [],
   "source": [
    "lock = Lock()\n",
    "\n",
    "def faulty_lock_handler(lock, wait=10):\n",
    "    print(\"\\t\\tThread: Acquiring lock.\")\n",
    "    lock.acquire()\n",
    "    print(\"\\t\\tThread: Lock acquired\")\n",
    "    sleep(wait)\n",
    "    print(\"\\t\\tThread: Woke up, releasing lock\")\n",
    "    lock.release()"
   ]
  },
  {
   "cell_type": "code",
   "execution_count": 15,
   "metadata": {
    "slideshow": {
     "slide_type": "subslide"
    }
   },
   "outputs": [
    {
     "name": "stdout",
     "output_type": "stream",
     "text": [
      "\t\tThread: Acquiring lock.\n",
      "\t\tThread: Lock acquired\n"
     ]
    },
    {
     "name": "stderr",
     "output_type": "stream",
     "text": [
      "Exception in thread Thread-507:\n",
      "Traceback (most recent call last):\n",
      "  File \"/home/dmertz/miniconda3/envs/INE/lib/python3.8/threading.py\", line 932, in _bootstrap_inner\n",
      "    self.run()\n",
      "  File \"/home/dmertz/miniconda3/envs/INE/lib/python3.8/threading.py\", line 870, in run\n",
      "    self._target(*self._args, **self._kwargs)\n",
      "  File \"<ipython-input-14-1e7a59c79ed2>\", line 7, in faulty_lock_handler\n",
      "TypeError: an integer is required (got type str)\n"
     ]
    }
   ],
   "source": [
    "# The `wait` param is incorrect, should be a number\n",
    "Thread(target=faulty_lock_handler, args=(lock, 'x')).start()"
   ]
  },
  {
   "cell_type": "markdown",
   "metadata": {
    "slideshow": {
     "slide_type": "subslide"
    }
   },
   "source": [
    "Trying to acquire the lock will block **FOREVER**:"
   ]
  },
  {
   "cell_type": "code",
   "execution_count": 16,
   "metadata": {
    "slideshow": {
     "slide_type": "fragment"
    }
   },
   "outputs": [
    {
     "ename": "KeyboardInterrupt",
     "evalue": "",
     "output_type": "error",
     "traceback": [
      "\u001b[0;31m---------------------------------------------------------------------------\u001b[0m",
      "\u001b[0;31mKeyboardInterrupt\u001b[0m                         Traceback (most recent call last)",
      "\u001b[0;32m<ipython-input-16-7d28dc795612>\u001b[0m in \u001b[0;36m<module>\u001b[0;34m\u001b[0m\n\u001b[0;32m----> 1\u001b[0;31m \u001b[0mlock\u001b[0m\u001b[0;34m.\u001b[0m\u001b[0macquire\u001b[0m\u001b[0;34m(\u001b[0m\u001b[0;34m)\u001b[0m\u001b[0;34m\u001b[0m\u001b[0;34m\u001b[0m\u001b[0m\n\u001b[0m",
      "\u001b[0;31mKeyboardInterrupt\u001b[0m: "
     ]
    }
   ],
   "source": [
    "lock.acquire()"
   ]
  },
  {
   "cell_type": "markdown",
   "metadata": {
    "slideshow": {
     "slide_type": "subslide"
    }
   },
   "source": [
    "We could potentially add a _timeout_ to our acquire method, it will block for the specified number of seconds; if it hasn't acquired the lock, it returns `False`:"
   ]
  },
  {
   "cell_type": "code",
   "execution_count": 17,
   "metadata": {
    "slideshow": {
     "slide_type": "fragment"
    }
   },
   "outputs": [
    {
     "data": {
      "text/plain": [
       "False"
      ]
     },
     "execution_count": 17,
     "metadata": {},
     "output_type": "execute_result"
    }
   ],
   "source": [
    "lock.acquire(timeout=2)"
   ]
  },
  {
   "cell_type": "markdown",
   "metadata": {
    "slideshow": {
     "slide_type": "subslide"
    }
   },
   "source": [
    "We can make it non-blocking, if it is not able to acquire the lock, it will release it immediately:"
   ]
  },
  {
   "cell_type": "code",
   "execution_count": 18,
   "metadata": {
    "slideshow": {
     "slide_type": "fragment"
    }
   },
   "outputs": [
    {
     "data": {
      "text/plain": [
       "False"
      ]
     },
     "execution_count": 18,
     "metadata": {},
     "output_type": "execute_result"
    }
   ],
   "source": [
    "lock.acquire(blocking=False)"
   ]
  },
  {
   "cell_type": "markdown",
   "metadata": {
    "slideshow": {
     "slide_type": "fragment"
    }
   },
   "source": [
    "We have a handle on the lock variable, so we can release.  This is dangerous though: what if the thread really **is** still using the resource?"
   ]
  },
  {
   "cell_type": "code",
   "execution_count": 19,
   "metadata": {
    "slideshow": {
     "slide_type": "fragment"
    }
   },
   "outputs": [
    {
     "data": {
      "text/plain": [
       "True"
      ]
     },
     "execution_count": 19,
     "metadata": {},
     "output_type": "execute_result"
    }
   ],
   "source": [
    "lock.release()\n",
    "lock.acquire(blocking=False)"
   ]
  },
  {
   "cell_type": "markdown",
   "metadata": {
    "slideshow": {
     "slide_type": "subslide"
    }
   },
   "source": [
    "## Context Manager\n",
    "\n",
    "To greatly ease this problem, we can use locks as Context Managers. This will release the lock **even if** something goes wrong within the critical section:"
   ]
  },
  {
   "cell_type": "code",
   "execution_count": 20,
   "metadata": {
    "slideshow": {
     "slide_type": "fragment"
    }
   },
   "outputs": [],
   "source": [
    "def fixed_lock_handler(lock, wait=10):\n",
    "    print(\"\\t\\tThread: Acquiring lock.\")\n",
    "    with lock:\n",
    "        print(\"\\t\\tThread: Lock acquired\")\n",
    "        sleep(wait)\n",
    "    print(\"\\t\\tThread: Woke up, releasing lock\")"
   ]
  },
  {
   "cell_type": "code",
   "execution_count": 21,
   "metadata": {
    "slideshow": {
     "slide_type": "subslide"
    }
   },
   "outputs": [
    {
     "name": "stdout",
     "output_type": "stream",
     "text": [
      "\t\tThread: Acquiring lock.\n",
      "\t\tThread: Lock acquired\n",
      "\t\tThread: Woke up, releasing lock\n"
     ]
    }
   ],
   "source": [
    "lock = Lock()\n",
    "Thread(target=fixed_lock_handler, args=(lock, 5)).start()"
   ]
  },
  {
   "cell_type": "code",
   "execution_count": 22,
   "metadata": {
    "slideshow": {
     "slide_type": "fragment"
    }
   },
   "outputs": [
    {
     "data": {
      "text/plain": [
       "True"
      ]
     },
     "execution_count": 22,
     "metadata": {},
     "output_type": "execute_result"
    }
   ],
   "source": [
    "lock.acquire()"
   ]
  },
  {
   "cell_type": "code",
   "execution_count": 23,
   "metadata": {
    "slideshow": {
     "slide_type": "fragment"
    }
   },
   "outputs": [],
   "source": [
    "lock.release()"
   ]
  },
  {
   "cell_type": "code",
   "execution_count": 24,
   "metadata": {
    "slideshow": {
     "slide_type": "subslide"
    }
   },
   "outputs": [
    {
     "name": "stdout",
     "output_type": "stream",
     "text": [
      "\t\tThread: Acquiring lock.\n",
      "\t\tThread: Lock acquired\n"
     ]
    },
    {
     "name": "stderr",
     "output_type": "stream",
     "text": [
      "Exception in thread Thread-509:\n",
      "Traceback (most recent call last):\n",
      "  File \"/home/dmertz/miniconda3/envs/INE/lib/python3.8/threading.py\", line 932, in _bootstrap_inner\n",
      "    self.run()\n",
      "  File \"/home/dmertz/miniconda3/envs/INE/lib/python3.8/threading.py\", line 870, in run\n",
      "    self._target(*self._args, **self._kwargs)\n",
      "  File \"<ipython-input-20-8d28d3b54873>\", line 5, in fixed_lock_handler\n",
      "TypeError: an integer is required (got type str)\n"
     ]
    }
   ],
   "source": [
    "# The `wait` param is incorrect, should be a number\n",
    "Thread(target=fixed_lock_handler, args=(lock, 'x')).start()"
   ]
  },
  {
   "cell_type": "markdown",
   "metadata": {
    "slideshow": {
     "slide_type": "subslide"
    }
   },
   "source": [
    "Is the lock still acquired?"
   ]
  },
  {
   "cell_type": "code",
   "execution_count": 25,
   "metadata": {
    "slideshow": {
     "slide_type": "fragment"
    }
   },
   "outputs": [
    {
     "data": {
      "text/plain": [
       "False"
      ]
     },
     "execution_count": 25,
     "metadata": {},
     "output_type": "execute_result"
    }
   ],
   "source": [
    "lock.locked()"
   ]
  },
  {
   "cell_type": "code",
   "execution_count": 26,
   "metadata": {
    "slideshow": {
     "slide_type": "fragment"
    }
   },
   "outputs": [
    {
     "data": {
      "text/plain": [
       "True"
      ]
     },
     "execution_count": 26,
     "metadata": {},
     "output_type": "execute_result"
    }
   ],
   "source": [
    "lock.acquire()"
   ]
  },
  {
   "cell_type": "code",
   "execution_count": 27,
   "metadata": {
    "slideshow": {
     "slide_type": "fragment"
    }
   },
   "outputs": [],
   "source": [
    "lock.release()"
   ]
  },
  {
   "cell_type": "markdown",
   "metadata": {
    "slideshow": {
     "slide_type": "subslide"
    }
   },
   "source": [
    "The critical section failed with an exception, but the lock was released before exiting. Using `with` and the lock as context manager is syntactic sugar for this pattern:\n",
    "\n",
    "```python\n",
    "lock.acquire()\n",
    "try:\n",
    "    critical_section()\n",
    "finally:\n",
    "    lock.release()  # We'll release the lock no matter what\n",
    "```"
   ]
  },
  {
   "cell_type": "markdown",
   "metadata": {
    "slideshow": {
     "slide_type": "subslide"
    }
   },
   "source": [
    "## Improving the threaded counter\n",
    "\n",
    "The last touch for our counter should be to use the context manager protocol of the lock object:"
   ]
  },
  {
   "cell_type": "code",
   "execution_count": 28,
   "metadata": {
    "slideshow": {
     "slide_type": "fragment"
    }
   },
   "outputs": [],
   "source": [
    "lock, counter, nthread, nloop = Lock(), 0, 100, 50_000 \n",
    "\n",
    "def increment(n, lock):\n",
    "    global counter\n",
    "    for _ in range(n):\n",
    "        with lock:\n",
    "            counter += 1\n",
    "            \n",
    "threads, now = [], time()\n",
    "for _ in range(nthread):\n",
    "    t = Thread(target=increment, args=(nloop, lock))\n",
    "    threads.append(t)\n",
    "    t.start()"
   ]
  },
  {
   "cell_type": "code",
   "execution_count": 29,
   "metadata": {
    "slideshow": {
     "slide_type": "subslide"
    }
   },
   "outputs": [
    {
     "name": "stdout",
     "output_type": "stream",
     "text": [
      "Num threads alive: 100\n",
      "Num threads alive: 100\n",
      "Num threads alive: 100\n",
      "Num threads alive: 100\n",
      "Num threads alive: 100\n",
      "Num threads alive: 99\n",
      "Num threads alive: 99\n",
      "Num threads alive: 0\n",
      "50,000 loops X 100 threads -> counter is 5,000,000\n",
      "Running everything took 43.86 seconds!\n"
     ]
    }
   ],
   "source": [
    "while alive := sum(t.is_alive() for t in threads):\n",
    "    sleep(5)\n",
    "    print(\"Num threads alive:\", sum(t.is_alive() for t in threads))\n",
    "    \n",
    "print(f\"{nloop:,} loops X {nthread:,} threads -> counter is {counter:,}\")\n",
    "print(f\"Running everything took {time()-now:.2f} seconds!\")"
   ]
  },
  {
   "cell_type": "markdown",
   "metadata": {
    "slideshow": {
     "slide_type": "subslide"
    }
   },
   "source": [
    "## Coarser Locks\n",
    "\n",
    "The threaded program is a **whole lot** slower than a serial version! When we do the augmented assignment, `+=` it is not *atomic*, but it is still a lot less work than acquiring and releasing the lock.  The program is dominated by juggling locks."
   ]
  },
  {
   "cell_type": "code",
   "execution_count": 30,
   "metadata": {},
   "outputs": [
    {
     "name": "stdout",
     "output_type": "stream",
     "text": [
      "CPU times: user 567 ms, sys: 0 ns, total: 567 ms\n",
      "Wall time: 568 ms\n"
     ]
    }
   ],
   "source": [
    "%%time\n",
    "counter, nthread, nloop = 0, 100, 50_000 \n",
    "\n",
    "def increment(nthread, nloop):\n",
    "    global counter\n",
    "    for n in range(nloop):\n",
    "        for m in range(nthread):\n",
    "            counter += 1\n",
    "            \n",
    "increment(nthread, nloop)"
   ]
  },
  {
   "cell_type": "markdown",
   "metadata": {
    "slideshow": {
     "slide_type": "subslide"
    }
   },
   "source": [
    "Even the threaded version that did not use locks will be slower than the serial version, but not hundreds of times slower.  By releasing locks less often, and doing more work within a thread, we can make a compromise."
   ]
  },
  {
   "cell_type": "code",
   "execution_count": 31,
   "metadata": {
    "slideshow": {
     "slide_type": "fragment"
    }
   },
   "outputs": [],
   "source": [
    "lock, counter, nthread, nloop = Lock(), 0, 100, 50_000\n",
    "coarseness = 1000\n",
    "\n",
    "def increment(nloop, lock, coarsness):\n",
    "    assert nloop % coarseness == 0, \"Cannot evenly divide work\"\n",
    "    global counter\n",
    "    for chunk in range(nloop//coarseness):\n",
    "        with lock:\n",
    "            for _ in range(coarseness):\n",
    "                counter += 1\n",
    "\n",
    "threads, now = [], time()\n",
    "for _ in range(nthread):\n",
    "    t = Thread(target=increment, args=(nloop, lock, coarseness))\n",
    "    threads.append(t)\n",
    "    t.start()"
   ]
  },
  {
   "cell_type": "code",
   "execution_count": 32,
   "metadata": {
    "slideshow": {
     "slide_type": "subslide"
    }
   },
   "outputs": [
    {
     "name": "stdout",
     "output_type": "stream",
     "text": [
      "50,000 loops X 100 threads -> counter is 5,000,000\n",
      "Running everything took 6.11 seconds!\n"
     ]
    }
   ],
   "source": [
    "while alive := sum(t.is_alive() for t in threads):\n",
    "    sleep(5)\n",
    "    print(\"Num threads alive:\", sum(t.is_alive() for t in threads))\n",
    "    \n",
    "print(f\"{nloop:,} loops X {nthread:,} threads -> counter is {counter:,}\")\n",
    "print(f\"Running everything took {time()-now:.2f} seconds!\")"
   ]
  },
  {
   "cell_type": "markdown",
   "metadata": {
    "slideshow": {
     "slide_type": "slide"
    }
   },
   "source": [
    "## Summary:\n",
    "\n",
    "We've seen the importance of keeping our critical sections safe, to avoid race conditions. But there's no free lunch. To prevent race conditions we have to use synchronization mechanisms, and as we saw, that can carry other issues.\n",
    "\n",
    "In the next section we'll explore one of the many things that can go wrong with manual synchronization: one of the the scariest words in computer science: **Deadlocks**."
   ]
  }
 ],
 "metadata": {
  "celltoolbar": "Slideshow",
  "kernelspec": {
   "display_name": "Python 3",
   "language": "python",
   "name": "python3"
  },
  "language_info": {
   "codemirror_mode": {
    "name": "ipython",
    "version": 3
   },
   "file_extension": ".py",
   "mimetype": "text/x-python",
   "name": "python",
   "nbconvert_exporter": "python",
   "pygments_lexer": "ipython3",
   "version": "3.8.2"
  }
 },
 "nbformat": 4,
 "nbformat_minor": 4
}
