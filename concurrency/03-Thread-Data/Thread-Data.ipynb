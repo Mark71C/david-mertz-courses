{
 "cells": [
  {
   "cell_type": "markdown",
   "metadata": {
    "slideshow": {
     "slide_type": "slide"
    }
   },
   "source": [
    "# Thread Data and Race Conditions\n",
    "\n",
    "We saw at the end of the last lesson that threads can access to share data. This is useful to share configuration, but it introduces problems. The main problem that arises is _[**race conditions**](https://en.wikipedia.org/wiki/Race_condition)_. Let us create an example."
   ]
  },
  {
   "cell_type": "code",
   "execution_count": 1,
   "metadata": {
    "slideshow": {
     "slide_type": "fragment"
    }
   },
   "outputs": [],
   "source": [
    "import threading\n",
    "from threading import Thread, current_thread\n",
    "from time import sleep\n",
    "import random\n",
    "import sys"
   ]
  },
  {
   "cell_type": "markdown",
   "metadata": {
    "slideshow": {
     "slide_type": "subslide"
    }
   },
   "source": [
    "## Shared state\n",
    "\n",
    "Previously we had created a dictionary and had issues arrive when different threads update values.  But actually, one simple share scalar value suffices to see the problem."
   ]
  },
  {
   "cell_type": "code",
   "execution_count": 2,
   "metadata": {
    "slideshow": {
     "slide_type": "fragment"
    }
   },
   "outputs": [
    {
     "name": "stdout",
     "output_type": "stream",
     "text": [
      "50,000 loops X 100 threads -> counter is 4,326,495\n"
     ]
    }
   ],
   "source": [
    "counter, nthread, nloop = 0, 100, 50_000 \n",
    "\n",
    "def increment(n):\n",
    "    global counter\n",
    "    for _ in range(n):\n",
    "        counter += 1\n",
    "\n",
    "for _ in range(nthread):\n",
    "    Thread(target=increment, args=(nloop,)).start()\n",
    "    \n",
    "print(f\"{nloop:,} loops X {nthread:,} threads -> counter is {counter:,}\")"
   ]
  },
  {
   "cell_type": "markdown",
   "metadata": {
    "slideshow": {
     "slide_type": "subslide"
    }
   },
   "source": [
    "### Where we went wrong?\n",
    "\n",
    "A subtlety in our program is that the single augmented assignment, `+=` is not **atomic**. \n",
    "\n",
    "Behind the scenes, `+=` runs 2 (or more) operations. In pseudo-code, this looks like:\n",
    "\n",
    "```\n",
    "add(counter, 1) TO <temp>  # A\n",
    "store(\"counter\", <temp>)   # B\n",
    "```\n",
    "\n",
    "Multiple threads are executing concurrently. Hence one or more may hold a value that becomes outdated between the time when the addition is performed (A) and the time when the name `counter` is rebound (B)."
   ]
  },
  {
   "cell_type": "markdown",
   "metadata": {
    "slideshow": {
     "slide_type": "subslide"
    }
   },
   "source": [
    "To be more exact, we can actually look at the Python bytecode (wordcode).  A thread may be suspended after any single instruction, and there are **four** instructions involved in the single augmented assignment."
   ]
  },
  {
   "cell_type": "code",
   "execution_count": 3,
   "metadata": {
    "slideshow": {
     "slide_type": "fragment"
    }
   },
   "outputs": [
    {
     "name": "stdout",
     "output_type": "stream",
     "text": [
      "  5           0 LOAD_GLOBAL              0 (range)\n",
      "              2 LOAD_FAST                0 (n)\n",
      "              4 CALL_FUNCTION            1\n",
      "              6 GET_ITER\n",
      "        >>    8 FOR_ITER                12 (to 22)\n",
      "             10 STORE_FAST               1 (_)\n",
      "\n",
      "  6          12 LOAD_GLOBAL              1 (counter)\n",
      "             14 LOAD_CONST               1 (1)\n",
      "             16 INPLACE_ADD\n",
      "             18 STORE_GLOBAL             1 (counter)\n",
      "             20 JUMP_ABSOLUTE            8\n",
      "        >>   22 LOAD_CONST               0 (None)\n",
      "             24 RETURN_VALUE\n"
     ]
    }
   ],
   "source": [
    "import dis\n",
    "dis.dis(increment)"
   ]
  },
  {
   "cell_type": "markdown",
   "metadata": {
    "slideshow": {
     "slide_type": "slide"
    }
   },
   "source": [
    "## Thread Synchronization\n",
    "\n",
    "<img src=\"recording_studio_light.png\" width=\"25%\" align=\"right\"/>How can we fix the race condition? \n",
    "\n",
    "We need a way to keep the threads from stepping onto each other's data, some signal that a resource is **busy**.\n",
    "\n",
    "*(Example of INEs studios, a recording light is on, the studio is busy, nobody will enter the room)*"
   ]
  },
  {
   "cell_type": "markdown",
   "metadata": {
    "slideshow": {
     "slide_type": "subslide"
    }
   },
   "source": [
    "<img src=\"recording_studio_light.png\" width=\"25%\" align=\"right\"/>The easiest synchronization mechanism is a [Lock](https://en.wikipedia.org/wiki/Lock_(computer_science)), or a Mutex (mutual exclusion lock). Python includes the very intuitive `threading.Lock` class. \n",
    "\n",
    "A Lock works like the RECORDING light pictured. The first person (thread) that \"arrives\" turns on the light (acquires the lock). Anyone else has to wait for the person/thread to turn the light off and make the room (resource) available again."
   ]
  },
  {
   "cell_type": "markdown",
   "metadata": {
    "slideshow": {
     "slide_type": "slide"
    }
   },
   "source": [
    "## Locking"
   ]
  },
  {
   "cell_type": "code",
   "execution_count": 4,
   "metadata": {
    "slideshow": {
     "slide_type": "slide"
    }
   },
   "outputs": [
    {
     "name": "stdout",
     "output_type": "stream",
     "text": [
      "Thread-104: acquiring lock.\n",
      "Thread-104: Lock acquired, sleeping\n"
     ]
    }
   ],
   "source": [
    "lock = threading.Lock()\n",
    "\n",
    "def lock_hogger(lock, wait=5):\n",
    "    name = current_thread().name\n",
    "    print(f\"{name}: acquiring lock.\")\n",
    "    lock.acquire()\n",
    "    print(f\"{name}: Lock acquired, sleeping\")\n",
    "    sleep(wait)\n",
    "    print(f\"{name}: Woke up, releasing lock\")\n",
    "    lock.release()\n",
    "\n",
    "Thread(target=lock_hogger, args=(lock,)).start()"
   ]
  },
  {
   "cell_type": "markdown",
   "metadata": {
    "slideshow": {
     "slide_type": "subslide"
    }
   },
   "source": [
    "We can ask about the state of a lock."
   ]
  },
  {
   "cell_type": "code",
   "execution_count": 5,
   "metadata": {
    "slideshow": {
     "slide_type": "fragment"
    }
   },
   "outputs": [
    {
     "name": "stdout",
     "output_type": "stream",
     "text": [
      "Is lock currently being used? True\n",
      "Thread-104: Woke up, releasing lock\n",
      "Lock acquired? True\n",
      "Still being used? False\n"
     ]
    }
   ],
   "source": [
    "print(\"Is lock currently being used?\", lock.locked())\n",
    "\n",
    "# Claim the lock\n",
    "lock.acquire()\n",
    "print(\"Lock acquired?\", lock.locked())\n",
    "\n",
    "# We are done now\n",
    "lock.release()\n",
    "print(\"Still being used?\", lock.locked())"
   ]
  },
  {
   "cell_type": "markdown",
   "metadata": {
    "slideshow": {
     "slide_type": "fragment"
    }
   },
   "source": [
    "If we only ever ran sequential code, the lock would just be equivalent to a Boolean value.  But it is shared across all threads that have it in scope.  When another thread tries to acquire a lock that is in use, it will block until the lock becomes free."
   ]
  },
  {
   "cell_type": "markdown",
   "metadata": {
    "slideshow": {
     "slide_type": "subslide"
    }
   },
   "source": [
    "It is important (and sometimes tricky) to get the sequence of actions right, since a released lock with raise an exception if you try to release it again."
   ]
  },
  {
   "cell_type": "code",
   "execution_count": 17,
   "metadata": {
    "slideshow": {
     "slide_type": "fragment"
    }
   },
   "outputs": [
    {
     "name": "stdout",
     "output_type": "stream",
     "text": [
      "Thread-117: acquiring lock.\n",
      "Thread-117: Lock acquired, sleeping\n",
      "Releasing lock in MainThread...\n"
     ]
    },
    {
     "name": "stderr",
     "output_type": "stream",
     "text": [
      "Exception in thread Thread-117:\n",
      "Traceback (most recent call last):\n",
      "  File \"/home/davidmertz/miniconda3/envs/INE/lib/python3.8/threading.py\", line 932, in _bootstrap_inner\n",
      "    self.run()\n",
      "  File \"/home/davidmertz/miniconda3/envs/INE/lib/python3.8/threading.py\", line 870, in run\n",
      "    self._target(*self._args, **self._kwargs)\n",
      "  File \"<ipython-input-4-76a137a4e77b>\", line 10, in lock_hogger\n",
      "RuntimeError: release unlocked lock\n"
     ]
    },
    {
     "name": "stdout",
     "output_type": "stream",
     "text": [
      "Thread-117: Woke up, releasing lock\n"
     ]
    }
   ],
   "source": [
    "t = Thread(target=lock_hogger, args=(lock, 0.1))\n",
    "t.start()\n",
    "print(\"Releasing lock in MainThread...\")\n",
    "lock.release()"
   ]
  },
  {
   "cell_type": "markdown",
   "metadata": {
    "slideshow": {
     "slide_type": "subslide"
    }
   },
   "source": [
    "Where we get an exception among the competing `lock.release()` calls depends on the timings of threads."
   ]
  },
  {
   "cell_type": "code",
   "execution_count": 18,
   "metadata": {
    "slideshow": {
     "slide_type": "fragment"
    }
   },
   "outputs": [
    {
     "name": "stdout",
     "output_type": "stream",
     "text": [
      "Thread-118: acquiring lock.\n",
      "Thread-118: Lock acquired, sleeping\n",
      "Thread-118: Woke up, releasing lock\n",
      "Releasing lock in MainThread...\n"
     ]
    },
    {
     "name": "stderr",
     "output_type": "stream",
     "text": [
      "RuntimeError('release unlocked lock') in MainThread\n"
     ]
    }
   ],
   "source": [
    "t = Thread(target=lock_hogger, args=(lock, 0))\n",
    "t.start()\n",
    "sleep(0.1)\n",
    "try:\n",
    "    print(\"Releasing lock in MainThread...\")\n",
    "    lock.release()\n",
    "except Exception as err:\n",
    "    print(f\"{repr(err)} in {current_thread().name}\", file=sys.stderr)"
   ]
  },
  {
   "cell_type": "markdown",
   "metadata": {
    "slideshow": {
     "slide_type": "slide"
    }
   },
   "source": [
    "## Fixing the counter\n",
    "\n",
    "Now that we know about locks, we can use them to fix our counter example:"
   ]
  },
  {
   "cell_type": "code",
   "execution_count": 33,
   "metadata": {
    "slideshow": {
     "slide_type": "fragment"
    }
   },
   "outputs": [
    {
     "name": "stdout",
     "output_type": "stream",
     "text": [
      "50,000 loops X 100 threads -> counter is 45,374\n"
     ]
    }
   ],
   "source": [
    "lock = threading.Lock()\n",
    "counter, nthread, nloop = 0, 100, 50_000 \n",
    "\n",
    "def increment(n, lock):\n",
    "    global counter\n",
    "    for _ in range(n):\n",
    "        lock.acquire()\n",
    "        counter += 1\n",
    "        lock.release()\n",
    "\n",
    "for _ in range(nthread):\n",
    "    Thread(target=increment, args=(nloop, lock)).start()\n",
    "    \n",
    "print(f\"{nloop:,} loops X {nthread:,} threads -> counter is {counter:,}\")"
   ]
  },
  {
   "cell_type": "code",
   "execution_count": 9,
   "metadata": {},
   "outputs": [],
   "source": [
    "def increment(n, lock):\n",
    "    global COUNTER\n",
    "    for _ in range(n):\n",
    "        lock.acquire()\n",
    "        COUNTER += 1\n",
    "        lock.release()\n",
    "        sleep(0.001)"
   ]
  },
  {
   "cell_type": "code",
   "execution_count": 10,
   "metadata": {},
   "outputs": [],
   "source": [
    "ITERATIONS = 1000"
   ]
  },
  {
   "cell_type": "code",
   "execution_count": 11,
   "metadata": {},
   "outputs": [],
   "source": [
    "lock = threading.Lock()"
   ]
  },
  {
   "cell_type": "code",
   "execution_count": 12,
   "metadata": {},
   "outputs": [],
   "source": [
    "threads = [Thread(target=increment, args=(ITERATIONS, lock)) for _ in range(10)]"
   ]
  },
  {
   "cell_type": "code",
   "execution_count": 13,
   "metadata": {},
   "outputs": [
    {
     "name": "stderr",
     "output_type": "stream",
     "text": [
      "Exception in thread Exception in thread Thread-108:\n",
      "Traceback (most recent call last):\n",
      "  File \"/home/davidmertz/miniconda3/envs/INE/lib/python3.8/threading.py\", line 932, in _bootstrap_inner\n",
      "Thread-107:\n",
      "Traceback (most recent call last):\n",
      "  File \"/home/davidmertz/miniconda3/envs/INE/lib/python3.8/threading.py\", line 932, in _bootstrap_inner\n",
      "Exception in thread Thread-109:\n",
      "Traceback (most recent call last):\n",
      "  File \"/home/davidmertz/miniconda3/envs/INE/lib/python3.8/threading.py\", line 932, in _bootstrap_inner\n",
      "Exception in thread Thread-110:\n",
      "Traceback (most recent call last):\n",
      "  File \"/home/davidmertz/miniconda3/envs/INE/lib/python3.8/threading.py\", line 932, in _bootstrap_inner\n",
      "Exception in thread Thread-111:\n",
      "Traceback (most recent call last):\n",
      "  File \"/home/davidmertz/miniconda3/envs/INE/lib/python3.8/threading.py\", line 932, in _bootstrap_inner\n",
      "    self.run()\n",
      "  File \"/home/davidmertz/miniconda3/envs/INE/lib/python3.8/threading.py\", line 870, in run\n",
      "    self.run()\n",
      "  File \"/home/davidmertz/miniconda3/envs/INE/lib/python3.8/threading.py\", line 870, in run\n",
      "        self.run()\n",
      "  File \"/home/davidmertz/miniconda3/envs/INE/lib/python3.8/threading.py\", line 870, in run\n",
      "self.run()    self.run()\n",
      "  File \"/home/davidmertz/miniconda3/envs/INE/lib/python3.8/threading.py\", line 870, in run\n",
      "\n",
      "  File \"/home/davidmertz/miniconda3/envs/INE/lib/python3.8/threading.py\", line 870, in run\n",
      "    self._target(*self._args, **self._kwargs)    self._target(*self._args, **self._kwargs)\n",
      "  File \"<ipython-input-9-1055979728c2>\", line 7, in increment\n",
      "Exception in thread Thread-112:\n",
      "Exception in thread Thread-113:\n",
      "Traceback (most recent call last):\n",
      "  File \"/home/davidmertz/miniconda3/envs/INE/lib/python3.8/threading.py\", line 932, in _bootstrap_inner\n",
      "    self._target(*self._args, **self._kwargs)\n",
      "Traceback (most recent call last):\n",
      "  File \"/home/davidmertz/miniconda3/envs/INE/lib/python3.8/threading.py\", line 932, in _bootstrap_inner\n",
      "\n",
      "  File \"<ipython-input-9-1055979728c2>\", line 7, in increment\n",
      "  File \"<ipython-input-9-1055979728c2>\", line 7, in increment\n",
      "    self._target(*self._args, **self._kwargs)\n",
      "  File \"<ipython-input-9-1055979728c2>\", line 7, in increment\n",
      "    self._target(*self._args, **self._kwargs)Exception in thread Thread-114:\n",
      "\n",
      "  File \"<ipython-input-9-1055979728c2>\", line 7, in increment\n",
      "Exception in thread Thread-115:\n",
      "Traceback (most recent call last):\n",
      "  File \"/home/davidmertz/miniconda3/envs/INE/lib/python3.8/threading.py\", line 932, in _bootstrap_inner\n",
      "Traceback (most recent call last):\n",
      "  File \"/home/davidmertz/miniconda3/envs/INE/lib/python3.8/threading.py\", line 932, in _bootstrap_inner\n",
      "NameErrorException in thread Thread-116:\n",
      "Traceback (most recent call last):\n",
      "  File \"/home/davidmertz/miniconda3/envs/INE/lib/python3.8/threading.py\", line 932, in _bootstrap_inner\n",
      "NameError: name 'time' is not defined\n",
      "    self.run()\n",
      "  File \"/home/davidmertz/miniconda3/envs/INE/lib/python3.8/threading.py\", line 870, in run\n",
      "    self.run()\n",
      "  File \"/home/davidmertz/miniconda3/envs/INE/lib/python3.8/threading.py\", line 870, in run\n",
      "    self.run()\n",
      "  File \"/home/davidmertz/miniconda3/envs/INE/lib/python3.8/threading.py\", line 870, in run\n",
      ": NameError: name 'time' is not defined\n",
      "    self.run()\n",
      "  File \"/home/davidmertz/miniconda3/envs/INE/lib/python3.8/threading.py\", line 870, in run\n",
      "name 'time' is not defined\n",
      "    self._target(*self._args, **self._kwargs)\n",
      "  File \"<ipython-input-9-1055979728c2>\", line 7, in increment\n",
      "NameError    self._target(*self._args, **self._kwargs)\n",
      "  File \"<ipython-input-9-1055979728c2>\", line 7, in increment\n",
      "    : name 'time' is not defined\n",
      "self.run()\n",
      "  File \"/home/davidmertz/miniconda3/envs/INE/lib/python3.8/threading.py\", line 870, in run\n",
      "    self._target(*self._args, **self._kwargs)\n",
      "  File \"<ipython-input-9-1055979728c2>\", line 7, in increment\n",
      "NameError: name 'time' is not defined\n",
      "    NameError: name 'time' is not defined\n",
      "self._target(*self._args, **self._kwargs)\n",
      "  File \"<ipython-input-9-1055979728c2>\", line 7, in increment\n",
      "NameError: name 'time' is not defined\n",
      "    self._target(*self._args, **self._kwargs)\n",
      "  File \"<ipython-input-9-1055979728c2>\", line 7, in increment\n",
      "NameError: name 'time' is not defined\n",
      "NameError: name 'time' is not defined\n",
      "NameError: name 'time' is not defined\n"
     ]
    }
   ],
   "source": [
    "[t.start() for t in threads];"
   ]
  },
  {
   "cell_type": "code",
   "execution_count": 14,
   "metadata": {},
   "outputs": [],
   "source": [
    "[t.join() for t in threads];"
   ]
  },
  {
   "cell_type": "code",
   "execution_count": 15,
   "metadata": {},
   "outputs": [
    {
     "data": {
      "text/plain": [
       "10"
      ]
     },
     "execution_count": 15,
     "metadata": {},
     "output_type": "execute_result"
    }
   ],
   "source": [
    "COUNTER"
   ]
  },
  {
   "cell_type": "code",
   "execution_count": 16,
   "metadata": {},
   "outputs": [
    {
     "ename": "AssertionError",
     "evalue": "Invalid value for counter: 10",
     "output_type": "error",
     "traceback": [
      "\u001b[0;31m---------------------------------------------------------------------------\u001b[0m",
      "\u001b[0;31mAssertionError\u001b[0m                            Traceback (most recent call last)",
      "\u001b[0;32m<ipython-input-16-a643dbe60da1>\u001b[0m in \u001b[0;36m<module>\u001b[0;34m\u001b[0m\n\u001b[0;32m----> 1\u001b[0;31m \u001b[0;32massert\u001b[0m \u001b[0mCOUNTER\u001b[0m \u001b[0;34m==\u001b[0m \u001b[0;34m(\u001b[0m\u001b[0mlen\u001b[0m\u001b[0;34m(\u001b[0m\u001b[0mthreads\u001b[0m\u001b[0;34m)\u001b[0m \u001b[0;34m*\u001b[0m \u001b[0mITERATIONS\u001b[0m\u001b[0;34m)\u001b[0m\u001b[0;34m,\u001b[0m \u001b[0;34mf\"Invalid value for counter: {COUNTER}\"\u001b[0m\u001b[0;34m\u001b[0m\u001b[0;34m\u001b[0m\u001b[0m\n\u001b[0m",
      "\u001b[0;31mAssertionError\u001b[0m: Invalid value for counter: 10"
     ]
    }
   ],
   "source": [
    "assert COUNTER == (len(threads) * ITERATIONS), f\"Invalid value for counter: {COUNTER}\""
   ]
  },
  {
   "cell_type": "markdown",
   "metadata": {},
   "source": [
    "It doesn't matter how many times we run the example, our code will always be synchronized!"
   ]
  },
  {
   "cell_type": "markdown",
   "metadata": {},
   "source": [
    "#### Problems with synchronization\n",
    "\n",
    "Locks are acquired before accessing what we call \"Critical Sections\"; important sections in our code that can potentially introduce race conditions. The usual process is:\n",
    "\n",
    "```python\n",
    "lock = threading.Lock() # Problem [1]\n",
    "\n",
    "# before entering critical section\n",
    "lock.acquire()          # Problem [2]\n",
    "\n",
    "# critical section\n",
    "do_your_thing()         # Problem [3]\n",
    "\n",
    "# after we're done with it\n",
    "lock.release()          # Problem [4]\n",
    "```\n",
    "\n",
    "The problem is that locks (and many other synchronization mechanisms) are \"cooperative\". You're cooperating by using locks, but you're not obliged to use them. In a team of n developers, just one of them screws up with their lock management, everybody loses.\n",
    "\n",
    "These are the things that can potentially go wrong with cooperative, manual synchronization mechanisms:\n",
    "\n",
    "1. You might forget to use locks at all! You might have failed to recognize the situation as having a \"critical section\".\n",
    "2. You might forget to acquire the lock, getting directly into the critical section.\n",
    "3. Your critical section might be using resources NOT protected by the lock you're using, so other threads can be stepping onto that.\n",
    "4. You might forget to release the lock, or your code could break before you're able to release the lock (next example)\n",
    "5. Deadlocks! (more on later)."
   ]
  },
  {
   "cell_type": "markdown",
   "metadata": {},
   "source": [
    "Problem *No.4* is very common, let's see an example of it:"
   ]
  },
  {
   "cell_type": "code",
   "execution_count": null,
   "metadata": {},
   "outputs": [],
   "source": [
    "lock = threading.Lock()"
   ]
  },
  {
   "cell_type": "code",
   "execution_count": null,
   "metadata": {},
   "outputs": [],
   "source": [
    "def faulty_lock_handler(lock, sleep=10):\n",
    "    print(\"\\t\\tThread: Acquiring lock.\")\n",
    "    lock.acquire()\n",
    "    print(\"\\t\\tThread: Lock acquired\")\n",
    "    if sleep:\n",
    "        time.sleep(sleep)\n",
    "    print(\"\\t\\tThread: Woke up, releasing lock\")\n",
    "    lock.release()"
   ]
  },
  {
   "cell_type": "code",
   "execution_count": null,
   "metadata": {},
   "outputs": [],
   "source": [
    "t = Thread(target=faulty_lock_handler, args=(lock, 'x'))  # The `sleep` param is incorrect, should be a number"
   ]
  },
  {
   "cell_type": "code",
   "execution_count": null,
   "metadata": {},
   "outputs": [],
   "source": [
    "t.start()"
   ]
  },
  {
   "cell_type": "markdown",
   "metadata": {},
   "source": [
    "Trying to acquire the lock will block **FOREVER**:"
   ]
  },
  {
   "cell_type": "code",
   "execution_count": null,
   "metadata": {},
   "outputs": [],
   "source": [
    "lock.acquire()"
   ]
  },
  {
   "cell_type": "markdown",
   "metadata": {},
   "source": [
    "We could potentially add a _timeout_ to our acquire method, it will block for `n` seconds and if it hasn't acquired the lock, it'll return `False`:"
   ]
  },
  {
   "cell_type": "code",
   "execution_count": null,
   "metadata": {},
   "outputs": [],
   "source": [
    "lock.acquire(timeout=2)"
   ]
  },
  {
   "cell_type": "markdown",
   "metadata": {},
   "source": [
    "Or we can even make it non-blocking, if it's not able to acquire the lock, it'll release it immediately:"
   ]
  },
  {
   "cell_type": "code",
   "execution_count": null,
   "metadata": {},
   "outputs": [],
   "source": [
    "lock.acquire(blocking=False)"
   ]
  },
  {
   "cell_type": "markdown",
   "metadata": {},
   "source": [
    "Thankfully, we have a handle on the lock variable, so we can release it from here, but this is cheating:"
   ]
  },
  {
   "cell_type": "code",
   "execution_count": null,
   "metadata": {},
   "outputs": [],
   "source": [
    "lock.release()"
   ]
  },
  {
   "cell_type": "code",
   "execution_count": null,
   "metadata": {},
   "outputs": [],
   "source": [
    "lock.acquire(blocking=False)"
   ]
  },
  {
   "cell_type": "markdown",
   "metadata": {},
   "source": [
    "The way to solve this is to use Locks as Context Managers, so we're sure we'll release the lock EVEN if something goes wrong within the critical section:"
   ]
  },
  {
   "cell_type": "code",
   "execution_count": null,
   "metadata": {},
   "outputs": [],
   "source": [
    "lock = threading.Lock()"
   ]
  },
  {
   "cell_type": "code",
   "execution_count": null,
   "metadata": {},
   "outputs": [],
   "source": [
    "def fixed_lock_handler(lock, sleep=10):\n",
    "    print(\"\\t\\tThread: Acquiring lock.\")\n",
    "    with lock:\n",
    "        print(\"\\t\\tThread: Lock acquired\")\n",
    "        if sleep:\n",
    "            time.sleep(sleep)\n",
    "    print(\"\\t\\tThread: Woke up, releasing lock\")"
   ]
  },
  {
   "cell_type": "code",
   "execution_count": null,
   "metadata": {},
   "outputs": [],
   "source": [
    "t = Thread(target=fixed_lock_handler, args=(lock, 5))"
   ]
  },
  {
   "cell_type": "code",
   "execution_count": null,
   "metadata": {},
   "outputs": [],
   "source": [
    "t.start()"
   ]
  },
  {
   "cell_type": "code",
   "execution_count": null,
   "metadata": {},
   "outputs": [],
   "source": [
    "lock.acquire()"
   ]
  },
  {
   "cell_type": "code",
   "execution_count": null,
   "metadata": {},
   "outputs": [],
   "source": [
    "lock.release()"
   ]
  },
  {
   "cell_type": "code",
   "execution_count": null,
   "metadata": {},
   "outputs": [],
   "source": [
    "t = Thread(target=fixed_lock_handler, args=(lock, 'x'))  # The `sleep` param is incorrect, should be a number"
   ]
  },
  {
   "cell_type": "code",
   "execution_count": null,
   "metadata": {},
   "outputs": [],
   "source": [
    "t.start()"
   ]
  },
  {
   "cell_type": "markdown",
   "metadata": {},
   "source": [
    "Is the lock still acquired?"
   ]
  },
  {
   "cell_type": "code",
   "execution_count": null,
   "metadata": {},
   "outputs": [],
   "source": [
    "lock.locked()"
   ]
  },
  {
   "cell_type": "code",
   "execution_count": null,
   "metadata": {},
   "outputs": [],
   "source": [
    "lock.acquire()"
   ]
  },
  {
   "cell_type": "code",
   "execution_count": null,
   "metadata": {},
   "outputs": [],
   "source": [
    "lock.release()"
   ]
  },
  {
   "cell_type": "markdown",
   "metadata": {},
   "source": [
    "As you can see, the critical section failed with an exception, but the lock was released before exiting. As a reference, the `with` context manager is syntactic sugar for the pattern:\n",
    "\n",
    "```python\n",
    "lock.acquire()\n",
    "try:\n",
    "    critical_section()\n",
    "finally:\n",
    "    lock.release()  # We'll release the lock no matter what\n",
    "```"
   ]
  },
  {
   "cell_type": "markdown",
   "metadata": {},
   "source": [
    "#### Fixing our counter using `with`\n",
    "\n",
    "The last touch for our counter should be to use the context manager protocol of the lock object:"
   ]
  },
  {
   "cell_type": "code",
   "execution_count": null,
   "metadata": {},
   "outputs": [],
   "source": [
    "COUNTER = 0"
   ]
  },
  {
   "cell_type": "code",
   "execution_count": null,
   "metadata": {},
   "outputs": [],
   "source": [
    "def increment(n, lock):\n",
    "    global COUNTER\n",
    "    for _ in range(n):\n",
    "        with lock:\n",
    "            COUNTER += 1\n",
    "        time.sleep(0.001)"
   ]
  },
  {
   "cell_type": "code",
   "execution_count": null,
   "metadata": {},
   "outputs": [],
   "source": [
    "ITERATIONS = 1000"
   ]
  },
  {
   "cell_type": "code",
   "execution_count": null,
   "metadata": {},
   "outputs": [],
   "source": [
    "lock = threading.Lock()"
   ]
  },
  {
   "cell_type": "code",
   "execution_count": null,
   "metadata": {},
   "outputs": [],
   "source": [
    "threads = [Thread(target=increment, args=(ITERATIONS, lock)) for _ in range(10)]"
   ]
  },
  {
   "cell_type": "code",
   "execution_count": null,
   "metadata": {},
   "outputs": [],
   "source": [
    "[t.start() for t in threads];"
   ]
  },
  {
   "cell_type": "code",
   "execution_count": null,
   "metadata": {},
   "outputs": [],
   "source": [
    "[t.join() for t in threads];"
   ]
  },
  {
   "cell_type": "code",
   "execution_count": null,
   "metadata": {},
   "outputs": [],
   "source": [
    "COUNTER"
   ]
  },
  {
   "cell_type": "code",
   "execution_count": null,
   "metadata": {},
   "outputs": [],
   "source": [
    "assert COUNTER == (len(threads) * ITERATIONS), f\"Invalid value for counter: {COUNTER}\""
   ]
  },
  {
   "cell_type": "markdown",
   "metadata": {},
   "source": [
    "Perfect!"
   ]
  },
  {
   "cell_type": "markdown",
   "metadata": {},
   "source": [
    "## Summary:\n",
    "\n",
    "We've seen the importance of keeping our critical sections safe, to avoid race conditions. But there's no free lunch. To prevent race conditions we have to use synchronization mechanisms, and as we saw, that can carry other issues.\n",
    "\n",
    "In the next section we'll explore one of the many things that can go wrong with manual synchronization: one of the the scariest words in computer science: **Deadlocks**."
   ]
  }
 ],
 "metadata": {
  "celltoolbar": "Slideshow",
  "kernelspec": {
   "display_name": "Python 3",
   "language": "python",
   "name": "python3"
  },
  "language_info": {
   "codemirror_mode": {
    "name": "ipython",
    "version": 3
   },
   "file_extension": ".py",
   "mimetype": "text/x-python",
   "name": "python",
   "nbconvert_exporter": "python",
   "pygments_lexer": "ipython3",
   "version": "3.8.5"
  }
 },
 "nbformat": 4,
 "nbformat_minor": 4
}
