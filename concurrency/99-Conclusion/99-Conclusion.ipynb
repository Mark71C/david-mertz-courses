{
 "cells": [
  {
   "cell_type": "markdown",
   "metadata": {
    "slideshow": {
     "slide_type": "slide"
    }
   },
   "source": [
    "# What You Know\n",
    "\n",
    "* Working with threads and processes\n",
    "* Mechanisms for sharing data among concurrent tasks\n",
    "* Pitfalls of race conditions and deadlocks\n",
    "* High-level abstractions in `multiprocessing` and `concurrent.futures`\n",
    "* How to judge the tradeoff of varying approaches<img src=\"DQM-cartoon.png\" align=\"right\" width=\"33%\"/>\n"
   ]
  },
  {
   "cell_type": "markdown",
   "metadata": {
    "slideshow": {
     "slide_type": "slide"
    }
   },
   "source": [
    "# What Next?\n",
    "\n",
    "<table border=\"0\" background=\"white\">\n",
    "<tr>\n",
    "<td><img src=\"DQM-in-white.jpg\" align=\"left\"/></td>\n",
    "<td style=\"font-size:28pt\">\n",
    "    <ul>\n",
    "        <li>Implement your real-world problem using different models...</li>\n",
    "        <li>Is a process pool a good approach? Is producer/consumer better? What is the performance of threads versus processes?</li>\n",
    "        <li>Try your problem on different machines to see how they scale?<li> \n",
    "        <li>Will you make different choices on an older 4-core machine versus on the latest 128-core system? What about with different available memory?</li>\n",
    "    </ul>\n",
    "    </td>"
   ]
  }
 ],
 "metadata": {
  "celltoolbar": "Slideshow",
  "kernelspec": {
   "display_name": "Python 3",
   "language": "python",
   "name": "python3"
  },
  "language_info": {
   "codemirror_mode": {
    "name": "ipython",
    "version": 3
   },
   "file_extension": ".py",
   "mimetype": "text/x-python",
   "name": "python",
   "nbconvert_exporter": "python",
   "pygments_lexer": "ipython3",
   "version": "3.8.5"
  }
 },
 "nbformat": 4,
 "nbformat_minor": 4
}
