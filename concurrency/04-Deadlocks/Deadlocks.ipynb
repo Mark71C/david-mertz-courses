{
 "cells": [
  {
   "cell_type": "markdown",
   "metadata": {
    "slideshow": {
     "slide_type": "slide"
    }
   },
   "source": [
    "## Deadlocks\n",
    "\n",
    "Deadlocks are yet another problematic condition that might arise as the result of poorly synchronized code."
   ]
  },
  {
   "cell_type": "code",
   "execution_count": 1,
   "metadata": {
    "slideshow": {
     "slide_type": "fragment"
    }
   },
   "outputs": [],
   "source": [
    "from threading import Thread, current_thread, Lock\n",
    "from time import sleep\n",
    "from random import randint\n",
    "from sys import stderr"
   ]
  },
  {
   "cell_type": "markdown",
   "metadata": {
    "slideshow": {
     "slide_type": "slide"
    }
   },
   "source": [
    "## A simple example\n",
    "\n",
    "Let's start by analyzing a simple example: transfers between two \"bank accounts\":"
   ]
  },
  {
   "cell_type": "code",
   "execution_count": 2,
   "metadata": {
    "slideshow": {
     "slide_type": "fragment"
    }
   },
   "outputs": [],
   "source": [
    "def move_funds(from_, to_, expected):\n",
    "    global accounts, kill_switch\n",
    "    name, n = current_thread().name, 0\n",
    "    \n",
    "    for n in range(1_000_000):\n",
    "        transfer = randint(0, 100)\n",
    "        accounts[from_] -= transfer\n",
    "        accounts[to_] += transfer        \n",
    "        total = sum(accounts.values())\n",
    "        \n",
    "        # Exit if balance wrong or if another thread thinks so\n",
    "        if total != expected:\n",
    "            print(f\"{name} inconsistent balance: ${total:,} ({n:,} transactions)\")\n",
    "            kill_switch = True\n",
    "            break\n",
    "        elif kill_switch:\n",
    "            print(f\"{name} other thread flagged: ${total:,} ({n:,} transactions)\")\n",
    "            break\n",
    "    else:\n",
    "        print(f'{name} reached iteration limit. Stopping...')            "
   ]
  },
  {
   "cell_type": "markdown",
   "metadata": {
    "slideshow": {
     "slide_type": "subslide"
    }
   },
   "source": [
    "From the last lesson, you can spot the problem we will encounter. The operations `accounts[from_] -= amount` and `accounts[to_] += amount` can potentially introduce race conditions."
   ]
  },
  {
   "cell_type": "code",
   "execution_count": 3,
   "metadata": {
    "slideshow": {
     "slide_type": "fragment"
    }
   },
   "outputs": [
    {
     "name": "stdout",
     "output_type": "stream",
     "text": [
      "Thread-5 inconsistent balance: $199,963 (3,892 transactions)\n",
      "Thread-4 other thread flagged: $200,000 (22,020 transactions)\n",
      "Balances: {'acc1': -807416, 'acc2': 1007416}\n"
     ]
    }
   ],
   "source": [
    "kill_switch = False\n",
    "accounts = {'acc1': 100_000, 'acc2': 100_000}\n",
    "\n",
    "t1 = Thread(target=move_funds, args=('acc1', 'acc2', 200_000))\n",
    "t2 = Thread(target=move_funds, args=('acc2', 'acc1', 200_000))\n",
    "\n",
    "t1.start()\n",
    "t2.start()\n",
    "t1.join()\n",
    "t2.join()\n",
    "\n",
    "print(\"Balances:\", accounts)"
   ]
  },
  {
   "cell_type": "markdown",
   "metadata": {
    "slideshow": {
     "slide_type": "slide"
    }
   },
   "source": [
    "## Adding Locks\n",
    "\n",
    "We've already learned about Locks, so we can use those to try synchronizing the access to the accounts. We'll create 2 locks, on for each account:"
   ]
  },
  {
   "cell_type": "code",
   "execution_count": 4,
   "metadata": {
    "slideshow": {
     "slide_type": "fragment"
    }
   },
   "outputs": [],
   "source": [
    "def move_funds2(from_, lock_from, to_, lock_to, expected):\n",
    "    name = current_thread().name\n",
    "    \n",
    "    for n in range(1_000_000):\n",
    "        amount = randint(0, 100)\n",
    "        with lock_from:\n",
    "            with lock_to:\n",
    "                accounts[from_] -= amount\n",
    "                accounts[to_] += amount\n",
    "                \n",
    "                total = sum(accounts.values())\n",
    "                if total != expected:\n",
    "                    print(f\"{name} inconsistent balance: ${total:,} ({n:,} transactions)\")\n",
    "                    break\n",
    "    else:\n",
    "        print(f'{name} reached iteration limit. Stopping...')"
   ]
  },
  {
   "cell_type": "code",
   "execution_count": 5,
   "metadata": {
    "slideshow": {
     "slide_type": "subslide"
    }
   },
   "outputs": [
    {
     "name": "stdout",
     "output_type": "stream",
     "text": [
      "t1 alive? True | t2 alive? True | {'acc1': 198104, 'acc2': 1896}\n",
      "t1 alive? True | t2 alive? True | {'acc1': 1000586, 'acc2': -800586}\n",
      "t1 alive? True | t2 alive? True | {'acc1': 2040077, 'acc2': -1840077}\n",
      "t1 alive? True | t2 alive? True | {'acc1': 1912379, 'acc2': -1712379}\n",
      "t1 alive? True | t2 alive? True | {'acc1': 1397130, 'acc2': -1197130}\n",
      "Thread-7 reached iteration limit. Stopping...\n",
      "Thread-6 reached iteration limit. Stopping...\n",
      "acc1 locked? False | acc2 locked? False\n"
     ]
    }
   ],
   "source": [
    "lock_acc1, lock_acc2 = Lock(), Lock()\n",
    "accounts = {'acc1': 100_000, 'acc2': 100_000}\n",
    "\n",
    "t1 = Thread(target=move_funds2, args=('acc1', lock_acc1, 'acc2', lock_acc2, 200_000))\n",
    "t2 = Thread(target=move_funds2, args=('acc2', lock_acc1, 'acc1', lock_acc2, 200_000))\n",
    "\n",
    "t1.start()\n",
    "t2.start()\n",
    "\n",
    "while t1.is_alive() or t2.is_alive():\n",
    "    print(\"t1 alive?\", t1.is_alive(), \"| t2 alive?\", t2.is_alive(), \"|\", accounts)\n",
    "    sleep(3)\n",
    "\n",
    "print(\"acc1 locked?\", lock_acc1.locked(), \"| acc2 locked?\", lock_acc2.locked())"
   ]
  },
  {
   "cell_type": "markdown",
   "metadata": {
    "slideshow": {
     "slide_type": "subslide"
    }
   },
   "source": [
    "It worked (this time)! Access to the accounts is protected by the locks. \n",
    "\n",
    "But there is a danger lurking here. We succeeded more or less accidentally because of the order in which locks were acquired.  In fact, the initial code is conceptually wrong because it used `lock_acc1` as the protection of `acc2`, for example.  \n",
    "\n",
    "If we make a small change, altering the order of the locks that are passed to our threads, we will find ourselves deadlocked:"
   ]
  },
  {
   "cell_type": "code",
   "execution_count": 6,
   "metadata": {
    "slideshow": {
     "slide_type": "subslide"
    }
   },
   "outputs": [
    {
     "name": "stdout",
     "output_type": "stream",
     "text": [
      "Threads created: {'acc1': 100000, 'acc2': 100000}\n",
      "Threads started: {'acc1': 88258, 'acc2': 111742}\n",
      "{t1.name} alive? True | {t2.name} alive? True | {'acc1': 88258, 'acc2': 111742}\n",
      "{t1.name} alive? True | {t2.name} alive? True | {'acc1': 204802, 'acc2': -4802}\n",
      "{t1.name} alive? True | {t2.name} alive? True | {'acc1': 204802, 'acc2': -4802}\n",
      "{t1.name} alive? True | {t2.name} alive? True | {'acc1': 204802, 'acc2': -4802}\n",
      "{t1.name} alive? True | {t2.name} alive? True | {'acc1': 204802, 'acc2': -4802}\n",
      "{t1.name} alive? True | {t2.name} alive? True | {'acc1': 204802, 'acc2': -4802}\n",
      "{t1.name} alive? True | {t2.name} alive? True | {'acc1': 204802, 'acc2': -4802}\n",
      "{t1.name} alive? True | {t2.name} alive? True | {'acc1': 204802, 'acc2': -4802}\n"
     ]
    }
   ],
   "source": [
    "lock_acc1, lock_acc2 = Lock(), Lock()\n",
    "accounts = {'acc1': 100_000, 'acc2': 100_000}\n",
    "\n",
    "t1 = Thread(target=move_funds2, args=('acc1', lock_acc1, 'acc2', lock_acc2, 200_000))\n",
    "t2 = Thread(target=move_funds2, args=('acc2', lock_acc2, 'acc1', lock_acc1, 200_000))\n",
    "print(\"Threads created:\", accounts)\n",
    "t1.start()\n",
    "t2.start()\n",
    "print(\"Threads started:\", accounts)\n",
    "\n",
    "for _ in range(8):\n",
    "    print(\"{t1.name} alive?\", t1.is_alive(), \"| {t2.name} alive?\", t2.is_alive(), \"|\", accounts)\n",
    "    sleep(3)"
   ]
  },
  {
   "cell_type": "markdown",
   "metadata": {
    "slideshow": {
     "slide_type": "subslide"
    }
   },
   "source": [
    "Both locks remain locked."
   ]
  },
  {
   "cell_type": "code",
   "execution_count": 7,
   "metadata": {
    "slideshow": {
     "slide_type": "fragment"
    }
   },
   "outputs": [
    {
     "data": {
      "text/plain": [
       "(True, True)"
      ]
     },
     "execution_count": 7,
     "metadata": {},
     "output_type": "execute_result"
    }
   ],
   "source": [
    "lock_acc1.locked(), lock_acc2.locked()"
   ]
  },
  {
   "cell_type": "markdown",
   "metadata": {
    "slideshow": {
     "slide_type": "subslide"
    }
   },
   "source": [
    "These threads will never die, and the locks will never be released.  We can do something a bit hack-ish to repeatedly release the locks until both threads crash and end.  This would almost never be a good idea in a production program, but we do it just for teaching."
   ]
  },
  {
   "cell_type": "code",
   "execution_count": 8,
   "metadata": {
    "scrolled": false,
    "slideshow": {
     "slide_type": "fragment"
    }
   },
   "outputs": [
    {
     "name": "stderr",
     "output_type": "stream",
     "text": [
      "Exception in thread Exception in thread Thread-9:\n",
      "Traceback (most recent call last):\n",
      "Thread-8  File \"/home/davidmertz/miniconda3/envs/INE/lib/python3.8/threading.py\", line 932, in _bootstrap_inner\n",
      ":\n",
      "Traceback (most recent call last):\n",
      "  File \"/home/davidmertz/miniconda3/envs/INE/lib/python3.8/threading.py\", line 932, in _bootstrap_inner\n",
      "    self.run()\n",
      "  File \"/home/davidmertz/miniconda3/envs/INE/lib/python3.8/threading.py\", line 870, in run\n",
      "    self.run()\n",
      "  File \"/home/davidmertz/miniconda3/envs/INE/lib/python3.8/threading.py\", line 870, in run\n",
      "    self._target(*self._args, **self._kwargs)\n",
      "  File \"<ipython-input-4-1bff43128daa>\", line 14, in move_funds2\n",
      "    self._target(*self._args, **self._kwargs)\n",
      "  File \"<ipython-input-4-1bff43128daa>\", line 14, in move_funds2\n",
      "RuntimeErrorRuntimeError: release unlocked lock\n",
      ": release unlocked lock\n"
     ]
    },
    {
     "name": "stdout",
     "output_type": "stream",
     "text": [
      "55 errors of type RuntimeError('release unlocked lock')\n"
     ]
    },
    {
     "data": {
      "text/plain": [
       "(False, False, False, False)"
      ]
     },
     "execution_count": 8,
     "metadata": {},
     "output_type": "execute_result"
    }
   ],
   "source": [
    "nerr, err_info = 0, None\n",
    "while t1.is_alive() or t2.is_alive():\n",
    "    try:\n",
    "        lock_acc1.release(), lock_acc2.release()\n",
    "    except Exception as err:\n",
    "        sleep(1e-9)\n",
    "        err_info = repr(err)\n",
    "        nerr += 1\n",
    "        \n",
    "print(f\"{nerr:,} errors of type {err_info}\")\n",
    "# Status of threads and locks\n",
    "t1.is_alive(), lock_acc1.locked(), t2.is_alive(), lock_acc2.locked()"
   ]
  },
  {
   "cell_type": "markdown",
   "metadata": {
    "slideshow": {
     "slide_type": "slide"
    }
   },
   "source": [
    "## What are Deadlocks?\n",
    "\n",
    "A deadlock occurs when multiple  threads (or processes, or nodes in a cluster) are mutually suspended while waiting for each other to signal processing may continue; none can get there because of the circular dependency though.  As soon as there are at least two resources that might be needed, deadlocks are a danger.\n",
    "\n",
    "\n",
    "| Step | Status       | Thread-1            | Thread-2            | Thread-3 \n",
    "|:-----|:-------------|:--------------------|:--------------------|:--------------------\n",
    "| 1    | Success      | Acquire *lock_A*    | Acquire *lock_B*    | Acquire *lock_C*        \n",
    "| 2    | **Blocked**  | **Wait for lock_C** | **Wait for lock_A** | **Wait for lock_B**\n",
    "| 3    | Cannot Reach | Wait for lock_B     | Wait for lock_C     | Wait for lock_A\n",
    "| 4    | Cannot Reach | Work with A/B/C     | Work with A/B/C     | Work with A/B/C\n",
    "| 5    | Cannot Reach | Release *lock_B*    | Release *lock_C*    | Release *lock_A*\n",
    "| 6    | Cannot Reach | Release *lock_C*    | Release *lock_A*    | Release *lock_B*\n",
    "| 7    | Cannot Reach | Release *lock_A*    | Release *lock_B*    | Release *lock_C*"
   ]
  },
  {
   "cell_type": "markdown",
   "metadata": {
    "slideshow": {
     "slide_type": "subslide"
    }
   },
   "source": [
    "In _Operating Systems_, Avi Silberschatz describes a non-computing example:\n",
    "\n",
    "> Perhaps the best illustration of a deadlock can be drawn from a law passed by the Kansas legislature early in the 20th century. It said, in part: “When two trains approach each other at a crossing, both shall come to a full stop and neither shall start up again until the other has gone.”"
   ]
  },
  {
   "cell_type": "markdown",
   "metadata": {
    "slideshow": {
     "slide_type": "subslide"
    }
   },
   "source": [
    "### How to prevent deadlocks\n",
    "\n",
    "The unfortunate truth is that it is **very hard** to prevent deadlocks. \n",
    "\n",
    "One simple technique is to always use timeouts when trying to acquire locks. If you are trying to acquire N shared locks, if you can't acquire all N, you can release them all and start over. We can refactor the funds transfer this way."
   ]
  },
  {
   "cell_type": "code",
   "execution_count": 9,
   "metadata": {
    "slideshow": {
     "slide_type": "subslide"
    }
   },
   "outputs": [],
   "source": [
    "def move_funds3(from_, lock_from, to_, lock_to):\n",
    "    name, T = current_thread().name, LOCK_TIMEOUT\n",
    "    all_locks = [lock_from, lock_to]\n",
    "    \n",
    "    for n in range(10_000):\n",
    "        amount = randint(0, 100)\n",
    "        \n",
    "        # Acquire all locks, if failure, release and keep trying\n",
    "        while not all(locks_good := [l.acquire(timeout=T) for l in all_locks]):\n",
    "            for i, acquired in enumerate(locks_good):\n",
    "                if acquired:\n",
    "                    all_locks[i].release()\n",
    "        \n",
    "        # Perform the action on locked resources\n",
    "        # ... omit validation on 'accounts' in earlier versions\n",
    "        accounts[from_] -= amount\n",
    "        accounts[to_] += amount\n",
    "        \n",
    "        # Release all locks\n",
    "        for lock in all_locks:\n",
    "            lock.release()\n",
    "\n",
    "    print(f'{name} reached iteration limit. Stopping...')"
   ]
  },
  {
   "cell_type": "code",
   "execution_count": 10,
   "metadata": {
    "slideshow": {
     "slide_type": "subslide"
    }
   },
   "outputs": [
    {
     "name": "stdout",
     "output_type": "stream",
     "text": [
      "t1 alive? True | t2 alive? True | {'acc1': 75963, 'acc2': 124037}\n",
      "t1 alive? True | t2 alive? True | {'acc1': 24257, 'acc2': 175743}\n",
      "t1 alive? True | t2 alive? True | {'acc1': 26383, 'acc2': 173617}\n",
      "t1 alive? True | t2 alive? True | {'acc1': 36203, 'acc2': 163797}\n",
      "t1 alive? True | t2 alive? True | {'acc1': 17967, 'acc2': 182033}\n",
      "t1 alive? True | t2 alive? True | {'acc1': 58775, 'acc2': 141225}\n",
      "t1 alive? True | t2 alive? True | {'acc1': 102415, 'acc2': 97585}\n",
      "Thread-11 reached iteration limit. Stopping...\n",
      "Thread-10 reached iteration limit. Stopping...\n",
      "acc1 locked? False | acc2 locked? False\n",
      "Validation: 200,000 == 200,000\n"
     ]
    }
   ],
   "source": [
    "LOCK_TIMEOUT = .001\n",
    "lock_acc1, lock_acc2 = Lock(), Lock()\n",
    "accounts = {'acc1': 100_000, 'acc2': 100_000}\n",
    "\n",
    "t1 = Thread(target=move_funds3, args=('acc1', lock_acc1, 'acc2', lock_acc2))\n",
    "t2 = Thread(target=move_funds3, args=('acc2', lock_acc2, 'acc1', lock_acc1))\n",
    "\n",
    "t1.start()\n",
    "t2.start()\n",
    "\n",
    "while t1.is_alive() or t2.is_alive():\n",
    "    print(\"t1 alive?\", t1.is_alive(), \"| t2 alive?\", t2.is_alive(), \"|\", accounts)\n",
    "    sleep(3)\n",
    "\n",
    "print(\"acc1 locked?\", lock_acc1.locked(), \"| acc2 locked?\", lock_acc2.locked())\n",
    "print(f\"Validation: {sum(accounts.values()):,} == 200,000\")"
   ]
  },
  {
   "cell_type": "markdown",
   "metadata": {
    "slideshow": {
     "slide_type": "slide"
    }
   },
   "source": [
    "## Thread Synchronization Summary\n",
    "\n",
    "There are several other synchronization mechanisms that we're not explicitly talking about, like `Semaphores`, `Conditions`, `Events`, `Barriers`, etc. These follow the same principles as locks, but are used for other purposes.\n",
    "\n",
    "The main takeaway from this lesson is: **synchronization is HARD, and error/bug prone**. Even the most experience developers avoid writing synchronized code, there's always something going wrong.\n",
    "\n",
    "Still, synchronization seems to be a necessary evil. We don't want to have race conditions in our code. In our following lessons we'll explore other alternatives to create correct code without the need of working with synchronization.\n",
    "\n"
   ]
  }
 ],
 "metadata": {
  "celltoolbar": "Slideshow",
  "kernelspec": {
   "display_name": "Python 3",
   "language": "python",
   "name": "python3"
  },
  "language_info": {
   "codemirror_mode": {
    "name": "ipython",
    "version": 3
   },
   "file_extension": ".py",
   "mimetype": "text/x-python",
   "name": "python",
   "nbconvert_exporter": "python",
   "pygments_lexer": "ipython3",
   "version": "3.8.5"
  }
 },
 "nbformat": 4,
 "nbformat_minor": 4
}
