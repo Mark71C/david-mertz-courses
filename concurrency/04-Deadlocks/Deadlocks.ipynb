{
 "cells": [
  {
   "cell_type": "markdown",
   "metadata": {
    "slideshow": {
     "slide_type": "slide"
    }
   },
   "source": [
    "## Deadlocks\n",
    "\n",
    "Deadlocks are the Charybdis to the Scylla of race conditions.  That is, avoiding one puts you in danger of suffering the other."
   ]
  },
  {
   "cell_type": "code",
   "execution_count": 1,
   "metadata": {
    "slideshow": {
     "slide_type": "fragment"
    }
   },
   "outputs": [],
   "source": [
    "from threading import Thread, current_thread, Lock\n",
    "from time import sleep\n",
    "from random import randint"
   ]
  },
  {
   "cell_type": "markdown",
   "metadata": {
    "slideshow": {
     "slide_type": "slide"
    }
   },
   "source": [
    "## A simple example\n",
    "\n",
    "Let's start by analyzing a simple example: transfers between two \"bank accounts\":"
   ]
  },
  {
   "cell_type": "code",
   "execution_count": 2,
   "metadata": {
    "slideshow": {
     "slide_type": "subslide"
    }
   },
   "outputs": [],
   "source": [
    "def move_funds(from_, to_):\n",
    "    global accounts, kill_switch\n",
    "    initial_total = accounts[from_] + accounts[to_] \n",
    "    name = current_thread().name\n",
    "    \n",
    "    for n in range(1_000_000):\n",
    "        transfer = randint(1, 100)\n",
    "        accounts[from_] -= transfer\n",
    "        accounts[to_] += transfer        \n",
    "        total = accounts[from_] + accounts[to_]\n",
    "        \n",
    "        # Exit if balance wrong or if another thread thinks so\n",
    "        if total != initial_total:\n",
    "            print(f\"{name} inconsistent balance: ${total:,} ({n:,} transactions)\")\n",
    "            kill_switch = True\n",
    "            break\n",
    "        elif kill_switch:\n",
    "            print(f\"{name} other thread flagged: ${total:,} ({n:,} transactions)\")\n",
    "            break\n",
    "    else:\n",
    "        print(f'{name} reached iteration limit. Stopping...')            "
   ]
  },
  {
   "cell_type": "markdown",
   "metadata": {
    "slideshow": {
     "slide_type": "subslide"
    }
   },
   "source": [
    "The augmented assigments, `accounts[from_] -= amount` and `accounts[to_] += amount` can potentially introduce race conditions."
   ]
  },
  {
   "cell_type": "code",
   "execution_count": 12,
   "metadata": {
    "slideshow": {
     "slide_type": "fragment"
    }
   },
   "outputs": [
    {
     "name": "stdout",
     "output_type": "stream",
     "text": [
      "Thread-14 inconsistent balance: $109,598 (6,612 transactions)\n",
      "Thread-15 inconsistent balance: $109,557 (1,803 transactions)\n",
      "Balances: {'acc1': -236058, 'acc2': 345656}\n"
     ]
    }
   ],
   "source": [
    "kill_switch = False\n",
    "accounts = {'acc1': 100_000, 'acc2': 100_000}\n",
    "\n",
    "t1 = Thread(target=move_funds, args=('acc1', 'acc2'))\n",
    "t2 = Thread(target=move_funds, args=('acc2', 'acc1'))\n",
    "\n",
    "t1.start()\n",
    "t2.start()\n",
    "t1.join()\n",
    "t2.join()\n",
    "\n",
    "print(\"Balances:\", accounts)"
   ]
  },
  {
   "cell_type": "markdown",
   "metadata": {
    "slideshow": {
     "slide_type": "slide"
    }
   },
   "source": [
    "## Adding Locks\n",
    "\n",
    "In the last lesson, you learned about locks. We can use those to try synchronizing access to the accounts. We'll create 2 locks, one for each account:"
   ]
  },
  {
   "cell_type": "code",
   "execution_count": 4,
   "metadata": {
    "slideshow": {
     "slide_type": "subslide"
    }
   },
   "outputs": [],
   "source": [
    "def move_funds2(from_, lock_from, to_, lock_to):\n",
    "    initial_total = accounts[from_] + accounts[to_]\n",
    "    name = current_thread().name\n",
    "    \n",
    "    for n in range(1_000_000):\n",
    "        amount = randint(1, 100)\n",
    "        with lock_from, lock_to:\n",
    "            accounts[from_] -= amount\n",
    "            accounts[to_] += amount\n",
    "\n",
    "            total = accounts[from_] + accounts[to_]\n",
    "            if total != initial_total:\n",
    "                print(f\"{name} inconsistent balance: ${total:,} ({n:,} transactions)\")\n",
    "                break\n",
    "    else:\n",
    "        print(f'{name} reached iteration limit. Stopping...')"
   ]
  },
  {
   "cell_type": "code",
   "execution_count": 5,
   "metadata": {
    "slideshow": {
     "slide_type": "subslide"
    }
   },
   "outputs": [
    {
     "name": "stdout",
     "output_type": "stream",
     "text": [
      "t1 alive? True | t2 alive? True | {'acc1': -10231, 'acc2': 210231}\n",
      "t1 alive? True | t2 alive? True | {'acc1': 253564, 'acc2': -53564}\n",
      "t1 alive? True | t2 alive? True | {'acc1': 436827, 'acc2': -236827}\n",
      "t1 alive? True | t2 alive? True | {'acc1': 505229, 'acc2': -305229}\n",
      "t1 alive? True | t2 alive? True | {'acc1': 455660, 'acc2': -255660}\n",
      "t1 alive? True | t2 alive? True | {'acc1': 410521, 'acc2': -210521}\n",
      "Thread-7 reached iteration limit. Stopping...\n",
      "Thread-6 reached iteration limit. Stopping...\n",
      "acc1 locked? False | acc2 locked? False\n"
     ]
    }
   ],
   "source": [
    "lock_acc1, lock_acc2 = Lock(), Lock()\n",
    "accounts = {'acc1': 100_000, 'acc2': 100_000}\n",
    "\n",
    "t1 = Thread(target=move_funds2, args=('acc1', lock_acc1, 'acc2', lock_acc2))\n",
    "t2 = Thread(target=move_funds2, args=('acc2', lock_acc1, 'acc1', lock_acc2))\n",
    "\n",
    "t1.start()\n",
    "t2.start()\n",
    "\n",
    "while t1.is_alive() or t2.is_alive():\n",
    "    print(\"t1 alive?\", t1.is_alive(), \"| t2 alive?\", t2.is_alive(), \"|\", accounts)\n",
    "    sleep(3)\n",
    "\n",
    "print(\"acc1 locked?\", lock_acc1.locked(), \"| acc2 locked?\", lock_acc2.locked())"
   ]
  },
  {
   "cell_type": "markdown",
   "metadata": {
    "slideshow": {
     "slide_type": "subslide"
    }
   },
   "source": [
    "It worked (this time)! Access to the accounts is protected by the locks. \n",
    "\n",
    "But there is a danger lurking here. We succeeded more or less accidentally because of the order in which locks were acquired.  In fact, the initial code is conceptually wrong because it used `lock_acc1` as the protection of `acc2`, for example.  \n",
    "\n",
    "If we make a small change, altering the order of the locks that are passed to our threads, we will find ourselves deadlocked:"
   ]
  },
  {
   "cell_type": "code",
   "execution_count": 14,
   "metadata": {
    "slideshow": {
     "slide_type": "subslide"
    }
   },
   "outputs": [
    {
     "name": "stdout",
     "output_type": "stream",
     "text": [
      "Threads created: {'acc1': 100000, 'acc2': 100000}\n",
      "Threads started: {'acc1': 135771, 'acc2': 64229}\n",
      "{t1.name} alive? True | {t2.name} alive? True | {'acc1': 168248, 'acc2': 31752}\n",
      "{t1.name} alive? True | {t2.name} alive? True | {'acc1': 168248, 'acc2': 31752}\n",
      "{t1.name} alive? True | {t2.name} alive? True | {'acc1': 168248, 'acc2': 31752}\n",
      "{t1.name} alive? True | {t2.name} alive? True | {'acc1': 168248, 'acc2': 31752}\n",
      "{t1.name} alive? True | {t2.name} alive? True | {'acc1': 168248, 'acc2': 31752}\n",
      "{t1.name} alive? True | {t2.name} alive? True | {'acc1': 168248, 'acc2': 31752}\n",
      "{t1.name} alive? True | {t2.name} alive? True | {'acc1': 168248, 'acc2': 31752}\n",
      "{t1.name} alive? True | {t2.name} alive? True | {'acc1': 168248, 'acc2': 31752}\n"
     ]
    }
   ],
   "source": [
    "lock_acc1, lock_acc2 = Lock(), Lock()\n",
    "accounts = {'acc1': 100_000, 'acc2': 100_000}\n",
    "\n",
    "t1 = Thread(target=move_funds2, args=('acc1', lock_acc1, 'acc2', lock_acc2))\n",
    "t2 = Thread(target=move_funds2, args=('acc2', lock_acc2, 'acc1', lock_acc1))\n",
    "print(\"Threads created:\", accounts)\n",
    "t1.start()\n",
    "t2.start()\n",
    "print(\"Threads started:\", accounts)\n",
    "\n",
    "for _ in range(8):\n",
    "    print(\"{t1.name} alive?\", t1.is_alive(), \"| {t2.name} alive?\", t2.is_alive(), \"|\", accounts)\n",
    "    sleep(3)"
   ]
  },
  {
   "cell_type": "markdown",
   "metadata": {
    "slideshow": {
     "slide_type": "subslide"
    }
   },
   "source": [
    "Both locks remain locked."
   ]
  },
  {
   "cell_type": "code",
   "execution_count": 7,
   "metadata": {
    "slideshow": {
     "slide_type": "fragment"
    }
   },
   "outputs": [
    {
     "data": {
      "text/plain": [
       "(True, True)"
      ]
     },
     "execution_count": 7,
     "metadata": {},
     "output_type": "execute_result"
    }
   ],
   "source": [
    "lock_acc1.locked(), lock_acc2.locked()"
   ]
  },
  {
   "cell_type": "markdown",
   "metadata": {
    "slideshow": {
     "slide_type": "subslide"
    }
   },
   "source": [
    "These threads will never die, and the locks will never be released.  We can do something a bit hack-ish to repeatedly release the locks until both threads crash and end.  This would almost never be a good idea in a production program, but we do it just for teaching."
   ]
  },
  {
   "cell_type": "code",
   "execution_count": 15,
   "metadata": {
    "scrolled": false,
    "slideshow": {
     "slide_type": "subslide"
    }
   },
   "outputs": [
    {
     "name": "stderr",
     "output_type": "stream",
     "text": [
      "Exception in thread Exception in thread Thread-18:\n",
      "Traceback (most recent call last):\n",
      "  File \"/home/dmertz/miniconda3/envs/INE/lib/python3.8/threading.py\", line 932, in _bootstrap_inner\n",
      "Thread-19:\n",
      "Traceback (most recent call last):\n",
      "  File \"/home/dmertz/miniconda3/envs/INE/lib/python3.8/threading.py\", line 932, in _bootstrap_inner\n",
      "        self.run()\n",
      "  File \"/home/dmertz/miniconda3/envs/INE/lib/python3.8/threading.py\", line 870, in run\n",
      "self.run()\n",
      "  File \"/home/dmertz/miniconda3/envs/INE/lib/python3.8/threading.py\", line 870, in run\n",
      "        self._target(*self._args, **self._kwargs)\n",
      "self._target(*self._args, **self._kwargs)  File \"<ipython-input-4-4b94722f1175>\", line 14, in move_funds2\n",
      "\n",
      "  File \"<ipython-input-4-4b94722f1175>\", line 14, in move_funds2\n",
      "RuntimeErrorRuntimeError: release unlocked lock\n",
      ": release unlocked lock\n"
     ]
    },
    {
     "name": "stdout",
     "output_type": "stream",
     "text": [
      "25 errors of type RuntimeError('release unlocked lock')\n"
     ]
    },
    {
     "data": {
      "text/plain": [
       "(False, False, False, False)"
      ]
     },
     "execution_count": 15,
     "metadata": {},
     "output_type": "execute_result"
    }
   ],
   "source": [
    "nerr, err_info = 0, None\n",
    "while t1.is_alive() or t2.is_alive():\n",
    "    try:\n",
    "        lock_acc1.release(), lock_acc2.release()\n",
    "    except Exception as err:\n",
    "        sleep(1e-9)\n",
    "        err_info = repr(err)\n",
    "        nerr += 1\n",
    "        \n",
    "print(f\"{nerr:,} errors of type {err_info}\")\n",
    "# Status of threads and locks\n",
    "t1.is_alive(), lock_acc1.locked(), t2.is_alive(), lock_acc2.locked()"
   ]
  },
  {
   "cell_type": "markdown",
   "metadata": {
    "slideshow": {
     "slide_type": "slide"
    }
   },
   "source": [
    "## What are Deadlocks?\n",
    "\n",
    "A deadlock occurs when multiple  threads (or processes, or nodes in a cluster) are mutually suspended while waiting for each other to signal processing may continue; none can get there because of the circular dependency though.  As soon as there are at least two resources that might be needed, deadlocks are a danger.\n",
    "\n",
    "\n",
    "| Step | Status       | Thread-1            | Thread-2            | Thread-3 \n",
    "|:-----|:-------------|:--------------------|:--------------------|:--------------------\n",
    "| 1    | Success      | Acquire *lock_A*    | Acquire *lock_B*    | Acquire *lock_C*        \n",
    "| 2    | **Blocked**  | **Wait for lock_C** | **Wait for lock_A** | **Wait for lock_B**\n",
    "| 3    | Cannot Reach | Wait for lock_B     | Wait for lock_C     | Wait for lock_A\n",
    "| 4    | Cannot Reach | Work with A/B/C     | Work with A/B/C     | Work with A/B/C\n",
    "| 5    | Cannot Reach | Release *lock_B*    | Release *lock_C*    | Release *lock_A*\n",
    "| 6    | Cannot Reach | Release *lock_C*    | Release *lock_A*    | Release *lock_B*\n",
    "| 7    | Cannot Reach | Release *lock_A*    | Release *lock_B*    | Release *lock_C*"
   ]
  },
  {
   "cell_type": "markdown",
   "metadata": {
    "slideshow": {
     "slide_type": "subslide"
    }
   },
   "source": [
    "In *Operating Systems*, Avi Silberschatz describes a non-computing example:\n",
    "\n",
    "> Perhaps the best illustration of a deadlock can be drawn from a law passed by the Kansas legislature early in the 20th century. It said, in part: “When two trains approach each other at a crossing, both shall come to a full stop and neither shall start up again until the other has gone.”"
   ]
  },
  {
   "cell_type": "markdown",
   "metadata": {
    "slideshow": {
     "slide_type": "subslide"
    }
   },
   "source": [
    "### How to prevent deadlocks\n",
    "\n",
    "The unfortunate truth is that it is **very hard** to prevent deadlocks. \n",
    "\n",
    "One simple technique is to always use timeouts when trying to acquire locks. If you are trying to acquire N shared locks, if you can't acquire all N, you can release them all and start over. We can refactor the funds transfer this way."
   ]
  },
  {
   "cell_type": "code",
   "execution_count": 9,
   "metadata": {
    "slideshow": {
     "slide_type": "subslide"
    }
   },
   "outputs": [],
   "source": [
    "def move_funds3(from_, lock_from, to_, lock_to):\n",
    "    name, T = current_thread().name, LOCK_TIMEOUT\n",
    "    all_locks = [lock_from, lock_to]\n",
    "    \n",
    "    for n in range(10_000):\n",
    "        amount = randint(1, 100)\n",
    "        \n",
    "        # Acquire all locks, if failure, release and keep trying\n",
    "        while not all(locks_good := [l.acquire(timeout=T) for l in all_locks]):\n",
    "            for i, acquired in enumerate(locks_good):\n",
    "                if acquired:\n",
    "                    all_locks[i].release()\n",
    "        \n",
    "        # Perform the action on locked resources\n",
    "        # ...omit validation on 'accounts' in earlier versions\n",
    "        accounts[from_] -= amount\n",
    "        accounts[to_] += amount\n",
    "        \n",
    "        # Release all locks\n",
    "        for lock in all_locks:\n",
    "            lock.release()\n",
    "\n",
    "    print(f'{name} reached iteration limit. Stopping...')"
   ]
  },
  {
   "cell_type": "code",
   "execution_count": 10,
   "metadata": {
    "slideshow": {
     "slide_type": "subslide"
    }
   },
   "outputs": [
    {
     "name": "stdout",
     "output_type": "stream",
     "text": [
      "t1 alive? True | t2 alive? True | {'acc1': -163645, 'acc2': 363645}\n",
      "t1 alive? True | t2 alive? True | {'acc1': -162924, 'acc2': 362924}\n",
      "t1 alive? True | t2 alive? True | {'acc1': -155605, 'acc2': 355605}\n",
      "t1 alive? True | t2 alive? True | {'acc1': -140102, 'acc2': 340102}\n",
      "Thread-10 reached iteration limit. Stopping...\n",
      "Thread-11 reached iteration limit. Stopping...\n",
      "acc1 locked? False | acc2 locked? False\n",
      "Validation: 200,000 == 200,000\n"
     ]
    }
   ],
   "source": [
    "LOCK_TIMEOUT = .001\n",
    "lock_acc1, lock_acc2 = Lock(), Lock()\n",
    "accounts = {'acc1': 100_000, 'acc2': 100_000}\n",
    "\n",
    "t1 = Thread(target=move_funds3, args=('acc1', lock_acc1, 'acc2', lock_acc2))\n",
    "t2 = Thread(target=move_funds3, args=('acc2', lock_acc2, 'acc1', lock_acc1))\n",
    "\n",
    "t1.start()\n",
    "t2.start()\n",
    "\n",
    "while t1.is_alive() or t2.is_alive():\n",
    "    print(\"t1 alive?\", t1.is_alive(), \"| t2 alive?\", t2.is_alive(), \"|\", accounts)\n",
    "    sleep(3)\n",
    "\n",
    "print(\"acc1 locked?\", lock_acc1.locked(), \"| acc2 locked?\", lock_acc2.locked())\n",
    "print(f\"Validation: {sum(accounts.values()):,} == 200,000\")"
   ]
  },
  {
   "cell_type": "markdown",
   "metadata": {
    "slideshow": {
     "slide_type": "slide"
    }
   },
   "source": [
    "## Thread Synchronization Summary\n",
    "\n",
    "Other synchronization mechanisms outside this course include `Semaphores`, `Conditions`, `Events`, `Barriers`, etc. These follow the same broad principles as locks, but vary in specifics.\n",
    "\n",
    "An unfortunate but necessary takeaway from this lesson is: **synchronization is HARD, and error/bug prone**. Even the most experience developers create bugs when writing synchronized code..\n",
    "\n",
    "However, synchronization is a necessary evil as well. Race conditions corrupt data, and many problems demand concurrency. In the next lessons we look at additional approaches to concurrent code that can ease the pitfalls of synchronization.\n",
    "\n"
   ]
  }
 ],
 "metadata": {
  "celltoolbar": "Slideshow",
  "kernelspec": {
   "display_name": "Python 3",
   "language": "python",
   "name": "python3"
  },
  "language_info": {
   "codemirror_mode": {
    "name": "ipython",
    "version": 3
   },
   "file_extension": ".py",
   "mimetype": "text/x-python",
   "name": "python",
   "nbconvert_exporter": "python",
   "pygments_lexer": "ipython3",
   "version": "3.8.2"
  }
 },
 "nbformat": 4,
 "nbformat_minor": 4
}
