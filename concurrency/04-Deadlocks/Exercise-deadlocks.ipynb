{
 "cells": [
  {
   "cell_type": "markdown",
   "metadata": {},
   "source": [
    "# Description\n",
    "\n",
    "In this exercise we continue with a similar setup to the other exercises.  We generate 50 files on disk, each of them containing 20 Natural Numbers below 100, one per line.  In a similar manner to the prior exercise, our program wishes to operate with 20 threads, each of them dealing with one line number of each corresponding file.\n",
    "\n",
    "For this task, each thread, named 'Line-N' (where N is the number of the line it handles), will read a series of instructions that consist of:\n",
    "\n",
    "1. Read the content of three specified files, 'A', 'B', and 'C'.\n",
    "2. Shuffle the values on line N between the files in a \"clockwise\" fashion.\n",
    "3. Write each file to disk with adjusted content.\n",
    "\n",
    "For example, if line 17 of the files initially contain A=23, B=14, and C=99 , after one operation, the several line 17s will become A=99, B=23, and C=14.\n",
    "\n",
    "As with other examples, for these small files on a fast disk, a serial approach remains faster.  But as the problem scales to larger files with slower access, threads would begin to win.\n",
    "\n",
    "There are twin dangers here.  If you simply write to the same file from different threads, without locks, you will most likely encounter a race condition where one thread's shuffle overwrites a file that should have a different line shuffled in another thread.  On the other hand, if every file is locked before use, different threads may try to acquire competing resources in a circular manner, causing deadlock.\n",
    "\n",
    "The `oplist` variable contains entries like below, describing an action.  Each thread should only act on those actions addressed to it and disregard all others (as mentioned, a serial approach would achieve the functional purpose, but is not what this exercise is for).  This poses no danger because reading through `oplist` in each thread is **read-only** and no race condition can hence occur. Thinking about the problem will let you realize that shuffles must be performed in the exact listed order, per line, to obtain the same final state.  Operation descriptions look something like this:\n",
    "\n",
    "```python\n",
    "[...,\n",
    " ['Line-19', 'tmp-Abume.numbers', 'tmp-DTfsx.numbers', 'tmp-jXmRn.numbers'],\n",
    " ['Line-2', 'tmp-TiyKw.numbers', 'tmp-QwKin.numbers', 'tmp-pFocs.numbers'],\n",
    " ['Line-13', 'tmp-DTSWm.numbers', 'tmp-yJmoQ.numbers', 'tmp-DTfsx.numbers'],\n",
    " ...\n",
    "]\n",
    "```\n",
    "\n",
    "Create a suitable `shuffle()` function that will neither deadlock nor create a race condition."
   ]
  },
  {
   "cell_type": "markdown",
   "metadata": {},
   "source": [
    "# Setup"
   ]
  },
  {
   "cell_type": "code",
   "execution_count": 1,
   "metadata": {},
   "outputs": [],
   "source": [
    "from threading import Thread, Lock\n",
    "from pathlib import Path\n",
    "\n",
    "from generate import operations\n",
    "names, oplist = operations('lesson-4')\n",
    "\n",
    "# Create lock for each file\n",
    "locks = {name: Lock() for name in names}\n",
    "\n",
    "def shuffle(lineno):\n",
    "    # This version will DEADLOCK!\n",
    "    line_name = f\"Line-{lineno}\"\n",
    "    for opnum, op in enumerate(oplist):\n",
    "        if op[0] == line_name:\n",
    "            A, B, C = op[1:]\n",
    "            with locks[A], locks[B], locks[C]:\n",
    "                linesA = Path(A).read_text().split('\\n')\n",
    "                linesB = Path(B).read_text().split('\\n')\n",
    "                linesC = Path(C).read_text().split('\\n')\n",
    "                # 1-based line numbers, 0-based list\n",
    "                linesA[lineno-1] = linesC[lineno-1]\n",
    "                linesB[lineno-1] = linesA[lineno-1]\n",
    "                linesC[lineno-1] = linesB[lineno-1]\n",
    "                # Write the shuffled data back\n",
    "                Path(A).write_text('\\n'.join(linesA))\n",
    "                Path(B).write_text('\\n'.join(linesB))\n",
    "                Path(C).write_text('\\n'.join(linesC))\n",
    "\n",
    "# After running all threads, `results_list` should contain right answers\n",
    "threads = [Thread(target=shuffle, args=(i,), name=f\"Line-{i}\") for i in range(1, 21)]\n",
    "\n",
    "# Should be able to run these to get correct modifications\n",
    "# [t.start() for t in threads]\n",
    "# [t.join() for t in threads]"
   ]
  },
  {
   "cell_type": "markdown",
   "metadata": {},
   "source": [
    "# Solution"
   ]
  },
  {
   "cell_type": "code",
   "execution_count": 2,
   "metadata": {},
   "outputs": [],
   "source": [
    "# Note, the solution presented here is the SIMPLEST refactoring\n",
    "# For extra credit consider other approaches!\n",
    "#  * For example, one thread could handle I/O while others shuffle\n",
    "#  * Or, first pull off all \"line N\" values, and operate each\n",
    "#       shuffle thread on independent data (assemble at end)\n",
    "#  * Or ....\n",
    "\n",
    "def shuffle(lineno):\n",
    "    line_name = f\"Line-{lineno}\"\n",
    "    for opnum, op in enumerate(oplist):\n",
    "        if op[0] == line_name:\n",
    "            A, B, C = op[1:]\n",
    "            all_locks = (locks[A], locks[B], locks[C])\n",
    "            \n",
    "            # Keep trying to get all locks\n",
    "            while not all(locks_good := [l.acquire(timeout=0.01) for l in all_locks]):\n",
    "                for i, acquired in enumerate(locks_good):\n",
    "                    if acquired:\n",
    "                        all_locks[i].release()\n",
    "            \n",
    "            linesA = Path(A).read_text().split('\\n')\n",
    "            linesB = Path(B).read_text().split('\\n')\n",
    "            linesC = Path(C).read_text().split('\\n')\n",
    "            # 1-based line numbers, 0-based list\n",
    "            linesA[lineno-1] = linesC[lineno-1]\n",
    "            linesB[lineno-1] = linesA[lineno-1]\n",
    "            linesC[lineno-1] = linesB[lineno-1]\n",
    "            # Write the shuffled data back\n",
    "            Path(A).write_text('\\n'.join(linesA))\n",
    "            Path(B).write_text('\\n'.join(linesB))\n",
    "            Path(C).write_text('\\n'.join(linesC))\n",
    "            \n",
    "            # Release all locks\n",
    "            for lock in all_locks:\n",
    "                lock.release()"
   ]
  },
  {
   "cell_type": "markdown",
   "metadata": {},
   "source": [
    "# Test Cases"
   ]
  },
  {
   "cell_type": "code",
   "execution_count": 3,
   "metadata": {},
   "outputs": [],
   "source": [
    "def test_thread_count():\n",
    "    assert len(threads) >= 20\n",
    "    \n",
    "test_thread_count()"
   ]
  },
  {
   "cell_type": "code",
   "execution_count": 4,
   "metadata": {},
   "outputs": [],
   "source": [
    "def test_deadlock():\n",
    "    from timeout import timeout\n",
    "    \n",
    "    # Setup original state of files\n",
    "    names, oplist = operations('lesson-4')\n",
    "    # Create fresh threads\n",
    "    threads = [Thread(target=shuffle, args=(i,), name=f\"Line-{i}\") for i in range(1, 21)]\n",
    "    \n",
    "    # Try to process all operations\n",
    "    with timeout:\n",
    "        try:\n",
    "            [t.start() for t in threads]\n",
    "            [t.join() for t in threads]\n",
    "        except TimeoutError as err:\n",
    "            assert False, \"Timeout indicates probable deadlock\"\n",
    "        \n",
    "test_deadlock()"
   ]
  },
  {
   "cell_type": "code",
   "execution_count": 6,
   "metadata": {},
   "outputs": [],
   "source": [
    "def test_modifications():\n",
    "    # DO NOT run this test until test_deadlock() passes!\n",
    "    from hashlib import md5\n",
    "    from pathlib import Path\n",
    "    # Setup original state of files\n",
    "    names, oplist = operations('lesson-4')\n",
    "    \n",
    "    # Should NEVER fail since it only verifies utility func\n",
    "    cat = ''.join(Path(name).read_text() for name in names)\n",
    "    hash_orig = md5(cat.encode()).hexdigest()\n",
    "    assert hash_orig == '32f11af64b0391f624d954b2988695c6', f\"Wrong MD5sum {hash_orig}\"\n",
    "\n",
    "    # Create fresh threads\n",
    "    threads = [Thread(target=shuffle, args=(i,)) for i in range(1, 21)]\n",
    "    [t.start() for t in threads]\n",
    "    [t.join() for t in threads]\n",
    "    cat = ''.join(Path(name).read_text() for name in names)\n",
    "    hash_mod = md5(cat.encode()).hexdigest()\n",
    "    assert hash_mod == 'f1fc8076c8905c27a196fb41d8454b2a', f\"Wrong MD5sum {hash_mod}\"  \n",
    "    \n",
    "test_modifications()"
   ]
  }
 ],
 "metadata": {
  "kernelspec": {
   "display_name": "Python 3",
   "language": "python",
   "name": "python3"
  },
  "language_info": {
   "codemirror_mode": {
    "name": "ipython",
    "version": 3
   },
   "file_extension": ".py",
   "mimetype": "text/x-python",
   "name": "python",
   "nbconvert_exporter": "python",
   "pygments_lexer": "ipython3",
   "version": "3.8.5"
  }
 },
 "nbformat": 4,
 "nbformat_minor": 4
}
