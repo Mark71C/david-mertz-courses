{
 "cells": [
  {
   "cell_type": "markdown",
   "metadata": {},
   "source": [
    "# Description\n",
    "\n",
    "For this exercise, you will need to create 5 processes that communicate data between each other in some manner.  As with other exercises in this course, there will be serial and non-concurrent ways to achieve this; your job is to use actual interprocess communication and/or shared memory for the task.\n",
    "\n",
    "Remember that every process has a process ID assigned by the operating system, and queryable using `os.getpid()`.  Using that capability, we perform a simple computation that will give a different result every time we launch processes and depend on each process contributing.\n",
    "\n",
    "* Process one will receive an integer, K, as input from the parent, and calculate $N_1 = (K^2 + pid)\\ (mod\\ 36721)$.\n",
    "* Process two will receive the number calculated from process one, $N_1$, and calculate $N_2 = (N_1^2 + pid)\\ (mod\\ 36721)$.\n",
    "* ... etc through process five ...\n",
    "* Process five will calculate $(N_4^2 + pid)\\ (mod\\ 36721)$ and communicate that result with the parent.\n",
    "\n",
    "Obviously, for this example, a process' PID is merely a stand-in for data it would contain/calculate in a real-world parallel computation."
   ]
  },
  {
   "cell_type": "markdown",
   "metadata": {},
   "source": [
    "# Setup\n",
    "\n"
   ]
  },
  {
   "cell_type": "code",
   "execution_count": 1,
   "metadata": {},
   "outputs": [],
   "source": [
    "from multiprocessing import Process, Queue, Pipe, Pool\n",
    "from os import getpid\n",
    "from time import sleep\n",
    "\n",
    "def worker():\n",
    "    print(getpid())\n",
    "    while True:\n",
    "        sleep(0.1)\n",
    "    \n",
    "processes = [Process(target=worker) for _ in range(5)]\n",
    "result = 0\n",
    "\n",
    "def fill_result(K):\n",
    "    global result\n",
    "    for p in processes:\n",
    "        if not p.is_alive():\n",
    "            p.start()\n",
    "    # ... do something else ...\n",
    "    result = 12345"
   ]
  },
  {
   "cell_type": "markdown",
   "metadata": {},
   "source": [
    "# Solution"
   ]
  },
  {
   "cell_type": "code",
   "execution_count": 2,
   "metadata": {},
   "outputs": [],
   "source": [
    "pipes = [Pipe() for _ in range(6)]\n",
    "\n",
    "def worker(number):\n",
    "    _, recipient = pipes[number]\n",
    "    sender, _ = pipes[number+1]\n",
    "    while True:\n",
    "        data = recipient.recv()\n",
    "        output = (data**2 + getpid()) % 36721\n",
    "        sender.send(output)\n",
    "\n",
    "processes = [Process(target=worker, args=(i,)) for i in range(5)]\n",
    "\n",
    "def fill_result(K):\n",
    "    global result\n",
    "    for p in processes:\n",
    "        if not p.is_alive():\n",
    "            p.start()\n",
    "    sender, _ = pipes[0]\n",
    "    sender.send(K)\n",
    "    _, recipient = pipes[5]\n",
    "    result = recipient.recv()"
   ]
  },
  {
   "cell_type": "markdown",
   "metadata": {},
   "source": [
    "# Test Cases"
   ]
  },
  {
   "cell_type": "code",
   "execution_count": 3,
   "metadata": {},
   "outputs": [],
   "source": [
    "def test_processes():\n",
    "    assert len(processes) == 5\n",
    "    for p in processes:\n",
    "        assert isinstance(p, Process)\n",
    "        \n",
    "test_processes()"
   ]
  },
  {
   "cell_type": "code",
   "execution_count": 4,
   "metadata": {},
   "outputs": [],
   "source": [
    "def test_result():\n",
    "    global result\n",
    "    from random import randint\n",
    "    \n",
    "    sample_K = (randint(1000, 10_000) for _ in range(5))\n",
    "\n",
    "    for K in sample_K:\n",
    "        fill_result(K)\n",
    "        N1 = (K**2 + processes[0].pid) % 36721\n",
    "        N2 = (N1**2 + processes[1].pid) % 36721\n",
    "        N3 = (N2**2 + processes[2].pid) % 36721\n",
    "        N4 = (N3**2 + processes[3].pid) % 36721\n",
    "        N5 = (N4**2 + processes[4].pid) % 36721\n",
    "        assert N5 == result, f\"K={K}, correct={N5}, calculated={result}\"\n",
    "    \n",
    "test_result()"
   ]
  }
 ],
 "metadata": {
  "kernelspec": {
   "display_name": "Python 3",
   "language": "python",
   "name": "python3"
  },
  "language_info": {
   "codemirror_mode": {
    "name": "ipython",
    "version": 3
   },
   "file_extension": ".py",
   "mimetype": "text/x-python",
   "name": "python",
   "nbconvert_exporter": "python",
   "pygments_lexer": "ipython3",
   "version": "3.8.5"
  }
 },
 "nbformat": 4,
 "nbformat_minor": 4
}
